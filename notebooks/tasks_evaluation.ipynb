{
 "cells": [
  {
   "cell_type": "code",
   "execution_count": 1,
   "id": "56bba13f",
   "metadata": {},
   "outputs": [
    {
     "name": "stderr",
     "output_type": "stream",
     "text": [
      "C:\\Users\\XinZhou\\anaconda3\\envs\\dna\\lib\\site-packages\\tqdm\\auto.py:22: TqdmWarning: IProgress not found. Please update jupyter and ipywidgets. See https://ipywidgets.readthedocs.io/en/stable/user_install.html\n",
      "  from .autonotebook import tqdm as notebook_tqdm\n",
      "C:\\Users\\XinZhou\\anaconda3\\envs\\dna\\lib\\site-packages\\torchaudio\\backend\\utils.py:62: UserWarning: No audio backend is available.\n",
      "  warnings.warn(\"No audio backend is available.\")\n"
     ]
    }
   ],
   "source": [
    "# import packages\n",
    "import pandas as pd\n",
    "import pyarrow.dataset as ds\n",
    "from datasets import Dataset\n",
    "import pyarrow as pa\n",
    "from datasets import *\n",
    "from transformers import *\n",
    "from tokenizers import *\n",
    "import os\n",
    "import json\n",
    "import sys\n",
    "from tokenizers.processors import BertProcessing\n",
    "import numpy as np"
   ]
  },
  {
   "cell_type": "code",
   "execution_count": 2,
   "id": "45c6a717",
   "metadata": {},
   "outputs": [],
   "source": [
    "# loading for different datasets\n",
    "\n",
    "MAX_LENGTH = 1024\n",
    "batch_size = 6\n",
    "num_epochs = 3\n",
    "max_step_saves = 5\n",
    "save_step_at = 500\n",
    "test_only = False\n",
    "data_name = 'mvdsc' # poj, devign, draper, d2a, mvdsc, sysevr\n",
    "truncate_longer_samples = True\n",
    "# is_windows = sys.platform.startswith('win')\n",
    "# if is_windows:\n",
    "\n",
    "data_dir = \"cbert\\\\test_data\"\n",
    "bert_model_path = '..\\\\..\\\\cbert\\\\pretrained\\\\RoBERTa_usage\\\\checkpoint-50000'\n",
    "out_dir = 'result_{}'.format(data_name)\n",
    "tokenizer_path = 'tokenizer.model'\n",
    "\n",
    "# load data\n",
    "def get_data(file_path):\n",
    "    raw_df = pd.read_pickle(file_path)  \n",
    "    df = {'filename': [], 'text': [], 'label': []}\n",
    "    for i in range(len(raw_df['code'])):\n",
    "        df['filename'].append(raw_df['filename'][i])\n",
    "        code = raw_df['code'][i].split(';')\n",
    "        code = ' '.join(code)\n",
    "        df['text'].append(code)\n",
    "        df['label'].append(raw_df['label'][i])\n",
    "    df = pd.DataFrame(df)\n",
    "    return df\n",
    "\n",
    "# train_data = get_data('/scratch/xin/bert_source/mvdsc/tokenized_mvdsc_train.pkl')\n",
    "# valid_data = get_data('/scratch/xin/bert_source/mvdsc/tokenized_mvdsc_valid.pkl')\n",
    "if data_name == 'devign':\n",
    "    raw_data_path = os.path.join(data_dir, data_name, 'devign_all.pkl')\n",
    "    tokenized_data = get_data(raw_data_path)\n",
    "    train_data, valid_data, test_data = np.split(tokenized_data.sample(frac=1, random_state=2022), \n",
    "                   [int(.8*len(tokenized_data)), int(.9*len(tokenized_data))])\n",
    "elif data_name == 'mvdsc':\n",
    "    raw_data_path = os.path.join(data_dir, data_name, 'mvdsc_mix_train.pkl')\n",
    "    train_data = get_data(raw_data_path)\n",
    "    raw_data_path = os.path.join(data_dir, data_name, 'mvdsc_mix_valid.pkl')\n",
    "    valid_data = get_data(raw_data_path)\n",
    "    raw_data_path = os.path.join(data_dir, data_name, 'mvdsc_mix_test.pkl')\n",
    "    test_data = get_data(raw_data_path)\n",
    "    \n",
    "\n",
    "from sklearn.model_selection import train_test_split\n",
    "\n",
    "print(train_data.shape)\n",
    "print(valid_data.shape)\n",
    "print(test_data.shape)\n",
    "print(train_data['text'][:10])"
   ]
  },
  {
   "cell_type": "code",
   "execution_count": 5,
   "id": "540c7751",
   "metadata": {},
   "outputs": [
    {
     "data": {
      "text/plain": [
       "[0, 1]"
      ]
     },
     "execution_count": 5,
     "metadata": {},
     "output_type": "execute_result"
    }
   ],
   "source": [
    "label_counts = pd.DataFrame(train_data['label'].value_counts())\n",
    "label_counts\n",
    "label_values = list(label_counts.index)\n",
    "order = list(pd.DataFrame(train_data['label'].value_counts()).index)\n",
    "label_values = [l for _,l in sorted(zip(order, label_values))]\n",
    "label_values"
   ]
  },
  {
   "cell_type": "code",
   "execution_count": 6,
   "id": "d60c19dc",
   "metadata": {},
   "outputs": [
    {
     "name": "stdout",
     "output_type": "stream",
     "text": [
      "['void CWE121_Stack_Based_Buffer_Overflow__src_char_declare_cpy_01_bad ( ) { char * charPointerDefUsePass   char charDefCall [ 6 5 6 ]   charPointerDefUsePass = charDefCall   memset ( charPointerDefUsePass , \\' A \\' , 3 1 6 )   charPointerDefUsePass [ 5 7 1 ] = \\' \\\\0 \\'   charPointerDefUsePass [ 4 4 9 ] = \\' \\'   charPointerDefUsePass [ 3 5 7 ] = \\' \\'   charPointerDefUsePass [ 8 1 ] = \\' \\'   charPointerDefUsePass [ 4 0 3 ] = \\' \\'   charPointerDefUsePass [ 1 4 2 ] = \\' \\'   charPointerDefUsePass [ 3 6 5 ] = \\' \\'   charPointerDefUsePass [ 6 9 ] = \\' \\'   charPointerDefUsePass [ 9 ] = \\' \\'   charPointerDefUsePass [ 1 9 7 ] = \\' \\'   charPointerDefUsePass [ 3 9 6 ] = \\' \\'   charPointerDefUsePass [ 4 7 7 ] = \\' \\'   charPointerDefUsePass [ 5 1 4 ] = \\' \\'   charPointerDefUsePass [ 2 2 2 ] = \\' \\'   charPointerDefUsePass [ 8 8 ] = \\' \\'   charPointerDefUsePass [ 5 4 5 ] = \\' \\'   charPointerDefUsePass [ 5 0 8 ] = \\' \\'   charPointerDefUsePass [ 1 2 7 ] = \\' \\'   charPointerDefUsePass [ 5 1 3 ] = \\' \\'   charPointerDefUsePass [ 5 2 7 ] = \\' \\'   charPointerDefUsePass [ 4 0 7 ] = \\' \\'   char charDefPass [ 8 1 6 ] = \" \"   strcpy ( charDefPass , charPointerDefUsePass )   printLine ( charPointerDefUsePass )   }'\n",
      " 'void CWE121_Stack_Based_Buffer_Overflow__src_char_declare_cpy_01_bad ( ) { char * charPointerDefUsePass   char charDefCall [ 6 8 5 ]   charPointerDefUsePass = charDefCall   memset ( charPointerDefUsePass , \\' A \\' , 6 )   charPointerDefUsePass [ 5 7 1 ] = \\' \\\\0 \\'   charPointerDefUsePass [ 4 6 4 ] = \\' \\'   charPointerDefUsePass [ 1 9 ] = \\' \\'   charPointerDefUsePass [ 2 0 4 ] = \\' \\'   charPointerDefUsePass [ 3 5 0 ] = \\' \\'   charPointerDefUsePass [ 3 8 6 ] = \\' \\'   charPointerDefUsePass [ 1 3 8 ] = \\' \\'   charPointerDefUsePass [ 2 8 8 ] = \\' \\'   charPointerDefUsePass [ 7 6 ] = \\' \\'   charPointerDefUsePass [ 7 0 ] = \\' \\'   charPointerDefUsePass [ 1 1 4 ] = \\' \\'   charPointerDefUsePass [ 4 6 6 ] = \\' \\'   charPointerDefUsePass [ 3 4 8 ] = \\' \\'   charPointerDefUsePass [ 6 5 ] = \\' \\'   charPointerDefUsePass [ 7 8 ] = \\' \\'   charPointerDefUsePass [ 1 3 6 ] = \\' \\'   charPointerDefUsePass [ 3 0 0 ] = \\' \\'   charPointerDefUsePass [ 2 7 7 ] = \\' \\'   charPointerDefUsePass [ 1 5 8 ] = \\' \\'   charPointerDefUsePass [ 5 5 4 ] = \\' \\'   charPointerDefUsePass [ 1 4 8 ] = \\' \\'   charPointerDefUsePass [ 4 3 3 ] = \\' \\'   charPointerDefUsePass [ 2 0 6 ] = \\' \\'   charPointerDefUsePass [ 1 4 1 ] = \\' \\'   char charDefPass [ 1 6 3 0 ] = \" \"   strcpy ( charDefPass , charPointerDefUsePass )   printLine ( charPointerDefUsePass )   }'\n",
      " 'void CWE121_Stack_Based_Buffer_Overflow__src_char_declare_cpy_01_bad ( ) { char * charPointerDefUsePass   char charDefCall [ 2 4 2 ]   charPointerDefUsePass = charDefCall   memset ( charPointerDefUsePass , \\' A \\' , 1 0 9 )   charPointerDefUsePass [ 1 1 2 ] = \\' \\\\0 \\'   charPointerDefUsePass [ 1 5 ] = \\' \\'   charPointerDefUsePass [ 1 6 ] = \\' \\'   charPointerDefUsePass [ 4 5 ] = \\' \\'   charPointerDefUsePass [ 5 3 ] = \\' \\'   charPointerDefUsePass [ 4 1 ] = \\' \\'   charPointerDefUsePass [ 4 7 ] = \\' \\'   charPointerDefUsePass [ 6 6 ] = \\' \\'   charPointerDefUsePass [ 1 1 1 ] = \\' \\'   charPointerDefUsePass [ 5 7 ] = \\' \\'   charPointerDefUsePass [ 1 0 4 ] = \\' \\'   charPointerDefUsePass [ 9 1 ] = \\' \\'   charPointerDefUsePass [ 4 1 ] = \\' \\'   charPointerDefUsePass [ 5 0 ] = \\' \\'   charPointerDefUsePass [ 4 6 ] = \\' \\'   charPointerDefUsePass [ 4 3 ] = \\' \\'   charPointerDefUsePass [ 7 5 ] = \\' \\'   charPointerDefUsePass [ 8 1 ] = \\' \\'   charPointerDefUsePass [ 6 3 ] = \\' \\'   charPointerDefUsePass [ 6 6 ] = \\' \\'   charPointerDefUsePass [ 2 2 ] = \\' \\'   charPointerDefUsePass [ 8 9 ] = \\' \\'   charPointerDefUsePass [ 1 1 0 ] = \\' \\'   charPointerDefUsePass [ 3 1 ] = \\' \\'   charPointerDefUsePass [ 7 7 ] = \\' \\'   charPointerDefUsePass [ 6 6 ] = \\' \\'   charPointerDefUsePass [ 7 6 ] = \\' \\'   charPointerDefUsePass [ 6 0 ] = \\' \\'   charPointerDefUsePass [ 7 8 ] = \\' \\'   charPointerDefUsePass [ 8 7 ] = \\' \\'   charPointerDefUsePass [ 6 4 ] = \\' \\'   charPointerDefUsePass [ 6 3 ] = \\' \\'   charPointerDefUsePass [ 8 9 ] = \\' \\'   charPointerDefUsePass [ 6 8 ] = \\' \\'   charPointerDefUsePass [ 7 2 ] = \\' \\'   charPointerDefUsePass [ 2 6 ] = \\' \\'   charPointerDefUsePass [ 6 ] = \\' \\'   charPointerDefUsePass [ 6 2 ] = \\' \\'   charPointerDefUsePass [ 9 1 ] = \\' \\'   charPointerDefUsePass [ 7 7 ] = \\' \\'   charPointerDefUsePass [ 1 0 2 ] = \\' \\'   charPointerDefUsePass [ 8 5 ] = \\' \\'   charPointerDefUsePass [ 4 2 ] = \\' \\'   charPointerDefUsePass [ 6 ] = \\' \\'   charPointerDefUsePass [ 5 7 ] = \\' \\'   charPointerDefUsePass [ 8 0 ] = \\' \\'   charPointerDefUsePass [ 1 0 6 ] = \\' \\'   charPointerDefUsePass [ 8 7 ] = \\' \\'   charPointerDefUsePass [ 1 9 ] = \\' \\'   charPointerDefUsePass [ 3 6 ] = \\' \\'   charPointerDefUsePass [ 6 1 ] = \\' \\'   charPointerDefUsePass [ 3 4 ] = \\' \\'   charPointerDefUsePass [ 4 8 ] = \\' \\'   charPointerDefUsePass [ 8 3 ] = \\' \\'   charPointerDefUsePass [ 4 5 ] = \\' \\'   charPointerDefUsePass [ 7 ] = \\' \\'   charPointerDefUsePass [ 9 7 ] = \\' \\'   charPointerDefUsePass [ 5 9 ] = \\' \\'   charPointerDefUsePass [ 6 ] = \\' \\'   charPointerDefUsePass [ 6 2 ] = \\' \\'   charPointerDefUsePass [ 7 ] = \\' \\'   charPointerDefUsePass [ 7 3 ] = \\' \\'   charPointerDefUsePass [ 9 1 ] = \\' \\'   charPointerDefUsePass [ 1 6 ] = \\' \\'   charPointerDefUsePass [ 2 7 ] = \\' \\'   charPointerDefUsePass [ 1 0 4 ] = \\' \\'   charPointerDefUsePass [ 8 6 ] = \\' \\'   charPointerDefUsePass [ 0 ] = \\' \\'   charPointerDefUsePass [ 9 5 ] = \\' \\'   charPointerDefUsePass [ 7 7 ] = \\' \\'   charPointerDefUsePass [ 9 5 ] = \\' \\'   charPointerDefUsePass [ 5 8 ] = \\' \\'   charPointerDefUsePass [ 8 1 ] = \\' \\'   charPointerDefUsePass [ 1 0 6 ] = \\' \\'   charPointerDefUsePass [ 1 2 ] = \\' \\'   charPointerDefUsePass [ 8 3 ] = \\' \\'   charPointerDefUsePass [ 1 0 0 ] = \\' \\'   charPointerDefUsePass [ 3 4 ] = \\' \\'   charPointerDefUsePass [ 8 6 ] = \\' \\'   charPointerDefUsePass [ 1 2 ] = \\' \\'   charPointerDefUsePass [ 4 4 ] = \\' \\'   charPointerDefUsePass [ 9 ] = \\' \\'   char charDefPass [ 1 8 1 3 ] = \" \"   strcpy ( charDefPass , charPointerDefUsePass )   printLine ( charPointerDefUsePass )   }'\n",
      " ...\n",
      " 'WorkerNotificationObserver : : otherParam ( otherParam1 * nsISupportsPointerParam , const char * )   const char16_t * char16_tPointerDef )   Notification * NotificationPointerDefUsePass = mNotificationRef - > GetNotification ( )   if ( NS_WARN_IF ( ! NotificationPointerDefUsePass ) ) { if ( ! strcmp ( \" alertclickcallback \" , aTopic ) ) { if ( ! strcmp ( \" alertfinished \" , aTopic ) ) { } } }'\n",
      " 'ServiceWorkerNotificationObserver : : otherParam ( otherParam1 * nsISupportsPointerParam )   const char * nsISupportsPointerParam   const char16_t * char16_tPointerDef )   if ( ! strcmp ( \" alertclickcallback \" , aTopic ) ) { }'\n",
      " 'Notification : : otherParam ( otherParam1 * nsISupportsPointerParam , const char * )   const char16_t * char16_tPointerDef )   if ( ! strcmp ( aTopic , DOM_WINDOW_DESTROYED_TOPIC ) | | ! strcmp ( aTopic , DOM_WINDOW_FROZEN_TOPIC ) ) { }']\n"
     ]
    }
   ],
   "source": [
    "train_texts = train_data['text'].values\n",
    "train_labels = train_data['label'].values\n",
    "\n",
    "valid_texts = valid_data['text'].values\n",
    "valid_labels = valid_data['label'].values\n",
    "\n",
    "test_texts = test_data['text'].values\n",
    "test_labels = test_data['label'].values\n",
    "\n",
    "print(train_texts)"
   ]
  },
  {
   "cell_type": "code",
   "execution_count": 7,
   "id": "7778bd5b",
   "metadata": {},
   "outputs": [
    {
     "name": "stdout",
     "output_type": "stream",
     "text": [
      "min:  10\n",
      "number of zeros:  0\n",
      "max:  4970\n",
      "avg:  254.98373684210526\n",
      "median:  143\n",
      "95%:  862\n",
      "254.98373684210526\n",
      "253.67874560135567\n"
     ]
    }
   ],
   "source": [
    "import statistics\n",
    "train_texts[0]\n",
    "text_lengths = [len(train_texts[i].split()) for i in range(len(train_texts))]\n",
    "print('min: ', min(text_lengths))\n",
    "print('number of zeros: ', len([item for item in text_lengths if item == 0]))\n",
    "print('max: ', max(sorted(text_lengths)))\n",
    "print('avg: ', sum(text_lengths) / len(text_lengths))\n",
    "print('median: ', sorted(text_lengths)[len(text_lengths) // 2])\n",
    "print('95%: ', sorted(text_lengths)[int(len(text_lengths)*0.95)])\n",
    "print(statistics.mean(text_lengths))\n",
    "print(statistics.stdev(text_lengths))"
   ]
  },
  {
   "cell_type": "code",
   "execution_count": 8,
   "id": "ad3e75ea",
   "metadata": {},
   "outputs": [
    {
     "name": "stderr",
     "output_type": "stream",
     "text": [
      "C:\\Users\\XinZhou\\AppData\\Local\\Temp\\ipykernel_18768\\2095679928.py:8: UserWarning: \n",
      "\n",
      "`distplot` is a deprecated function and will be removed in seaborn v0.14.0.\n",
      "\n",
      "Please adapt your code to use either `displot` (a figure-level function with\n",
      "similar flexibility) or `histplot` (an axes-level function for histograms).\n",
      "\n",
      "For a guide to updating your code to use the new functions, please see\n",
      "https://gist.github.com/mwaskom/de44147ed2974457ad6372750bbe5751\n",
      "\n",
      "  sns.distplot(text_lengths, hist=True, kde=False,\n"
     ]
    },
    {
     "data": {
      "text/plain": [
       "Text(0, 0.5, 'counts')"
      ]
     },
     "execution_count": 8,
     "metadata": {},
     "output_type": "execute_result"
    },
    {
     "data": {
      "image/png": "[encoded data removed]",
      "text/plain": [
       "<Figure size 640x480 with 1 Axes>"
      ]
     },
     "metadata": {},
     "output_type": "display_data"
    }
   ],
   "source": [
    "# Import the libraries\n",
    "import matplotlib.pyplot as plt\n",
    "import seaborn as sns\n",
    "# matplotlib histogram\n",
    "plt.hist(text_lengths, color = 'blue', edgecolor = 'black',\n",
    "         bins = int(180/5))\n",
    "# seaborn histogram\n",
    "sns.distplot(text_lengths, hist=True, kde=False, \n",
    "             bins=int(180/5), color = 'blue',\n",
    "             hist_kws={'edgecolor':'black'})\n",
    "# Add labels\n",
    "plt.title('Histogram of text length analysis')\n",
    "plt.xlabel('text length')\n",
    "plt.ylabel('counts')"
   ]
  },
  {
   "cell_type": "code",
   "execution_count": 9,
   "id": "d74ba9ae",
   "metadata": {},
   "outputs": [
    {
     "data": {
      "text/plain": [
       "466"
      ]
     },
     "execution_count": 9,
     "metadata": {},
     "output_type": "execute_result"
    }
   ],
   "source": [
    "sum([1 for i in range(len(text_lengths)) if text_lengths[i] >= MAX_LENGTH])"
   ]
  },
  {
   "cell_type": "code",
   "execution_count": 10,
   "id": "8d075664",
   "metadata": {},
   "outputs": [
    {
     "name": "stderr",
     "output_type": "stream",
     "text": [
      "Didn't find file ..\\..\\cbert\\pretrained\\roberta_usage\\tokenizer.json. We won't load it.\n",
      "Didn't find file ..\\..\\cbert\\pretrained\\roberta_usage\\added_tokens.json. We won't load it.\n",
      "Didn't find file ..\\..\\cbert\\pretrained\\roberta_usage\\special_tokens_map.json. We won't load it.\n",
      "Didn't find file ..\\..\\cbert\\pretrained\\roberta_usage\\tokenizer_config.json. We won't load it.\n",
      "loading file ..\\..\\cbert\\pretrained\\roberta_usage\\vocab.json\n",
      "loading file ..\\..\\cbert\\pretrained\\roberta_usage\\merges.txt\n",
      "loading file None\n",
      "loading file None\n",
      "loading file None\n",
      "loading file None\n",
      "loading configuration file ..\\..\\cbert\\pretrained\\roberta_usage\\config.json\n",
      "Model config RobertaConfig {\n",
      "  \"BOS_token\": \"<s>\",\n",
      "  \"EOS\": \"</s>\",\n",
      "  \"_name_or_path\": \"..\\\\..\\\\cbert\\\\pretrained\\\\roberta_usage\",\n",
      "  \"attention_probs_dropout_prob\": 0.1,\n",
      "  \"bos_token_id\": 0,\n",
      "  \"classifier_dropout\": null,\n",
      "  \"do_lower_case\": false,\n",
      "  \"eos_token_id\": 2,\n",
      "  \"hidden_act\": \"gelu\",\n",
      "  \"hidden_dropout_prob\": 0.1,\n",
      "  \"hidden_size\": 768,\n",
      "  \"initializer_range\": 0.02,\n",
      "  \"intermediate_size\": 3072,\n",
      "  \"layer_norm_eps\": 1e-12,\n",
      "  \"mask_token\": \"[mask]\",\n",
      "  \"max_len\": 512,\n",
      "  \"max_position_embeddings\": 512,\n",
      "  \"model_max_length\": 512,\n",
      "  \"model_type\": \"roberta\",\n",
      "  \"num_attention_heads\": 12,\n",
      "  \"num_hidden_layers\": 12,\n",
      "  \"pad_token\": \"[pad]\",\n",
      "  \"pad_token_id\": 1,\n",
      "  \"position_embedding_type\": \"absolute\",\n",
      "  \"transformers_version\": \"4.18.0\",\n",
      "  \"type_vocab_size\": 2,\n",
      "  \"unk_token\": \"[unk]\",\n",
      "  \"use_cache\": true,\n",
      "  \"vocab_size\": 50000\n",
      "}\n",
      "\n",
      "loading configuration file ..\\..\\cbert\\pretrained\\roberta_usage\\config.json\n",
      "Model config RobertaConfig {\n",
      "  \"BOS_token\": \"<s>\",\n",
      "  \"EOS\": \"</s>\",\n",
      "  \"_name_or_path\": \"..\\\\..\\\\cbert\\\\pretrained\\\\roberta_usage\",\n",
      "  \"attention_probs_dropout_prob\": 0.1,\n",
      "  \"bos_token_id\": 0,\n",
      "  \"classifier_dropout\": null,\n",
      "  \"do_lower_case\": false,\n",
      "  \"eos_token_id\": 2,\n",
      "  \"hidden_act\": \"gelu\",\n",
      "  \"hidden_dropout_prob\": 0.1,\n",
      "  \"hidden_size\": 768,\n",
      "  \"initializer_range\": 0.02,\n",
      "  \"intermediate_size\": 3072,\n",
      "  \"layer_norm_eps\": 1e-12,\n",
      "  \"mask_token\": \"[mask]\",\n",
      "  \"max_len\": 512,\n",
      "  \"max_position_embeddings\": 512,\n",
      "  \"model_max_length\": 512,\n",
      "  \"model_type\": \"roberta\",\n",
      "  \"num_attention_heads\": 12,\n",
      "  \"num_hidden_layers\": 12,\n",
      "  \"pad_token\": \"[pad]\",\n",
      "  \"pad_token_id\": 1,\n",
      "  \"position_embedding_type\": \"absolute\",\n",
      "  \"transformers_version\": \"4.18.0\",\n",
      "  \"type_vocab_size\": 2,\n",
      "  \"unk_token\": \"[unk]\",\n",
      "  \"use_cache\": true,\n",
      "  \"vocab_size\": 50000\n",
      "}\n",
      "\n"
     ]
    },
    {
     "name": "stdout",
     "output_type": "stream",
     "text": [
      "..\\..\\cbert\\pretrained\\roberta_usage\n",
      "tokenizer loaded ...\n"
     ]
    }
   ],
   "source": [
    "# ========================= load tokenizer START =========================\n",
    "# 30,522 vocab is BERT's default vocab size, feel free to tweak\n",
    "vocab_size = 50_000\n",
    "# maximum sequence length, lowering will result to faster training (when increasing batch size)\n",
    "# max_length = 512 # 768\n",
    "from transformers import RobertaTokenizerFast\n",
    "print(tokenizer_path)\n",
    "tokenizer = RobertaTokenizerFast.from_pretrained(tokenizer_path, max_len=512)\n",
    "print('tokenizer loaded ...')\n",
    "# ========================= load tokenizer END =========================\n",
    "\n"
   ]
  },
  {
   "cell_type": "code",
   "execution_count": null,
   "id": "c19161df",
   "metadata": {},
   "outputs": [],
   "source": []
  },
  {
   "cell_type": "code",
   "execution_count": 11,
   "id": "f2d7f7a8",
   "metadata": {},
   "outputs": [],
   "source": [
    "# text_ids = [tokenizer.encode(text, max_length=300, pad_to_max_length=True) for text in texts]\n",
    "if not truncate_longer_samples:\n",
    "    #tokenizer(examples[\"text\"], return_special_tokens_mask=True)\n",
    "    train_text_dict = [tokenizer(t, return_special_tokens_mask=True) for t in train_texts]\n",
    "    valid_text_dict = [tokenizer(t, return_special_tokens_mask=True) for t in valid_texts]\n",
    "    test_text_dict = [tokenizer(t, return_special_tokens_mask=True) for t in test_texts]\n",
    "else:\n",
    "    max_length = MAX_LENGTH\n",
    "    train_text_dict = [tokenizer(t, truncation=True, padding=\"max_length\", max_length=max_length, return_special_tokens_mask=True) for t in train_texts]\n",
    "    valid_text_dict = [tokenizer(t, truncation=True, padding=\"max_length\", max_length=max_length, return_special_tokens_mask=True) for t in valid_texts]\n",
    "    test_text_dict = [tokenizer(t, truncation=True, padding=\"max_length\", max_length=max_length, return_special_tokens_mask=True) for t in test_texts]"
   ]
  },
  {
   "cell_type": "code",
   "execution_count": 12,
   "id": "8ebe6c5c",
   "metadata": {},
   "outputs": [],
   "source": [
    "train_text_ids = [text_id['input_ids'] for text_id in train_text_dict]\n",
    "valid_text_ids = [text_id['input_ids'] for text_id in valid_text_dict]\n",
    "test_text_ids = [text_id['input_ids'] for text_id in test_text_dict]\n",
    "# text_ids[0]\n",
    "train_att_masks = [text_id['attention_mask'] for text_id in train_text_dict]\n",
    "valid_att_masks = [text_id['attention_mask'] for text_id in valid_text_dict]\n",
    "test_att_masks = [text_id['attention_mask'] for text_id in test_text_dict]\n",
    "# att_masks[0]"
   ]
  },
  {
   "cell_type": "code",
   "execution_count": 13,
   "id": "fd2efc95",
   "metadata": {},
   "outputs": [],
   "source": [
    "from sklearn.model_selection import train_test_split\n",
    "train_x, train_m, train_y = train_text_ids, train_att_masks, train_labels\n",
    "val_x, val_m, val_y = valid_text_ids, valid_att_masks, valid_labels\n",
    "test_x, test_m, test_y = test_text_ids, test_att_masks, test_labels"
   ]
  },
  {
   "cell_type": "code",
   "execution_count": 14,
   "id": "c02640a1",
   "metadata": {},
   "outputs": [
    {
     "name": "stdout",
     "output_type": "stream",
     "text": [
      "torch.Size([38000, 1024])\n",
      "torch.Size([8500, 1024])\n",
      "torch.Size([8500, 1024])\n",
      "torch.Size([38000])\n",
      "torch.Size([8500])\n",
      "torch.Size([8500])\n",
      "torch.Size([38000, 1024])\n",
      "torch.Size([8500, 1024])\n",
      "torch.Size([8500, 1024])\n"
     ]
    }
   ],
   "source": [
    "import torch\n",
    "\n",
    "train_x = torch.tensor(train_x)\n",
    "test_x = torch.tensor(test_x)\n",
    "val_x = torch.tensor(val_x)\n",
    "train_y = torch.tensor(train_y)\n",
    "test_y = torch.tensor(test_y)\n",
    "val_y = torch.tensor(val_y)\n",
    "train_m = torch.tensor(train_m)\n",
    "test_m = torch.tensor(test_m)\n",
    "val_m = torch.tensor(val_m)\n",
    "\n",
    "print(train_x.shape)\n",
    "print(test_x.shape)\n",
    "print(val_x.shape)\n",
    "print(train_y.shape)\n",
    "print(test_y.shape)\n",
    "print(val_y.shape)\n",
    "print(train_m.shape)\n",
    "print(test_m.shape)\n",
    "print(val_m.shape)"
   ]
  },
  {
   "cell_type": "code",
   "execution_count": 15,
   "id": "ea48ae55",
   "metadata": {},
   "outputs": [
    {
     "name": "stdout",
     "output_type": "stream",
     "text": [
      "tensor([[   0,  879,  225,  ...,    1,    1,    1],\n",
      "        [   0,  879,  225,  ...,    1,    1,    1],\n",
      "        [   0,  879,  225,  ...,  225,  225,    2],\n",
      "        ...,\n",
      "        [   0,   59, 1088,  ...,    1,    1,    1],\n",
      "        [   0,   55, 9752,  ...,    1,    1,    1],\n",
      "        [   0,   50,  757,  ...,    1,    1,    1]])\n"
     ]
    }
   ],
   "source": [
    "from torch.utils.data import TensorDataset, DataLoader, RandomSampler, SequentialSampler\n",
    "\n",
    "print(train_x)\n",
    "train_data = TensorDataset(train_x, train_m, train_y)\n",
    "train_sampler = list(range(len(train_data)))\n",
    "\n",
    "# train_sampler = train_sampler[:100]\n",
    "train_sampler = RandomSampler(train_data)\n",
    "train_dataloader = DataLoader(train_data, sampler=train_sampler, batch_size=batch_size)\n",
    "\n",
    "val_data = TensorDataset(val_x, val_m, val_y)\n",
    "val_sampler = list(range(len(val_data)))\n",
    "# val_sampler = val_sampler[:100]\n",
    "val_sampler = SequentialSampler(val_data)\n",
    "val_dataloader = DataLoader(val_data, sampler=val_sampler, batch_size=batch_size)\n"
   ]
  },
  {
   "cell_type": "code",
   "execution_count": 16,
   "id": "c02a28f3",
   "metadata": {},
   "outputs": [],
   "source": [
    "import torch.nn as nn\n",
    "import torch\n",
    "import torch.nn.init as init\n",
    "import torch.nn.functional as F\n",
    "from torch.autograd import Variable\n",
    "import sys\n",
    "from transformers import RobertaForMaskedLM\n",
    "\n",
    "\n",
    "class DotAttention(nn.Module):\n",
    "\n",
    "    def __init__(self, hidden_size):\n",
    "        super(DotAttention, self).__init__()\n",
    "\n",
    "        self.hidden_size = hidden_size\n",
    "        self.attn_vector = nn.Parameter(\n",
    "            torch.Tensor(1, hidden_size), requires_grad=True)\n",
    "\n",
    "        init.xavier_uniform(self.attn_vector.data)\n",
    "\n",
    "    def get_mask(self):\n",
    "        pass\n",
    "\n",
    "    def forward(self, inputs, lengths=None):\n",
    "        batch_size, max_len = inputs.size()[:2]\n",
    "\n",
    "        '''\n",
    "        print(\"INPUTS\", inputs.size())\n",
    "        print(\"ATTN\", self.attn_vector  # (1, hidden_size)\n",
    "                            .unsqueeze(0)  # (1, hidden_size, 1)\n",
    "                            .transpose(2, 1)\n",
    "                            .repeat(batch_size, 1, 1).size())'''\n",
    "        # apply attention layer\n",
    "        weights = torch.bmm(inputs,\n",
    "                            self.attn_vector  # (1, hidden_size)\n",
    "                            .unsqueeze(0)  # (1, 1, hidden_size)\n",
    "                            .transpose(2, 1) # (1, hidden_size, 1)\n",
    "                            .repeat(batch_size, 1, 1)) # (batch_size, hidden_size, 1))\n",
    "\n",
    "        attn_energies = F.softmax(F.relu(weights.squeeze(axis=2)))\n",
    "\n",
    "        # create mask based on the sentence lengths\n",
    "        #idxes = torch.arange(0, max_len, out=torch.LongTensor(max_len)).unsqueeze(0).cuda()  # some day, you'll be able to directly do this on cuda\n",
    "        #mask = Variable((idxes < lengths.data.unsqueeze(1)).float())\n",
    "\n",
    "        # apply mask and renormalize attention scores (weights)\n",
    "        #masked = attn_weights * mask\n",
    "        _sums = attn_energies.sum(-1).unsqueeze(1).expand_as(attn_energies)  # sums per row\n",
    "        attn_weights = attn_energies / _sums\n",
    "\n",
    "        # print('attn_weights: ', attn_weights.shape)\n",
    "        # apply attention weights\n",
    "\n",
    "        weighted = torch.mul(inputs, attn_weights.unsqueeze(-1).expand_as(inputs))\n",
    "\n",
    "        # print('weighted: ', weighted.shape)\n",
    "\n",
    "        # get the final fixed vector representations of the sentences\n",
    "        representations = weighted.sum(1).squeeze()\n",
    "        \n",
    "        if len(representations.shape) == 1:\n",
    "            representations = representations.reshape(1, representations.shape[-1])\n",
    "        # print('representations: ', representations.shape)\n",
    "\n",
    "        return representations, attn_weights\n",
    "    \n",
    "    \n",
    "class BERTSourceBinaryClassification(nn.Module):\n",
    "    def __init__(self,checkpoint, num_labels): \n",
    "        super(BERTSourceBinaryClassification,self).__init__() \n",
    "        self.num_labels = num_labels \n",
    "        #self.model = BertForMaskedLM.from_pretrained(checkpoint)\n",
    "        self.model = RobertaForMaskedLM.from_pretrained(checkpoint)\n",
    "        #Load Model with given checkpoint and extract its body\n",
    "        # self.model = model = AutoModel.from_pretrained(checkpoint,config=AutoConfig.from_pretrained(checkpoint, output_attentions=True,output_hidden_states=True))\n",
    "        self.dropout = nn.Dropout(0.2)\n",
    "        #self.features = nn.Linear(56, 56)\n",
    "        self.softmax = nn.Softmax()\n",
    "        self.classifier = nn.Linear(768 * 1 * MAX_LENGTH//512, num_labels) # load and initialize weights\n",
    "        #self.out = nn.Softmax()\n",
    "        #self.attn = DotAttention(hidden_size = 768)\n",
    "        self.sigmoid = nn.Sigmoid()\n",
    "    \n",
    "    def forward_single(self, input_ids, attention_mask, labels, ex):\n",
    "        # torch.Size([2, 512, 768])\n",
    "        outputs = self.model.roberta(input_ids, attention_mask=attention_mask)[0]\n",
    "        #  torch.Size([2, 768])\n",
    "        last = outputs[:, -1]\n",
    "        return last\n",
    "        #attn, attention_weights = self.attn.forward(outputs)\n",
    "        #return last, attn, attention_weights\n",
    "    \n",
    "\n",
    "    def forward(self, input_ids=None, attention_mask=None, labels=None, ex=None, max_len=MAX_LENGTH, opt='mean'):\n",
    "        #Extract outputs from the body\n",
    "        final_logits = None\n",
    "        final_attention_weights = None\n",
    "        # pick the most suspicous one for final decision\n",
    "        last_all = None\n",
    "        attn_all = None\n",
    "        attention_weights_all = None\n",
    "        for i in range(0, max_len, 512):\n",
    "            #last, attn, attention_weights = self.forward_single(input_ids[:,i:i+512], attention_mask[:,i:i+512], labels, ex)\n",
    "            last = self.forward_single(input_ids[:,i:i+512], attention_mask[:,i:i+512], labels, ex)\n",
    "            if last_all is None:\n",
    "                last_all = last\n",
    "                #attn_all = attn\n",
    "                #attention_weights_all = attention_weights\n",
    "            else:\n",
    "                last_all = torch.cat([last_all,  last_all], dim=1)\n",
    "                #attn_all = torch.cat([attn_all,  attn], dim=1)\n",
    "                #attention_weights_all = torch.cat([attention_weights_all,  attention_weights], dim=1)\n",
    "                \n",
    "        #final_out = torch.cat([last_all,  attn_all], dim=1)\n",
    "        final_out = self.dropout(last_all)\n",
    "        final_out = self.classifier(final_out)\n",
    "        final_out = self.sigmoid(final_out)\n",
    "        loss = None\n",
    "        if labels is not None:\n",
    "            loss_fct = nn.CrossEntropyLoss()\n",
    "            loss = loss_fct(final_out.view(-1, self.num_labels), labels.view(-1))\n",
    "        \n",
    "        return (loss, final_out), attention_weights_all\n",
    "\n",
    "\n",
    "        #return TokenClassifierOutput(loss=loss, logits=logits, hidden_states=outputs.hidden_states,attentions=outputs.attentions)"
   ]
  },
  {
   "cell_type": "code",
   "execution_count": 17,
   "id": "43f8ca24",
   "metadata": {},
   "outputs": [
    {
     "name": "stderr",
     "output_type": "stream",
     "text": [
      "loading configuration file ..\\..\\cbert\\pretrained\\RoBERTa_usage\\checkpoint-50000\\config.json\n",
      "Model config RobertaConfig {\n",
      "  \"architectures\": [\n",
      "    \"RobertaForMaskedLM\"\n",
      "  ],\n",
      "  \"attention_probs_dropout_prob\": 0.1,\n",
      "  \"bos_token_id\": 0,\n",
      "  \"classifier_dropout\": null,\n",
      "  \"eos_token_id\": 2,\n",
      "  \"hidden_act\": \"gelu\",\n",
      "  \"hidden_dropout_prob\": 0.1,\n",
      "  \"hidden_size\": 768,\n",
      "  \"initializer_range\": 0.02,\n",
      "  \"intermediate_size\": 3072,\n",
      "  \"layer_norm_eps\": 1e-12,\n",
      "  \"max_position_embeddings\": 514,\n",
      "  \"model_type\": \"roberta\",\n",
      "  \"num_attention_heads\": 12,\n",
      "  \"num_hidden_layers\": 12,\n",
      "  \"pad_token_id\": 1,\n",
      "  \"position_embedding_type\": \"absolute\",\n",
      "  \"torch_dtype\": \"float32\",\n",
      "  \"transformers_version\": \"4.18.0\",\n",
      "  \"type_vocab_size\": 2,\n",
      "  \"use_cache\": true,\n",
      "  \"vocab_size\": 50000\n",
      "}\n",
      "\n",
      "loading weights file ..\\..\\cbert\\pretrained\\RoBERTa_usage\\checkpoint-50000\\pytorch_model.bin\n"
     ]
    },
    {
     "name": "stdout",
     "output_type": "stream",
     "text": [
      "..\\..\\cbert\\pretrained\\RoBERTa_usage\\checkpoint-50000\n"
     ]
    },
    {
     "name": "stderr",
     "output_type": "stream",
     "text": [
      "All model checkpoint weights were used when initializing RobertaForMaskedLM.\n",
      "\n",
      "All the weights of RobertaForMaskedLM were initialized from the model checkpoint at ..\\..\\cbert\\pretrained\\RoBERTa_usage\\checkpoint-50000.\n",
      "If your task is similar to the task the model of the checkpoint was trained on, you can already use RobertaForMaskedLM for predictions without further training.\n"
     ]
    }
   ],
   "source": [
    "# from transformers import DistilBertForSequenceClassification, AdamW, DistilBertConfig\n",
    "# num_labels = len(set(labels))\n",
    "# model = DistilBertForSequenceClassification.from_pretrained('distilbert-base-uncased', num_labels=num_labels,\n",
    "#                                                             output_attentions=False, output_hidden_states=False)\n",
    "\n",
    "# model_path = os.path.join(bert_dir, \"checkpoint-60000\")\n",
    "print(bert_model_path)\n",
    "model = BERTSourceBinaryClassification(checkpoint=bert_model_path, num_labels=2)\n",
    "\n",
    "import torch.optim as optim\n",
    "\n",
    "learning_rate = 1e-4\n",
    "adam_epsilon = 1e-6\n",
    "\n",
    "no_decay = ['bias', 'LayerNorm.weight']\n",
    "\n",
    "optimizer_grouped_parameters = [\n",
    "    {'params': [p for n, p in model.named_parameters() if not any(nd in n for nd in no_decay)],\n",
    "     'weight_decay_rate': 0.0001},\n",
    "    {'params': [p for n, p in model.named_parameters() if any(nd in n for nd in no_decay)],\n",
    "     'weight_decay_rate': 0.0}\n",
    "]\n",
    "\n",
    "# optimizer = AdamW(optimizer_grouped_parameters, lr=learning_rate, eps=adam_epsilon)\n",
    "optimizer = optim.Adam(optimizer_grouped_parameters, lr=learning_rate)\n",
    "\n",
    "\n",
    "os.environ['CUDA_VISIBLE_DEVICES'] = '0,1,2,3'\n",
    "multi_gpu = torch.cuda.device_count() \n",
    "if multi_gpu > 1:\n",
    "    print(\"Let's use\", torch.cuda.device_count(), \"GPUs!\")\n",
    "    # dim = 0 [30, xxx] -> [10, ...], [10, ...], [10, ...] on 3 GPUs\n",
    "    model = nn.DataParallel(model)\n",
    "# model = nn.DataParallel(model)\n",
    "model = model.cuda()\n",
    "\n",
    "from transformers import get_linear_schedule_with_warmup\n",
    "\n",
    "\n",
    "total_steps = len(train_dataloader) * num_epochs\n",
    "scheduler = get_linear_schedule_with_warmup(optimizer, num_warmup_steps=0, num_training_steps=total_steps)\n"
   ]
  },
  {
   "cell_type": "code",
   "execution_count": 18,
   "id": "7aa7865b",
   "metadata": {},
   "outputs": [
    {
     "name": "stdout",
     "output_type": "stream",
     "text": [
      "number of iterations:  6334\n"
     ]
    }
   ],
   "source": [
    "import time\n",
    "\n",
    "def epoch_time(start_time, end_time):\n",
    "    elapsed_time = end_time - start_time\n",
    "    elapsed_mins = int(elapsed_time / 60)\n",
    "    elapsed_secs = int(elapsed_time - (elapsed_mins * 60))\n",
    "    return elapsed_mins, elapsed_secs\n",
    "\n",
    "import numpy as np\n",
    "import random\n",
    "\n",
    "seed_val = 111\n",
    "random.seed(seed_val)\n",
    "np.random.seed(seed_val)\n",
    "torch.manual_seed(seed_val)\n",
    "torch.cuda.manual_seed_all(seed_val)\n",
    "\n",
    "import pickle\n",
    "import os\n",
    "\n",
    "if not os.path.exists(out_dir):\n",
    "    os.makedirs(out_dir)\n",
    "    \n",
    "# save model \n",
    "\n",
    "def save_model(model, train_losses, val_losses, out_dir_model):\n",
    "\n",
    "    if not os.path.exists(out_dir_model):\n",
    "        os.makedirs(out_dir_model)\n",
    "    \n",
    "    PATH = os.path.join(out_dir_model, 'BERTSourceBinaryClassification.pt')\n",
    "\n",
    "    torch.save(model.state_dict(), PATH)\n",
    "\n",
    "    with open(out_dir_model + '/train_losses.pkl', 'wb') as f:\n",
    "        pickle.dump(train_losses, f)\n",
    "\n",
    "    with open(out_dir_model + '/val_losses.pkl', 'wb') as f:\n",
    "        pickle.dump(val_losses, f)\n",
    "        \n",
    "print('number of iterations: ', len(train_dataloader))"
   ]
  },
  {
   "cell_type": "code",
   "execution_count": null,
   "id": "64535cf2",
   "metadata": {},
   "outputs": [
    {
     "name": "stdout",
     "output_type": "stream",
     "text": [
      "num_epochs:  3\n"
     ]
    },
    {
     "name": "stderr",
     "output_type": "stream",
     "text": [
      "499it [01:53,  4.44it/s]"
     ]
    },
    {
     "name": "stdout",
     "output_type": "stream",
     "text": [
      "saved as:  ./result_mvdsc/classification_model_500\n"
     ]
    },
    {
     "name": "stderr",
     "output_type": "stream",
     "text": [
      "999it [03:47,  4.45it/s]"
     ]
    },
    {
     "name": "stdout",
     "output_type": "stream",
     "text": [
      "saved as:  ./result_mvdsc/classification_model_1000\n"
     ]
    },
    {
     "name": "stderr",
     "output_type": "stream",
     "text": [
      "1499it [05:41,  4.26it/s]"
     ]
    },
    {
     "name": "stdout",
     "output_type": "stream",
     "text": [
      "saved as:  ./result_mvdsc/classification_model_1500\n"
     ]
    },
    {
     "name": "stderr",
     "output_type": "stream",
     "text": [
      "1999it [07:34,  4.39it/s]"
     ]
    },
    {
     "name": "stdout",
     "output_type": "stream",
     "text": [
      "saved as:  ./result_mvdsc/classification_model_2000\n"
     ]
    },
    {
     "name": "stderr",
     "output_type": "stream",
     "text": [
      "2499it [09:28,  4.48it/s]"
     ]
    },
    {
     "name": "stdout",
     "output_type": "stream",
     "text": [
      "saved as:  ./result_mvdsc/classification_model_2500\n"
     ]
    },
    {
     "name": "stderr",
     "output_type": "stream",
     "text": [
      "2999it [11:22,  4.31it/s]"
     ]
    },
    {
     "name": "stdout",
     "output_type": "stream",
     "text": [
      "saved as:  ./result_mvdsc/classification_model_3000\n"
     ]
    },
    {
     "name": "stderr",
     "output_type": "stream",
     "text": [
      "3499it [13:17,  4.32it/s]"
     ]
    },
    {
     "name": "stdout",
     "output_type": "stream",
     "text": [
      "saved as:  ./result_mvdsc/classification_model_3500\n"
     ]
    },
    {
     "name": "stderr",
     "output_type": "stream",
     "text": [
      "3999it [15:12,  4.33it/s]"
     ]
    },
    {
     "name": "stdout",
     "output_type": "stream",
     "text": [
      "saved as:  ./result_mvdsc/classification_model_4000\n"
     ]
    },
    {
     "name": "stderr",
     "output_type": "stream",
     "text": [
      "4499it [17:07,  4.43it/s]"
     ]
    },
    {
     "name": "stdout",
     "output_type": "stream",
     "text": [
      "saved as:  ./result_mvdsc/classification_model_4500\n"
     ]
    },
    {
     "name": "stderr",
     "output_type": "stream",
     "text": [
      "4999it [19:02,  4.46it/s]"
     ]
    },
    {
     "name": "stdout",
     "output_type": "stream",
     "text": [
      "saved as:  ./result_mvdsc/classification_model_5000\n"
     ]
    },
    {
     "name": "stderr",
     "output_type": "stream",
     "text": [
      "5499it [20:56,  4.37it/s]"
     ]
    },
    {
     "name": "stdout",
     "output_type": "stream",
     "text": [
      "saved as:  ./result_mvdsc/classification_model_5500\n"
     ]
    },
    {
     "name": "stderr",
     "output_type": "stream",
     "text": [
      "5999it [22:51,  4.28it/s]"
     ]
    },
    {
     "name": "stdout",
     "output_type": "stream",
     "text": [
      "saved as:  ./result_mvdsc/classification_model_6000\n"
     ]
    },
    {
     "name": "stderr",
     "output_type": "stream",
     "text": [
      "6334it [24:10,  4.37it/s]\n"
     ]
    },
    {
     "name": "stdout",
     "output_type": "stream",
     "text": [
      "\n",
      "Train loss after itaration 1: 0.583342\n",
      "Validation loss after itaration 1: 0.559827\n",
      "val_losses:  [] 0.5598273277282715\n",
      "Time: 26m 26s\n"
     ]
    },
    {
     "name": "stderr",
     "output_type": "stream",
     "text": [
      "165it [00:37,  4.47it/s]"
     ]
    },
    {
     "name": "stdout",
     "output_type": "stream",
     "text": [
      "saved as:  ./result_mvdsc/classification_model_6500\n"
     ]
    },
    {
     "name": "stderr",
     "output_type": "stream",
     "text": [
      "665it [02:31,  4.44it/s]"
     ]
    },
    {
     "name": "stdout",
     "output_type": "stream",
     "text": [
      "saved as:  ./result_mvdsc/classification_model_7000\n"
     ]
    },
    {
     "name": "stderr",
     "output_type": "stream",
     "text": [
      "1165it [04:26,  4.48it/s]"
     ]
    },
    {
     "name": "stdout",
     "output_type": "stream",
     "text": [
      "saved as:  ./result_mvdsc/classification_model_7500\n"
     ]
    },
    {
     "name": "stderr",
     "output_type": "stream",
     "text": [
      "1665it [06:21,  4.48it/s]"
     ]
    },
    {
     "name": "stdout",
     "output_type": "stream",
     "text": [
      "saved as:  ./result_mvdsc/classification_model_8000\n"
     ]
    },
    {
     "name": "stderr",
     "output_type": "stream",
     "text": [
      "2165it [08:15,  4.43it/s]"
     ]
    },
    {
     "name": "stdout",
     "output_type": "stream",
     "text": [
      "saved as:  ./result_mvdsc/classification_model_8500\n"
     ]
    },
    {
     "name": "stderr",
     "output_type": "stream",
     "text": [
      "2665it [10:10,  4.53it/s]"
     ]
    },
    {
     "name": "stdout",
     "output_type": "stream",
     "text": [
      "saved as:  ./result_mvdsc/classification_model_9000\n"
     ]
    },
    {
     "name": "stderr",
     "output_type": "stream",
     "text": [
      "3165it [12:05,  4.28it/s]"
     ]
    },
    {
     "name": "stdout",
     "output_type": "stream",
     "text": [
      "saved as:  ./result_mvdsc/classification_model_9500\n"
     ]
    },
    {
     "name": "stderr",
     "output_type": "stream",
     "text": [
      "3665it [14:00,  4.44it/s]"
     ]
    },
    {
     "name": "stdout",
     "output_type": "stream",
     "text": [
      "saved as:  ./result_mvdsc/classification_model_10000\n"
     ]
    },
    {
     "name": "stderr",
     "output_type": "stream",
     "text": [
      "4165it [15:55,  4.34it/s]"
     ]
    },
    {
     "name": "stdout",
     "output_type": "stream",
     "text": [
      "saved as:  ./result_mvdsc/classification_model_10500\n"
     ]
    },
    {
     "name": "stderr",
     "output_type": "stream",
     "text": [
      "4665it [17:52,  4.44it/s]"
     ]
    },
    {
     "name": "stdout",
     "output_type": "stream",
     "text": [
      "saved as:  ./result_mvdsc/classification_model_11000\n"
     ]
    },
    {
     "name": "stderr",
     "output_type": "stream",
     "text": [
      "5165it [19:48,  4.42it/s]"
     ]
    },
    {
     "name": "stdout",
     "output_type": "stream",
     "text": [
      "saved as:  ./result_mvdsc/classification_model_11500\n"
     ]
    },
    {
     "name": "stderr",
     "output_type": "stream",
     "text": [
      "5665it [21:41,  4.43it/s]"
     ]
    },
    {
     "name": "stdout",
     "output_type": "stream",
     "text": [
      "saved as:  ./result_mvdsc/classification_model_12000\n"
     ]
    },
    {
     "name": "stderr",
     "output_type": "stream",
     "text": [
      "6165it [23:36,  4.48it/s]"
     ]
    },
    {
     "name": "stdout",
     "output_type": "stream",
     "text": [
      "saved as:  ./result_mvdsc/classification_model_12500\n"
     ]
    },
    {
     "name": "stderr",
     "output_type": "stream",
     "text": [
      "6334it [24:16,  4.35it/s]\n"
     ]
    },
    {
     "name": "stdout",
     "output_type": "stream",
     "text": [
      "\n",
      "Train loss after itaration 2: 0.604193\n",
      "Validation loss after itaration 2: 0.595664\n",
      "val_losses:  [0.5598273277282715] 0.5956639647483826\n",
      "Time: 26m 31s\n"
     ]
    },
    {
     "name": "stderr",
     "output_type": "stream",
     "text": [
      "331it [01:14,  4.48it/s]"
     ]
    },
    {
     "name": "stdout",
     "output_type": "stream",
     "text": [
      "saved as:  ./result_mvdsc/classification_model_13000\n"
     ]
    },
    {
     "name": "stderr",
     "output_type": "stream",
     "text": [
      "831it [03:09,  4.40it/s]"
     ]
    },
    {
     "name": "stdout",
     "output_type": "stream",
     "text": [
      "saved as:  ./result_mvdsc/classification_model_13500\n"
     ]
    },
    {
     "name": "stderr",
     "output_type": "stream",
     "text": [
      "1331it [05:03,  4.47it/s]"
     ]
    },
    {
     "name": "stdout",
     "output_type": "stream",
     "text": [
      "saved as:  ./result_mvdsc/classification_model_14000\n"
     ]
    },
    {
     "name": "stderr",
     "output_type": "stream",
     "text": [
      "1831it [06:59,  4.47it/s]"
     ]
    },
    {
     "name": "stdout",
     "output_type": "stream",
     "text": [
      "saved as:  ./result_mvdsc/classification_model_14500\n"
     ]
    },
    {
     "name": "stderr",
     "output_type": "stream",
     "text": [
      "2331it [08:53,  4.36it/s]"
     ]
    },
    {
     "name": "stdout",
     "output_type": "stream",
     "text": [
      "saved as:  ./result_mvdsc/classification_model_15000\n"
     ]
    },
    {
     "name": "stderr",
     "output_type": "stream",
     "text": [
      "2831it [10:48,  4.41it/s]"
     ]
    },
    {
     "name": "stdout",
     "output_type": "stream",
     "text": [
      "saved as:  ./result_mvdsc/classification_model_15500\n"
     ]
    },
    {
     "name": "stderr",
     "output_type": "stream",
     "text": [
      "3331it [12:43,  4.51it/s]"
     ]
    },
    {
     "name": "stdout",
     "output_type": "stream",
     "text": [
      "saved as:  ./result_mvdsc/classification_model_16000\n"
     ]
    },
    {
     "name": "stderr",
     "output_type": "stream",
     "text": [
      "3831it [14:38,  4.47it/s]"
     ]
    },
    {
     "name": "stdout",
     "output_type": "stream",
     "text": [
      "saved as:  ./result_mvdsc/classification_model_16500\n"
     ]
    },
    {
     "name": "stderr",
     "output_type": "stream",
     "text": [
      "4331it [16:31,  4.47it/s]"
     ]
    },
    {
     "name": "stdout",
     "output_type": "stream",
     "text": [
      "saved as:  ./result_mvdsc/classification_model_17000\n"
     ]
    },
    {
     "name": "stderr",
     "output_type": "stream",
     "text": [
      "4831it [18:27,  4.40it/s]"
     ]
    },
    {
     "name": "stdout",
     "output_type": "stream",
     "text": [
      "saved as:  ./result_mvdsc/classification_model_17500\n"
     ]
    },
    {
     "name": "stderr",
     "output_type": "stream",
     "text": [
      "5331it [20:21,  4.42it/s]"
     ]
    },
    {
     "name": "stdout",
     "output_type": "stream",
     "text": [
      "saved as:  ./result_mvdsc/classification_model_18000\n"
     ]
    },
    {
     "name": "stderr",
     "output_type": "stream",
     "text": [
      "5831it [22:17,  4.49it/s]"
     ]
    },
    {
     "name": "stdout",
     "output_type": "stream",
     "text": [
      "saved as:  ./result_mvdsc/classification_model_18500\n"
     ]
    },
    {
     "name": "stderr",
     "output_type": "stream",
     "text": [
      "6331it [24:11,  4.40it/s]"
     ]
    },
    {
     "name": "stdout",
     "output_type": "stream",
     "text": [
      "saved as:  ./result_mvdsc/classification_model_19000\n"
     ]
    },
    {
     "name": "stderr",
     "output_type": "stream",
     "text": [
      "6334it [24:13,  4.36it/s]\n"
     ]
    },
    {
     "name": "stdout",
     "output_type": "stream",
     "text": [
      "\n",
      "Train loss after itaration 3: 0.612146\n"
     ]
    }
   ],
   "source": [
    "if not test_only:\n",
    "    from tqdm import tqdm\n",
    "    train_losses = []\n",
    "    val_losses = []\n",
    "    num_mb_train = len(train_dataloader)\n",
    "    num_mb_val = len(val_dataloader)\n",
    "    current_step = 0\n",
    "    saved_steps = []\n",
    "    if num_mb_val == 0:\n",
    "        num_mb_val = 1\n",
    "\n",
    "    # print('number of iterations: ', len(train_dataloader), len(train_loader_extracted))\n",
    "    print('num_epochs: ', num_epochs)\n",
    "\n",
    "    loss_fct = nn.CrossEntropyLoss()\n",
    "\n",
    "\n",
    "    for n in range(num_epochs):\n",
    "        train_loss = 0\n",
    "        val_loss = 0\n",
    "        start_time = time.time()\n",
    "\n",
    "        #for k, (data1, data2) in enumerate(zip(train_dataloader, train_loader_extracted)):\n",
    "        for k, (mb_x, mb_m, mb_y) in tqdm(enumerate(train_dataloader)):\n",
    "            #mb_x, mb_m, mb_y = data1\n",
    "            # 56 features\n",
    "            #ex, ey, e_index = data2\n",
    "            optimizer.zero_grad()\n",
    "            model.train()\n",
    "\n",
    "            mb_x = mb_x.cuda()\n",
    "            mb_m = mb_m.cuda()\n",
    "            mb_y = mb_y.cuda()\n",
    "            #ex = ex.cuda()\n",
    "\n",
    "            outputs, _, = model(mb_x, attention_mask=mb_m, labels=mb_y)\n",
    "            #print(outputs[1])\n",
    "            #mb_y = F.one_hot(mb_y)\n",
    "            #print(outputs, mb_y)\n",
    "            #loss = loss_fct(outputs.view(-1, 2), mb_y.view(-1))\n",
    "            loss = outputs[0]\n",
    "\n",
    "            if multi_gpu > 1:\n",
    "                loss = loss.sum()\n",
    "\n",
    "            loss.backward()\n",
    "            torch.nn.utils.clip_grad_norm_(model.parameters(), 1.0)\n",
    "            optimizer.step()\n",
    "            scheduler.step()\n",
    "            current_step += 1\n",
    "            train_loss += loss.data / num_mb_train\n",
    "\n",
    "            if current_step % save_step_at == 0:\n",
    "                saved_steps.append(current_step)\n",
    "                out_dir_model = './{}/classification_model_{}'.format(out_dir, saved_steps[-1])\n",
    "                print('saved as: ', out_dir_model)\n",
    "                if len(saved_steps) > max_step_saves:\n",
    "                    delete_dir = './{}/classification_model_{}'.format(out_dir, saved_steps[-(max_step_saves+1)])\n",
    "                    os.system('rm -r {}'.format(delete_dir))\n",
    "                save_model(model, train_losses, val_losses, out_dir_model)\n",
    "\n",
    "\n",
    "        print (\"\\nTrain loss after itaration %i: %f\" % (n+1, train_loss))\n",
    "        train_losses.append(train_loss.cpu())\n",
    "\n",
    "        with torch.no_grad():\n",
    "            model.eval()\n",
    "\n",
    "            for k, (mb_x, mb_m, mb_y) in enumerate(val_dataloader):\n",
    "                mb_x = mb_x.cuda()\n",
    "                mb_m = mb_m.cuda()\n",
    "                mb_y = mb_y.cuda()\n",
    " \n",
    "                outputs, _ = model(mb_x, attention_mask=mb_m, labels=mb_y)\n",
    "                loss = outputs[0]\n",
    "                if multi_gpu > 1:\n",
    "                    loss = loss.sum()\n",
    "                #loss = model_loss(outputs[1], mb_y)\n",
    "\n",
    "                val_loss += loss.data / num_mb_val\n",
    "\n",
    "            print (\"Validation loss after itaration %i: %f\" % (n+1, val_loss))\n",
    "            # save the best\n",
    "            print('val_losses: ', val_losses, float(val_loss.cpu()))\n",
    "            if val_losses and float(val_loss.cpu()) <= min(val_losses):\n",
    "                out_dir_model = './{}/classification_model_best'.format(out_dir)\n",
    "                print('the best model updated')\n",
    "                print('saved as: ', out_dir_model)\n",
    "                save_model(model, train_losses, val_losses, out_dir_model)\n",
    "            val_losses.append(float(val_loss.cpu()))\n",
    "\n",
    "        end_time = time.time()\n",
    "        epoch_mins, epoch_secs = epoch_time(start_time, end_time)\n",
    "        print(f'Time: {epoch_mins}m {epoch_secs}s')\n",
    "        if len(val_losses) > 3 and float(val_loss.cpu()) > max(val_losses[-4:-1]):\n",
    "            break"
   ]
  },
  {
   "cell_type": "code",
   "execution_count": null,
   "id": "95b99602",
   "metadata": {},
   "outputs": [],
   "source": [
    "\n",
    "# out_dir_model = '{}/classification_model_4000'.format(out_dir)\n",
    "\n",
    "test_dir_model = '{}/classification_model_best'.format(out_dir)\n",
    "\n",
    "PATH = os.path.join(test_dir_model, 'BERTSourceBinaryClassification.pt')\n",
    "model.load_state_dict(torch.load(PATH))\n",
    "model.eval()\n",
    "\n",
    "with open(test_dir_model + '/train_losses.pkl', 'rb') as f:\n",
    "    train_losses = pickle.load(f)\n",
    "    \n",
    "with open(test_dir_model + '/val_losses.pkl', 'rb') as f:\n",
    "    val_losses = pickle.load(f)\n",
    "\n",
    "print(val_losses)\n",
    "from matplotlib import pyplot as plt\n",
    "%matplotlib inline\n",
    "\n",
    "plt.figure()\n",
    "plt.plot(train_losses)\n",
    "plt.plot(val_losses)"
   ]
  },
  {
   "cell_type": "code",
   "execution_count": null,
   "id": "fd8a9f46",
   "metadata": {},
   "outputs": [],
   "source": [
    "from tqdm import tqdm\n",
    "# test_data = test_data[:100]\n",
    "test_data = TensorDataset(test_x, test_m)\n",
    "test_sampler = SequentialSampler(test_data)\n",
    "test_dataloader = DataLoader(test_data, sampler=test_sampler, batch_size=batch_size)\n",
    "\n",
    "\n",
    "outputs = []\n",
    "print('num of iterations: ', len(test_dataloader))\n",
    "with torch.no_grad():\n",
    "    for k, (mb_x, mb_m) in tqdm(enumerate(test_dataloader)):\n",
    "        mb_x = mb_x.cuda()\n",
    "        mb_m = mb_m.cuda()\n",
    "#         output, _ = model(mb_x)\n",
    "        output, attention_weights = model(mb_x, attention_mask=mb_m, max_len=MAX_LENGTH, opt='mean')\n",
    "#         print(output)\n",
    "#         print(attention_weights[4])\n",
    "#         sys.exit(0)\n",
    "        outputs.append(output[1].to('cpu'))\n",
    "        \n",
    "outputs = torch.cat(outputs)"
   ]
  },
  {
   "cell_type": "code",
   "execution_count": null,
   "id": "3d9a3988",
   "metadata": {},
   "outputs": [],
   "source": [
    "_, predicted_values = torch.max(outputs, 1)\n",
    "predicted_values = predicted_values.numpy()\n",
    "true_values = test_y.numpy()\n",
    "\n",
    "test_accuracy = np.sum(predicted_values == true_values) / len(true_values)\n",
    "print (\"Test Accuracy:\", test_accuracy)\n",
    "\n"
   ]
  },
  {
   "cell_type": "code",
   "execution_count": null,
   "id": "2c41932a",
   "metadata": {},
   "outputs": [],
   "source": [
    "import itertools\n",
    "\n",
    "# plot confusion matrix\n",
    "# code borrowed from scikit-learn.org\n",
    "def plot_confusion_matrix(cm, classes,\n",
    "                          normalize=False,\n",
    "                          title='Confusion matrix',\n",
    "                          cmap=plt.cm.Blues):\n",
    "    \"\"\"\n",
    "    This function prints and plots the confusion matrix.\n",
    "    Normalization can be applied by setting `normalize=True`.\n",
    "    \"\"\"\n",
    "    if normalize:\n",
    "        cm = cm.astype('float') / cm.sum(axis=1)[:, np.newaxis]\n",
    "        print(\"Normalized confusion matrix\")\n",
    "    else:\n",
    "        print('Confusion matrix, without normalization')\n",
    "\n",
    "    print(cm)\n",
    "\n",
    "    plt.imshow(cm, interpolation='nearest', cmap=cmap)\n",
    "    plt.title(title)\n",
    "    plt.colorbar()\n",
    "    tick_marks = np.arange(len(classes))\n",
    "    plt.xticks(tick_marks, classes, rotation=45)\n",
    "    plt.yticks(tick_marks, classes)\n",
    "\n",
    "    fmt = '.2f' if normalize else 'd'\n",
    "    thresh = cm.max() / 2.\n",
    "    for i, j in itertools.product(range(cm.shape[0]), range(cm.shape[1])):\n",
    "        plt.text(j, i, format(cm[i, j], fmt),\n",
    "                 horizontalalignment=\"center\",\n",
    "                 color=\"white\" if cm[i, j] > thresh else \"black\")\n",
    "\n",
    "    plt.tight_layout()\n",
    "    plt.ylabel('True label')\n",
    "    plt.xlabel('Predicted label')"
   ]
  },
  {
   "cell_type": "code",
   "execution_count": 125,
   "id": "653c3320",
   "metadata": {},
   "outputs": [
    {
     "name": "stdout",
     "output_type": "stream",
     "text": [
      "Confusion matrix, without normalization\n",
      "[[716 759]\n",
      " [488 769]]\n",
      "Normalized confusion matrix\n",
      "[[0.49 0.51]\n",
      " [0.39 0.61]]\n"
     ]
    },
    {
     "data": {
      "image/png": "[encoded data removed]",
      "text/plain": [
       "<Figure size 600x600 with 2 Axes>"
      ]
     },
     "metadata": {},
     "output_type": "display_data"
    },
    {
     "data": {
      "image/png": "[encoded data removed]",
      "text/plain": [
       "<Figure size 600x600 with 2 Axes>"
      ]
     },
     "metadata": {},
     "output_type": "display_data"
    }
   ],
   "source": [
    "from sklearn.metrics import classification_report, confusion_matrix\n",
    "\n",
    "cm_test = confusion_matrix(true_values, predicted_values)\n",
    "\n",
    "np.set_printoptions(precision=2)\n",
    "\n",
    "plt.figure(figsize=(6,6))\n",
    "plot_confusion_matrix(cm_test, classes=label_values, title='Confusion Matrix - Test Dataset')\n",
    "plt.figure(figsize=(6,6))\n",
    "plot_confusion_matrix(cm_test, classes=label_values, title='Confusion Matrix - Test Dataset', normalize=True)"
   ]
  },
  {
   "cell_type": "code",
   "execution_count": null,
   "id": "d0e5d314",
   "metadata": {},
   "outputs": [],
   "source": []
  },
  {
   "cell_type": "code",
   "execution_count": null,
   "id": "c02c4989",
   "metadata": {},
   "outputs": [],
   "source": []
  }
 ],
 "metadata": {
  "kernelspec": {
   "display_name": "Python 3 (ipykernel)",
   "language": "python",
   "name": "python3"
  },
  "language_info": {
   "codemirror_mode": {
    "name": "ipython",
    "version": 3
   },
   "file_extension": ".py",
   "mimetype": "text/x-python",
   "name": "python",
   "nbconvert_exporter": "python",
   "pygments_lexer": "ipython3",
   "version": "3.10.4"
  }
 },
 "nbformat": 4,
 "nbformat_minor": 5
}
