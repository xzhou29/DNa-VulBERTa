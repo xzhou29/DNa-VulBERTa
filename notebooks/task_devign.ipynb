{
 "cells": [
  {
   "cell_type": "code",
   "execution_count": 1,
   "id": "56bba13f",
   "metadata": {},
   "outputs": [
    {
     "name": "stderr",
     "output_type": "stream",
     "text": [
      "C:\\Users\\XinZhou\\anaconda3\\envs\\dna\\lib\\site-packages\\tqdm\\auto.py:22: TqdmWarning: IProgress not found. Please update jupyter and ipywidgets. See https://ipywidgets.readthedocs.io/en/stable/user_install.html\n",
      "  from .autonotebook import tqdm as notebook_tqdm\n",
      "C:\\Users\\XinZhou\\anaconda3\\envs\\dna\\lib\\site-packages\\torchaudio\\backend\\utils.py:62: UserWarning: No audio backend is available.\n",
      "  warnings.warn(\"No audio backend is available.\")\n"
     ]
    }
   ],
   "source": [
    "# import\n",
    "\n",
    "# packages\n",
    "import pandas as pd\n",
    "import pyarrow.dataset as ds\n",
    "from datasets import Dataset\n",
    "import pyarrow as pa\n",
    "from datasets import *\n",
    "from transformers import *\n",
    "from tokenizers import *\n",
    "import os\n",
    "import json\n",
    "import sys\n",
    "from tokenizers.processors import BertProcessing\n",
    "import numpy as np"
   ]
  },
  {
   "cell_type": "code",
   "execution_count": 2,
   "id": "45c6a717",
   "metadata": {},
   "outputs": [],
   "source": [
    "# INPORTANT\n",
    "# out_dir = './task_devign_v3'\n",
    "# raw_data_path = '/scratch/xin/devign_task/tokenized_devign_v3.pkl'\n",
    "MAX_LENGTH = 1024\n",
    "batch_size = 40\n",
    "# model_path = '/scratch/xin/bert_source_v3/pretrained-bert/'\n",
    "\n",
    "num_epochs = 1\n",
    "max_step_saves = 5\n",
    "save_step_at = 500\n",
    "test_only = False\n",
    "version = 3\n",
    "\n",
    "# data_dir = 'D:\\\\cbert\\\\'\n",
    "\n",
    "if version == 1:\n",
    "    raw_data_path = '/scratch/xin/devign_task/tokenized_devign_v1.pkl'\n",
    "    bert_model_path = '/scratch/xin/bert_source_v1'\n",
    "    out_dir = 'task_devign_v1/'\n",
    "\n",
    "elif version == 2:\n",
    "    raw_data_path = '/scratch/xin/devign_task/tokenized_devign_v2.pkl'\n",
    "    bert_model_path = '/scratch/xin/bert_source_v2'\n",
    "    out_dir = 'task_devign_v2/'\n",
    "    \n",
    "elif version == 3:\n",
    "#     data_dir = \"..\\\\..\\\\cbert\\\\tasks\\\\devign\\\\\"\n",
    "#     raw_data_path = os.path.join(data_dir, 'devign_all.pkl')\n",
    "#     bert_model_path = '..\\\\..\\\\cbert\\\\tasks\\\\roberta_usage\\\\checkpoint-50000'\n",
    "#     out_dir = 'result_devign'\n",
    "#     tokenizer_path = '..\\\\..\\\\cbert\\\\tasks\\\\roberta_usage'\n",
    "    data_dir = \"../../vul_dataset/tasks/devign\"\n",
    "    raw_data_path = os.path.join(data_dir, 'devign_all.pkl')\n",
    "    bert_model_path = '../../pretrianed_models_xin/RoBERTa_usage/checkpoint-50000/'\n",
    "    out_dir = 'result_devign'\n",
    "    tokenizer_path = '../../pretrianed_models_xin/RoBERTa_usage/BPE_tokenizer/'\n",
    "    \n",
    "truncate_longer_samples = True\n"
   ]
  },
  {
   "cell_type": "code",
   "execution_count": 3,
   "id": "bf84464e",
   "metadata": {},
   "outputs": [
    {
     "name": "stdout",
     "output_type": "stream",
     "text": [
      "27318\n"
     ]
    }
   ],
   "source": [
    "# load data\n",
    "def get_data(file_path):\n",
    "    raw_df = pd.read_pickle(file_path)  \n",
    "    df = {'filename': [], 'text': [], 'label': []}\n",
    "    for i in range(len(raw_df['code'])):\n",
    "        df['filename'].append(raw_df['filename'][i])\n",
    "        code = raw_df['code'][i].split(';')\n",
    "        code = ' '.join(code)\n",
    "        df['text'].append(code)\n",
    "        df['label'].append(raw_df['label'][i])\n",
    "    df = pd.DataFrame(df)\n",
    "    return df\n",
    "    ### convert to Huggingface dataset\n",
    "#     return Dataset(pa.Table.from_pandas(df))\n",
    "\n",
    "# train_data = get_data('/scratch/xin/bert_source/mvdsc/tokenized_mvdsc_train.pkl')\n",
    "# valid_data = get_data('/scratch/xin/bert_source/mvdsc/tokenized_mvdsc_valid.pkl')\n",
    "\n",
    "tokenized_data = get_data(raw_data_path)\n",
    "print(len(tokenized_data))\n",
    "# print(tokenized_data['text'][0])\n",
    "\n"
   ]
  },
  {
   "cell_type": "code",
   "execution_count": 4,
   "id": "ba08f49a",
   "metadata": {},
   "outputs": [
    {
     "name": "stdout",
     "output_type": "stream",
     "text": [
      "(21854, 3)\n",
      "(2732, 3)\n",
      "(2732, 3)\n",
      "329      otherParamPassReturn * qobject_to_qerror ( con...\n",
      "26416    static void predictor_decode_stereo ( APEConte...\n",
      "8752     static void gen_farith ( DisasContext * DisasC...\n",
      "17030    static otherParamCallPass * qemu_chr_open_sock...\n",
      "2939     static int intParam blkreplay_co_discard ( Blo...\n",
      "13368    static bool megasas_use_msi ( MegasasState * M...\n",
      "10355    static void do_audio_out ( AVFormatContext * A...\n",
      "16522    static char * pcibus_get_fw_dev_path ( DeviceS...\n",
      "19858    otherParamCallPass * pci_register_bus ( Device...\n",
      "17880    static int parse_inputs ( const char * * *Poin...\n",
      "Name: text, dtype: object\n"
     ]
    }
   ],
   "source": [
    "from sklearn.model_selection import train_test_split\n",
    "\n",
    "# X_train, X_test, y_train, y_test = train_test_split(tokenized_data, test_size=0.2, shuffle = True, random_state = 8)\n",
    "# train, validation, test = np.split(tokenized_data, [int(.8*len(tokenized_data)), int(.9*len(tokenized_data))])\n",
    "train_data, valid_data, test_data = np.split(tokenized_data.sample(frac=1, random_state=2022), \n",
    "               [int(.8*len(tokenized_data)), int(.9*len(tokenized_data))])\n",
    "\n",
    "# train_data = train_data[:100]\n",
    "# valid_data = valid_data[:100]\n",
    "# test_data = test_data[:100]\n",
    "\n",
    "print(train_data.shape)\n",
    "print(valid_data.shape)\n",
    "print(test_data.shape)\n",
    "print(train_data['text'][:10])"
   ]
  },
  {
   "cell_type": "code",
   "execution_count": 5,
   "id": "540c7751",
   "metadata": {},
   "outputs": [
    {
     "data": {
      "text/plain": [
       "[0, 1]"
      ]
     },
     "execution_count": 5,
     "metadata": {},
     "output_type": "execute_result"
    }
   ],
   "source": [
    "label_counts = pd.DataFrame(train_data['label'].value_counts())\n",
    "label_counts\n",
    "label_values = list(label_counts.index)\n",
    "order = list(pd.DataFrame(train_data['label'].value_counts()).index)\n",
    "label_values = [l for _,l in sorted(zip(order, label_values))]\n",
    "label_values"
   ]
  },
  {
   "cell_type": "code",
   "execution_count": 6,
   "id": "d60c19dc",
   "metadata": {},
   "outputs": [
    {
     "name": "stdout",
     "output_type": "stream",
     "text": [
      "['otherParamPassReturn * qobject_to_qerror ( const QObject * QObjectPointerParamPassReturn ) { if ( qobject_type ( QObjectPointerParamPassReturn ) != QTYPE_QERROR ) { return NULL   } return otherReturn ( QObjectPointerParamPassReturn , otherParamPassReturn , otherPassReturn )   }'\n",
      " 'static void predictor_decode_stereo ( APEContext * APEContextPointerParamCall , int intParamPass ) { APEPredictor * APEPredictorPointerDefUseCallPass = & APEContextPointerParamCall -> predictor   int32_t * int32_tPointerDefUseCallPass = APEContextPointerParamCall -> decoded [ 0 ]   int32_t * int32_tPointerDefUseCallPass1 = APEContextPointerParamCall -> decoded [ 1 ]   while ( intParamPass -- ) { * int32_tPointerDefUseCallPass = predictor_update_filter ( APEPredictorPointerDefUseCallPass , * int32_tPointerDefUseCallPass , 0 , YDELAYA , YDELAYB , YADAPTCOEFFSA , YADAPTCOEFFSB )   int32_tPointerDefUseCallPass ++   * int32_tPointerDefUseCallPass1 = predictor_update_filter ( APEPredictorPointerDefUseCallPass , * int32_tPointerDefUseCallPass1 , 1 , XDELAYA , XDELAYB , XADAPTCOEFFSA , XADAPTCOEFFSB )   int32_tPointerDefUseCallPass1 ++   APEPredictorPointerDefUseCallPass -> buf ++   if ( APEPredictorPointerDefUseCallPass -> buf == APEPredictorPointerDefUseCallPass -> historybuffer + HISTORY_SIZE ) { memmove ( APEPredictorPointerDefUseCallPass -> historybuffer , APEPredictorPointerDefUseCallPass -> buf , PREDICTOR_SIZE * sizeof ( * APEPredictorPointerDefUseCallPass -> historybuffer ) )   APEPredictorPointerDefUseCallPass -> buf = APEPredictorPointerDefUseCallPass -> historybuffer   } } }'\n",
      " 'static void gen_farith ( DisasContext * DisasContextPointerParamCallPass , uint32_t otherParam , int intParamPass , int intParamPass1 , int intParamPass2 , int intParamPass3 ) { const char * charPointerDefUsePass = \"farith\"   const char * charPointerDefCall [ ] = { \"c.f\" , \"c.un\" , \"c.eq\" , \"c.ueq\" , \"c.olt\" , \"c.ult\" , \"c.ole\" , \"c.ule\" , \"c.sf\" , \"c.ngle\" , \"c.seq\" , \"c.ngl\" , \"c.lt\" , \"c.nge\" , \"c.le\" , \"c.ngt\" , }   const char * charPointerDefCall1 [ ] = { \"cabs.f\" , \"cabs.un\" , \"cabs.eq\" , \"cabs.ueq\" , \"cabs.olt\" , \"cabs.ult\" , \"cabs.ole\" , \"cabs.ule\" , \"cabs.sf\" , \"cabs.ngle\" , \"cabs.seq\" , \"cabs.ngl\" , \"cabs.lt\" , \"cabs.nge\" , \"cabs.le\" , \"cabs.ngt\" , }   enum { BINOP , CMPOP , OTHEROP } otherUsePass = OTHEROP   uint32_t otherUseCallPass = DisasContextPointerParamCallPass -> opcode & 6 3   switch ( DisasContextPointerParamCallPass -> opcode & FOP ( 6 3 , 3 1 ) ) { case FOP ( 0 , 1 6 ) : GEN_LOAD_FREG_FTN ( WT0 , intParamPass1 )   GEN_LOAD_FREG_FTN ( WT1 , intParamPass )   gen_op_float_add_s ( )   GEN_STORE_FTN_FREG ( intParamPass2 , WT2 )   charPointerDefUsePass = \"add.s\"   otherUsePass = BINOP   break   case FOP ( 1 , 1 6 ) : GEN_LOAD_FREG_FTN ( WT0 , intParamPass1 )   GEN_LOAD_FREG_FTN ( WT1 , intParamPass )   gen_op_float_sub_s ( )   GEN_STORE_FTN_FREG ( intParamPass2 , WT2 )   charPointerDefUsePass = \"sub.s\"   otherUsePass = BINOP   break   case FOP ( 2 , 1 6 ) : GEN_LOAD_FREG_FTN ( WT0 , intParamPass1 )   GEN_LOAD_FREG_FTN ( WT1 , intParamPass )   gen_op_float_mul_s ( )   GEN_STORE_FTN_FREG ( intParamPass2 , WT2 )   charPointerDefUsePass = \"mul.s\"   otherUsePass = BINOP   break   case FOP ( 3 , 1 6 ) : GEN_LOAD_FREG_FTN ( WT0 , intParamPass1 )   GEN_LOAD_FREG_FTN ( WT1 , intParamPass )   gen_op_float_div_s ( )   GEN_STORE_FTN_FREG ( intParamPass2 , WT2 )   charPointerDefUsePass = \"div.s\"   otherUsePass = BINOP   break   case FOP ( 4 , 1 6 ) : GEN_LOAD_FREG_FTN ( WT0 , intParamPass1 )   gen_op_float_sqrt_s ( )   GEN_STORE_FTN_FREG ( intParamPass2 , WT2 )   charPointerDefUsePass = \"sqrt.s\"   break   case FOP ( 5 , 1 6 ) : GEN_LOAD_FREG_FTN ( WT0 , intParamPass1 )   gen_op_float_abs_s ( )   GEN_STORE_FTN_FREG ( intParamPass2 , WT2 )   charPointerDefUsePass = \"abs.s\"   break   case FOP ( 6 , 1 6 ) : GEN_LOAD_FREG_FTN ( WT0 , intParamPass1 )   gen_op_float_mov_s ( )   GEN_STORE_FTN_FREG ( intParamPass2 , WT2 )   charPointerDefUsePass = \"mov.s\"   break   case FOP ( 7 , 1 6 ) : GEN_LOAD_FREG_FTN ( WT0 , intParamPass1 )   gen_op_float_chs_s ( )   GEN_STORE_FTN_FREG ( intParamPass2 , WT2 )   charPointerDefUsePass = \"neg.s\"   break   case FOP ( 8 , 1 6 ) : gen_op_cp1_64bitmode ( )   GEN_LOAD_FREG_FTN ( WT0 , intParamPass1 )   gen_op_float_roundl_s ( )   GEN_STORE_FTN_FREG ( intParamPass2 , DT2 )   charPointerDefUsePass = \"round.l.s\"   break   case FOP ( 9 , 1 6 ) : gen_op_cp1_64bitmode ( )   GEN_LOAD_FREG_FTN ( WT0 , intParamPass1 )   gen_op_float_truncl_s ( )   GEN_STORE_FTN_FREG ( intParamPass2 , DT2 )   charPointerDefUsePass = \"trunc.l.s\"   break   case FOP ( 1 0 , 1 6 ) : gen_op_cp1_64bitmode ( )   GEN_LOAD_FREG_FTN ( WT0 , intParamPass1 )   gen_op_float_ceill_s ( )   GEN_STORE_FTN_FREG ( intParamPass2 , DT2 )   charPointerDefUsePass = \"ceil.l.s\"   break   case FOP ( 1 1 , 1 6 ) : gen_op_cp1_64bitmode ( )   GEN_LOAD_FREG_FTN ( WT0 , intParamPass1 )   gen_op_float_floorl_s ( )   GEN_STORE_FTN_FREG ( intParamPass2 , DT2 )   charPointerDefUsePass = \"floor.l.s\"   break   case FOP ( 1 2 , 1 6 ) : GEN_LOAD_FREG_FTN ( WT0 , intParamPass1 )   gen_op_float_roundw_s ( )   GEN_STORE_FTN_FREG ( intParamPass2 , WT2 )   charPointerDefUsePass = \"round.w.s\"   break   case FOP ( 1 3 , 1 6 ) : GEN_LOAD_FREG_FTN ( WT0 , intParamPass1 )   gen_op_float_truncw_s ( )   GEN_STORE_FTN_FREG ( intParamPass2 , WT2 )   charPointerDefUsePass = \"trunc.w.s\"   break   case FOP ( 1 4 , 1 6 ) : GEN_LOAD_FREG_FTN ( WT0 , intParamPass1 )   gen_op_float_ceilw_s ( )   GEN_STORE_FTN_FREG ( intParamPass2 , WT2 )   charPointerDefUsePass = \"ceil.w.s\"   break   case FOP ( 1 5 , 1 6 ) : GEN_LOAD_FREG_FTN ( WT0 , intParamPass1 )   gen_op_float_floorw_s ( )   GEN_STORE_FTN_FREG ( intParamPass2 , WT2 )   charPointerDefUsePass = \"floor.w.s\"   break   case FOP ( 1 7 , 1 6 ) : GEN_LOAD_REG_TN ( T0 , intParamPass )   GEN_LOAD_FREG_FTN ( WT0 , intParamPass1 )   GEN_LOAD_FREG_FTN ( WT2 , intParamPass2 )   gen_movcf_s ( DisasContextPointerParamCallPass , ( intParamPass >> 2 ) & 7 , intParamPass & 1 )   GEN_STORE_FTN_FREG ( intParamPass2 , WT2 )   charPointerDefUsePass = \"movcf.s\"   break   case FOP ( 1 8 , 1 6 ) : GEN_LOAD_REG_TN ( T0 , intParamPass )   GEN_LOAD_FREG_FTN ( WT0 , intParamPass1 )   GEN_LOAD_FREG_FTN ( WT2 , intParamPass2 )   gen_op_float_movz_s ( )   GEN_STORE_FTN_FREG ( intParamPass2 , WT2 )   charPointerDefUsePass = \"movz.s\"   break   case FOP ( 1 9 , 1 6 ) : GEN_LOAD_REG_TN ( T0 , intParamPass )   GEN_LOAD_FREG_FTN ( WT0 , intParamPass1 )   GEN_LOAD_FREG_FTN ( WT2 , intParamPass2 )   gen_op_float_movn_s ( )   GEN_STORE_FTN_FREG ( intParamPass2 , WT2 )   charPointerDefUsePass = \"movn.s\"   break   case FOP ( 2 1 , 1 6 ) : GEN_LOAD_FREG_FTN ( WT0 , intParamPass1 )   gen_op_float_recip_s ( )   GEN_STORE_FTN_FREG ( intParamPass2 , WT2 )   charPointerDefUsePass = \"recip.s\"   break   case FOP ( 2 2 , 1 6 ) : GEN_LOAD_FREG_FTN ( WT0 , intParamPass1 )   gen_op_float_rsqrt_s ( )   GEN_STORE_FTN_FREG ( intParamPass2 , WT2 )   charPointerDefUsePass = \"rsqrt.s\"   break   case FOP ( 2 8 , 1 6 ) : gen_op_cp1_64bitmode ( )   GEN_LOAD_FREG_FTN ( WT0 , intParamPass1 )   GEN_LOAD_FREG_FTN ( WT2 , intParamPass2 )   gen_op_float_recip2_s ( )   GEN_STORE_FTN_FREG ( intParamPass2 , WT2 )   charPointerDefUsePass = \"recip2.s\"   break   case FOP ( 2 9 , 1 6 ) : gen_op_cp1_64bitmode ( )   GEN_LOAD_FREG_FTN ( WT0 , intParamPass1 )   gen_op_float_recip1_s ( )   GEN_STORE_FTN_FREG ( intParamPass2 , WT2 )   charPointerDefUsePass = \"recip1.s\"   break   case FOP ( 3 0 , 1 6 ) : gen_op_cp1_64bitmode ( )   GEN_LOAD_FREG_FTN ( WT0 , intParamPass1 )   gen_op_float_rsqrt1_s ( )   GEN_STORE_FTN_FREG ( intParamPass2 , WT2 )   charPointerDefUsePass = \"rsqrt1.s\"   break   case FOP ( 3 1 , 1 6 ) : gen_op_cp1_64bitmode ( )   GEN_LOAD_FREG_FTN ( WT0 , intParamPass1 )   GEN_LOAD_FREG_FTN ( WT2 , intParamPass2 )   gen_op_float_rsqrt2_s ( )   GEN_STORE_FTN_FREG ( intParamPass2 , WT2 )   charPointerDefUsePass = \"rsqrt2.s\"   break   case FOP ( 3 3 , 1 6 ) : gen_op_cp1_registers ( intParamPass2 )   GEN_LOAD_FREG_FTN ( WT0 , intParamPass1 )   gen_op_float_cvtd_s ( )   GEN_STORE_FTN_FREG ( intParamPass2 , DT2 )   charPointerDefUsePass = \"cvt.d.s\"   break   case FOP ( 3 6 , 1 6 ) : GEN_LOAD_FREG_FTN ( WT0 , intParamPass1 )   gen_op_float_cvtw_s ( )   GEN_STORE_FTN_FREG ( intParamPass2 , WT2 )   charPointerDefUsePass = \"cvt.w.s\"   break   case FOP ( 3 7 , 1 6 ) : gen_op_cp1_64bitmode ( )   GEN_LOAD_FREG_FTN ( WT0 , intParamPass1 )   gen_op_float_cvtl_s ( )   GEN_STORE_FTN_FREG ( intParamPass2 , DT2 )   charPointerDefUsePass = \"cvt.l.s\"   break   case FOP ( 3 8 , 1 6 ) : gen_op_cp1_64bitmode ( )   GEN_LOAD_FREG_FTN ( WT1 , intParamPass1 )   GEN_LOAD_FREG_FTN ( WT0 , intParamPass )   gen_op_float_cvtps_s ( )   GEN_STORE_FTN_FREG ( intParamPass2 , DT2 )   charPointerDefUsePass = \"cvt.ps.s\"   break   case FOP ( 4 8 , 1 6 ) : case FOP ( 4 9 , 1 6 ) : case FOP ( 5 0 , 1 6 ) : case FOP ( 5 1 , 1 6 ) : case FOP ( 5 2 , 1 6 ) : case FOP ( 5 3 , 1 6 ) : case FOP ( 5 4 , 1 6 ) : case FOP ( 5 5 , 1 6 ) : case FOP ( 5 6 , 1 6 ) : case FOP ( 5 7 , 1 6 ) : case FOP ( 5 8 , 1 6 ) : case FOP ( 5 9 , 1 6 ) : case FOP ( 6 0 , 1 6 ) : case FOP ( 6 1 , 1 6 ) : case FOP ( 6 2 , 1 6 ) : case FOP ( 6 3 , 1 6 ) : GEN_LOAD_FREG_FTN ( WT0 , intParamPass1 )   GEN_LOAD_FREG_FTN ( WT1 , intParamPass )   if ( DisasContextPointerParamCallPass -> opcode & ( 1 << 6 ) ) { gen_op_cp1_64bitmode ( )   gen_cmpabs_s ( otherUseCallPass - 4 8 , intParamPass3 )   charPointerDefUsePass = charPointerDefCall1 [ otherUseCallPass - 4 8 ]   } else { gen_cmp_s ( otherUseCallPass - 4 8 , intParamPass3 )   charPointerDefUsePass = charPointerDefCall [ otherUseCallPass - 4 8 ]   } break   case FOP ( 0 , 1 7 ) : gen_op_cp1_registers ( intParamPass1 | intParamPass | intParamPass2 )   GEN_LOAD_FREG_FTN ( DT0 , intParamPass1 )   GEN_LOAD_FREG_FTN ( DT1 , intParamPass )   gen_op_float_add_d ( )   GEN_STORE_FTN_FREG ( intParamPass2 , DT2 )   charPointerDefUsePass = \"add.d\"   otherUsePass = BINOP   break   case FOP ( 1 , 1 7 ) : gen_op_cp1_registers ( intParamPass1 | intParamPass | intParamPass2 )   GEN_LOAD_FREG_FTN ( DT0 , intParamPass1 )   GEN_LOAD_FREG_FTN ( DT1 , intParamPass )   gen_op_float_sub_d ( )   GEN_STORE_FTN_FREG ( intParamPass2 , DT2 )   charPointerDefUsePass = \"sub.d\"   otherUsePass = BINOP   break   case FOP ( 2 , 1 7 ) : gen_op_cp1_registers ( intParamPass1 | intParamPass | intParamPass2 )   GEN_LOAD_FREG_FTN ( DT0 , intParamPass1 )   GEN_LOAD_FREG_FTN ( DT1 , intParamPass )   gen_op_float_mul_d ( )   GEN_STORE_FTN_FREG ( intParamPass2 , DT2 )   charPointerDefUsePass = \"mul.d\"   otherUsePass = BINOP   break   case FOP ( 3 , 1 7 ) : gen_op_cp1_registers ( intParamPass1 | intParamPass | intParamPass2 )   GEN_LOAD_FREG_FTN ( DT0 , intParamPass1 )   GEN_LOAD_FREG_FTN ( DT1 , intParamPass )   gen_op_float_div_d ( )   GEN_STORE_FTN_FREG ( intParamPass2 , DT2 )   charPointerDefUsePass = \"div.d\"   otherUsePass = BINOP   break   case FOP ( 4 , 1 7 ) : gen_op_cp1_registers ( intParamPass1 | intParamPass2 )   GEN_LOAD_FREG_FTN ( DT0 , intParamPass1 )   gen_op_float_sqrt_d ( )   GEN_STORE_FTN_FREG ( intParamPass2 , DT2 )   charPointerDefUsePass = \"sqrt.d\"   break   case FOP ( 5 , 1 7 ) : gen_op_cp1_registers ( intParamPass1 | intParamPass2 )   GEN_LOAD_FREG_FTN ( DT0 , intParamPass1 )   gen_op_float_abs_d ( )   GEN_STORE_FTN_FREG ( intParamPass2 , DT2 )   charPointerDefUsePass = \"abs.d\"   break   case FOP ( 6 , 1 7 ) : gen_op_cp1_registers ( intParamPass1 | intParamPass2 )   GEN_LOAD_FREG_FTN ( DT0 , intParamPass1 )   gen_op_float_mov_d ( )   GEN_STORE_FTN_FREG ( intParamPass2 , DT2 )   charPointerDefUsePass = \"mov.d\"   break   case FOP ( 7 , 1 7 ) : gen_op_cp1_registers ( intParamPass1 | intParamPass2 )   GEN_LOAD_FREG_FTN ( DT0 , intParamPass1 )   gen_op_float_chs_d ( )   GEN_STORE_FTN_FREG ( intParamPass2 , DT2 )   charPointerDefUsePass = \"neg.d\"   break   case FOP ( 8 , 1 7 ) : gen_op_cp1_64bitmode ( )   GEN_LOAD_FREG_FTN ( DT0 , intParamPass1 )   gen_op_float_roundl_d ( )   GEN_STORE_FTN_FREG ( intParamPass2 , DT2 )   charPointerDefUsePass = \"round.l.d\"   break   case FOP ( 9 , 1 7 ) : gen_op_cp1_64bitmode ( )   GEN_LOAD_FREG_FTN ( DT0 , intParamPass1 )   gen_op_float_truncl_d ( )   GEN_STORE_FTN_FREG ( intParamPass2 , DT2 )   charPointerDefUsePass = \"trunc.l.d\"   break   case FOP ( 1 0 , 1 7 ) : gen_op_cp1_64bitmode ( )   GEN_LOAD_FREG_FTN ( DT0 , intParamPass1 )   gen_op_float_ceill_d ( )   GEN_STORE_FTN_FREG ( intParamPass2 , DT2 )   charPointerDefUsePass = \"ceil.l.d\"   break   case FOP ( 1 1 , 1 7 ) : gen_op_cp1_64bitmode ( )   GEN_LOAD_FREG_FTN ( DT0 , intParamPass1 )   gen_op_float_floorl_d ( )   GEN_STORE_FTN_FREG ( intParamPass2 , DT2 )   charPointerDefUsePass = \"floor.l.d\"   break   case FOP ( 1 2 , 1 7 ) : gen_op_cp1_registers ( intParamPass1 )   GEN_LOAD_FREG_FTN ( DT0 , intParamPass1 )   gen_op_float_roundw_d ( )   GEN_STORE_FTN_FREG ( intParamPass2 , WT2 )   charPointerDefUsePass = \"round.w.d\"   break   case FOP ( 1 3 , 1 7 ) : gen_op_cp1_registers ( intParamPass1 )   GEN_LOAD_FREG_FTN ( DT0 , intParamPass1 )   gen_op_float_truncw_d ( )   GEN_STORE_FTN_FREG ( intParamPass2 , WT2 )   charPointerDefUsePass = \"trunc.w.d\"   break   case FOP ( 1 4 , 1 7 ) : gen_op_cp1_registers ( intParamPass1 )   GEN_LOAD_FREG_FTN ( DT0 , intParamPass1 )   gen_op_float_ceilw_d ( )   GEN_STORE_FTN_FREG ( intParamPass2 , WT2 )   charPointerDefUsePass = \"ceil.w.d\"   break   case FOP ( 1 5 , 1 7 ) : gen_op_cp1_registers ( intParamPass1 )   GEN_LOAD_FREG_FTN ( DT0 , intParamPass1 )   gen_op_float_floorw_d ( )   GEN_STORE_FTN_FREG ( intParamPass2 , WT2 )   charPointerDefUsePass = \"floor.w.d\"   break   case FOP ( 1 7 , 1 7 ) : GEN_LOAD_REG_TN ( T0 , intParamPass )   GEN_LOAD_FREG_FTN ( DT0 , intParamPass1 )   GEN_LOAD_FREG_FTN ( DT2 , intParamPass2 )   gen_movcf_d ( DisasContextPointerParamCallPass , ( intParamPass >> 2 ) & 7 , intParamPass & 1 )   GEN_STORE_FTN_FREG ( intParamPass2 , DT2 )   charPointerDefUsePass = \"movcf.d\"   break   case FOP ( 1 8 , 1 7 ) : GEN_LOAD_REG_TN ( T0 , intParamPass )   GEN_LOAD_FREG_FTN ( DT0 , intParamPass1 )   GEN_LOAD_FREG_FTN ( DT2 , intParamPass2 )   gen_op_float_movz_d ( )   GEN_STORE_FTN_FREG ( intParamPass2 , DT2 )   charPointerDefUsePass = \"movz.d\"   break   case FOP ( 1 9 , 1 7 ) : GEN_LOAD_REG_TN ( T0 , intParamPass )   GEN_LOAD_FREG_FTN ( DT0 , intParamPass1 )   GEN_LOAD_FREG_FTN ( DT2 , intParamPass2 )   gen_op_float_movn_d ( )   GEN_STORE_FTN_FREG ( intParamPass2 , DT2 )   charPointerDefUsePass = \"movn.d\"   break   case FOP ( 2 1 , 1 7 ) : gen_op_cp1_registers ( intParamPass1 | intParamPass2 )   GEN_LOAD_FREG_FTN ( DT0 , intParamPass1 )   gen_op_float_recip_d ( )   GEN_STORE_FTN_FREG ( intParamPass2 , DT2 )   charPointerDefUsePass = \"recip.d\"   break   case FOP ( 2 2 , 1 7 ) : gen_op_cp1_registers ( intParamPass1 | intParamPass2 )   GEN_LOAD_FREG_FTN ( DT0 , intParamPass1 )   gen_op_float_rsqrt_d ( )   GEN_STORE_FTN_FREG ( intParamPass2 , DT2 )   charPointerDefUsePass = \"rsqrt.d\"   break   case FOP ( 2 8 , 1 7 ) : gen_op_cp1_64bitmode ( )   GEN_LOAD_FREG_FTN ( DT0 , intParamPass1 )   GEN_LOAD_FREG_FTN ( DT2 , intParamPass )   gen_op_float_recip2_d ( )   GEN_STORE_FTN_FREG ( intParamPass2 , DT2 )   charPointerDefUsePass = \"recip2.d\"   break   case FOP ( 2 9 , 1 7 ) : gen_op_cp1_64bitmode ( )   GEN_LOAD_FREG_FTN ( DT0 , intParamPass1 )   gen_op_float_recip1_d ( )   GEN_STORE_FTN_FREG ( intParamPass2 , DT2 )   charPointerDefUsePass = \"recip1.d\"   break   case FOP ( 3 0 , 1 7 ) : gen_op_cp1_64bitmode ( )   GEN_LOAD_FREG_FTN ( DT0 , intParamPass1 )   gen_op_float_rsqrt1_d ( )   GEN_STORE_FTN_FREG ( intParamPass2 , DT2 )   charPointerDefUsePass = \"rsqrt1.d\"   break   case FOP ( 3 1 , 1 7 ) : gen_op_cp1_64bitmode ( )   GEN_LOAD_FREG_FTN ( DT0 , intParamPass1 )   GEN_LOAD_FREG_FTN ( DT2 , intParamPass )   gen_op_float_rsqrt2_d ( )   GEN_STORE_FTN_FREG ( intParamPass2 , DT2 )   charPointerDefUsePass = \"rsqrt2.d\"   break   case FOP ( 4 8 , 1 7 ) : case FOP ( 4 9 , 1 7 ) : case FOP ( 5 0 , 1 7 ) : case FOP ( 5 1 , 1 7 ) : case FOP ( 5 2 , 1 7 ) : case FOP ( 5 3 , 1 7 ) : case FOP ( 5 4 , 1 7 ) : case FOP ( 5 5 , 1 7 ) : case FOP ( 5 6 , 1 7 ) : case FOP ( 5 7 , 1 7 ) : case FOP ( 5 8 , 1 7 ) : case FOP ( 5 9 , 1 7 ) : case FOP ( 6 0 , 1 7 ) : case FOP ( 6 1 , 1 7 ) : case FOP ( 6 2 , 1 7 ) : case FOP ( 6 3 , 1 7 ) : GEN_LOAD_FREG_FTN ( DT0 , intParamPass1 )   GEN_LOAD_FREG_FTN ( DT1 , intParamPass )   if ( DisasContextPointerParamCallPass -> opcode & ( 1 << 6 ) ) { gen_op_cp1_64bitmode ( )   gen_cmpabs_d ( otherUseCallPass - 4 8 , intParamPass3 )   charPointerDefUsePass = charPointerDefCall1 [ otherUseCallPass - 4 8 ]   } else { gen_op_cp1_registers ( intParamPass1 | intParamPass )   gen_cmp_d ( otherUseCallPass - 4 8 , intParamPass3 )   charPointerDefUsePass = charPointerDefCall [ otherUseCallPass - 4 8 ]   } break   case FOP ( 3 2 , 1 7 ) : gen_op_cp1_registers ( intParamPass1 )   GEN_LOAD_FREG_FTN ( DT0 , intParamPass1 )   gen_op_float_cvts_d ( )   GEN_STORE_FTN_FREG ( intParamPass2 , WT2 )   charPointerDefUsePass = \"cvt.s.d\"   break   case FOP ( 3 6 , 1 7 ) : gen_op_cp1_registers ( intParamPass1 )   GEN_LOAD_FREG_FTN ( DT0 , intParamPass1 )   gen_op_float_cvtw_d ( )   GEN_STORE_FTN_FREG ( intParamPass2 , WT2 )   charPointerDefUsePass = \"cvt.w.d\"   break   case FOP ( 3 7 , 1 7 ) : gen_op_cp1_64bitmode ( )   GEN_LOAD_FREG_FTN ( DT0 , intParamPass1 )   gen_op_float_cvtl_d ( )   GEN_STORE_FTN_FREG ( intParamPass2 , DT2 )   charPointerDefUsePass = \"cvt.l.d\"   break   case FOP ( 3 2 , 2 0 ) : GEN_LOAD_FREG_FTN ( WT0 , intParamPass1 )   gen_op_float_cvts_w ( )   GEN_STORE_FTN_FREG ( intParamPass2 , WT2 )   charPointerDefUsePass = \"cvt.s.w\"   break   case FOP ( 3 3 , 2 0 ) : gen_op_cp1_registers ( intParamPass2 )   GEN_LOAD_FREG_FTN ( WT0 , intParamPass1 )   gen_op_float_cvtd_w ( )   GEN_STORE_FTN_FREG ( intParamPass2 , DT2 )   charPointerDefUsePass = \"cvt.d.w\"   break   case FOP ( 3 2 , 2 1 ) : gen_op_cp1_64bitmode ( )   GEN_LOAD_FREG_FTN ( DT0 , intParamPass1 )   gen_op_float_cvts_l ( )   GEN_STORE_FTN_FREG ( intParamPass2 , WT2 )   charPointerDefUsePass = \"cvt.s.l\"   break   case FOP ( 3 3 , 2 1 ) : gen_op_cp1_64bitmode ( )   GEN_LOAD_FREG_FTN ( DT0 , intParamPass1 )   gen_op_float_cvtd_l ( )   GEN_STORE_FTN_FREG ( intParamPass2 , DT2 )   charPointerDefUsePass = \"cvt.d.l\"   break   case FOP ( 3 8 , 2 0 ) : case FOP ( 3 8 , 2 1 ) : gen_op_cp1_64bitmode ( )   GEN_LOAD_FREG_FTN ( WT0 , intParamPass1 )   GEN_LOAD_FREG_FTN ( WTH0 , intParamPass1 )   gen_op_float_cvtps_pw ( )   GEN_STORE_FTN_FREG ( intParamPass2 , WT2 )   GEN_STORE_FTN_FREG ( intParamPass2 , WTH2 )   charPointerDefUsePass = \"cvt.ps.pw\"   break   case FOP ( 0 , 2 2 ) : gen_op_cp1_64bitmode ( )   GEN_LOAD_FREG_FTN ( WT0 , intParamPass1 )   GEN_LOAD_FREG_FTN ( WTH0 , intParamPass1 )   GEN_LOAD_FREG_FTN ( WT1 , intParamPass )   GEN_LOAD_FREG_FTN ( WTH1 , intParamPass )   gen_op_float_add_ps ( )   GEN_STORE_FTN_FREG ( intParamPass2 , WT2 )   GEN_STORE_FTN_FREG ( intParamPass2 , WTH2 )   charPointerDefUsePass = \"add.ps\"   break   case FOP ( 1 , 2 2 ) : gen_op_cp1_64bitmode ( )   GEN_LOAD_FREG_FTN ( WT0 , intParamPass1 )   GEN_LOAD_FREG_FTN ( WTH0 , intParamPass1 )   GEN_LOAD_FREG_FTN ( WT1 , intParamPass )   GEN_LOAD_FREG_FTN ( WTH1 , intParamPass )   gen_op_float_sub_ps ( )   GEN_STORE_FTN_FREG ( intParamPass2 , WT2 )   GEN_STORE_FTN_FREG ( intParamPass2 , WTH2 )   charPointerDefUsePass = \"sub.ps\"   break   case FOP ( 2 , 2 2 ) : gen_op_cp1_64bitmode ( )   GEN_LOAD_FREG_FTN ( WT0 , intParamPass1 )   GEN_LOAD_FREG_FTN ( WTH0 , intParamPass1 )   GEN_LOAD_FREG_FTN ( WT1 , intParamPass )   GEN_LOAD_FREG_FTN ( WTH1 , intParamPass )   gen_op_float_mul_ps ( )   GEN_STORE_FTN_FREG ( intParamPass2 , WT2 )   GEN_STORE_FTN_FREG ( intParamPass2 , WTH2 )   charPointerDefUsePass = \"mul.ps\"   break   case FOP ( 5 , 2 2 ) : gen_op_cp1_64bitmode ( )   GEN_LOAD_FREG_FTN ( WT0 , intParamPass1 )   GEN_LOAD_FREG_FTN ( WTH0 , intParamPass1 )   gen_op_float_abs_ps ( )   GEN_STORE_FTN_FREG ( intParamPass2 , WT2 )   GEN_STORE_FTN_FREG ( intParamPass2 , WTH2 )   charPointerDefUsePass = \"abs.ps\"   break   case FOP ( 6 , 2 2 ) : gen_op_cp1_64bitmode ( )   GEN_LOAD_FREG_FTN ( WT0 , intParamPass1 )   GEN_LOAD_FREG_FTN ( WTH0 , intParamPass1 )   gen_op_float_mov_ps ( )   GEN_STORE_FTN_FREG ( intParamPass2 , WT2 )   GEN_STORE_FTN_FREG ( intParamPass2 , WTH2 )   charPointerDefUsePass = \"mov.ps\"   break   case FOP ( 7 , 2 2 ) : gen_op_cp1_64bitmode ( )   GEN_LOAD_FREG_FTN ( WT0 , intParamPass1 )   GEN_LOAD_FREG_FTN ( WTH0 , intParamPass1 )   gen_op_float_chs_ps ( )   GEN_STORE_FTN_FREG ( intParamPass2 , WT2 )   GEN_STORE_FTN_FREG ( intParamPass2 , WTH2 )   charPointerDefUsePass = \"neg.ps\"   break   case FOP ( 1 7 , 2 2 ) : gen_op_cp1_64bitmode ( )   GEN_LOAD_REG_TN ( T0 , intParamPass )   GEN_LOAD_FREG_FTN ( WT0 , intParamPass1 )   GEN_LOAD_FREG_FTN ( WTH0 , intParamPass1 )   GEN_LOAD_FREG_FTN ( WT2 , intParamPass2 )   GEN_LOAD_FREG_FTN ( WTH2 , intParamPass2 )   gen_movcf_ps ( DisasContextPointerParamCallPass , ( intParamPass >> 2 ) & 7 , intParamPass & 1 )   GEN_STORE_FTN_FREG ( intParamPass2 , WT2 )   GEN_STORE_FTN_FREG ( intParamPass2 , WTH2 )   charPointerDefUsePass = \"movcf.ps\"   break   case FOP ( 1 8 , 2 2 ) : gen_op_cp1_64bitmode ( )   GEN_LOAD_REG_TN ( T0 , intParamPass )   GEN_LOAD_FREG_FTN ( WT0 , intParamPass1 )   GEN_LOAD_FREG_FTN ( WTH0 , intParamPass1 )   GEN_LOAD_FREG_FTN ( WT2 , intParamPass2 )   GEN_LOAD_FREG_FTN ( WTH2 , intParamPass2 )   gen_op_float_movz_ps ( )   GEN_STORE_FTN_FREG ( intParamPass2 , WT2 )   GEN_STORE_FTN_FREG ( intParamPass2 , WTH2 )   charPointerDefUsePass = \"movz.ps\"   break   case FOP ( 1 9 , 2 2 ) : gen_op_cp1_64bitmode ( )   GEN_LOAD_REG_TN ( T0 , intParamPass )   GEN_LOAD_FREG_FTN ( WT0 , intParamPass1 )   GEN_LOAD_FREG_FTN ( WTH0 , intParamPass1 )   GEN_LOAD_FREG_FTN ( WT2 , intParamPass2 )   GEN_LOAD_FREG_FTN ( WTH2 , intParamPass2 )   gen_op_float_movn_ps ( )   GEN_STORE_FTN_FREG ( intParamPass2 , WT2 )   GEN_STORE_FTN_FREG ( intParamPass2 , WTH2 )   charPointerDefUsePass = \"movn.ps\"   break   case FOP ( 2 4 , 2 2 ) : gen_op_cp1_64bitmode ( )   GEN_LOAD_FREG_FTN ( WT0 , intParamPass )   GEN_LOAD_FREG_FTN ( WTH0 , intParamPass )   GEN_LOAD_FREG_FTN ( WT1 , intParamPass1 )   GEN_LOAD_FREG_FTN ( WTH1 , intParamPass1 )   gen_op_float_addr_ps ( )   GEN_STORE_FTN_FREG ( intParamPass2 , WT2 )   GEN_STORE_FTN_FREG ( intParamPass2 , WTH2 )   charPointerDefUsePass = \"addr.ps\"   break   case FOP ( 2 6 , 2 2 ) : gen_op_cp1_64bitmode ( )   GEN_LOAD_FREG_FTN ( WT0 , intParamPass )   GEN_LOAD_FREG_FTN ( WTH0 , intParamPass )   GEN_LOAD_FREG_FTN ( WT1 , intParamPass1 )   GEN_LOAD_FREG_FTN ( WTH1 , intParamPass1 )   gen_op_float_mulr_ps ( )   GEN_STORE_FTN_FREG ( intParamPass2 , WT2 )   GEN_STORE_FTN_FREG ( intParamPass2 , WTH2 )   charPointerDefUsePass = \"mulr.ps\"   break   case FOP ( 2 8 , 2 2 ) : gen_op_cp1_64bitmode ( )   GEN_LOAD_FREG_FTN ( WT0 , intParamPass1 )   GEN_LOAD_FREG_FTN ( WTH0 , intParamPass1 )   GEN_LOAD_FREG_FTN ( WT2 , intParamPass2 )   GEN_LOAD_FREG_FTN ( WTH2 , intParamPass2 )   gen_op_float_recip2_ps ( )   GEN_STORE_FTN_FREG ( intParamPass2 , WT2 )   GEN_STORE_FTN_FREG ( intParamPass2 , WTH2 )   charPointerDefUsePass = \"recip2.ps\"   break   case FOP ( 2 9 , 2 2 ) : gen_op_cp1_64bitmode ( )   GEN_LOAD_FREG_FTN ( WT0 , intParamPass1 )   GEN_LOAD_FREG_FTN ( WTH0 , intParamPass1 )   gen_op_float_recip1_ps ( )   GEN_STORE_FTN_FREG ( intParamPass2 , WT2 )   GEN_STORE_FTN_FREG ( intParamPass2 , WTH2 )   charPointerDefUsePass = \"recip1.ps\"   break   case FOP ( 3 0 , 2 2 ) : gen_op_cp1_64bitmode ( )   GEN_LOAD_FREG_FTN ( WT0 , intParamPass1 )   GEN_LOAD_FREG_FTN ( WTH0 , intParamPass1 )   gen_op_float_rsqrt1_ps ( )   GEN_STORE_FTN_FREG ( intParamPass2 , WT2 )   GEN_STORE_FTN_FREG ( intParamPass2 , WTH2 )   charPointerDefUsePass = \"rsqrt1.ps\"   break   case FOP ( 3 1 , 2 2 ) : gen_op_cp1_64bitmode ( )   GEN_LOAD_FREG_FTN ( WT0 , intParamPass1 )   GEN_LOAD_FREG_FTN ( WTH0 , intParamPass1 )   GEN_LOAD_FREG_FTN ( WT2 , intParamPass2 )   GEN_LOAD_FREG_FTN ( WTH2 , intParamPass2 )   gen_op_float_rsqrt2_ps ( )   GEN_STORE_FTN_FREG ( intParamPass2 , WT2 )   GEN_STORE_FTN_FREG ( intParamPass2 , WTH2 )   charPointerDefUsePass = \"rsqrt2.ps\"   break   case FOP ( 3 2 , 2 2 ) : gen_op_cp1_64bitmode ( )   GEN_LOAD_FREG_FTN ( WTH0 , intParamPass1 )   gen_op_float_cvts_pu ( )   GEN_STORE_FTN_FREG ( intParamPass2 , WT2 )   charPointerDefUsePass = \"cvt.s.pu\"   break   case FOP ( 3 6 , 2 2 ) : gen_op_cp1_64bitmode ( )   GEN_LOAD_FREG_FTN ( WT0 , intParamPass1 )   GEN_LOAD_FREG_FTN ( WTH0 , intParamPass1 )   gen_op_float_cvtpw_ps ( )   GEN_STORE_FTN_FREG ( intParamPass2 , WT2 )   GEN_STORE_FTN_FREG ( intParamPass2 , WTH2 )   charPointerDefUsePass = \"cvt.pw.ps\"   break   case FOP ( 4 0 , 2 2 ) : gen_op_cp1_64bitmode ( )   GEN_LOAD_FREG_FTN ( WT0 , intParamPass1 )   gen_op_float_cvts_pl ( )   GEN_STORE_FTN_FREG ( intParamPass2 , WT2 )   charPointerDefUsePass = \"cvt.s.pl\"   break   case FOP ( 4 4 , 2 2 ) : gen_op_cp1_64bitmode ( )   GEN_LOAD_FREG_FTN ( WT0 , intParamPass1 )   GEN_LOAD_FREG_FTN ( WT1 , intParamPass )   gen_op_float_pll_ps ( )   GEN_STORE_FTN_FREG ( intParamPass2 , DT2 )   charPointerDefUsePass = \"pll.ps\"   break   case FOP ( 4 5 , 2 2 ) : gen_op_cp1_64bitmode ( )   GEN_LOAD_FREG_FTN ( WT0 , intParamPass1 )   GEN_LOAD_FREG_FTN ( WTH1 , intParamPass )   gen_op_float_plu_ps ( )   GEN_STORE_FTN_FREG ( intParamPass2 , DT2 )   charPointerDefUsePass = \"plu.ps\"   break   case FOP ( 4 6 , 2 2 ) : gen_op_cp1_64bitmode ( )   GEN_LOAD_FREG_FTN ( WTH0 , intParamPass1 )   GEN_LOAD_FREG_FTN ( WT1 , intParamPass )   gen_op_float_pul_ps ( )   GEN_STORE_FTN_FREG ( intParamPass2 , DT2 )   charPointerDefUsePass = \"pul.ps\"   break   case FOP ( 4 7 , 2 2 ) : gen_op_cp1_64bitmode ( )   GEN_LOAD_FREG_FTN ( WTH0 , intParamPass1 )   GEN_LOAD_FREG_FTN ( WTH1 , intParamPass )   gen_op_float_puu_ps ( )   GEN_STORE_FTN_FREG ( intParamPass2 , DT2 )   charPointerDefUsePass = \"puu.ps\"   break   case FOP ( 4 8 , 2 2 ) : case FOP ( 4 9 , 2 2 ) : case FOP ( 5 0 , 2 2 ) : case FOP ( 5 1 , 2 2 ) : case FOP ( 5 2 , 2 2 ) : case FOP ( 5 3 , 2 2 ) : case FOP ( 5 4 , 2 2 ) : case FOP ( 5 5 , 2 2 ) : case FOP ( 5 6 , 2 2 ) : case FOP ( 5 7 , 2 2 ) : case FOP ( 5 8 , 2 2 ) : case FOP ( 5 9 , 2 2 ) : case FOP ( 6 0 , 2 2 ) : case FOP ( 6 1 , 2 2 ) : case FOP ( 6 2 , 2 2 ) : case FOP ( 6 3 , 2 2 ) : gen_op_cp1_64bitmode ( )   GEN_LOAD_FREG_FTN ( WT0 , intParamPass1 )   GEN_LOAD_FREG_FTN ( WTH0 , intParamPass1 )   GEN_LOAD_FREG_FTN ( WT1 , intParamPass )   GEN_LOAD_FREG_FTN ( WTH1 , intParamPass )   if ( DisasContextPointerParamCallPass -> opcode & ( 1 << 6 ) ) { gen_cmpabs_ps ( otherUseCallPass - 4 8 , intParamPass3 )   charPointerDefUsePass = charPointerDefCall1 [ otherUseCallPass - 4 8 ]   } else { gen_cmp_ps ( otherUseCallPass - 4 8 , intParamPass3 )   charPointerDefUsePass = charPointerDefCall [ otherUseCallPass - 4 8 ]   } break   default : MIPS_INVAL ( charPointerDefUsePass )   generate_exception ( DisasContextPointerParamCallPass , EXCP_RI )   return   } switch ( otherUsePass ) { case BINOP : MIPS_DEBUG ( \"%s %s, %s, %s\" , charPointerDefUsePass , fregnames [ intParamPass2 ] , fregnames [ intParamPass1 ] , fregnames [ intParamPass ] )   break   case CMPOP : MIPS_DEBUG ( \"%s %s,%s\" , charPointerDefUsePass , fregnames [ intParamPass1 ] , fregnames [ intParamPass ] )   break   default : MIPS_DEBUG ( \"%s %s,%s\" , charPointerDefUsePass , fregnames [ intParamPass2 ] , fregnames [ intParamPass1 ] )   break   } }'\n",
      " ...\n",
      " 'static int64_t qemu_next_alarm_deadline ( void ) { int64_t otherUsePassReturn   int64_t otherUseCallPass   if ( ! use_icount && vm_clock -> active_timers ) { otherUsePassReturn = vm_clock -> active_timers -> expire_time - qemu_get_clock_ns ( vm_clock )   } else { otherUsePassReturn = INT32_MAX   } if ( host_clock -> active_timers ) { int64_t otherUseCallPass1 = host_clock -> active_timers -> expire_time - qemu_get_clock_ns ( host_clock )   if ( otherUseCallPass1 < otherUsePassReturn ) { otherUsePassReturn = otherUseCallPass1   } } if ( rt_clock -> active_timers ) { otherUseCallPass = ( rt_clock -> active_timers -> expire_time - qemu_get_clock_ns ( rt_clock ) )   if ( otherUseCallPass < otherUsePassReturn ) { otherUsePassReturn = otherUseCallPass   } } return otherUsePassReturn   }'\n",
      " 'static int estimate_best_b_count ( MpegEncContext * MpegEncContextPointerParamCallPass ) { AVCodec * AVCodecPointerDefUsePass = avcodec_find_encoder ( MpegEncContextPointerParamCallPass -> avctx -> codec_id )   AVCodecContext * AVCodecContextPointerDefUseCallPass = avcodec_alloc_context3 ( NULL )   const int intDefUseCallPass1 = MpegEncContextPointerParamCallPass -> avctx -> brd_scale   int intDefUseCallPass , otherUseCallPass , otherUsePass , otherUseCall , b_lambdaPointerDefUseCallPass , out_sizePointerDefUsePass   int64_t otherUsePass1 = INT64_MAX   int intDefUseReturn = - 1   assert ( intDefUseCallPass1 >= 0 && intDefUseCallPass1 <= 3 )   otherUseCall = MpegEncContextPointerParamCallPass -> last_lambda_for [ AV_PICTURE_TYPE_P ]   b_lambdaPointerDefUseCallPass = MpegEncContextPointerParamCallPass -> last_lambda_for [ AV_PICTURE_TYPE_B ]   if ( ! b_lambdaPointerDefUseCallPass ) b_lambdaPointerDefUseCallPass = otherUseCall   out_sizePointerDefUsePass = ( b_lambdaPointerDefUseCallPass * b_lambdaPointerDefUseCallPass + ( 1 << FF_LAMBDA_SHIFT ) / 2 ) >> FF_LAMBDA_SHIFT   AVCodecContextPointerDefUseCallPass -> width = MpegEncContextPointerParamCallPass -> width >> intDefUseCallPass1   AVCodecContextPointerDefUseCallPass -> height = MpegEncContextPointerParamCallPass -> height >> intDefUseCallPass1   AVCodecContextPointerDefUseCallPass -> flags = CODEC_FLAG_QSCALE | CODEC_FLAG_PSNR | CODEC_FLAG_INPUT_PRESERVED   AVCodecContextPointerDefUseCallPass -> flags |= MpegEncContextPointerParamCallPass -> avctx -> flags & CODEC_FLAG_QPEL   AVCodecContextPointerDefUseCallPass -> mb_decision = MpegEncContextPointerParamCallPass -> avctx -> mb_decision   AVCodecContextPointerDefUseCallPass -> me_cmp = MpegEncContextPointerParamCallPass -> avctx -> me_cmp   AVCodecContextPointerDefUseCallPass -> mb_cmp = MpegEncContextPointerParamCallPass -> avctx -> mb_cmp   AVCodecContextPointerDefUseCallPass -> me_sub_cmp = MpegEncContextPointerParamCallPass -> avctx -> me_sub_cmp   AVCodecContextPointerDefUseCallPass -> pix_fmt = AV_PIX_FMT_YUV420P   AVCodecContextPointerDefUseCallPass -> time_base = MpegEncContextPointerParamCallPass -> avctx -> time_base   AVCodecContextPointerDefUseCallPass -> max_b_frames = MpegEncContextPointerParamCallPass -> max_b_frames   if ( avcodec_open2 ( AVCodecContextPointerDefUseCallPass , AVCodecPointerDefUsePass , NULL ) < 0 ) return - 1   for ( intDefUseCallPass = 0   intDefUseCallPass < MpegEncContextPointerParamCallPass -> max_b_frames + 2   intDefUseCallPass ++ ) { Picture otherUsePass2 , * ,PointerDefUseCallPass = intDefUseCallPass ? MpegEncContextPointerParamCallPass -> input_picture [ intDefUseCallPass - 1 ] : MpegEncContextPointerParamCallPass -> next_picture_ptr   if ( ,PointerDefUseCallPass && ( ! intDefUseCallPass || MpegEncContextPointerParamCallPass -> input_picture [ intDefUseCallPass - 1 ] ) ) { otherUsePass2 = * ,PointerDefUseCallPass   if ( ! otherUsePass2 . shared && intDefUseCallPass ) { otherUsePass2 . f . data [ 0 ] += INPLACE_OFFSET   otherUsePass2 . f . data [ 1 ] += INPLACE_OFFSET   otherUsePass2 . f . data [ 2 ] += INPLACE_OFFSET   } MpegEncContextPointerParamCallPass -> dsp . shrink [ intDefUseCallPass1 ] ( MpegEncContextPointerParamCallPass -> tmp_frames [ intDefUseCallPass ] -> data [ 0 ] , MpegEncContextPointerParamCallPass -> tmp_frames [ intDefUseCallPass ] -> linesize [ 0 ] , otherUsePass2 . f . data [ 0 ] , otherUsePass2 . f . linesize [ 0 ] , AVCodecContextPointerDefUseCallPass -> width , AVCodecContextPointerDefUseCallPass -> height )   MpegEncContextPointerParamCallPass -> dsp . shrink [ intDefUseCallPass1 ] ( MpegEncContextPointerParamCallPass -> tmp_frames [ intDefUseCallPass ] -> data [ 1 ] , MpegEncContextPointerParamCallPass -> tmp_frames [ intDefUseCallPass ] -> linesize [ 1 ] , otherUsePass2 . f . data [ 1 ] , otherUsePass2 . f . linesize [ 1 ] , AVCodecContextPointerDefUseCallPass -> width >> 1 , AVCodecContextPointerDefUseCallPass -> height >> 1 )   MpegEncContextPointerParamCallPass -> dsp . shrink [ intDefUseCallPass1 ] ( MpegEncContextPointerParamCallPass -> tmp_frames [ intDefUseCallPass ] -> data [ 2 ] , MpegEncContextPointerParamCallPass -> tmp_frames [ intDefUseCallPass ] -> linesize [ 2 ] , otherUsePass2 . f . data [ 2 ] , otherUsePass2 . f . linesize [ 2 ] , AVCodecContextPointerDefUseCallPass -> width >> 1 , AVCodecContextPointerDefUseCallPass -> height >> 1 )   } } for ( otherUseCallPass = 0   otherUseCallPass < MpegEncContextPointerParamCallPass -> max_b_frames + 1   otherUseCallPass ++ ) { int64_t otherUseCallPass1 = 0   if ( ! MpegEncContextPointerParamCallPass -> input_picture [ otherUseCallPass ] ) break   AVCodecContextPointerDefUseCallPass -> error [ 0 ] = AVCodecContextPointerDefUseCallPass -> error [ 1 ] = AVCodecContextPointerDefUseCallPass -> error [ 2 ] = 0   MpegEncContextPointerParamCallPass -> tmp_frames [ 0 ] -> pict_type = AV_PICTURE_TYPE_I   MpegEncContextPointerParamCallPass -> tmp_frames [ 0 ] -> quality = 1 * 1PointerDefCall   otherUsePass = encode_frame ( AVCodecContextPointerDefUseCallPass , MpegEncContextPointerParamCallPass -> tmp_frames [ 0 ] )   for ( intDefUseCallPass = 0   intDefUseCallPass < MpegEncContextPointerParamCallPass -> max_b_frames + 1   intDefUseCallPass ++ ) { int intDefUseCall = intDefUseCallPass % ( otherUseCallPass + 1 ) == otherUseCallPass || intDefUseCallPass == MpegEncContextPointerParamCallPass -> max_b_frames   MpegEncContextPointerParamCallPass -> tmp_frames [ intDefUseCallPass + 1 ] -> pict_type = intDefUseCall ? AV_PICTURE_TYPE_P : AV_PICTURE_TYPE_B   MpegEncContextPointerParamCallPass -> tmp_frames [ intDefUseCallPass + 1 ] -> quality = intDefUseCall ? otherUseCall : b_lambdaPointerDefUseCallPass   otherUsePass = encode_frame ( AVCodecContextPointerDefUseCallPass , MpegEncContextPointerParamCallPass -> tmp_frames [ intDefUseCallPass + 1 ] )   otherUseCallPass1 += ( otherUsePass * out_sizePointerDefUsePass ) >> ( FF_LAMBDA_SHIFT - 3 )   } while ( otherUsePass ) { otherUsePass = encode_frame ( AVCodecContextPointerDefUseCallPass , NULL )   otherUseCallPass1 += ( otherUsePass * out_sizePointerDefUsePass ) >> ( FF_LAMBDA_SHIFT - 3 )   } otherUseCallPass1 += AVCodecContextPointerDefUseCallPass -> error [ 0 ] + AVCodecContextPointerDefUseCallPass -> error [ 1 ] + AVCodecContextPointerDefUseCallPass -> error [ 2 ]   if ( otherUseCallPass1 < otherUsePass1 ) { otherUsePass1 = otherUseCallPass1   intDefUseReturn = otherUseCallPass   } } avcodec_close ( AVCodecContextPointerDefUseCallPass )   av_freep ( & AVCodecContextPointerDefUseCallPass )   return intDefUseReturn   }'\n",
      " 'static void local_mapped_file_attr ( int intParamCallPass , const char * charPointerParamCallPass , struct stat * statPointerParam ) { FILE * FILEPointerDefUsePass   char charDefCallPass [ ATTR_MAX ]   int intDefUseCallPass   intDefUseCallPass = openat ( intParamCallPass , VIRTFS_META_DIR , O_RDONLY | O_DIRECTORY | O_NOFOLLOW )   if ( intDefUseCallPass == - 1 ) { return   } FILEPointerDefUsePass = local_fopenat ( intDefUseCallPass , charPointerParamCallPass , \"r\" )   close_preserve_errno ( intDefUseCallPass )   if ( ! FILEPointerDefUsePass ) { return   } memset ( charDefCallPass , 0 , ATTR_MAX )   while ( fgets ( charDefCallPass , ATTR_MAX , FILEPointerDefUsePass ) ) { if ( ! strncmp ( charDefCallPass , \"virtfs.uid\" , 1 0 ) ) { statPointerParam -> st_uid = atoi ( charDefCallPass + 1 1 )   } else if ( ! strncmp ( charDefCallPass , \"virtfs.gid\" , 1 0 ) ) { statPointerParam -> st_gid = atoi ( charDefCallPass + 1 1 )   } else if ( ! strncmp ( charDefCallPass , \"virtfs.mode\" , 1 1 ) ) { statPointerParam -> st_mode = atoi ( charDefCallPass + 1 2 )   } else if ( ! strncmp ( charDefCallPass , \"virtfs.rdev\" , 1 1 ) ) { statPointerParam -> st_rdev = atoi ( charDefCallPass + 1 2 )   } memset ( charDefCallPass , 0 , ATTR_MAX )   } fclose ( FILEPointerDefUsePass )   }']\n"
     ]
    }
   ],
   "source": [
    "train_texts = train_data['text'].values\n",
    "train_labels = train_data['label'].values\n",
    "\n",
    "valid_texts = valid_data['text'].values\n",
    "valid_labels = valid_data['label'].values\n",
    "\n",
    "test_texts = test_data['text'].values\n",
    "test_labels = test_data['label'].values\n",
    "\n",
    "print(train_texts)"
   ]
  },
  {
   "cell_type": "code",
   "execution_count": 7,
   "id": "7778bd5b",
   "metadata": {},
   "outputs": [
    {
     "name": "stdout",
     "output_type": "stream",
     "text": [
      "min:  3\n",
      "number of zeros:  0\n",
      "max:  19970\n",
      "avg:  338.3910954516336\n",
      "median:  162\n",
      "95%:  1126\n",
      "338.3910954516336\n",
      "721.6823398413057\n"
     ]
    }
   ],
   "source": [
    "import statistics\n",
    "train_texts[0]\n",
    "text_lengths = [len(train_texts[i].split()) for i in range(len(train_texts))]\n",
    "print('min: ', min(text_lengths))\n",
    "print('number of zeros: ', len([item for item in text_lengths if item == 0]))\n",
    "print('max: ', max(sorted(text_lengths)))\n",
    "print('avg: ', sum(text_lengths) / len(text_lengths))\n",
    "print('median: ', sorted(text_lengths)[len(text_lengths) // 2])\n",
    "print('95%: ', sorted(text_lengths)[int(len(text_lengths)*0.95)])\n",
    "print(statistics.mean(text_lengths))\n",
    "print(statistics.stdev(text_lengths))"
   ]
  },
  {
   "cell_type": "code",
   "execution_count": 8,
   "id": "ad3e75ea",
   "metadata": {},
   "outputs": [
    {
     "name": "stderr",
     "output_type": "stream",
     "text": [
      "C:\\Users\\XinZhou\\AppData\\Local\\Temp\\ipykernel_17504\\2095679928.py:8: UserWarning: \n",
      "\n",
      "`distplot` is a deprecated function and will be removed in seaborn v0.14.0.\n",
      "\n",
      "Please adapt your code to use either `displot` (a figure-level function with\n",
      "similar flexibility) or `histplot` (an axes-level function for histograms).\n",
      "\n",
      "For a guide to updating your code to use the new functions, please see\n",
      "https://gist.github.com/mwaskom/de44147ed2974457ad6372750bbe5751\n",
      "\n",
      "  sns.distplot(text_lengths, hist=True, kde=False,\n"
     ]
    },
    {
     "data": {
      "text/plain": [
       "Text(0, 0.5, 'counts')"
      ]
     },
     "execution_count": 8,
     "metadata": {},
     "output_type": "execute_result"
    },
    {
     "data": {
      "image/png": "[encoded data removed]",
      "text/plain": [
       "<Figure size 640x480 with 1 Axes>"
      ]
     },
     "metadata": {},
     "output_type": "display_data"
    }
   ],
   "source": [
    "# Import the libraries\n",
    "import matplotlib.pyplot as plt\n",
    "import seaborn as sns\n",
    "# matplotlib histogram\n",
    "plt.hist(text_lengths, color = 'blue', edgecolor = 'black',\n",
    "         bins = int(180/5))\n",
    "# seaborn histogram\n",
    "sns.distplot(text_lengths, hist=True, kde=False, \n",
    "             bins=int(180/5), color = 'blue',\n",
    "             hist_kws={'edgecolor':'black'})\n",
    "# Add labels\n",
    "plt.title('Histogram of text length analysis')\n",
    "plt.xlabel('text length')\n",
    "plt.ylabel('counts')"
   ]
  },
  {
   "cell_type": "code",
   "execution_count": 9,
   "id": "d74ba9ae",
   "metadata": {},
   "outputs": [
    {
     "data": {
      "text/plain": [
       "1313"
      ]
     },
     "execution_count": 9,
     "metadata": {},
     "output_type": "execute_result"
    }
   ],
   "source": [
    "sum([1 for i in range(len(text_lengths)) if text_lengths[i] >= MAX_LENGTH])"
   ]
  },
  {
   "cell_type": "code",
   "execution_count": 10,
   "id": "8d075664",
   "metadata": {},
   "outputs": [
    {
     "name": "stderr",
     "output_type": "stream",
     "text": [
      "Didn't find file ..\\..\\cbert\\tasks\\roberta_usage\\tokenizer.json. We won't load it.\n",
      "Didn't find file ..\\..\\cbert\\tasks\\roberta_usage\\added_tokens.json. We won't load it.\n",
      "Didn't find file ..\\..\\cbert\\tasks\\roberta_usage\\special_tokens_map.json. We won't load it.\n",
      "Didn't find file ..\\..\\cbert\\tasks\\roberta_usage\\tokenizer_config.json. We won't load it.\n",
      "loading file ..\\..\\cbert\\tasks\\roberta_usage\\vocab.json\n",
      "loading file ..\\..\\cbert\\tasks\\roberta_usage\\merges.txt\n",
      "loading file None\n",
      "loading file None\n",
      "loading file None\n",
      "loading file None\n",
      "loading configuration file ..\\..\\cbert\\tasks\\roberta_usage\\config.json\n",
      "Model config RobertaConfig {\n",
      "  \"BOS_token\": \"<s>\",\n",
      "  \"EOS\": \"</s>\",\n",
      "  \"_name_or_path\": \"..\\\\..\\\\cbert\\\\tasks\\\\roberta_usage\",\n",
      "  \"attention_probs_dropout_prob\": 0.1,\n",
      "  \"bos_token_id\": 0,\n",
      "  \"classifier_dropout\": null,\n",
      "  \"do_lower_case\": false,\n",
      "  \"eos_token_id\": 2,\n",
      "  \"hidden_act\": \"gelu\",\n",
      "  \"hidden_dropout_prob\": 0.1,\n",
      "  \"hidden_size\": 768,\n",
      "  \"initializer_range\": 0.02,\n",
      "  \"intermediate_size\": 3072,\n",
      "  \"layer_norm_eps\": 1e-12,\n",
      "  \"mask_token\": \"[mask]\",\n",
      "  \"max_len\": 512,\n",
      "  \"max_position_embeddings\": 512,\n",
      "  \"model_max_length\": 512,\n",
      "  \"model_type\": \"roberta\",\n",
      "  \"num_attention_heads\": 12,\n",
      "  \"num_hidden_layers\": 12,\n",
      "  \"pad_token\": \"[pad]\",\n",
      "  \"pad_token_id\": 1,\n",
      "  \"position_embedding_type\": \"absolute\",\n",
      "  \"transformers_version\": \"4.18.0\",\n",
      "  \"type_vocab_size\": 2,\n",
      "  \"unk_token\": \"[unk]\",\n",
      "  \"use_cache\": true,\n",
      "  \"vocab_size\": 50000\n",
      "}\n",
      "\n",
      "loading configuration file ..\\..\\cbert\\tasks\\roberta_usage\\config.json\n",
      "Model config RobertaConfig {\n",
      "  \"BOS_token\": \"<s>\",\n",
      "  \"EOS\": \"</s>\",\n",
      "  \"_name_or_path\": \"..\\\\..\\\\cbert\\\\tasks\\\\roberta_usage\",\n",
      "  \"attention_probs_dropout_prob\": 0.1,\n",
      "  \"bos_token_id\": 0,\n",
      "  \"classifier_dropout\": null,\n",
      "  \"do_lower_case\": false,\n",
      "  \"eos_token_id\": 2,\n",
      "  \"hidden_act\": \"gelu\",\n",
      "  \"hidden_dropout_prob\": 0.1,\n",
      "  \"hidden_size\": 768,\n",
      "  \"initializer_range\": 0.02,\n",
      "  \"intermediate_size\": 3072,\n",
      "  \"layer_norm_eps\": 1e-12,\n",
      "  \"mask_token\": \"[mask]\",\n",
      "  \"max_len\": 512,\n",
      "  \"max_position_embeddings\": 512,\n",
      "  \"model_max_length\": 512,\n",
      "  \"model_type\": \"roberta\",\n",
      "  \"num_attention_heads\": 12,\n",
      "  \"num_hidden_layers\": 12,\n",
      "  \"pad_token\": \"[pad]\",\n",
      "  \"pad_token_id\": 1,\n",
      "  \"position_embedding_type\": \"absolute\",\n",
      "  \"transformers_version\": \"4.18.0\",\n",
      "  \"type_vocab_size\": 2,\n",
      "  \"unk_token\": \"[unk]\",\n",
      "  \"use_cache\": true,\n",
      "  \"vocab_size\": 50000\n",
      "}\n",
      "\n"
     ]
    },
    {
     "name": "stdout",
     "output_type": "stream",
     "text": [
      "..\\..\\cbert\\tasks\\roberta_usage\n",
      "tokenizer loaded ...\n"
     ]
    }
   ],
   "source": [
    "# ========================= load tokenizer START =========================\n",
    "# 30,522 vocab is BERT's default vocab size, feel free to tweak\n",
    "vocab_size = 50_000\n",
    "# maximum sequence length, lowering will result to faster training (when increasing batch size)\n",
    "max_length = 512 # 768\n",
    "from transformers import RobertaTokenizerFast\n",
    "print(tokenizer_path)\n",
    "tokenizer = RobertaTokenizerFast.from_pretrained(tokenizer_path, max_len=max_length)\n",
    "print('tokenizer loaded ...')\n",
    "# ========================= load tokenizer END =========================\n",
    "\n"
   ]
  },
  {
   "cell_type": "code",
   "execution_count": null,
   "id": "c19161df",
   "metadata": {},
   "outputs": [],
   "source": []
  },
  {
   "cell_type": "code",
   "execution_count": 11,
   "id": "f2d7f7a8",
   "metadata": {},
   "outputs": [],
   "source": [
    "# text_ids = [tokenizer.encode(text, max_length=300, pad_to_max_length=True) for text in texts]\n",
    "if not truncate_longer_samples:\n",
    "    #tokenizer(examples[\"text\"], return_special_tokens_mask=True)\n",
    "    train_text_dict = [tokenizer(t, return_special_tokens_mask=True) for t in train_texts]\n",
    "    valid_text_dict = [tokenizer(t, return_special_tokens_mask=True) for t in valid_texts]\n",
    "    test_text_dict = [tokenizer(t, return_special_tokens_mask=True) for t in test_texts]\n",
    "else:\n",
    "    max_length = MAX_LENGTH\n",
    "    train_text_dict = [tokenizer(t, truncation=True, padding=\"max_length\", max_length=max_length, return_special_tokens_mask=True) for t in train_texts]\n",
    "    valid_text_dict = [tokenizer(t, truncation=True, padding=\"max_length\", max_length=max_length, return_special_tokens_mask=True) for t in valid_texts]\n",
    "    test_text_dict = [tokenizer(t, truncation=True, padding=\"max_length\", max_length=max_length, return_special_tokens_mask=True) for t in test_texts]"
   ]
  },
  {
   "cell_type": "code",
   "execution_count": 12,
   "id": "8ebe6c5c",
   "metadata": {},
   "outputs": [],
   "source": [
    "train_text_ids = [text_id['input_ids'] for text_id in train_text_dict]\n",
    "valid_text_ids = [text_id['input_ids'] for text_id in valid_text_dict]\n",
    "test_text_ids = [text_id['input_ids'] for text_id in test_text_dict]\n",
    "# text_ids[0]\n",
    "train_att_masks = [text_id['attention_mask'] for text_id in train_text_dict]\n",
    "valid_att_masks = [text_id['attention_mask'] for text_id in valid_text_dict]\n",
    "test_att_masks = [text_id['attention_mask'] for text_id in test_text_dict]\n",
    "# att_masks[0]"
   ]
  },
  {
   "cell_type": "code",
   "execution_count": 13,
   "id": "fd2efc95",
   "metadata": {},
   "outputs": [],
   "source": [
    "from sklearn.model_selection import train_test_split\n",
    "train_x, train_m, train_y = train_text_ids, train_att_masks, train_labels\n",
    "val_x, val_m, val_y = valid_text_ids, valid_att_masks, valid_labels\n",
    "test_x, test_m, test_y = test_text_ids, test_att_masks, test_labels"
   ]
  },
  {
   "cell_type": "code",
   "execution_count": 14,
   "id": "c02640a1",
   "metadata": {},
   "outputs": [
    {
     "name": "stdout",
     "output_type": "stream",
     "text": [
      "torch.Size([21854, 1024])\n",
      "torch.Size([2732, 1024])\n",
      "torch.Size([2732, 1024])\n",
      "torch.Size([21854])\n",
      "torch.Size([2732])\n",
      "torch.Size([2732])\n",
      "torch.Size([21854, 1024])\n",
      "torch.Size([2732, 1024])\n",
      "torch.Size([2732, 1024])\n"
     ]
    }
   ],
   "source": [
    "import torch\n",
    "\n",
    "train_x = torch.tensor(train_x)\n",
    "test_x = torch.tensor(test_x)\n",
    "val_x = torch.tensor(val_x)\n",
    "train_y = torch.tensor(train_y)\n",
    "test_y = torch.tensor(test_y)\n",
    "val_y = torch.tensor(val_y)\n",
    "train_m = torch.tensor(train_m)\n",
    "test_m = torch.tensor(test_m)\n",
    "val_m = torch.tensor(val_m)\n",
    "\n",
    "print(train_x.shape)\n",
    "print(test_x.shape)\n",
    "print(val_x.shape)\n",
    "print(train_y.shape)\n",
    "print(test_y.shape)\n",
    "print(val_y.shape)\n",
    "print(train_m.shape)\n",
    "print(test_m.shape)\n",
    "print(val_m.shape)"
   ]
  },
  {
   "cell_type": "code",
   "execution_count": 15,
   "id": "ea48ae55",
   "metadata": {},
   "outputs": [
    {
     "name": "stdout",
     "output_type": "stream",
     "text": [
      "tensor([[  0, 426,  52,  ...,   1,   1,   1],\n",
      "        [  0, 738, 409,  ...,   1,   1,   1],\n",
      "        [  0, 738, 409,  ...,  52, 296,   2],\n",
      "        ...,\n",
      "        [  0, 738, 297,  ...,   1,   1,   1],\n",
      "        [  0, 738, 297,  ...,  58,  67,   2],\n",
      "        [  0, 738, 409,  ...,   1,   1,   1]])\n"
     ]
    }
   ],
   "source": [
    "from torch.utils.data import TensorDataset, DataLoader, RandomSampler, SequentialSampler\n",
    "\n",
    "\n",
    "print(train_x)\n",
    "train_data = TensorDataset(train_x, train_m, train_y)\n",
    "train_sampler = list(range(len(train_data)))\n",
    "\n",
    "\n",
    "# train_sampler = train_sampler[:100]\n",
    "train_sampler = RandomSampler(train_data)\n",
    "train_dataloader = DataLoader(train_data, sampler=train_sampler, batch_size=batch_size)\n",
    "\n",
    "\n",
    "val_data = TensorDataset(val_x, val_m, val_y)\n",
    "val_sampler = list(range(len(val_data)))\n",
    "# val_sampler = val_sampler[:100]\n",
    "val_sampler = SequentialSampler(val_data)\n",
    "val_dataloader = DataLoader(val_data, sampler=val_sampler, batch_size=batch_size)\n",
    "\n",
    "\n",
    "\n",
    "# train_loader_extracted = torch.utils.data.DataLoader(train_extracted_data, batch_size=batch_size, shuffle=False,\n",
    "#                                            sampler=train_sampler)\n",
    "\n",
    "\n",
    "# valid_loader_extracted = torch.utils.data.DataLoader(valid_extracted_data, batch_size=batch_size, shuffle=False,\n",
    "#                                            sampler=val_sampler)\n"
   ]
  },
  {
   "cell_type": "code",
   "execution_count": 16,
   "id": "c02a28f3",
   "metadata": {},
   "outputs": [],
   "source": [
    "import torch.nn as nn\n",
    "import torch\n",
    "import torch.nn.init as init\n",
    "import torch.nn.functional as F\n",
    "from torch.autograd import Variable\n",
    "import sys\n",
    "from transformers import RobertaForMaskedLM\n",
    "\n",
    "\n",
    "class DotAttention(nn.Module):\n",
    "\n",
    "    def __init__(self, hidden_size):\n",
    "        super(DotAttention, self).__init__()\n",
    "\n",
    "        self.hidden_size = hidden_size\n",
    "        self.attn_vector = nn.Parameter(\n",
    "            torch.Tensor(1, hidden_size), requires_grad=True)\n",
    "\n",
    "        init.xavier_uniform(self.attn_vector.data)\n",
    "\n",
    "    def get_mask(self):\n",
    "        pass\n",
    "\n",
    "    def forward(self, inputs, lengths=None):\n",
    "        batch_size, max_len = inputs.size()[:2]\n",
    "\n",
    "        '''\n",
    "        print(\"INPUTS\", inputs.size())\n",
    "        print(\"ATTN\", self.attn_vector  # (1, hidden_size)\n",
    "                            .unsqueeze(0)  # (1, hidden_size, 1)\n",
    "                            .transpose(2, 1)\n",
    "                            .repeat(batch_size, 1, 1).size())'''\n",
    "        # apply attention layer\n",
    "        weights = torch.bmm(inputs,\n",
    "                            self.attn_vector  # (1, hidden_size)\n",
    "                            .unsqueeze(0)  # (1, 1, hidden_size)\n",
    "                            .transpose(2, 1) # (1, hidden_size, 1)\n",
    "                            .repeat(batch_size, 1, 1)) # (batch_size, hidden_size, 1))\n",
    "\n",
    "        attn_energies = F.softmax(F.relu(weights.squeeze(axis=2)))\n",
    "\n",
    "        # create mask based on the sentence lengths\n",
    "        #idxes = torch.arange(0, max_len, out=torch.LongTensor(max_len)).unsqueeze(0).cuda()  # some day, you'll be able to directly do this on cuda\n",
    "        #mask = Variable((idxes < lengths.data.unsqueeze(1)).float())\n",
    "\n",
    "        # apply mask and renormalize attention scores (weights)\n",
    "        #masked = attn_weights * mask\n",
    "        _sums = attn_energies.sum(-1).unsqueeze(1).expand_as(attn_energies)  # sums per row\n",
    "        attn_weights = attn_energies / _sums\n",
    "\n",
    "        # print('attn_weights: ', attn_weights.shape)\n",
    "        # apply attention weights\n",
    "\n",
    "        weighted = torch.mul(inputs, attn_weights.unsqueeze(-1).expand_as(inputs))\n",
    "\n",
    "        # print('weighted: ', weighted.shape)\n",
    "\n",
    "        # get the final fixed vector representations of the sentences\n",
    "        representations = weighted.sum(1).squeeze()\n",
    "        \n",
    "        if len(representations.shape) == 1:\n",
    "            representations = representations.reshape(1, representations.shape[-1])\n",
    "        # print('representations: ', representations.shape)\n",
    "\n",
    "        return representations, attn_weights\n",
    "    \n",
    "    \n",
    "class BERTSourceBinaryClassification(nn.Module):\n",
    "    def __init__(self,checkpoint, num_labels): \n",
    "        super(BERTSourceBinaryClassification,self).__init__() \n",
    "        self.num_labels = num_labels \n",
    "        #self.model = BertForMaskedLM.from_pretrained(checkpoint)\n",
    "        self.model = RobertaForMaskedLM.from_pretrained(checkpoint)\n",
    "        #Load Model with given checkpoint and extract its body\n",
    "        # self.model = model = AutoModel.from_pretrained(checkpoint,config=AutoConfig.from_pretrained(checkpoint, output_attentions=True,output_hidden_states=True))\n",
    "        self.dropout = nn.Dropout(0.2)\n",
    "        #self.features = nn.Linear(56, 56)\n",
    "        self.softmax = nn.Softmax()\n",
    "        self.classifier = nn.Linear(768 * 2 * MAX_LENGTH//512, num_labels) # load and initialize weights\n",
    "        #self.out = nn.Softmax()\n",
    "        self.attn = DotAttention(hidden_size = 768)\n",
    "        self.softmax = nn.Softmax(dim=1)\n",
    "    \n",
    "    def forward_single(self, input_ids, attention_mask, labels, ex):\n",
    "                \n",
    "        # torch.Size([2, 512, 768])\n",
    "        outputs = self.model.roberta(input_ids, attention_mask=attention_mask)[0]\n",
    "        #  torch.Size([2, 768])\n",
    "        last = outputs[:, -1]\n",
    "        attn, attention_weights = self.attn.forward(outputs)\n",
    "        return last, attn, attention_weights\n",
    "    \n",
    "\n",
    "    def forward(self, input_ids=None, attention_mask=None, labels=None, ex=None, max_len=MAX_LENGTH, opt='mean'):\n",
    "        #Extract outputs from the body\n",
    "        final_logits = None\n",
    "        final_attention_weights = None\n",
    "        # pick the most suspicous one for final decision\n",
    "        last_all = None\n",
    "        attn_all = None\n",
    "        attention_weights_all = None\n",
    "        for i in range(0, max_len, 512):\n",
    "            last, attn, attention_weights = self.forward_single(input_ids[:,i:i+512], attention_mask[:,i:i+512], labels, ex)\n",
    "            if last_all is None:\n",
    "                last_all = last\n",
    "                attn_all = attn\n",
    "                attention_weights_all = attention_weights\n",
    "            else:\n",
    "                last_all = torch.cat([last_all,  last_all], dim=1)\n",
    "                attn_all = torch.cat([attn_all,  attn], dim=1)\n",
    "                attention_weights_all = torch.cat([attention_weights_all,  attention_weights], dim=1)\n",
    "                \n",
    "        final_out = torch.cat([last_all,  attn_all], dim=1)\n",
    "        final_out = self.dropout(final_out)\n",
    "        final_out = self.classifier(final_out)\n",
    "        final_out = self.softmax(final_out)\n",
    "        \n",
    "        loss_fct = nn.CrossEntropyLoss()\n",
    "        loss = loss_fct(final_out.view(-1, self.num_labels), labels.view(-1))\n",
    "        \n",
    "        return (loss, final_out), attention_weights_all\n",
    "\n",
    "\n",
    "        #return TokenClassifierOutput(loss=loss, logits=logits, hidden_states=outputs.hidden_states,attentions=outputs.attentions)"
   ]
  },
  {
   "cell_type": "code",
   "execution_count": 17,
   "id": "43f8ca24",
   "metadata": {},
   "outputs": [
    {
     "name": "stderr",
     "output_type": "stream",
     "text": [
      "loading configuration file ..\\..\\cbert\\tasks\\roberta_usage\\checkpoint-50000\\config.json\n",
      "Model config RobertaConfig {\n",
      "  \"architectures\": [\n",
      "    \"RobertaForMaskedLM\"\n",
      "  ],\n",
      "  \"attention_probs_dropout_prob\": 0.1,\n",
      "  \"bos_token_id\": 0,\n",
      "  \"classifier_dropout\": null,\n",
      "  \"eos_token_id\": 2,\n",
      "  \"hidden_act\": \"gelu\",\n",
      "  \"hidden_dropout_prob\": 0.1,\n",
      "  \"hidden_size\": 768,\n",
      "  \"initializer_range\": 0.02,\n",
      "  \"intermediate_size\": 3072,\n",
      "  \"layer_norm_eps\": 1e-12,\n",
      "  \"max_position_embeddings\": 514,\n",
      "  \"model_type\": \"roberta\",\n",
      "  \"num_attention_heads\": 12,\n",
      "  \"num_hidden_layers\": 12,\n",
      "  \"pad_token_id\": 1,\n",
      "  \"position_embedding_type\": \"absolute\",\n",
      "  \"torch_dtype\": \"float32\",\n",
      "  \"transformers_version\": \"4.18.0\",\n",
      "  \"type_vocab_size\": 2,\n",
      "  \"use_cache\": true,\n",
      "  \"vocab_size\": 50000\n",
      "}\n",
      "\n",
      "loading weights file ..\\..\\cbert\\tasks\\roberta_usage\\checkpoint-50000\\pytorch_model.bin\n"
     ]
    },
    {
     "name": "stdout",
     "output_type": "stream",
     "text": [
      "..\\..\\cbert\\tasks\\roberta_usage\\checkpoint-50000\n"
     ]
    },
    {
     "name": "stderr",
     "output_type": "stream",
     "text": [
      "All model checkpoint weights were used when initializing RobertaForMaskedLM.\n",
      "\n",
      "All the weights of RobertaForMaskedLM were initialized from the model checkpoint at ..\\..\\cbert\\tasks\\roberta_usage\\checkpoint-50000.\n",
      "If your task is similar to the task the model of the checkpoint was trained on, you can already use RobertaForMaskedLM for predictions without further training.\n",
      "C:\\Users\\XinZhou\\AppData\\Local\\Temp\\ipykernel_17504\\3408645441.py:19: UserWarning: nn.init.xavier_uniform is now deprecated in favor of nn.init.xavier_uniform_.\n",
      "  init.xavier_uniform(self.attn_vector.data)\n",
      "C:\\Users\\XinZhou\\anaconda3\\envs\\dna\\lib\\site-packages\\transformers\\optimization.py:306: FutureWarning: This implementation of AdamW is deprecated and will be removed in a future version. Use the PyTorch implementation torch.optim.AdamW instead, or set `no_deprecation_warning=True` to disable this warning\n",
      "  warnings.warn(\n"
     ]
    }
   ],
   "source": [
    "# from transformers import DistilBertForSequenceClassification, AdamW, DistilBertConfig\n",
    "# num_labels = len(set(labels))\n",
    "# model = DistilBertForSequenceClassification.from_pretrained('distilbert-base-uncased', num_labels=num_labels,\n",
    "#                                                             output_attentions=False, output_hidden_states=False)\n",
    "\n",
    "# model_path = os.path.join(bert_dir, \"checkpoint-60000\")\n",
    "print(bert_model_path)\n",
    "model = BERTSourceBinaryClassification(checkpoint=bert_model_path, num_labels=2)\n",
    "\n",
    "\n",
    "learning_rate = 1e-5\n",
    "adam_epsilon = 1e-8\n",
    "\n",
    "no_decay = ['bias', 'LayerNorm.weight']\n",
    "optimizer_grouped_parameters = [\n",
    "    {'params': [p for n, p in model.named_parameters() if not any(nd in n for nd in no_decay)],\n",
    "     'weight_decay_rate': 0.2},\n",
    "    {'params': [p for n, p in model.named_parameters() if any(nd in n for nd in no_decay)],\n",
    "     'weight_decay_rate': 0.0}\n",
    "]\n",
    "\n",
    "\n",
    "# optimizer =Adam(lr=learning_rate)\n",
    "optimizer = AdamW(optimizer_grouped_parameters, lr=learning_rate, eps=adam_epsilon)\n",
    "\n",
    "os.environ['CUDA_VISIBLE_DEVICES'] = '0,1,2,3'\n",
    "multi_gpu = torch.cuda.device_count() \n",
    "if multi_gpu > 1:\n",
    "    print(\"Let's use\", torch.cuda.device_count(), \"GPUs!\")\n",
    "    # dim = 0 [30, xxx] -> [10, ...], [10, ...], [10, ...] on 3 GPUs\n",
    "    model = nn.DataParallel(model)\n",
    "# model = nn.DataParallel(model)\n",
    "model = model.cuda()\n",
    "\n",
    "from transformers import get_linear_schedule_with_warmup\n",
    "\n",
    "\n",
    "total_steps = len(train_dataloader) * num_epochs\n",
    "scheduler = get_linear_schedule_with_warmup(optimizer, num_warmup_steps=0, num_training_steps=total_steps)\n"
   ]
  },
  {
   "cell_type": "code",
   "execution_count": 18,
   "id": "7aa7865b",
   "metadata": {},
   "outputs": [
    {
     "name": "stdout",
     "output_type": "stream",
     "text": [
      "number of iterations:  7285\n"
     ]
    }
   ],
   "source": [
    "import time\n",
    "\n",
    "def epoch_time(start_time, end_time):\n",
    "    elapsed_time = end_time - start_time\n",
    "    elapsed_mins = int(elapsed_time / 60)\n",
    "    elapsed_secs = int(elapsed_time - (elapsed_mins * 60))\n",
    "    return elapsed_mins, elapsed_secs\n",
    "\n",
    "import numpy as np\n",
    "import random\n",
    "\n",
    "seed_val = 111\n",
    "random.seed(seed_val)\n",
    "np.random.seed(seed_val)\n",
    "torch.manual_seed(seed_val)\n",
    "torch.cuda.manual_seed_all(seed_val)\n",
    "\n",
    "import pickle\n",
    "import os\n",
    "\n",
    "if not os.path.exists(out_dir):\n",
    "    os.makedirs(out_dir)\n",
    "    \n",
    "# save model \n",
    "\n",
    "def save_model(model, train_losses, val_losses, out_dir_model):\n",
    "\n",
    "    if not os.path.exists(out_dir_model):\n",
    "        os.makedirs(out_dir_model)\n",
    "    \n",
    "    PATH = os.path.join(out_dir_model, 'BERTSourceBinaryClassification.pt')\n",
    "\n",
    "    torch.save(model.state_dict(), PATH)\n",
    "\n",
    "    with open(out_dir_model + '/train_losses.pkl', 'wb') as f:\n",
    "        pickle.dump(train_losses, f)\n",
    "\n",
    "    with open(out_dir_model + '/val_losses.pkl', 'wb') as f:\n",
    "        pickle.dump(val_losses, f)\n",
    "        \n",
    "print('number of iterations: ', len(train_dataloader))"
   ]
  },
  {
   "cell_type": "code",
   "execution_count": 19,
   "id": "64535cf2",
   "metadata": {},
   "outputs": [
    {
     "name": "stdout",
     "output_type": "stream",
     "text": [
      "num_epochs:  1\n"
     ]
    },
    {
     "name": "stderr",
     "output_type": "stream",
     "text": [
      "0it [00:00, ?it/s]C:\\Users\\XinZhou\\AppData\\Local\\Temp\\ipykernel_17504\\3408645441.py:40: UserWarning: Implicit dimension choice for softmax has been deprecated. Change the call to include dim=X as an argument.\n",
      "  attn_energies = F.softmax(F.relu(weights.squeeze(axis=2)))\n",
      "999it [02:56,  5.52it/s]"
     ]
    },
    {
     "name": "stdout",
     "output_type": "stream",
     "text": [
      "saved as:  ./result_devign/classification_model_1000\n"
     ]
    },
    {
     "name": "stderr",
     "output_type": "stream",
     "text": [
      "1999it [05:56,  5.37it/s]"
     ]
    },
    {
     "name": "stdout",
     "output_type": "stream",
     "text": [
      "saved as:  ./result_devign/classification_model_2000\n"
     ]
    },
    {
     "name": "stderr",
     "output_type": "stream",
     "text": [
      "2999it [08:56,  5.57it/s]"
     ]
    },
    {
     "name": "stdout",
     "output_type": "stream",
     "text": [
      "saved as:  ./result_devign/classification_model_3000\n"
     ]
    },
    {
     "name": "stderr",
     "output_type": "stream",
     "text": [
      "3999it [11:53,  5.73it/s]"
     ]
    },
    {
     "name": "stdout",
     "output_type": "stream",
     "text": [
      "saved as:  ./result_devign/classification_model_4000\n"
     ]
    },
    {
     "name": "stderr",
     "output_type": "stream",
     "text": [
      "4999it [14:51,  5.55it/s]"
     ]
    },
    {
     "name": "stdout",
     "output_type": "stream",
     "text": [
      "saved as:  ./result_devign/classification_model_5000\n"
     ]
    },
    {
     "name": "stderr",
     "output_type": "stream",
     "text": [
      "5008it [14:54,  5.60it/s]\n"
     ]
    },
    {
     "ename": "KeyboardInterrupt",
     "evalue": "",
     "output_type": "error",
     "traceback": [
      "\u001b[1;31m---------------------------------------------------------------------------\u001b[0m",
      "\u001b[1;31mKeyboardInterrupt\u001b[0m                         Traceback (most recent call last)",
      "Cell \u001b[1;32mIn [19], line 35\u001b[0m\n\u001b[0;32m     32\u001b[0m mb_y \u001b[38;5;241m=\u001b[39m mb_y\u001b[38;5;241m.\u001b[39mcuda()\n\u001b[0;32m     33\u001b[0m \u001b[38;5;66;03m#ex = ex.cuda()\u001b[39;00m\n\u001b[1;32m---> 35\u001b[0m outputs, _, \u001b[38;5;241m=\u001b[39m model(mb_x, attention_mask\u001b[38;5;241m=\u001b[39mmb_m, labels\u001b[38;5;241m=\u001b[39mmb_y)\n\u001b[0;32m     36\u001b[0m \u001b[38;5;66;03m#print(outputs[1])\u001b[39;00m\n\u001b[0;32m     37\u001b[0m \u001b[38;5;66;03m#mb_y = F.one_hot(mb_y)\u001b[39;00m\n\u001b[0;32m     38\u001b[0m \u001b[38;5;66;03m#print(outputs, mb_y)\u001b[39;00m\n\u001b[0;32m     39\u001b[0m \u001b[38;5;66;03m#loss = loss_fct(outputs.view(-1, 2), mb_y.view(-1))\u001b[39;00m\n\u001b[0;32m     40\u001b[0m loss \u001b[38;5;241m=\u001b[39m outputs[\u001b[38;5;241m0\u001b[39m]\n",
      "File \u001b[1;32m~\\anaconda3\\envs\\dna\\lib\\site-packages\\torch\\nn\\modules\\module.py:1130\u001b[0m, in \u001b[0;36mModule._call_impl\u001b[1;34m(self, *input, **kwargs)\u001b[0m\n\u001b[0;32m   1126\u001b[0m \u001b[38;5;66;03m# If we don't have any hooks, we want to skip the rest of the logic in\u001b[39;00m\n\u001b[0;32m   1127\u001b[0m \u001b[38;5;66;03m# this function, and just call forward.\u001b[39;00m\n\u001b[0;32m   1128\u001b[0m \u001b[38;5;28;01mif\u001b[39;00m \u001b[38;5;129;01mnot\u001b[39;00m (\u001b[38;5;28mself\u001b[39m\u001b[38;5;241m.\u001b[39m_backward_hooks \u001b[38;5;129;01mor\u001b[39;00m \u001b[38;5;28mself\u001b[39m\u001b[38;5;241m.\u001b[39m_forward_hooks \u001b[38;5;129;01mor\u001b[39;00m \u001b[38;5;28mself\u001b[39m\u001b[38;5;241m.\u001b[39m_forward_pre_hooks \u001b[38;5;129;01mor\u001b[39;00m _global_backward_hooks\n\u001b[0;32m   1129\u001b[0m         \u001b[38;5;129;01mor\u001b[39;00m _global_forward_hooks \u001b[38;5;129;01mor\u001b[39;00m _global_forward_pre_hooks):\n\u001b[1;32m-> 1130\u001b[0m     \u001b[38;5;28;01mreturn\u001b[39;00m forward_call(\u001b[38;5;241m*\u001b[39m\u001b[38;5;28minput\u001b[39m, \u001b[38;5;241m*\u001b[39m\u001b[38;5;241m*\u001b[39mkwargs)\n\u001b[0;32m   1131\u001b[0m \u001b[38;5;66;03m# Do not call functions when jit is used\u001b[39;00m\n\u001b[0;32m   1132\u001b[0m full_backward_hooks, non_full_backward_hooks \u001b[38;5;241m=\u001b[39m [], []\n",
      "Cell \u001b[1;32mIn [16], line 103\u001b[0m, in \u001b[0;36mBERTSourceBinaryClassification.forward\u001b[1;34m(self, input_ids, attention_mask, labels, ex, max_len, opt)\u001b[0m\n\u001b[0;32m    101\u001b[0m attention_weights_all \u001b[38;5;241m=\u001b[39m \u001b[38;5;28;01mNone\u001b[39;00m\n\u001b[0;32m    102\u001b[0m \u001b[38;5;28;01mfor\u001b[39;00m i \u001b[38;5;129;01min\u001b[39;00m \u001b[38;5;28mrange\u001b[39m(\u001b[38;5;241m0\u001b[39m, max_len, \u001b[38;5;241m512\u001b[39m):\n\u001b[1;32m--> 103\u001b[0m     last, attn, attention_weights \u001b[38;5;241m=\u001b[39m \u001b[38;5;28;43mself\u001b[39;49m\u001b[38;5;241;43m.\u001b[39;49m\u001b[43mforward_single\u001b[49m\u001b[43m(\u001b[49m\u001b[43minput_ids\u001b[49m\u001b[43m[\u001b[49m\u001b[43m:\u001b[49m\u001b[43m,\u001b[49m\u001b[43mi\u001b[49m\u001b[43m:\u001b[49m\u001b[43mi\u001b[49m\u001b[38;5;241;43m+\u001b[39;49m\u001b[38;5;241;43m512\u001b[39;49m\u001b[43m]\u001b[49m\u001b[43m,\u001b[49m\u001b[43m \u001b[49m\u001b[43mattention_mask\u001b[49m\u001b[43m[\u001b[49m\u001b[43m:\u001b[49m\u001b[43m,\u001b[49m\u001b[43mi\u001b[49m\u001b[43m:\u001b[49m\u001b[43mi\u001b[49m\u001b[38;5;241;43m+\u001b[39;49m\u001b[38;5;241;43m512\u001b[39;49m\u001b[43m]\u001b[49m\u001b[43m,\u001b[49m\u001b[43m \u001b[49m\u001b[43mlabels\u001b[49m\u001b[43m,\u001b[49m\u001b[43m \u001b[49m\u001b[43mex\u001b[49m\u001b[43m)\u001b[49m\n\u001b[0;32m    104\u001b[0m     \u001b[38;5;28;01mif\u001b[39;00m last_all \u001b[38;5;129;01mis\u001b[39;00m \u001b[38;5;28;01mNone\u001b[39;00m:\n\u001b[0;32m    105\u001b[0m         last_all \u001b[38;5;241m=\u001b[39m last\n",
      "Cell \u001b[1;32mIn [16], line 87\u001b[0m, in \u001b[0;36mBERTSourceBinaryClassification.forward_single\u001b[1;34m(self, input_ids, attention_mask, labels, ex)\u001b[0m\n\u001b[0;32m     84\u001b[0m \u001b[38;5;28;01mdef\u001b[39;00m \u001b[38;5;21mforward_single\u001b[39m(\u001b[38;5;28mself\u001b[39m, input_ids, attention_mask, labels, ex):\n\u001b[0;32m     85\u001b[0m             \n\u001b[0;32m     86\u001b[0m     \u001b[38;5;66;03m# torch.Size([2, 512, 768])\u001b[39;00m\n\u001b[1;32m---> 87\u001b[0m     outputs \u001b[38;5;241m=\u001b[39m \u001b[38;5;28;43mself\u001b[39;49m\u001b[38;5;241;43m.\u001b[39;49m\u001b[43mmodel\u001b[49m\u001b[38;5;241;43m.\u001b[39;49m\u001b[43mroberta\u001b[49m\u001b[43m(\u001b[49m\u001b[43minput_ids\u001b[49m\u001b[43m,\u001b[49m\u001b[43m \u001b[49m\u001b[43mattention_mask\u001b[49m\u001b[38;5;241;43m=\u001b[39;49m\u001b[43mattention_mask\u001b[49m\u001b[43m)\u001b[49m[\u001b[38;5;241m0\u001b[39m]\n\u001b[0;32m     88\u001b[0m     \u001b[38;5;66;03m#  torch.Size([2, 768])\u001b[39;00m\n\u001b[0;32m     89\u001b[0m     last \u001b[38;5;241m=\u001b[39m outputs[:, \u001b[38;5;241m-\u001b[39m\u001b[38;5;241m1\u001b[39m]\n",
      "File \u001b[1;32m~\\anaconda3\\envs\\dna\\lib\\site-packages\\torch\\nn\\modules\\module.py:1130\u001b[0m, in \u001b[0;36mModule._call_impl\u001b[1;34m(self, *input, **kwargs)\u001b[0m\n\u001b[0;32m   1126\u001b[0m \u001b[38;5;66;03m# If we don't have any hooks, we want to skip the rest of the logic in\u001b[39;00m\n\u001b[0;32m   1127\u001b[0m \u001b[38;5;66;03m# this function, and just call forward.\u001b[39;00m\n\u001b[0;32m   1128\u001b[0m \u001b[38;5;28;01mif\u001b[39;00m \u001b[38;5;129;01mnot\u001b[39;00m (\u001b[38;5;28mself\u001b[39m\u001b[38;5;241m.\u001b[39m_backward_hooks \u001b[38;5;129;01mor\u001b[39;00m \u001b[38;5;28mself\u001b[39m\u001b[38;5;241m.\u001b[39m_forward_hooks \u001b[38;5;129;01mor\u001b[39;00m \u001b[38;5;28mself\u001b[39m\u001b[38;5;241m.\u001b[39m_forward_pre_hooks \u001b[38;5;129;01mor\u001b[39;00m _global_backward_hooks\n\u001b[0;32m   1129\u001b[0m         \u001b[38;5;129;01mor\u001b[39;00m _global_forward_hooks \u001b[38;5;129;01mor\u001b[39;00m _global_forward_pre_hooks):\n\u001b[1;32m-> 1130\u001b[0m     \u001b[38;5;28;01mreturn\u001b[39;00m forward_call(\u001b[38;5;241m*\u001b[39m\u001b[38;5;28minput\u001b[39m, \u001b[38;5;241m*\u001b[39m\u001b[38;5;241m*\u001b[39mkwargs)\n\u001b[0;32m   1131\u001b[0m \u001b[38;5;66;03m# Do not call functions when jit is used\u001b[39;00m\n\u001b[0;32m   1132\u001b[0m full_backward_hooks, non_full_backward_hooks \u001b[38;5;241m=\u001b[39m [], []\n",
      "File \u001b[1;32m~\\anaconda3\\envs\\dna\\lib\\site-packages\\transformers\\models\\roberta\\modeling_roberta.py:851\u001b[0m, in \u001b[0;36mRobertaModel.forward\u001b[1;34m(self, input_ids, attention_mask, token_type_ids, position_ids, head_mask, inputs_embeds, encoder_hidden_states, encoder_attention_mask, past_key_values, use_cache, output_attentions, output_hidden_states, return_dict)\u001b[0m\n\u001b[0;32m    842\u001b[0m head_mask \u001b[38;5;241m=\u001b[39m \u001b[38;5;28mself\u001b[39m\u001b[38;5;241m.\u001b[39mget_head_mask(head_mask, \u001b[38;5;28mself\u001b[39m\u001b[38;5;241m.\u001b[39mconfig\u001b[38;5;241m.\u001b[39mnum_hidden_layers)\n\u001b[0;32m    844\u001b[0m embedding_output \u001b[38;5;241m=\u001b[39m \u001b[38;5;28mself\u001b[39m\u001b[38;5;241m.\u001b[39membeddings(\n\u001b[0;32m    845\u001b[0m     input_ids\u001b[38;5;241m=\u001b[39minput_ids,\n\u001b[0;32m    846\u001b[0m     position_ids\u001b[38;5;241m=\u001b[39mposition_ids,\n\u001b[1;32m   (...)\u001b[0m\n\u001b[0;32m    849\u001b[0m     past_key_values_length\u001b[38;5;241m=\u001b[39mpast_key_values_length,\n\u001b[0;32m    850\u001b[0m )\n\u001b[1;32m--> 851\u001b[0m encoder_outputs \u001b[38;5;241m=\u001b[39m \u001b[38;5;28;43mself\u001b[39;49m\u001b[38;5;241;43m.\u001b[39;49m\u001b[43mencoder\u001b[49m\u001b[43m(\u001b[49m\n\u001b[0;32m    852\u001b[0m \u001b[43m    \u001b[49m\u001b[43membedding_output\u001b[49m\u001b[43m,\u001b[49m\n\u001b[0;32m    853\u001b[0m \u001b[43m    \u001b[49m\u001b[43mattention_mask\u001b[49m\u001b[38;5;241;43m=\u001b[39;49m\u001b[43mextended_attention_mask\u001b[49m\u001b[43m,\u001b[49m\n\u001b[0;32m    854\u001b[0m \u001b[43m    \u001b[49m\u001b[43mhead_mask\u001b[49m\u001b[38;5;241;43m=\u001b[39;49m\u001b[43mhead_mask\u001b[49m\u001b[43m,\u001b[49m\n\u001b[0;32m    855\u001b[0m \u001b[43m    \u001b[49m\u001b[43mencoder_hidden_states\u001b[49m\u001b[38;5;241;43m=\u001b[39;49m\u001b[43mencoder_hidden_states\u001b[49m\u001b[43m,\u001b[49m\n\u001b[0;32m    856\u001b[0m \u001b[43m    \u001b[49m\u001b[43mencoder_attention_mask\u001b[49m\u001b[38;5;241;43m=\u001b[39;49m\u001b[43mencoder_extended_attention_mask\u001b[49m\u001b[43m,\u001b[49m\n\u001b[0;32m    857\u001b[0m \u001b[43m    \u001b[49m\u001b[43mpast_key_values\u001b[49m\u001b[38;5;241;43m=\u001b[39;49m\u001b[43mpast_key_values\u001b[49m\u001b[43m,\u001b[49m\n\u001b[0;32m    858\u001b[0m \u001b[43m    \u001b[49m\u001b[43muse_cache\u001b[49m\u001b[38;5;241;43m=\u001b[39;49m\u001b[43muse_cache\u001b[49m\u001b[43m,\u001b[49m\n\u001b[0;32m    859\u001b[0m \u001b[43m    \u001b[49m\u001b[43moutput_attentions\u001b[49m\u001b[38;5;241;43m=\u001b[39;49m\u001b[43moutput_attentions\u001b[49m\u001b[43m,\u001b[49m\n\u001b[0;32m    860\u001b[0m \u001b[43m    \u001b[49m\u001b[43moutput_hidden_states\u001b[49m\u001b[38;5;241;43m=\u001b[39;49m\u001b[43moutput_hidden_states\u001b[49m\u001b[43m,\u001b[49m\n\u001b[0;32m    861\u001b[0m \u001b[43m    \u001b[49m\u001b[43mreturn_dict\u001b[49m\u001b[38;5;241;43m=\u001b[39;49m\u001b[43mreturn_dict\u001b[49m\u001b[43m,\u001b[49m\n\u001b[0;32m    862\u001b[0m \u001b[43m\u001b[49m\u001b[43m)\u001b[49m\n\u001b[0;32m    863\u001b[0m sequence_output \u001b[38;5;241m=\u001b[39m encoder_outputs[\u001b[38;5;241m0\u001b[39m]\n\u001b[0;32m    864\u001b[0m pooled_output \u001b[38;5;241m=\u001b[39m \u001b[38;5;28mself\u001b[39m\u001b[38;5;241m.\u001b[39mpooler(sequence_output) \u001b[38;5;28;01mif\u001b[39;00m \u001b[38;5;28mself\u001b[39m\u001b[38;5;241m.\u001b[39mpooler \u001b[38;5;129;01mis\u001b[39;00m \u001b[38;5;129;01mnot\u001b[39;00m \u001b[38;5;28;01mNone\u001b[39;00m \u001b[38;5;28;01melse\u001b[39;00m \u001b[38;5;28;01mNone\u001b[39;00m\n",
      "File \u001b[1;32m~\\anaconda3\\envs\\dna\\lib\\site-packages\\torch\\nn\\modules\\module.py:1130\u001b[0m, in \u001b[0;36mModule._call_impl\u001b[1;34m(self, *input, **kwargs)\u001b[0m\n\u001b[0;32m   1126\u001b[0m \u001b[38;5;66;03m# If we don't have any hooks, we want to skip the rest of the logic in\u001b[39;00m\n\u001b[0;32m   1127\u001b[0m \u001b[38;5;66;03m# this function, and just call forward.\u001b[39;00m\n\u001b[0;32m   1128\u001b[0m \u001b[38;5;28;01mif\u001b[39;00m \u001b[38;5;129;01mnot\u001b[39;00m (\u001b[38;5;28mself\u001b[39m\u001b[38;5;241m.\u001b[39m_backward_hooks \u001b[38;5;129;01mor\u001b[39;00m \u001b[38;5;28mself\u001b[39m\u001b[38;5;241m.\u001b[39m_forward_hooks \u001b[38;5;129;01mor\u001b[39;00m \u001b[38;5;28mself\u001b[39m\u001b[38;5;241m.\u001b[39m_forward_pre_hooks \u001b[38;5;129;01mor\u001b[39;00m _global_backward_hooks\n\u001b[0;32m   1129\u001b[0m         \u001b[38;5;129;01mor\u001b[39;00m _global_forward_hooks \u001b[38;5;129;01mor\u001b[39;00m _global_forward_pre_hooks):\n\u001b[1;32m-> 1130\u001b[0m     \u001b[38;5;28;01mreturn\u001b[39;00m forward_call(\u001b[38;5;241m*\u001b[39m\u001b[38;5;28minput\u001b[39m, \u001b[38;5;241m*\u001b[39m\u001b[38;5;241m*\u001b[39mkwargs)\n\u001b[0;32m   1131\u001b[0m \u001b[38;5;66;03m# Do not call functions when jit is used\u001b[39;00m\n\u001b[0;32m   1132\u001b[0m full_backward_hooks, non_full_backward_hooks \u001b[38;5;241m=\u001b[39m [], []\n",
      "File \u001b[1;32m~\\anaconda3\\envs\\dna\\lib\\site-packages\\transformers\\models\\roberta\\modeling_roberta.py:527\u001b[0m, in \u001b[0;36mRobertaEncoder.forward\u001b[1;34m(self, hidden_states, attention_mask, head_mask, encoder_hidden_states, encoder_attention_mask, past_key_values, use_cache, output_attentions, output_hidden_states, return_dict)\u001b[0m\n\u001b[0;32m    518\u001b[0m     layer_outputs \u001b[38;5;241m=\u001b[39m torch\u001b[38;5;241m.\u001b[39mutils\u001b[38;5;241m.\u001b[39mcheckpoint\u001b[38;5;241m.\u001b[39mcheckpoint(\n\u001b[0;32m    519\u001b[0m         create_custom_forward(layer_module),\n\u001b[0;32m    520\u001b[0m         hidden_states,\n\u001b[1;32m   (...)\u001b[0m\n\u001b[0;32m    524\u001b[0m         encoder_attention_mask,\n\u001b[0;32m    525\u001b[0m     )\n\u001b[0;32m    526\u001b[0m \u001b[38;5;28;01melse\u001b[39;00m:\n\u001b[1;32m--> 527\u001b[0m     layer_outputs \u001b[38;5;241m=\u001b[39m \u001b[43mlayer_module\u001b[49m\u001b[43m(\u001b[49m\n\u001b[0;32m    528\u001b[0m \u001b[43m        \u001b[49m\u001b[43mhidden_states\u001b[49m\u001b[43m,\u001b[49m\n\u001b[0;32m    529\u001b[0m \u001b[43m        \u001b[49m\u001b[43mattention_mask\u001b[49m\u001b[43m,\u001b[49m\n\u001b[0;32m    530\u001b[0m \u001b[43m        \u001b[49m\u001b[43mlayer_head_mask\u001b[49m\u001b[43m,\u001b[49m\n\u001b[0;32m    531\u001b[0m \u001b[43m        \u001b[49m\u001b[43mencoder_hidden_states\u001b[49m\u001b[43m,\u001b[49m\n\u001b[0;32m    532\u001b[0m \u001b[43m        \u001b[49m\u001b[43mencoder_attention_mask\u001b[49m\u001b[43m,\u001b[49m\n\u001b[0;32m    533\u001b[0m \u001b[43m        \u001b[49m\u001b[43mpast_key_value\u001b[49m\u001b[43m,\u001b[49m\n\u001b[0;32m    534\u001b[0m \u001b[43m        \u001b[49m\u001b[43moutput_attentions\u001b[49m\u001b[43m,\u001b[49m\n\u001b[0;32m    535\u001b[0m \u001b[43m    \u001b[49m\u001b[43m)\u001b[49m\n\u001b[0;32m    537\u001b[0m hidden_states \u001b[38;5;241m=\u001b[39m layer_outputs[\u001b[38;5;241m0\u001b[39m]\n\u001b[0;32m    538\u001b[0m \u001b[38;5;28;01mif\u001b[39;00m use_cache:\n",
      "File \u001b[1;32m~\\anaconda3\\envs\\dna\\lib\\site-packages\\torch\\nn\\modules\\module.py:1130\u001b[0m, in \u001b[0;36mModule._call_impl\u001b[1;34m(self, *input, **kwargs)\u001b[0m\n\u001b[0;32m   1126\u001b[0m \u001b[38;5;66;03m# If we don't have any hooks, we want to skip the rest of the logic in\u001b[39;00m\n\u001b[0;32m   1127\u001b[0m \u001b[38;5;66;03m# this function, and just call forward.\u001b[39;00m\n\u001b[0;32m   1128\u001b[0m \u001b[38;5;28;01mif\u001b[39;00m \u001b[38;5;129;01mnot\u001b[39;00m (\u001b[38;5;28mself\u001b[39m\u001b[38;5;241m.\u001b[39m_backward_hooks \u001b[38;5;129;01mor\u001b[39;00m \u001b[38;5;28mself\u001b[39m\u001b[38;5;241m.\u001b[39m_forward_hooks \u001b[38;5;129;01mor\u001b[39;00m \u001b[38;5;28mself\u001b[39m\u001b[38;5;241m.\u001b[39m_forward_pre_hooks \u001b[38;5;129;01mor\u001b[39;00m _global_backward_hooks\n\u001b[0;32m   1129\u001b[0m         \u001b[38;5;129;01mor\u001b[39;00m _global_forward_hooks \u001b[38;5;129;01mor\u001b[39;00m _global_forward_pre_hooks):\n\u001b[1;32m-> 1130\u001b[0m     \u001b[38;5;28;01mreturn\u001b[39;00m forward_call(\u001b[38;5;241m*\u001b[39m\u001b[38;5;28minput\u001b[39m, \u001b[38;5;241m*\u001b[39m\u001b[38;5;241m*\u001b[39mkwargs)\n\u001b[0;32m   1131\u001b[0m \u001b[38;5;66;03m# Do not call functions when jit is used\u001b[39;00m\n\u001b[0;32m   1132\u001b[0m full_backward_hooks, non_full_backward_hooks \u001b[38;5;241m=\u001b[39m [], []\n",
      "File \u001b[1;32m~\\anaconda3\\envs\\dna\\lib\\site-packages\\transformers\\models\\roberta\\modeling_roberta.py:454\u001b[0m, in \u001b[0;36mRobertaLayer.forward\u001b[1;34m(self, hidden_states, attention_mask, head_mask, encoder_hidden_states, encoder_attention_mask, past_key_value, output_attentions)\u001b[0m\n\u001b[0;32m    451\u001b[0m     cross_attn_present_key_value \u001b[38;5;241m=\u001b[39m cross_attention_outputs[\u001b[38;5;241m-\u001b[39m\u001b[38;5;241m1\u001b[39m]\n\u001b[0;32m    452\u001b[0m     present_key_value \u001b[38;5;241m=\u001b[39m present_key_value \u001b[38;5;241m+\u001b[39m cross_attn_present_key_value\n\u001b[1;32m--> 454\u001b[0m layer_output \u001b[38;5;241m=\u001b[39m \u001b[43mapply_chunking_to_forward\u001b[49m\u001b[43m(\u001b[49m\n\u001b[0;32m    455\u001b[0m \u001b[43m    \u001b[49m\u001b[38;5;28;43mself\u001b[39;49m\u001b[38;5;241;43m.\u001b[39;49m\u001b[43mfeed_forward_chunk\u001b[49m\u001b[43m,\u001b[49m\u001b[43m \u001b[49m\u001b[38;5;28;43mself\u001b[39;49m\u001b[38;5;241;43m.\u001b[39;49m\u001b[43mchunk_size_feed_forward\u001b[49m\u001b[43m,\u001b[49m\u001b[43m \u001b[49m\u001b[38;5;28;43mself\u001b[39;49m\u001b[38;5;241;43m.\u001b[39;49m\u001b[43mseq_len_dim\u001b[49m\u001b[43m,\u001b[49m\u001b[43m \u001b[49m\u001b[43mattention_output\u001b[49m\n\u001b[0;32m    456\u001b[0m \u001b[43m\u001b[49m\u001b[43m)\u001b[49m\n\u001b[0;32m    457\u001b[0m outputs \u001b[38;5;241m=\u001b[39m (layer_output,) \u001b[38;5;241m+\u001b[39m outputs\n\u001b[0;32m    459\u001b[0m \u001b[38;5;66;03m# if decoder, return the attn key/values as the last output\u001b[39;00m\n",
      "File \u001b[1;32m~\\anaconda3\\envs\\dna\\lib\\site-packages\\transformers\\modeling_utils.py:2928\u001b[0m, in \u001b[0;36mapply_chunking_to_forward\u001b[1;34m(forward_fn, chunk_size, chunk_dim, *input_tensors)\u001b[0m\n\u001b[0;32m   2925\u001b[0m     \u001b[38;5;66;03m# concatenate output at same dimension\u001b[39;00m\n\u001b[0;32m   2926\u001b[0m     \u001b[38;5;28;01mreturn\u001b[39;00m torch\u001b[38;5;241m.\u001b[39mcat(output_chunks, dim\u001b[38;5;241m=\u001b[39mchunk_dim)\n\u001b[1;32m-> 2928\u001b[0m \u001b[38;5;28;01mreturn\u001b[39;00m \u001b[43mforward_fn\u001b[49m\u001b[43m(\u001b[49m\u001b[38;5;241;43m*\u001b[39;49m\u001b[43minput_tensors\u001b[49m\u001b[43m)\u001b[49m\n",
      "File \u001b[1;32m~\\anaconda3\\envs\\dna\\lib\\site-packages\\transformers\\models\\roberta\\modeling_roberta.py:467\u001b[0m, in \u001b[0;36mRobertaLayer.feed_forward_chunk\u001b[1;34m(self, attention_output)\u001b[0m\n\u001b[0;32m    465\u001b[0m \u001b[38;5;28;01mdef\u001b[39;00m \u001b[38;5;21mfeed_forward_chunk\u001b[39m(\u001b[38;5;28mself\u001b[39m, attention_output):\n\u001b[0;32m    466\u001b[0m     intermediate_output \u001b[38;5;241m=\u001b[39m \u001b[38;5;28mself\u001b[39m\u001b[38;5;241m.\u001b[39mintermediate(attention_output)\n\u001b[1;32m--> 467\u001b[0m     layer_output \u001b[38;5;241m=\u001b[39m \u001b[38;5;28;43mself\u001b[39;49m\u001b[38;5;241;43m.\u001b[39;49m\u001b[43moutput\u001b[49m\u001b[43m(\u001b[49m\u001b[43mintermediate_output\u001b[49m\u001b[43m,\u001b[49m\u001b[43m \u001b[49m\u001b[43mattention_output\u001b[49m\u001b[43m)\u001b[49m\n\u001b[0;32m    468\u001b[0m     \u001b[38;5;28;01mreturn\u001b[39;00m layer_output\n",
      "File \u001b[1;32m~\\anaconda3\\envs\\dna\\lib\\site-packages\\torch\\nn\\modules\\module.py:1130\u001b[0m, in \u001b[0;36mModule._call_impl\u001b[1;34m(self, *input, **kwargs)\u001b[0m\n\u001b[0;32m   1126\u001b[0m \u001b[38;5;66;03m# If we don't have any hooks, we want to skip the rest of the logic in\u001b[39;00m\n\u001b[0;32m   1127\u001b[0m \u001b[38;5;66;03m# this function, and just call forward.\u001b[39;00m\n\u001b[0;32m   1128\u001b[0m \u001b[38;5;28;01mif\u001b[39;00m \u001b[38;5;129;01mnot\u001b[39;00m (\u001b[38;5;28mself\u001b[39m\u001b[38;5;241m.\u001b[39m_backward_hooks \u001b[38;5;129;01mor\u001b[39;00m \u001b[38;5;28mself\u001b[39m\u001b[38;5;241m.\u001b[39m_forward_hooks \u001b[38;5;129;01mor\u001b[39;00m \u001b[38;5;28mself\u001b[39m\u001b[38;5;241m.\u001b[39m_forward_pre_hooks \u001b[38;5;129;01mor\u001b[39;00m _global_backward_hooks\n\u001b[0;32m   1129\u001b[0m         \u001b[38;5;129;01mor\u001b[39;00m _global_forward_hooks \u001b[38;5;129;01mor\u001b[39;00m _global_forward_pre_hooks):\n\u001b[1;32m-> 1130\u001b[0m     \u001b[38;5;28;01mreturn\u001b[39;00m forward_call(\u001b[38;5;241m*\u001b[39m\u001b[38;5;28minput\u001b[39m, \u001b[38;5;241m*\u001b[39m\u001b[38;5;241m*\u001b[39mkwargs)\n\u001b[0;32m   1131\u001b[0m \u001b[38;5;66;03m# Do not call functions when jit is used\u001b[39;00m\n\u001b[0;32m   1132\u001b[0m full_backward_hooks, non_full_backward_hooks \u001b[38;5;241m=\u001b[39m [], []\n",
      "File \u001b[1;32m~\\anaconda3\\envs\\dna\\lib\\site-packages\\transformers\\models\\roberta\\modeling_roberta.py:379\u001b[0m, in \u001b[0;36mRobertaOutput.forward\u001b[1;34m(self, hidden_states, input_tensor)\u001b[0m\n\u001b[0;32m    378\u001b[0m \u001b[38;5;28;01mdef\u001b[39;00m \u001b[38;5;21mforward\u001b[39m(\u001b[38;5;28mself\u001b[39m, hidden_states: torch\u001b[38;5;241m.\u001b[39mTensor, input_tensor: torch\u001b[38;5;241m.\u001b[39mTensor) \u001b[38;5;241m-\u001b[39m\u001b[38;5;241m>\u001b[39m torch\u001b[38;5;241m.\u001b[39mTensor:\n\u001b[1;32m--> 379\u001b[0m     hidden_states \u001b[38;5;241m=\u001b[39m \u001b[38;5;28;43mself\u001b[39;49m\u001b[38;5;241;43m.\u001b[39;49m\u001b[43mdense\u001b[49m\u001b[43m(\u001b[49m\u001b[43mhidden_states\u001b[49m\u001b[43m)\u001b[49m\n\u001b[0;32m    380\u001b[0m     hidden_states \u001b[38;5;241m=\u001b[39m \u001b[38;5;28mself\u001b[39m\u001b[38;5;241m.\u001b[39mdropout(hidden_states)\n\u001b[0;32m    381\u001b[0m     hidden_states \u001b[38;5;241m=\u001b[39m \u001b[38;5;28mself\u001b[39m\u001b[38;5;241m.\u001b[39mLayerNorm(hidden_states \u001b[38;5;241m+\u001b[39m input_tensor)\n",
      "File \u001b[1;32m~\\anaconda3\\envs\\dna\\lib\\site-packages\\torch\\nn\\modules\\module.py:1130\u001b[0m, in \u001b[0;36mModule._call_impl\u001b[1;34m(self, *input, **kwargs)\u001b[0m\n\u001b[0;32m   1126\u001b[0m \u001b[38;5;66;03m# If we don't have any hooks, we want to skip the rest of the logic in\u001b[39;00m\n\u001b[0;32m   1127\u001b[0m \u001b[38;5;66;03m# this function, and just call forward.\u001b[39;00m\n\u001b[0;32m   1128\u001b[0m \u001b[38;5;28;01mif\u001b[39;00m \u001b[38;5;129;01mnot\u001b[39;00m (\u001b[38;5;28mself\u001b[39m\u001b[38;5;241m.\u001b[39m_backward_hooks \u001b[38;5;129;01mor\u001b[39;00m \u001b[38;5;28mself\u001b[39m\u001b[38;5;241m.\u001b[39m_forward_hooks \u001b[38;5;129;01mor\u001b[39;00m \u001b[38;5;28mself\u001b[39m\u001b[38;5;241m.\u001b[39m_forward_pre_hooks \u001b[38;5;129;01mor\u001b[39;00m _global_backward_hooks\n\u001b[0;32m   1129\u001b[0m         \u001b[38;5;129;01mor\u001b[39;00m _global_forward_hooks \u001b[38;5;129;01mor\u001b[39;00m _global_forward_pre_hooks):\n\u001b[1;32m-> 1130\u001b[0m     \u001b[38;5;28;01mreturn\u001b[39;00m forward_call(\u001b[38;5;241m*\u001b[39m\u001b[38;5;28minput\u001b[39m, \u001b[38;5;241m*\u001b[39m\u001b[38;5;241m*\u001b[39mkwargs)\n\u001b[0;32m   1131\u001b[0m \u001b[38;5;66;03m# Do not call functions when jit is used\u001b[39;00m\n\u001b[0;32m   1132\u001b[0m full_backward_hooks, non_full_backward_hooks \u001b[38;5;241m=\u001b[39m [], []\n",
      "File \u001b[1;32m~\\anaconda3\\envs\\dna\\lib\\site-packages\\torch\\nn\\modules\\linear.py:114\u001b[0m, in \u001b[0;36mLinear.forward\u001b[1;34m(self, input)\u001b[0m\n\u001b[0;32m    113\u001b[0m \u001b[38;5;28;01mdef\u001b[39;00m \u001b[38;5;21mforward\u001b[39m(\u001b[38;5;28mself\u001b[39m, \u001b[38;5;28minput\u001b[39m: Tensor) \u001b[38;5;241m-\u001b[39m\u001b[38;5;241m>\u001b[39m Tensor:\n\u001b[1;32m--> 114\u001b[0m     \u001b[38;5;28;01mreturn\u001b[39;00m \u001b[43mF\u001b[49m\u001b[38;5;241;43m.\u001b[39;49m\u001b[43mlinear\u001b[49m\u001b[43m(\u001b[49m\u001b[38;5;28;43minput\u001b[39;49m\u001b[43m,\u001b[49m\u001b[43m \u001b[49m\u001b[38;5;28;43mself\u001b[39;49m\u001b[38;5;241;43m.\u001b[39;49m\u001b[43mweight\u001b[49m\u001b[43m,\u001b[49m\u001b[43m \u001b[49m\u001b[38;5;28;43mself\u001b[39;49m\u001b[38;5;241;43m.\u001b[39;49m\u001b[43mbias\u001b[49m\u001b[43m)\u001b[49m\n",
      "\u001b[1;31mKeyboardInterrupt\u001b[0m: "
     ]
    }
   ],
   "source": [
    "if test_only:\n",
    "    from tqdm import tqdm\n",
    "    train_losses = []\n",
    "    val_losses = []\n",
    "    num_mb_train = len(train_dataloader)\n",
    "    num_mb_val = len(val_dataloader)\n",
    "    current_step = 0\n",
    "    saved_steps = []\n",
    "    if num_mb_val == 0:\n",
    "        num_mb_val = 1\n",
    "\n",
    "    # print('number of iterations: ', len(train_dataloader), len(train_loader_extracted))\n",
    "    print('num_epochs: ', num_epochs)\n",
    "\n",
    "    loss_fct = nn.CrossEntropyLoss()\n",
    "\n",
    "\n",
    "    for n in range(num_epochs):\n",
    "        train_loss = 0\n",
    "        val_loss = 0\n",
    "        start_time = time.time()\n",
    "\n",
    "        #for k, (data1, data2) in enumerate(zip(train_dataloader, train_loader_extracted)):\n",
    "        for k, (mb_x, mb_m, mb_y) in tqdm(enumerate(train_dataloader)):\n",
    "            #mb_x, mb_m, mb_y = data1\n",
    "            # 56 features\n",
    "            #ex, ey, e_index = data2\n",
    "            optimizer.zero_grad()\n",
    "            model.train()\n",
    "\n",
    "            mb_x = mb_x.cuda()\n",
    "            mb_m = mb_m.cuda()\n",
    "            mb_y = mb_y.cuda()\n",
    "            #ex = ex.cuda()\n",
    "\n",
    "            outputs, _, = model(mb_x, attention_mask=mb_m, labels=mb_y)\n",
    "            #print(outputs[1])\n",
    "            #mb_y = F.one_hot(mb_y)\n",
    "            #print(outputs, mb_y)\n",
    "            #loss = loss_fct(outputs.view(-1, 2), mb_y.view(-1))\n",
    "            loss = outputs[0]\n",
    "\n",
    "            if multi_gpu > 1:\n",
    "                loss = loss.sum()\n",
    "\n",
    "            loss.backward()\n",
    "            torch.nn.utils.clip_grad_norm_(model.parameters(), 1.0)\n",
    "            optimizer.step()\n",
    "            scheduler.step()\n",
    "            current_step += 1\n",
    "            train_loss += loss.data / num_mb_train\n",
    "\n",
    "            if current_step % save_step_at == 0:\n",
    "                saved_steps.append(current_step)\n",
    "                out_dir_model = './{}/classification_model_{}'.format(out_dir, saved_steps[-1])\n",
    "                print('saved as: ', out_dir_model)\n",
    "                if len(saved_steps) > max_step_saves:\n",
    "                    delete_dir = './{}/classification_model_{}'.format(out_dir, saved_steps[-(max_step_saves+1)])\n",
    "                    os.system('rm -r {}'.format(delete_dir))\n",
    "                save_model(model, train_losses, val_losses, out_dir_model)\n",
    "\n",
    "\n",
    "        print (\"\\nTrain loss after itaration %i: %f\" % (n+1, train_loss))\n",
    "        train_losses.append(train_loss.cpu())\n",
    "\n",
    "        with torch.no_grad():\n",
    "            model.eval()\n",
    "\n",
    "            for k, (mb_x, mb_m, mb_y) in enumerate(val_dataloader):\n",
    "                mb_x = mb_x.cuda()\n",
    "                mb_m = mb_m.cuda()\n",
    "                mb_y = mb_y.cuda()\n",
    "\n",
    "                outputs, _ = model(mb_x, attention_mask=mb_m, labels=mb_y)\n",
    "                loss = outputs[0]\n",
    "                if multi_gpu > 1:\n",
    "                    loss = loss.sum()\n",
    "                #loss = model_loss(outputs[1], mb_y)\n",
    "\n",
    "                val_loss += loss.data / num_mb_val\n",
    "\n",
    "            print (\"Validation loss after itaration %i: %f\" % (n+1, val_loss))\n",
    "            # save the best\n",
    "            print('val_losses: ', val_losses, float(val_loss.cpu()))\n",
    "            if val_losses and float(val_loss.cpu()) <= min(val_losses):\n",
    "                out_dir_model = './{}/classification_model_best'.format(out_dir)\n",
    "                print('the best model updated')\n",
    "                print('saved as: ', out_dir_model)\n",
    "                save_model(model, train_losses, val_losses, out_dir_model)\n",
    "            val_losses.append(float(val_loss.cpu()))\n",
    "\n",
    "        end_time = time.time()\n",
    "        epoch_mins, epoch_secs = epoch_time(start_time, end_time)\n",
    "        print(f'Time: {epoch_mins}m {epoch_secs}s')\n",
    "        if len(val_losses) > 3 and float(val_loss.cpu()) > max(val_losses[-4:-1]):\n",
    "            break"
   ]
  },
  {
   "cell_type": "code",
   "execution_count": 21,
   "id": "95b99602",
   "metadata": {},
   "outputs": [
    {
     "name": "stdout",
     "output_type": "stream",
     "text": [
      "[]\n"
     ]
    },
    {
     "data": {
      "text/plain": [
       "[<matplotlib.lines.Line2D at 0x26fdbe66380>]"
      ]
     },
     "execution_count": 21,
     "metadata": {},
     "output_type": "execute_result"
    },
    {
     "data": {
      "image/png": "[encoded data removed]",
      "text/plain": [
       "<Figure size 640x480 with 1 Axes>"
      ]
     },
     "metadata": {},
     "output_type": "display_data"
    }
   ],
   "source": [
    "\n",
    "# out_dir_model = '{}/classification_model_4000'.format(out_dir)\n",
    "\n",
    "test_dir_model = '{}/classification_model_best'.format(out_dir)\n",
    "\n",
    "PATH = os.path.join(test_dir_model, 'BERTSourceBinaryClassification.pt')\n",
    "model.load_state_dict(torch.load(PATH))\n",
    "model.eval()\n",
    "\n",
    "with open(test_dir_model + '/train_losses.pkl', 'rb') as f:\n",
    "    train_losses = pickle.load(f)\n",
    "    \n",
    "with open(test_dir_model + '/val_losses.pkl', 'rb') as f:\n",
    "    val_losses = pickle.load(f)\n",
    "\n",
    "print(val_losses)\n",
    "from matplotlib import pyplot as plt\n",
    "%matplotlib inline\n",
    "\n",
    "plt.figure()\n",
    "plt.plot(train_losses)\n",
    "plt.plot(val_losses)"
   ]
  },
  {
   "cell_type": "code",
   "execution_count": null,
   "id": "fd8a9f46",
   "metadata": {},
   "outputs": [],
   "source": [
    "from tqdm import tqdm\n",
    "# test_data = test_data[:100]\n",
    "test_data = TensorDataset(test_x, test_m)\n",
    "test_sampler = SequentialSampler(test_data)\n",
    "test_dataloader = DataLoader(test_data, sampler=test_sampler, batch_size=batch_size)\n",
    "\n",
    "\n",
    "outputs = []\n",
    "print('num of iterations: ', len(test_dataloader))\n",
    "with torch.no_grad():\n",
    "    for k, (mb_x, mb_m) in tqdm(enumerate(test_dataloader)):\n",
    "        mb_x = mb_x.cuda()\n",
    "        mb_m = mb_m.cuda()\n",
    "#         output, _ = model(mb_x)\n",
    "        output, attention_weights = model(mb_x, attention_mask=mb_m, max_len=512, opt='mean')\n",
    "#         print(output)\n",
    "#         print(attention_weights[4])\n",
    "#         sys.exit(0)\n",
    "        outputs.append(output[1].to('cpu'))\n",
    "        \n",
    "outputs = torch.cat(outputs)"
   ]
  },
  {
   "cell_type": "code",
   "execution_count": 30,
   "id": "3d9a3988",
   "metadata": {},
   "outputs": [
    {
     "name": "stdout",
     "output_type": "stream",
     "text": [
      "Test Accuracy: 0.6266471449487555\n"
     ]
    }
   ],
   "source": [
    "_, predicted_values = torch.max(outputs, 1)\n",
    "predicted_values = predicted_values.numpy()\n",
    "true_values = test_y.numpy()\n",
    "\n",
    "test_accuracy = np.sum(predicted_values == true_values) / len(true_values)\n",
    "print (\"Test Accuracy:\", test_accuracy)\n",
    "\n"
   ]
  },
  {
   "cell_type": "code",
   "execution_count": 124,
   "id": "2c41932a",
   "metadata": {},
   "outputs": [],
   "source": [
    "import itertools\n",
    "\n",
    "# plot confusion matrix\n",
    "# code borrowed from scikit-learn.org\n",
    "def plot_confusion_matrix(cm, classes,\n",
    "                          normalize=False,\n",
    "                          title='Confusion matrix',\n",
    "                          cmap=plt.cm.Blues):\n",
    "    \"\"\"\n",
    "    This function prints and plots the confusion matrix.\n",
    "    Normalization can be applied by setting `normalize=True`.\n",
    "    \"\"\"\n",
    "    if normalize:\n",
    "        cm = cm.astype('float') / cm.sum(axis=1)[:, np.newaxis]\n",
    "        print(\"Normalized confusion matrix\")\n",
    "    else:\n",
    "        print('Confusion matrix, without normalization')\n",
    "\n",
    "    print(cm)\n",
    "\n",
    "    plt.imshow(cm, interpolation='nearest', cmap=cmap)\n",
    "    plt.title(title)\n",
    "    plt.colorbar()\n",
    "    tick_marks = np.arange(len(classes))\n",
    "    plt.xticks(tick_marks, classes, rotation=45)\n",
    "    plt.yticks(tick_marks, classes)\n",
    "\n",
    "    fmt = '.2f' if normalize else 'd'\n",
    "    thresh = cm.max() / 2.\n",
    "    for i, j in itertools.product(range(cm.shape[0]), range(cm.shape[1])):\n",
    "        plt.text(j, i, format(cm[i, j], fmt),\n",
    "                 horizontalalignment=\"center\",\n",
    "                 color=\"white\" if cm[i, j] > thresh else \"black\")\n",
    "\n",
    "    plt.tight_layout()\n",
    "    plt.ylabel('True label')\n",
    "    plt.xlabel('Predicted label')"
   ]
  },
  {
   "cell_type": "code",
   "execution_count": 125,
   "id": "653c3320",
   "metadata": {},
   "outputs": [
    {
     "name": "stdout",
     "output_type": "stream",
     "text": [
      "Confusion matrix, without normalization\n",
      "[[716 759]\n",
      " [488 769]]\n",
      "Normalized confusion matrix\n",
      "[[0.49 0.51]\n",
      " [0.39 0.61]]\n"
     ]
    },
    {
     "data": {
      "image/png": "[encoded data removed]",
      "text/plain": [
       "<Figure size 600x600 with 2 Axes>"
      ]
     },
     "metadata": {},
     "output_type": "display_data"
    },
    {
     "data": {
      "image/png": "[encoded data removed]",
      "text/plain": [
       "<Figure size 600x600 with 2 Axes>"
      ]
     },
     "metadata": {},
     "output_type": "display_data"
    }
   ],
   "source": [
    "from sklearn.metrics import classification_report, confusion_matrix\n",
    "\n",
    "cm_test = confusion_matrix(true_values, predicted_values)\n",
    "\n",
    "np.set_printoptions(precision=2)\n",
    "\n",
    "plt.figure(figsize=(6,6))\n",
    "plot_confusion_matrix(cm_test, classes=label_values, title='Confusion Matrix - Test Dataset')\n",
    "plt.figure(figsize=(6,6))\n",
    "plot_confusion_matrix(cm_test, classes=label_values, title='Confusion Matrix - Test Dataset', normalize=True)"
   ]
  },
  {
   "cell_type": "code",
   "execution_count": null,
   "id": "d0e5d314",
   "metadata": {},
   "outputs": [],
   "source": []
  },
  {
   "cell_type": "code",
   "execution_count": null,
   "id": "c02c4989",
   "metadata": {},
   "outputs": [],
   "source": []
  }
 ],
 "metadata": {
  "kernelspec": {
   "display_name": "Python 3 (ipykernel)",
   "language": "python",
   "name": "python3"
  },
  "language_info": {
   "codemirror_mode": {
    "name": "ipython",
    "version": 3
   },
   "file_extension": ".py",
   "mimetype": "text/x-python",
   "name": "python",
   "nbconvert_exporter": "python",
   "pygments_lexer": "ipython3",
   "version": "3.10.4"
  }
 },
 "nbformat": 4,
 "nbformat_minor": 5
}
