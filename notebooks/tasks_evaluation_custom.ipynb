{
 "cells": [
  {
   "cell_type": "code",
   "execution_count": 1,
   "id": "56bba13f",
   "metadata": {},
   "outputs": [
    {
     "name": "stderr",
     "output_type": "stream",
     "text": [
      "C:\\Users\\XinZhou\\anaconda3\\envs\\dna\\lib\\site-packages\\tqdm\\auto.py:22: TqdmWarning: IProgress not found. Please update jupyter and ipywidgets. See https://ipywidgets.readthedocs.io/en/stable/user_install.html\n",
      "  from .autonotebook import tqdm as notebook_tqdm\n",
      "C:\\Users\\XinZhou\\anaconda3\\envs\\dna\\lib\\site-packages\\torchaudio\\backend\\utils.py:62: UserWarning: No audio backend is available.\n",
      "  warnings.warn(\"No audio backend is available.\")\n"
     ]
    }
   ],
   "source": [
    "# import packages\n",
    "import pandas as pd\n",
    "import pyarrow.dataset as ds\n",
    "from datasets import Dataset\n",
    "import pyarrow as pa\n",
    "from datasets import *\n",
    "from transformers import *\n",
    "from tokenizers import *\n",
    "import os\n",
    "import json\n",
    "import sys\n",
    "from tokenizers.processors import BertProcessing\n",
    "import numpy as np"
   ]
  },
  {
   "cell_type": "code",
   "execution_count": 74,
   "id": "45c6a717",
   "metadata": {},
   "outputs": [],
   "source": [
    "# loading for different datasets\n",
    "\n",
    "MAX_LENGTH = 512\n",
    "batch_size = 8\n",
    "num_epochs = 5\n",
    "max_step_saves = 3\n",
    "test_only = False\n",
    "data_name = 'mvdsc' # poj, devign, draper, d2a, mvdsc, sysevr\n",
    "truncate_longer_samples = True\n",
    "# is_windows = sys.platform.startswith('win')\n",
    "# if is_windows:\n",
    "\n",
    "data_dir = \"..\\\\..\\\\cbert\\\\dna_data_rename_tag\"\n",
    "out_dir = 'result_{}'.format(data_name)\n",
    "\n",
    "bert_model_path = '..\\\\..\\\\cbert\\\\pretrained\\\\test_albert_NaCUT\\\\checkpoint'\n",
    "tokenizer_path = '..\\\\..\\\\cbert\\\\pretrained\\\\test_albert_NaCUT\\\\tokenizer.model'\n",
    "\n",
    "# bert_model_path = 'albert-base-v2'\n",
    "# tokenizer_path = 'albert-base-v2'\n",
    "\n",
    "# load data\n",
    "def get_data(file_path):\n",
    "    raw_df = pd.read_pickle(file_path)  \n",
    "    df = {'filename': [], 'text': [], 'label': []}\n",
    "    for i in range(len(raw_df['code'])):\n",
    "        df['filename'].append(raw_df['filename'][i])\n",
    "        code = raw_df['code'][i].split(';')\n",
    "        code = ' '.join(code)\n",
    "        df['text'].append(code)\n",
    "        df['label'].append(raw_df['label'][i])\n",
    "    df = pd.DataFrame(df)\n",
    "    return df\n",
    "\n",
    "# train_data = get_data('/scratch/xin/bert_source/mvdsc/tokenized_mvdsc_train.pkl')\n",
    "# valid_data = get_data('/scratch/xin/bert_source/mvdsc/tokenized_mvdsc_valid.pkl')\n",
    "if data_name == 'devign':\n",
    "    raw_data_path = os.path.join(data_dir, data_name, 'devign_all.pkl')\n",
    "    tokenized_data = get_data(raw_data_path)\n",
    "    train_data, valid_data, test_data = np.split(tokenized_data.sample(frac=1, random_state=2022), \n",
    "                   [int(.8*len(tokenized_data)), int(.9*len(tokenized_data))])\n",
    "elif data_name == 'mvdsc':\n",
    "    raw_data_path = os.path.join(data_dir, data_name, 'mvdsc_train.pkl')\n",
    "    train_data = get_data(raw_data_path)\n",
    "    raw_data_path = os.path.join(data_dir, data_name, 'mvdsc_valid.pkl')\n",
    "    valid_data = get_data(raw_data_path)\n",
    "    raw_data_path = os.path.join(data_dir, data_name, 'mvdsc_test.pkl')\n",
    "    test_data = get_data(raw_data_path)\n",
    "    \n",
    "\n",
    "from sklearn.model_selection import train_test_split\n",
    "train_data = train_data[:2000]\n",
    "valid_data = valid_data[:500]\n",
    "test_data = test_data[:500]\n",
    "\n",
    "# print(train_data.shape)\n",
    "# print(valid_data.shape)\n",
    "# print(test_data.shape)\n",
    "# print(train_data['text'][:10])"
   ]
  },
  {
   "cell_type": "code",
   "execution_count": 75,
   "id": "540c7751",
   "metadata": {},
   "outputs": [
    {
     "data": {
      "text/plain": [
       "[0, 1]"
      ]
     },
     "execution_count": 75,
     "metadata": {},
     "output_type": "execute_result"
    }
   ],
   "source": [
    "label_counts = pd.DataFrame(train_data['label'].value_counts())\n",
    "label_counts\n",
    "label_values = list(label_counts.index)\n",
    "order = list(pd.DataFrame(train_data['label'].value_counts()).index)\n",
    "label_values = [l for _,l in sorted(zip(order, label_values))]\n",
    "label_values"
   ]
  },
  {
   "cell_type": "code",
   "execution_count": 76,
   "id": "d60c19dc",
   "metadata": {},
   "outputs": [
    {
     "name": "stdout",
     "output_type": "stream",
     "text": [
      "2000 2000\n"
     ]
    }
   ],
   "source": [
    "train_texts = train_data['text'].values\n",
    "train_labels = train_data['label'].values\n",
    "\n",
    "valid_texts = valid_data['text'].values\n",
    "valid_labels = valid_data['label'].values\n",
    "\n",
    "test_texts = test_data['text'].values\n",
    "test_labels = test_data['label'].values\n",
    "\n",
    "\n",
    "print(len(train_texts), len(train_labels))"
   ]
  },
  {
   "cell_type": "code",
   "execution_count": 77,
   "id": "7778bd5b",
   "metadata": {},
   "outputs": [
    {
     "name": "stdout",
     "output_type": "stream",
     "text": [
      "min:  94\n",
      "number of zeros:  0\n",
      "max:  1641\n",
      "avg:  829.0135\n",
      "median:  823\n",
      "95%:  1504\n",
      "829.0135\n",
      "432.5954434880392\n"
     ]
    }
   ],
   "source": [
    "import statistics\n",
    "train_texts[0]\n",
    "text_lengths = [len(train_texts[i].split()) for i in range(len(train_texts))]\n",
    "print('min: ', min(text_lengths))\n",
    "print('number of zeros: ', len([item for item in text_lengths if item == 0]))\n",
    "print('max: ', max(sorted(text_lengths)))\n",
    "print('avg: ', sum(text_lengths) / len(text_lengths))\n",
    "print('median: ', sorted(text_lengths)[len(text_lengths) // 2])\n",
    "print('95%: ', sorted(text_lengths)[int(len(text_lengths)*0.95)])\n",
    "print(statistics.mean(text_lengths))\n",
    "print(statistics.stdev(text_lengths))"
   ]
  },
  {
   "cell_type": "code",
   "execution_count": 78,
   "id": "ad3e75ea",
   "metadata": {},
   "outputs": [
    {
     "name": "stderr",
     "output_type": "stream",
     "text": [
      "C:\\Users\\XinZhou\\AppData\\Local\\Temp\\ipykernel_16296\\2095679928.py:8: UserWarning: \n",
      "\n",
      "`distplot` is a deprecated function and will be removed in seaborn v0.14.0.\n",
      "\n",
      "Please adapt your code to use either `displot` (a figure-level function with\n",
      "similar flexibility) or `histplot` (an axes-level function for histograms).\n",
      "\n",
      "For a guide to updating your code to use the new functions, please see\n",
      "https://gist.github.com/mwaskom/de44147ed2974457ad6372750bbe5751\n",
      "\n",
      "  sns.distplot(text_lengths, hist=True, kde=False,\n"
     ]
    },
    {
     "data": {
      "text/plain": [
       "Text(0, 0.5, 'counts')"
      ]
     },
     "execution_count": 78,
     "metadata": {},
     "output_type": "execute_result"
    },
    {
     "data": {
      "image/png": "[encoded data removed]",
      "text/plain": [
       "<Figure size 640x480 with 1 Axes>"
      ]
     },
     "metadata": {},
     "output_type": "display_data"
    }
   ],
   "source": [
    "# Import the libraries\n",
    "import matplotlib.pyplot as plt\n",
    "import seaborn as sns\n",
    "# matplotlib histogram\n",
    "plt.hist(text_lengths, color = 'blue', edgecolor = 'black',\n",
    "         bins = int(180/5))\n",
    "# seaborn histogram\n",
    "sns.distplot(text_lengths, hist=True, kde=False, \n",
    "             bins=int(180/5), color = 'blue',\n",
    "             hist_kws={'edgecolor':'black'})\n",
    "# Add labels\n",
    "plt.title('Histogram of text length analysis')\n",
    "plt.xlabel('text length')\n",
    "plt.ylabel('counts')"
   ]
  },
  {
   "cell_type": "code",
   "execution_count": 79,
   "id": "d74ba9ae",
   "metadata": {},
   "outputs": [
    {
     "data": {
      "text/plain": [
       "1422"
      ]
     },
     "execution_count": 79,
     "metadata": {},
     "output_type": "execute_result"
    }
   ],
   "source": [
    "sum([1 for i in range(len(text_lengths)) if text_lengths[i] >= MAX_LENGTH])"
   ]
  },
  {
   "cell_type": "code",
   "execution_count": 80,
   "id": "8d075664",
   "metadata": {},
   "outputs": [
    {
     "name": "stderr",
     "output_type": "stream",
     "text": [
      "C:\\Users\\XinZhou\\anaconda3\\envs\\dna\\lib\\site-packages\\transformers\\tokenization_utils_base.py:1653: FutureWarning: Calling AlbertTokenizer.from_pretrained() with the path to a single file or url is deprecated and won't be possible anymore in v5. Use a model identifier or the path to a directory instead.\n",
      "  warnings.warn(\n",
      "loading file ..\\..\\cbert\\pretrained\\test_albert_NaCUT\\tokenizer.model\n",
      "Adding [CLS] to the vocabulary\n",
      "Adding [SEP] to the vocabulary\n",
      "Adding <pad> to the vocabulary\n",
      "Adding [MASK] to the vocabulary\n",
      "Special tokens have been added in the vocabulary, make sure the associated word embeddings are fine-tuned or trained.\n"
     ]
    },
    {
     "name": "stdout",
     "output_type": "stream",
     "text": [
      "tokenizer loaded ...\n"
     ]
    }
   ],
   "source": [
    "# ========================= load tokenizer START =========================\n",
    "# 30,522 vocab is BERT's default vocab size, feel free to tweak\n",
    "# vocab_size = 30000\n",
    "import transformers\n",
    "import sentencepiece as spm\n",
    "# maximum sequence length, lowering will result to faster training (when increasing batch size)\n",
    "# max_length = 512 # 768\n",
    "# from transformers import RobertaTokenizerFast\n",
    "print('tokenizer_path: ', tokenizer_path)\n",
    "# tokenizer = RobertaTokenizerFast.from_pretrained(tokenizer_path, max_len=512)\n",
    "tokenizer = transformers.AlbertTokenizer.from_pretrained(tokenizer_path)\n",
    "print('tokenizer loaded ...')\n",
    "# ========================= load tokenizer END =========================\n",
    "\n",
    "sys.exit(0)"
   ]
  },
  {
   "cell_type": "code",
   "execution_count": null,
   "id": "c19161df",
   "metadata": {},
   "outputs": [],
   "source": []
  },
  {
   "cell_type": "code",
   "execution_count": 82,
   "id": "f2d7f7a8",
   "metadata": {},
   "outputs": [],
   "source": [
    "# text_ids = [tokenizer.encode(text, max_length=300, pad_to_max_length=True) for text in texts]\n",
    "if not truncate_longer_samples:\n",
    "    #tokenizer(examples[\"text\"], return_special_tokens_mask=True)\n",
    "    train_text_dict = [tokenizer(t, return_special_tokens_mask=True) for t in train_texts]\n",
    "    valid_text_dict = [tokenizer(t, return_special_tokens_mask=True) for t in valid_texts]\n",
    "    test_text_dict = [tokenizer(t, return_special_tokens_mask=True) for t in test_texts]\n",
    "else:\n",
    "    max_length = MAX_LENGTH\n",
    "    train_text_dict = [tokenizer(t, truncation=True, padding='max_length', max_length=max_length, return_special_tokens_mask=True) for t in train_texts]\n",
    "    valid_text_dict = [tokenizer(t, truncation=True, padding=\"max_length\", max_length=max_length, return_special_tokens_mask=True) for t in valid_texts]\n",
    "    test_text_dict = [tokenizer(t, truncation=True, padding=\"max_length\", max_length=max_length, return_special_tokens_mask=True) for t in test_texts]"
   ]
  },
  {
   "cell_type": "code",
   "execution_count": 83,
   "id": "8ebe6c5c",
   "metadata": {},
   "outputs": [],
   "source": [
    "train_text_ids = [text_id['input_ids'] for text_id in train_text_dict]\n",
    "valid_text_ids = [text_id['input_ids'] for text_id in valid_text_dict]\n",
    "test_text_ids = [text_id['input_ids'] for text_id in test_text_dict]\n",
    "# print(train_text_ids[10])\n",
    "\n",
    "train_att_masks = [text_id['attention_mask'] for text_id in train_text_dict]\n",
    "valid_att_masks = [text_id['attention_mask'] for text_id in valid_text_dict]\n",
    "test_att_masks = [text_id['attention_mask'] for text_id in test_text_dict]\n",
    "# test_att_masks"
   ]
  },
  {
   "cell_type": "code",
   "execution_count": 84,
   "id": "fd2efc95",
   "metadata": {},
   "outputs": [],
   "source": [
    "from sklearn.model_selection import train_test_split\n",
    "train_x, train_m, train_y = train_text_ids, train_att_masks, train_labels\n",
    "val_x, val_m, val_y = valid_text_ids, valid_att_masks, valid_labels\n",
    "test_x, test_m, test_y = test_text_ids, test_att_masks, test_labels"
   ]
  },
  {
   "cell_type": "code",
   "execution_count": 85,
   "id": "c02640a1",
   "metadata": {},
   "outputs": [],
   "source": [
    "import torch\n",
    "\n",
    "train_x = torch.tensor(train_x)\n",
    "test_x = torch.tensor(test_x)\n",
    "val_x = torch.tensor(val_x)\n",
    "train_y = torch.tensor(train_y)\n",
    "test_y = torch.tensor(test_y)\n",
    "val_y = torch.tensor(val_y)\n",
    "train_m = torch.tensor(train_m)\n",
    "test_m = torch.tensor(test_m)\n",
    "val_m = torch.tensor(val_m)\n",
    "\n",
    "# print(train_x.shape)\n",
    "# print(test_x.shape)\n",
    "# print(val_x.shape)\n",
    "# print(train_y.shape)\n",
    "# print(test_y.shape)\n",
    "# print(val_y.shape)\n",
    "# print(train_m.shape)\n",
    "# print(test_m.shape)\n",
    "# print(val_m.shape)"
   ]
  },
  {
   "cell_type": "code",
   "execution_count": 86,
   "id": "c02a28f3",
   "metadata": {},
   "outputs": [],
   "source": [
    "import torch.nn as nn\n",
    "import torch\n",
    "import torch.nn.init as init\n",
    "import torch.nn.functional as F\n",
    "from torch.autograd import Variable\n",
    "import sys\n",
    "from transformers import RobertaForMaskedLM\n",
    "import transformers\n",
    "\n",
    "\n",
    "\n",
    "class BERTSourceBinaryClassification(nn.Module):\n",
    "    def __init__(self,checkpoint, num_labels): \n",
    "        super(BERTSourceBinaryClassification,self).__init__() \n",
    "        self.num_labels = num_labels \n",
    "        #print(num_labels)\n",
    "        hidden_features = 768\n",
    "        # config = AutoConfig.from_pretrained(checkpoint, output_hidden_states=True, output_attentions=True)\n",
    "        #self.model = AutoModel.from_pretrained(checkpoint, config=config)\n",
    "        config = AutoConfig.from_pretrained(checkpoint, output_attentions=True)\n",
    "        self.model = AutoModelForSequenceClassification.from_pretrained(checkpoint, config=config, num_labels=2)\n",
    "   \n",
    "    def forward_single(self, input_ids, labels):\n",
    "        outputs  = self.model(input_ids)\n",
    "        # hidden_states, pool_output, unknown, attention_weights\n",
    "        pooled_output = outputs[1]\n",
    "        attention_weights = outputs[-1][0]\n",
    "        return pooled_output, attention_weights\n",
    "    \n",
    "    \n",
    "    def forward(self, input_ids=None, labels=None,  max_len=MAX_LENGTH):\n",
    "        final_out  = self.model(input_ids)\n",
    "        loss = None\n",
    "        if labels is not None:\n",
    "            loss_fct = nn.CrossEntropyLoss()\n",
    "            loss = loss_fct(final_out.view(-1, self.num_labels), labels.view(-1))\n",
    "        return (loss, final_out), attention_weights_all\n",
    "    \n",
    "    \n",
    "    \n",
    "# class BERTSourceBinaryClassification(nn.Module):\n",
    "#     def __init__(self,checkpoint, num_labels): \n",
    "#         super(BERTSourceBinaryClassification,self).__init__() \n",
    "#         self.num_labels = num_labels \n",
    "#         #print(num_labels)\n",
    "#         hidden_features = 768\n",
    "#         config = AutoConfig.from_pretrained(checkpoint, output_hidden_states=True, output_attentions=True)\n",
    "#         self.model = AutoModel.from_pretrained(checkpoint, config=config)\n",
    "#         #self.model = AutoModelForSequenceClassification.from_pretrained(checkpoint, num_labels=hidden_features)\n",
    "#         #print(self.model)\n",
    "#         #print(self.model.config)\n",
    "#         self.dropout = nn.Dropout(0.1)\n",
    "#         self.classifier = nn.Linear(hidden_features * 1 * MAX_LENGTH//512, num_labels) # load and initialize weights\n",
    "#         #self.sigmoid = nn.Sigmoid()\n",
    "    \n",
    "#     def forward_single(self, input_ids, labels):\n",
    "#         outputs  = self.model(input_ids)\n",
    "#         # hidden_states, pool_output, unknown, attention_weights\n",
    "#         pooled_output = outputs[1]\n",
    "#         attention_weights = outputs[-1][0]\n",
    "#         return pooled_output, attention_weights\n",
    "    \n",
    "    \n",
    "#     def forward(self, input_ids=None, labels=None,  max_len=MAX_LENGTH):\n",
    "#         #Extract outputs from the body\n",
    "#         final_logits = None\n",
    "#         final_attention_weights = None\n",
    "#         # pick the most suspicous one for final decision\n",
    "#         last_all = None\n",
    "#         attn_all = None\n",
    "#         attention_weights_all = None\n",
    "#         for i in range(0, max_len, 512):\n",
    "#             last, attention_weights = self.forward_single(input_ids[:,i:i+512], labels)\n",
    "#             if last_all is None:\n",
    "#                 last_all = last\n",
    "#                 attention_weights_all = attention_weights\n",
    "#             else:\n",
    "#                 last_all = torch.cat([last_all,  last_all], dim=1)\n",
    "#                 attention_weights_all = torch.cat([attention_weights_all,  attention_weights], dim=-1)\n",
    "                \n",
    "#         final_out = self.dropout(last_all)\n",
    "#         final_out = self.classifier(final_out)\n",
    "#         loss = None\n",
    "#         if labels is not None:\n",
    "#             loss_fct = nn.CrossEntropyLoss()\n",
    "#             loss = loss_fct(final_out.view(-1, self.num_labels), labels.view(-1))\n",
    "#         return (loss, final_out), attention_weights_all\n",
    "\n"
   ]
  },
  {
   "cell_type": "code",
   "execution_count": 87,
   "id": "43f8ca24",
   "metadata": {},
   "outputs": [
    {
     "name": "stderr",
     "output_type": "stream",
     "text": [
      "loading configuration file ..\\..\\cbert\\pretrained\\test_albert_NaCUT\\checkpoint\\config.json\n",
      "Model config AlbertConfig {\n",
      "  \"_name_or_path\": \"..\\\\..\\\\cbert\\\\pretrained\\\\test_albert_NaCUT\\\\checkpoint\",\n",
      "  \"architectures\": [\n",
      "    \"AlbertForMaskedLM\"\n",
      "  ],\n",
      "  \"attention_probs_dropout_prob\": 0,\n",
      "  \"bos_token_id\": 2,\n",
      "  \"classifier_dropout_prob\": 0.1,\n",
      "  \"embedding_size\": 128,\n",
      "  \"eos_token_id\": 3,\n",
      "  \"hidden_act\": \"gelu_new\",\n",
      "  \"hidden_dropout_prob\": 0,\n",
      "  \"hidden_size\": 768,\n",
      "  \"initializer_range\": 0.02,\n",
      "  \"inner_group_num\": 1,\n",
      "  \"intermediate_size\": 8192,\n",
      "  \"layer_norm_eps\": 1e-12,\n",
      "  \"max_position_embeddings\": 512,\n",
      "  \"model_type\": \"albert\",\n",
      "  \"num_attention_heads\": 12,\n",
      "  \"num_hidden_groups\": 1,\n",
      "  \"num_hidden_layers\": 12,\n",
      "  \"output_attentions\": true,\n",
      "  \"output_hidden_states\": true,\n",
      "  \"pad_token_id\": 0,\n",
      "  \"position_embedding_type\": \"absolute\",\n",
      "  \"torch_dtype\": \"float32\",\n",
      "  \"transformers_version\": \"4.18.0\",\n",
      "  \"type_vocab_size\": 2,\n",
      "  \"vocab_size\": 32010\n",
      "}\n",
      "\n",
      "loading weights file ..\\..\\cbert\\pretrained\\test_albert_NaCUT\\checkpoint\\pytorch_model.bin\n",
      "Some weights of the model checkpoint at ..\\..\\cbert\\pretrained\\test_albert_NaCUT\\checkpoint were not used when initializing AlbertModel: ['predictions.dense.bias', 'predictions.LayerNorm.weight', 'predictions.decoder.weight', 'predictions.dense.weight', 'predictions.decoder.bias', 'predictions.LayerNorm.bias', 'predictions.bias']\n",
      "- This IS expected if you are initializing AlbertModel from the checkpoint of a model trained on another task or with another architecture (e.g. initializing a BertForSequenceClassification model from a BertForPreTraining model).\n",
      "- This IS NOT expected if you are initializing AlbertModel from the checkpoint of a model that you expect to be exactly identical (initializing a BertForSequenceClassification model from a BertForSequenceClassification model).\n",
      "Some weights of AlbertModel were not initialized from the model checkpoint at ..\\..\\cbert\\pretrained\\test_albert_NaCUT\\checkpoint and are newly initialized: ['albert.pooler.bias', 'albert.pooler.weight']\n",
      "You should probably TRAIN this model on a down-stream task to be able to use it for predictions and inference.\n"
     ]
    },
    {
     "name": "stdout",
     "output_type": "stream",
     "text": [
      "..\\..\\cbert\\pretrained\\test_albert_NaCUT\\checkpoint\n",
      "1\n"
     ]
    },
    {
     "name": "stderr",
     "output_type": "stream",
     "text": [
      "C:\\Users\\XinZhou\\anaconda3\\envs\\dna\\lib\\site-packages\\transformers\\optimization.py:306: FutureWarning: This implementation of AdamW is deprecated and will be removed in a future version. Use the PyTorch implementation torch.optim.AdamW instead, or set `no_deprecation_warning=True` to disable this warning\n",
      "  warnings.warn(\n"
     ]
    }
   ],
   "source": [
    "# from transformers import DistilBertForSequenceClassification, AdamW, DistilBertConfig\n",
    "# num_labels = len(set(labels))\n",
    "# model = DistilBertForSequenceClassification.from_pretrained('distilbert-base-uncased', num_labels=num_labels,\n",
    "#                                                             output_attentions=False, output_hidden_states=False)\n",
    "\n",
    "# model_path = os.path.join(bert_dir, \"checkpoint-60000\")\n",
    "print(bert_model_path)\n",
    "model = BERTSourceBinaryClassification(checkpoint=bert_model_path, num_labels=2)\n",
    "\n",
    "import torch.optim as optim\n",
    "\n",
    "learning_rate = 1e-4\n",
    "adam_epsilon = 1e-6\n",
    "\n",
    "no_decay = ['bias', 'LayerNorm.weight']\n",
    "\n",
    "optimizer_grouped_parameters = [\n",
    "    {'params': [p for n, p in model.named_parameters() if not any(nd in n for nd in no_decay)],\n",
    "     'weight_decay_rate': 0.0001},\n",
    "    {'params': [p for n, p in model.named_parameters() if any(nd in n for nd in no_decay)],\n",
    "     'weight_decay_rate': 0.0}\n",
    "]\n",
    "optimizer = AdamW(optimizer_grouped_parameters, lr=learning_rate, eps=adam_epsilon)\n",
    "# optimizer = optim.Adam(model.parameters, lr=learning_rate)\n",
    "\n",
    "# os.environ['CUDA_VISIBLE_DEVICES'] = '0,1,2,3'\n",
    "# os.environ['CUDA_VISIBLE_DEVICES'] = '0'\n",
    "multi_gpu = torch.cuda.device_count() \n",
    "print(multi_gpu)\n",
    "if multi_gpu > 1:\n",
    "    print(\"Let's use\", torch.cuda.device_count(), \"GPUs!\")\n",
    "    # dim = 0 [30, xxx] -> [10, ...], [10, ...], [10, ...] on 3 GPUs\n",
    "    model = nn.DataParallel(model)\n",
    "# model = nn.DataParallel(model)\n",
    "\n",
    "# optimizer = optim.Adam(optimizer_grouped_parameters, lr=learning_rate, eps=adam_epsilon)\n",
    "\n",
    "# device = torch.device('cuda' if torch.cuda.is_available() else 'cpu')\n",
    "# print(device)\n",
    "model = model.cuda()\n",
    "# sys.exit(0)\n",
    "\n",
    "\n"
   ]
  },
  {
   "cell_type": "code",
   "execution_count": 88,
   "id": "ea48ae55",
   "metadata": {},
   "outputs": [
    {
     "name": "stdout",
     "output_type": "stream",
     "text": [
      "tensor([[32000,    50,     3,  ...,     3,    15, 32001],\n",
      "        [32000,    50,     3,  ...,   136,   145, 32001],\n",
      "        [32000,    50,     3,  ...,    41,     3, 32001],\n",
      "        ...,\n",
      "        [32000,    50,     3,  ..., 32002, 32002, 32002],\n",
      "        [32000,    50,     3,  ..., 32002, 32002, 32002],\n",
      "        [32000,    50,     3,  ...,    43,    22, 32001]])\n"
     ]
    }
   ],
   "source": [
    "from torch.utils.data import TensorDataset, DataLoader, RandomSampler, SequentialSampler\n",
    "\n",
    "print(train_x)\n",
    "train_data = TensorDataset(train_x, train_m, train_y)\n",
    "train_sampler = list(range(len(train_data)))\n",
    "\n",
    "# train_sampler = train_sampler[:100]\n",
    "train_sampler = RandomSampler(train_data)\n",
    "train_dataloader = DataLoader(train_data, sampler=train_sampler, batch_size=batch_size)\n",
    "\n",
    "val_data = TensorDataset(val_x, val_m, val_y)\n",
    "val_sampler = list(range(len(val_data)))\n",
    "# val_sampler = val_sampler[:100]\n",
    "val_sampler = SequentialSampler(val_data)\n",
    "val_dataloader = DataLoader(val_data, sampler=val_sampler, batch_size=batch_size)\n",
    "\n",
    "from transformers import get_linear_schedule_with_warmup\n",
    "\n",
    "total_steps = len(train_dataloader) * num_epochs\n",
    "scheduler = get_linear_schedule_with_warmup(optimizer, num_warmup_steps=0, num_training_steps=total_steps)\n"
   ]
  },
  {
   "cell_type": "code",
   "execution_count": 89,
   "id": "7aa7865b",
   "metadata": {},
   "outputs": [
    {
     "name": "stdout",
     "output_type": "stream",
     "text": [
      "number of iterations:  250\n"
     ]
    }
   ],
   "source": [
    "import time\n",
    "\n",
    "def epoch_time(start_time, end_time):\n",
    "    elapsed_time = end_time - start_time\n",
    "    elapsed_mins = int(elapsed_time / 60)\n",
    "    elapsed_secs = int(elapsed_time - (elapsed_mins * 60))\n",
    "    return elapsed_mins, elapsed_secs\n",
    "\n",
    "import numpy as np\n",
    "import random\n",
    "\n",
    "seed_val = 111\n",
    "random.seed(seed_val)\n",
    "np.random.seed(seed_val)\n",
    "torch.manual_seed(seed_val)\n",
    "torch.cuda.manual_seed_all(seed_val)\n",
    "\n",
    "import pickle\n",
    "import os\n",
    "\n",
    "if not os.path.exists(out_dir):\n",
    "    os.makedirs(out_dir)\n",
    "    \n",
    "# save model \n",
    "\n",
    "def save_model(model, train_losses, val_losses, out_dir_model):\n",
    "\n",
    "    if not os.path.exists(out_dir_model):\n",
    "        os.makedirs(out_dir_model)\n",
    "    \n",
    "    PATH = os.path.join(out_dir_model, 'BERTSourceBinaryClassification.pt')\n",
    "\n",
    "    torch.save(model.state_dict(), PATH)\n",
    "\n",
    "    with open(out_dir_model + '/train_losses.pkl', 'wb') as f:\n",
    "        pickle.dump(train_losses, f)\n",
    "\n",
    "    with open(out_dir_model + '/val_losses.pkl', 'wb') as f:\n",
    "        pickle.dump(val_losses, f)\n",
    "\n",
    "save_step_at = len(train_dataloader)\n",
    "print('number of iterations: ', len(train_dataloader))\n"
   ]
  },
  {
   "cell_type": "code",
   "execution_count": null,
   "id": "64535cf2",
   "metadata": {},
   "outputs": [
    {
     "name": "stdout",
     "output_type": "stream",
     "text": [
      "num_epochs:  5\n"
     ]
    },
    {
     "name": "stderr",
     "output_type": "stream",
     "text": [
      "250it [01:34,  2.64it/s]\n"
     ]
    },
    {
     "name": "stdout",
     "output_type": "stream",
     "text": [
      "\n",
      "Train loss after itaration 1: 0.721928\n",
      "Validation loss after itaration 1: 0.695310\n",
      "val_losses:  [] 0.6953104734420776\n",
      "Time: 1m 43s\n"
     ]
    },
    {
     "name": "stderr",
     "output_type": "stream",
     "text": [
      "249it [01:38,  2.46it/s]"
     ]
    },
    {
     "name": "stdout",
     "output_type": "stream",
     "text": [
      "saved as:  ./result_mvdsc/classification_model_500\n"
     ]
    },
    {
     "name": "stderr",
     "output_type": "stream",
     "text": [
      "250it [01:39,  2.50it/s]\n"
     ]
    },
    {
     "name": "stdout",
     "output_type": "stream",
     "text": [
      "\n",
      "Train loss after itaration 2: 0.715457\n",
      "Validation loss after itaration 2: 0.736774\n",
      "val_losses:  [0.6953104734420776] 0.7367736101150513\n",
      "Time: 1m 49s\n"
     ]
    },
    {
     "name": "stderr",
     "output_type": "stream",
     "text": [
      "250it [01:40,  2.49it/s]\n"
     ]
    },
    {
     "name": "stdout",
     "output_type": "stream",
     "text": [
      "\n",
      "Train loss after itaration 3: 0.697116\n",
      "Validation loss after itaration 3: 0.695616\n",
      "val_losses:  [0.6953104734420776, 0.7367736101150513] 0.6956155300140381\n",
      "Time: 1m 49s\n"
     ]
    },
    {
     "name": "stderr",
     "output_type": "stream",
     "text": [
      "249it [01:38,  2.61it/s]"
     ]
    },
    {
     "name": "stdout",
     "output_type": "stream",
     "text": [
      "saved as:  ./result_mvdsc/classification_model_1000\n"
     ]
    },
    {
     "name": "stderr",
     "output_type": "stream",
     "text": [
      "250it [01:39,  2.51it/s]\n"
     ]
    },
    {
     "name": "stdout",
     "output_type": "stream",
     "text": [
      "\n",
      "Train loss after itaration 4: 0.695342\n",
      "Validation loss after itaration 4: 0.693732\n",
      "val_losses:  [0.6953104734420776, 0.7367736101150513, 0.6956155300140381] 0.693731963634491\n",
      "the best model updated\n",
      "saved as:  ./result_mvdsc/classification_model_best\n",
      "Time: 1m 48s\n"
     ]
    },
    {
     "name": "stderr",
     "output_type": "stream",
     "text": [
      "219it [01:23,  2.61it/s]"
     ]
    }
   ],
   "source": [
    "model.train()\n",
    "\n",
    "if not test_only:\n",
    "    from tqdm import tqdm\n",
    "    train_losses = []\n",
    "    val_losses = []\n",
    "    num_mb_train = len(train_dataloader)\n",
    "    num_mb_val = len(val_dataloader)\n",
    "    current_step = 0\n",
    "    saved_steps = []\n",
    "    if num_mb_val == 0:\n",
    "        num_mb_val = 1\n",
    "\n",
    "    # print('number of iterations: ', len(train_dataloader), len(train_loader_extracted))\n",
    "    print('num_epochs: ', num_epochs)\n",
    "\n",
    "    loss_fct = nn.CrossEntropyLoss()\n",
    "\n",
    "    for n in range(num_epochs):\n",
    "        train_loss = 0\n",
    "        val_loss = 0\n",
    "        start_time = time.time()\n",
    "        #for k, (data1, data2) in enumerate(zip(train_dataloader, train_loader_extracted)):\n",
    "        for k, (mb_x, _, mb_y) in tqdm(enumerate(train_dataloader)):\n",
    "            optimizer.zero_grad()\n",
    "            \n",
    "            mb_x = mb_x.cuda()\n",
    "            mb_y = mb_y.cuda()\n",
    "            outputs, _, = model(mb_x, labels=mb_y)\n",
    "\n",
    "            loss = outputs[0]\n",
    "\n",
    "            if multi_gpu > 1:\n",
    "                loss = loss.sum()\n",
    "\n",
    "            loss.backward()\n",
    "            torch.nn.utils.clip_grad_norm_(model.parameters(), 1.0)\n",
    "            optimizer.step()\n",
    "            scheduler.step()\n",
    "            current_step += 1\n",
    "            train_loss += loss.data / num_mb_train\n",
    "\n",
    "            if current_step % save_step_at == 0:\n",
    "                saved_steps.append(current_step)\n",
    "                out_dir_model = './{}/classification_model_{}'.format(out_dir, saved_steps[-1])\n",
    "                print('saved as: ', out_dir_model)\n",
    "                if len(saved_steps) > max_step_saves:\n",
    "                    delete_dir = './{}/classification_model_{}'.format(out_dir, saved_steps[-(max_step_saves+1)])\n",
    "                    os.system('rm -r {}'.format(delete_dir))\n",
    "                save_model(model, train_losses, val_losses, out_dir_model)\n",
    "\n",
    "\n",
    "        print (\"\\nTrain loss after itaration %i: %f\" % (n+1, train_loss))\n",
    "        train_losses.append(train_loss.cpu())\n",
    "\n",
    "        with torch.no_grad():\n",
    "            model.eval()\n",
    "\n",
    "            for k, (mb_x, _, mb_y) in enumerate(val_dataloader):\n",
    "                mb_x = mb_x.cuda()\n",
    "                #mb_m = mb_m.cuda()\n",
    "                mb_y = mb_y.cuda()\n",
    "\n",
    "                outputs, _ = model(mb_x,  labels=mb_y)\n",
    "                loss = outputs[0]\n",
    "                if multi_gpu > 1:\n",
    "                    loss = loss.sum()\n",
    "                #loss = model_loss(outputs[1], mb_y)\n",
    "\n",
    "                val_loss += loss.data / num_mb_val\n",
    "\n",
    "            print (\"Validation loss after itaration %i: %f\" % (n+1, val_loss))\n",
    "            # save the best\n",
    "            print('val_losses: ', val_losses, float(val_loss.cpu()))\n",
    "            if val_losses and float(val_loss.cpu()) <= min(val_losses):\n",
    "                out_dir_model = './{}/classification_model_best'.format(out_dir)\n",
    "                print('the best model updated')\n",
    "                print('saved as: ', out_dir_model)\n",
    "                save_model(model, train_losses, val_losses, out_dir_model)\n",
    "            val_losses.append(float(val_loss.cpu()))\n",
    "\n",
    "        end_time = time.time()\n",
    "        epoch_mins, epoch_secs = epoch_time(start_time, end_time)\n",
    "        print(f'Time: {epoch_mins}m {epoch_secs}s')\n",
    "        if len(val_losses) > 3 and float(val_loss.cpu()) > max(val_losses[-4:-1]):\n",
    "            break"
   ]
  },
  {
   "cell_type": "code",
   "execution_count": 69,
   "id": "95b99602",
   "metadata": {},
   "outputs": [
    {
     "name": "stdout",
     "output_type": "stream",
     "text": [
      "[0.9171069264411926, 0.6922087073326111, 0.6870942115783691, 0.714285671710968]\n"
     ]
    },
    {
     "data": {
      "text/plain": [
       "[<matplotlib.lines.Line2D at 0x1cf76814520>]"
      ]
     },
     "execution_count": 69,
     "metadata": {},
     "output_type": "execute_result"
    },
    {
     "data": {
      "image/png": "[encoded data removed]",
      "text/plain": [
       "<Figure size 640x480 with 1 Axes>"
      ]
     },
     "metadata": {},
     "output_type": "display_data"
    }
   ],
   "source": [
    "\n",
    "# out_dir_model = '{}/classification_model_4000'.format(out_dir)\n",
    "\n",
    "test_dir_model = '{}/classification_model_1250'.format(out_dir)\n",
    "\n",
    "PATH = os.path.join(test_dir_model, 'BERTSourceBinaryClassification.pt')\n",
    "model.load_state_dict(torch.load(PATH))\n",
    "model.eval()\n",
    "\n",
    "with open(test_dir_model + '/train_losses.pkl', 'rb') as f:\n",
    "    train_losses = pickle.load(f)\n",
    "    \n",
    "with open(test_dir_model + '/val_losses.pkl', 'rb') as f:\n",
    "    val_losses = pickle.load(f)\n",
    "\n",
    "print(val_losses)\n",
    "from matplotlib import pyplot as plt\n",
    "%matplotlib inline\n",
    "\n",
    "plt.figure()\n",
    "plt.plot(train_losses)\n",
    "plt.plot(val_losses)"
   ]
  },
  {
   "cell_type": "code",
   "execution_count": 70,
   "id": "fd8a9f46",
   "metadata": {},
   "outputs": [
    {
     "name": "stdout",
     "output_type": "stream",
     "text": [
      "num of iterations:  50\n"
     ]
    },
    {
     "name": "stderr",
     "output_type": "stream",
     "text": [
      "50it [00:02, 22.17it/s]\n"
     ]
    }
   ],
   "source": [
    "from tqdm import tqdm\n",
    "# test_data = test_data[:100]\n",
    "test_data = TensorDataset(test_x, test_m)\n",
    "test_sampler = SequentialSampler(test_data)\n",
    "test_dataloader = DataLoader(test_data, sampler=test_sampler, batch_size=batch_size)\n",
    "\n",
    "\n",
    "outputs = []\n",
    "print('num of iterations: ', len(test_dataloader))\n",
    "with torch.no_grad():\n",
    "    for k, (mb_x, _) in tqdm(enumerate(test_dataloader)):\n",
    "        mb_x = mb_x.cuda()\n",
    "        #mb_m = mb_m.cuda()\n",
    "        output, attention_weights = model(mb_x)\n",
    "        outputs.append(output[1].to('cpu'))\n"
   ]
  },
  {
   "cell_type": "code",
   "execution_count": 71,
   "id": "8d83f660",
   "metadata": {},
   "outputs": [
    {
     "name": "stdout",
     "output_type": "stream",
     "text": [
      "Test Accuracy: 0.55\n"
     ]
    }
   ],
   "source": [
    "outputs = torch.cat(outputs)\n",
    "# print(outputs)\n",
    "_, predicted_values = torch.max(outputs, 1)\n",
    "predicted_values = predicted_values.numpy()\n",
    "true_values = test_y.numpy()\n",
    "\n",
    "test_accuracy = np.sum(predicted_values == true_values) / len(true_values)\n",
    "print (\"Test Accuracy:\", test_accuracy)\n"
   ]
  },
  {
   "cell_type": "code",
   "execution_count": 72,
   "id": "e4ffc26b",
   "metadata": {},
   "outputs": [],
   "source": [
    "import itertools\n",
    "\n",
    "# plot confusion matrix\n",
    "# code borrowed from scikit-learn.org\n",
    "def plot_confusion_matrix(cm, classes,\n",
    "                          normalize=False,\n",
    "                          title='Confusion matrix',\n",
    "                          cmap=plt.cm.Blues):\n",
    "    \"\"\"\n",
    "    This function prints and plots the confusion matrix.\n",
    "    Normalization can be applied by setting `normalize=True`.\n",
    "    \"\"\"\n",
    "    if normalize:\n",
    "        cm = cm.astype('float') / cm.sum(axis=1)[:, np.newaxis]\n",
    "        print(\"Normalized confusion matrix\")\n",
    "    else:\n",
    "        print('Confusion matrix, without normalization')\n",
    "\n",
    "    print(cm)\n",
    "\n",
    "    plt.imshow(cm, interpolation='nearest', cmap=cmap)\n",
    "    plt.title(title)\n",
    "    plt.colorbar()\n",
    "    tick_marks = np.arange(len(classes))\n",
    "    plt.xticks(tick_marks, classes, rotation=45)\n",
    "    plt.yticks(tick_marks, classes)\n",
    "\n",
    "    fmt = '.2f' if normalize else 'd'\n",
    "    thresh = cm.max() / 2.\n",
    "    for i, j in itertools.product(range(cm.shape[0]), range(cm.shape[1])):\n",
    "        plt.text(j, i, format(cm[i, j], fmt),\n",
    "                 horizontalalignment=\"center\",\n",
    "                 color=\"white\" if cm[i, j] > thresh else \"black\")\n",
    "\n",
    "    plt.tight_layout()\n",
    "    plt.ylabel('True label')\n",
    "    plt.xlabel('Predicted label')"
   ]
  },
  {
   "cell_type": "code",
   "execution_count": 73,
   "id": "cef4f9b3",
   "metadata": {},
   "outputs": [
    {
     "name": "stdout",
     "output_type": "stream",
     "text": [
      "Confusion matrix, without normalization\n",
      "[[55  0]\n",
      " [45  0]]\n",
      "Normalized confusion matrix\n",
      "[[1. 0.]\n",
      " [1. 0.]]\n"
     ]
    },
    {
     "data": {
      "image/png": "[encoded data removed]",
      "text/plain": [
       "<Figure size 600x600 with 2 Axes>"
      ]
     },
     "metadata": {},
     "output_type": "display_data"
    },
    {
     "data": {
      "image/png": "[encoded data removed]",
      "text/plain": [
       "<Figure size 600x600 with 2 Axes>"
      ]
     },
     "metadata": {},
     "output_type": "display_data"
    }
   ],
   "source": [
    "from sklearn.metrics import classification_report, confusion_matrix\n",
    "\n",
    "cm_test = confusion_matrix(true_values, predicted_values)\n",
    "\n",
    "np.set_printoptions(precision=2)\n",
    "\n",
    "plt.figure(figsize=(6,6))\n",
    "plot_confusion_matrix(cm_test, classes=label_values, title='Confusion Matrix - Test Dataset')\n",
    "plt.figure(figsize=(6,6))\n",
    "plot_confusion_matrix(cm_test, classes=label_values, title='Confusion Matrix - Test Dataset', normalize=True)"
   ]
  },
  {
   "cell_type": "code",
   "execution_count": 29,
   "id": "f57763f2",
   "metadata": {},
   "outputs": [
    {
     "name": "stdout",
     "output_type": "stream",
     "text": [
      "num of iterations:  13\n"
     ]
    },
    {
     "name": "stderr",
     "output_type": "stream",
     "text": [
      "0it [00:00, ?it/s]"
     ]
    },
    {
     "name": "stdout",
     "output_type": "stream",
     "text": [
      "original code:  translation_unit void function_declarator CWE121_Stack_Based_Buffer_Overflow__src_char_declare_cpy_01_bad argument_list ( ) compound_statement { declaration char pointer_declarator * expression_statement charPointerDefUsePass   declaration char array_declarator charDefCall [ number_literal 8 9 5 ]   expression_statement charPointerDefUsePass = array_declarator charDefCall   expression_statement memset argument_list ( expression_statement charPointerDefUsePass , char_literal ' ERROR A char_literal ' , number_literal 3 1 6 )   expression_statement charPointerDefUsePass [ number_literal 6 5 7 ] = char_literal ' escape_sequence \\0 char_literal '   expression_statement charPointerDefUsePass [ number_literal 6 3 5 ] = char_literal ' char_literal '   expression_statement charPointerDefUsePass [ number_literal 5 9 6 ] = char_literal ' char_literal '   declaration char init_declarator charDefPass [ number_literal 1 4 5 ] = string_literal \" \"   expression_statement strcpy argument_list ( init_declarator charDefPass , expression_statement charPointerDefUsePass )   expression_statement printLine argument_list ( expression_statement charPointerDefUsePass )   } 1165\n",
      "label:  1\n"
     ]
    },
    {
     "name": "stderr",
     "output_type": "stream",
     "text": [
      "\n"
     ]
    }
   ],
   "source": [
    "\n",
    "from bertviz import model_view\n",
    "from tqdm import tqdm\n",
    "# test_data = test_data[:100]\n",
    "test_data = TensorDataset(test_x, test_m)\n",
    "test_sampler = SequentialSampler(test_data)\n",
    "test_dataloader = DataLoader(test_data, sampler=test_sampler, batch_size=batch_size)\n",
    "\n",
    "\n",
    "outputs = []\n",
    "print('num of iterations: ', len(test_dataloader))\n",
    "with torch.no_grad():\n",
    "    for k, (mb_x, _) in tqdm(enumerate(test_dataloader)):\n",
    "        mb_x = mb_x.cuda()\n",
    "        output, attention_weights = model(mb_x)\n",
    "        outputs.append(output[1].to('cpu'))\n",
    "        break\n",
    "\n",
    "# train_text_ids = [text_id['input_ids'] for text_id in train_text_dict]\n",
    "# valid_text_ids = [text_id['input_ids'] for text_id in valid_text_dict]\n",
    "# test_text_ids = [text_id['input_ids'] for text_id in test_text_dict]\n",
    "\n",
    "# train_att_masks = [text_id['attention_mask'] for text_id in train_text_dict]\n",
    "# valid_att_masks = [text_id['attention_mask'] for text_id in valid_text_dict]\n",
    "# test_att_masks = [text_id['attention_mask'] for text_id in test_text_dict]\n",
    "# train_texts = train_data['text'].values\n",
    "# train_labels = train_data['label'].values\n",
    "\n",
    "sample_index = 11\n",
    "print('original code: ', train_texts[sample_index], len(train_texts[sample_index]))\n",
    "print('label: ', train_labels[sample_index])\n",
    "# print(train_text_ids[sample_index], len(train_text_ids[sample_index]))\n",
    "input_text = train_text_ids[sample_index]\n",
    "\n",
    "# # print(attention_weights.shape)\n",
    "# attn_weights = attention_weights[0][-1]\n",
    "# attn_weights = torch.sum(attn_weights, 0)\n",
    "# # attn_weights = attn_weights[-1]\n",
    "# print(attn_weights.shape)\n",
    "tokens = tokenizer.convert_ids_to_tokens(input_text)  # Convert input ids to token strings\n",
    "# print(tokens)\n",
    "# print(len(tokens), len(attn_weights))\n",
    "# tokens = tokens\n",
    "# attn_weights = attn_weights\n",
    "# # print(attn_weights[:200])"
   ]
  },
  {
   "cell_type": "code",
   "execution_count": 30,
   "id": "5804a668",
   "metadata": {},
   "outputs": [],
   "source": [
    "import numpy as np\n",
    "import matplotlib\n",
    "import matplotlib.pyplot as plt\n",
    "\n",
    "\n",
    "\n",
    "\n",
    "def colorize(words, color_array):\n",
    "    cmap=matplotlib.cm.Blues\n",
    "    template = '<span class=\"barcode\"; style=\"color: black; background-color: {}\">{}</span>'\n",
    "    colored_string = ''\n",
    "    for i, (word, color) in enumerate(zip(words, color_array)):\n",
    "        if word == '[PAD]' or 'unused' in word or word == '<pad>':\n",
    "            continue\n",
    "        color = matplotlib.colors.rgb2hex(cmap(color)[:3])\n",
    "        #print(color)\n",
    "        if not word.isascii():\n",
    "            continue\n",
    "        if i % 20 == 0:\n",
    "            colored_string += template.format(color, '&nbsp' + str(word)  + '&nbsp <br>')\n",
    "        else:\n",
    "            colored_string += template.format(color, '&nbsp' + str(word)  + '&nbsp')\n",
    "    return colored_string\n",
    "\n",
    "# words = 'The quick brown fox jumps over the lazy dog'.split()\n",
    "words = tokens\n",
    "# print(words)\n",
    "color_array = np.random.rand(len(words))\n",
    "s = colorize(words, color_array)\n",
    "\n",
    "\n",
    "# or simply save in an html file and open in browser\n",
    "with open('colorize.html', 'w') as f:\n",
    "    f.write(s)"
   ]
  },
  {
   "cell_type": "code",
   "execution_count": 208,
   "id": "a250000c",
   "metadata": {},
   "outputs": [],
   "source": [
    "\n",
    "# from bertviz import model_view\n",
    "# from tqdm import tqdm\n",
    "# # test_data = test_data[:100]\n",
    "# test_data = TensorDataset(test_x, test_m)\n",
    "# test_sampler = SequentialSampler(test_data)\n",
    "# test_dataloader = DataLoader(test_data, sampler=test_sampler, batch_size=batch_size)\n",
    "\n",
    "\n",
    "# outputs = []\n",
    "# print('num of iterations: ', len(test_dataloader))\n",
    "# with torch.no_grad():\n",
    "#     for k, (mb_x, mb_m) in tqdm(enumerate(test_dataloader)):\n",
    "#         mb_x = mb_x.cuda()\n",
    "#         mb_m = mb_m.cuda()\n",
    "#         output, attention_weights = model(mb_x, attention_mask=mb_m, max_len=MAX_LENGTH, opt='mean')\n",
    "#         outputs.append(output[1].to('cpu'))\n",
    "#         break\n",
    "        \n",
    "\n",
    "# # from transformers import AutoTokenizer, AutoModel, utils\n",
    "# # from bertviz import model_view\n",
    "# # utils.logging.set_verbosity_error()  # Suppress standard warnings\n",
    "\n",
    "# # model_name = \"microsoft/xtremedistil-l12-h384-uncased\"  # Find popular HuggingFace models here: https://huggingface.co/models\n",
    "# # input_text = \"The cat sat on the mat\"  \n",
    "# # model = AutoModel.from_pretrained(model_name, output_attentions=True)  # Configure model to return attention values\n",
    "# # tokenizer = AutoTokenizer.from_pretrained(model_name)\n",
    "# # inputs = tokenizer.encode(input_text, return_tensors='pt')  # Tokenize input text\n",
    "# # outputs = model(inputs)  # Run model\n",
    "# # attention = outputs[-1]  # Retrieve attention from model outputs\n",
    "# # tokens = tokenizer.convert_ids_to_tokens(inputs[0])  # Convert input ids to token strings\n",
    "# # model_view(attention, tokens)  # Display model view"
   ]
  },
  {
   "cell_type": "code",
   "execution_count": 23,
   "id": "3d9a3988",
   "metadata": {},
   "outputs": [
    {
     "ename": "TypeError",
     "evalue": "max() received an invalid combination of arguments - got (list, int), but expected one of:\n * (Tensor input)\n * (Tensor input, Tensor other, *, Tensor out)\n * (Tensor input, int dim, bool keepdim, *, tuple of Tensors out)\n * (Tensor input, name dim, bool keepdim, *, tuple of Tensors out)\n",
     "output_type": "error",
     "traceback": [
      "\u001b[1;31m---------------------------------------------------------------------------\u001b[0m",
      "\u001b[1;31mTypeError\u001b[0m                                 Traceback (most recent call last)",
      "Cell \u001b[1;32mIn [23], line 1\u001b[0m\n\u001b[1;32m----> 1\u001b[0m _, predicted_values \u001b[38;5;241m=\u001b[39m torch\u001b[38;5;241m.\u001b[39mmax(outputs, \u001b[38;5;241m1\u001b[39m)\n\u001b[0;32m      2\u001b[0m predicted_values \u001b[38;5;241m=\u001b[39m predicted_values\u001b[38;5;241m.\u001b[39mnumpy()\n\u001b[0;32m      3\u001b[0m true_values \u001b[38;5;241m=\u001b[39m test_y\u001b[38;5;241m.\u001b[39mnumpy()\n",
      "\u001b[1;31mTypeError\u001b[0m: max() received an invalid combination of arguments - got (list, int), but expected one of:\n * (Tensor input)\n * (Tensor input, Tensor other, *, Tensor out)\n * (Tensor input, int dim, bool keepdim, *, tuple of Tensors out)\n * (Tensor input, name dim, bool keepdim, *, tuple of Tensors out)\n"
     ]
    }
   ],
   "source": [
    "\n"
   ]
  },
  {
   "cell_type": "code",
   "execution_count": null,
   "id": "2c41932a",
   "metadata": {},
   "outputs": [],
   "source": []
  },
  {
   "cell_type": "code",
   "execution_count": null,
   "id": "653c3320",
   "metadata": {},
   "outputs": [],
   "source": []
  },
  {
   "cell_type": "code",
   "execution_count": null,
   "id": "d0e5d314",
   "metadata": {},
   "outputs": [],
   "source": []
  },
  {
   "cell_type": "code",
   "execution_count": null,
   "id": "c02c4989",
   "metadata": {},
   "outputs": [],
   "source": []
  }
 ],
 "metadata": {
  "kernelspec": {
   "display_name": "Python 3 (ipykernel)",
   "language": "python",
   "name": "python3"
  },
  "language_info": {
   "codemirror_mode": {
    "name": "ipython",
    "version": 3
   },
   "file_extension": ".py",
   "mimetype": "text/x-python",
   "name": "python",
   "nbconvert_exporter": "python",
   "pygments_lexer": "ipython3",
   "version": "3.10.4"
  }
 },
 "nbformat": 4,
 "nbformat_minor": 5
}
