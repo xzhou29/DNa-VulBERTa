{
 "cells": [
  {
   "cell_type": "code",
   "execution_count": 200,
   "id": "56bba13f",
   "metadata": {},
   "outputs": [],
   "source": [
    "# packages\n",
    "import pandas as pd\n",
    "# import pyarrow.dataset as ds\n",
    "# import pyarrow as pa\n",
    "# from datasets import *\n",
    "# from transformers import *\n",
    "from tokenizers import *\n",
    "import os\n",
    "import json\n",
    "import sys\n",
    "# from tokenizers.processors import BertProcessing\n",
    "import numpy as np"
   ]
  },
  {
   "cell_type": "code",
   "execution_count": 201,
   "id": "45c6a717",
   "metadata": {},
   "outputs": [],
   "source": [
    "# INPORTANT\n",
    "# out_dir = './task_devign_v3'\n",
    "# raw_data_path = '/scratch/xin/devign_task/tokenized_devign_v3.pkl'\n",
    "MAX_LENGTH = 1024\n",
    "batch_size = 8 # 32 when max_length = 512\n",
    "# model_path = '/scratch/xin/bert_source_v3/pretrained-bert/'\n",
    "num_epochs = 1\n",
    "max_step_saves = 5\n",
    "save_step_at = 20\n",
    "learning_rate = 1e-5\n",
    "adam_epsilon = 1e-8\n",
    "\n",
    "\n",
    "test_only = False\n",
    "data_type = 'devign'\n",
    "data_dir = \"/scratch/dna_data_pretraining_2/{}\".format(data_type)\n",
    "out_dir = 'result_{}_{}_with_tagging'.format(data_type, MAX_LENGTH)\n",
    "\n",
    "bert_model_path = '/scratch/pretrained-dna-bert/checkpoint-35000'\n",
    "tokenizer_path = '/scratch/pretrained-dna-bert/'\n",
    "truncate_longer_samples = True\n",
    "\n",
    "\n",
    "if not os.path.exists(out_dir):\n",
    "    os.makedirs(out_dir)\n",
    "log_txt_file = os.path.join(out_dir, 'log.txt')\n",
    "# intialization\n",
    "with open(log_txt_file, 'w+') as f:\n",
    "    f.write('- log -\\n')\n",
    "\n",
    "def log_txt(s, type='normal'):\n",
    "    with open(log_txt_file, 'a') as f:\n",
    "        f.write('{} - {}\\n'.format( type, s))"
   ]
  },
  {
   "cell_type": "code",
   "execution_count": 202,
   "id": "bf84464e",
   "metadata": {},
   "outputs": [
    {
     "name": "stdout",
     "output_type": "stream",
     "text": [
      "100\n"
     ]
    }
   ],
   "source": [
    "# load data\n",
    "from sklearn.model_selection import train_test_split\n",
    "\n",
    "def get_data(file_path):\n",
    "    raw_df = pd.read_pickle(file_path)  \n",
    "    df = {'filename': [], 'text': [], 'type': [], 'label': []}\n",
    "    for i in range(len(raw_df['code'][:100])):\n",
    "        df['filename'].append(raw_df['filename'][i])\n",
    "        code = raw_df['code'][i].split(';')\n",
    "        code = ' '.join(code)\n",
    "        df['text'].append(code)\n",
    "        df['label'].append(raw_df['label'][i])\n",
    "        df['type'].append(raw_df['type'][i])\n",
    "    df = pd.DataFrame(df)\n",
    "    return df\n",
    "    ### convert to Huggingface dataset\n",
    "#     return Dataset(pa.Table.from_pandas(df))\n",
    "\n",
    "# random split into train/valid/test\n",
    "if data_type in ['devign']:\n",
    "    raw_data_path = os.path.join(data_dir, 'all.pkl')\n",
    "    tokenized_data = get_data(raw_data_path)\n",
    "    print(len(tokenized_data))\n",
    "    train_data, valid_data, test_data = np.split(tokenized_data, [int(.8*len(tokenized_data)), int(.9*len(tokenized_data))])\n",
    "# load train/valid/test\n",
    "elif data_type in ['mvdsc', 'd2a' ]:\n",
    "        train_data = get_data(os.path.join(data_dir, 'train.pkl'))\n",
    "        valid_data = get_data(os.path.join(data_dir, 'valid.pkl'))\n",
    "        test_data = get_data(os.path.join(data_dir, 'test.pkl'))\n",
    "# load train/valid/test from 4 types\n",
    "elif data_type in ['sysevr']:\n",
    "    # already randomized from pre-processing with fixed seed for pre-training and fine-tuning\n",
    "    raw_data_path = os.path.join(data_dir, 'api.pkl')\n",
    "    tokenized_data = get_data(raw_data_path)\n",
    "    train_data_1, valid_data_1, test_data_1 = np.split(tokenized_data, [int(.7*len(tokenized_data)), int(.85*len(tokenized_data))])\n",
    "    raw_data_path = os.path.join(data_dir, 'au.pkl')\n",
    "    tokenized_data = get_data(raw_data_path)\n",
    "    train_data_2, valid_data_2, test_data_2 = np.split(tokenized_data, [int(.7*len(tokenized_data)), int(.85*len(tokenized_data))])\n",
    "    raw_data_path = os.path.join(data_dir, 'ae.pkl')\n",
    "    tokenized_data = get_data(raw_data_path)\n",
    "    train_data_3, valid_data_3, test_data_3 = np.split(tokenized_data, [int(.7*len(tokenized_data)), int(.85*len(tokenized_data))])\n",
    "    raw_data_path = os.path.join(data_dir, 'pu.pkl')\n",
    "    tokenized_data = get_data(raw_data_path)\n",
    "    train_data_4, valid_data_4, test_data_4 = np.split(tokenized_data, [int(.7*len(tokenized_data)), int(.85*len(tokenized_data))])\n",
    "    tokenized_data = get_data(raw_data_path)\n",
    "    train_data = pd.concat([train_data_1, train_data_2, train_data_3, train_data_4], ignore_index=True)\n",
    "    valid_data = pd.concat([valid_data_1, valid_data_2, valid_data_3, valid_data_4], ignore_index=True)\n",
    "    test_data = pd.concat([test_data_1, test_data_2, test_data_3, test_data_4], ignore_index=True)\n",
    "elif  data_type in ['draper']:\n",
    "    # splitted data bc too large\n",
    "    all_data = {}\n",
    "    for i in range(10):\n",
    "        raw_data_path = os.path.join(data_dir, 'train_{}.pkl'.format(i))\n",
    "        tokenized_data = get_data(raw_data_path)\n",
    "        #train_data = pd.concat([train_data_1, train_data_2, train_data_3, train_data_4], ignore_index=True)\n",
    "\n",
    "else:\n",
    "    print('data type does not exist!')\n"
   ]
  },
  {
   "cell_type": "code",
   "execution_count": 203,
   "id": "ba08f49a",
   "metadata": {},
   "outputs": [
    {
     "name": "stdout",
     "output_type": "stream",
     "text": [
      "(80, 4)\n",
      "(10, 4)\n",
      "(10, 4)\n",
      "int Function0 ( AVDictionary * AVDictionaryPoParCalPas , AVOpenCLExternalEnv * AVOpenCLExternalEnvPoParCalPas ) { int intDefUsePasRet = 0   AVDictionaryEntry * AVDictionaryEntryPoDefUseCalPas   AVDictionaryEntry * AVDictionaryEntryPoDefUseCalPas1   AVDictionaryEntry * AVDictionaryEntryPoDefUseCalPas2   LOCK_OPENCL if ( ! gpu_env . init_count ) { AVDictionaryEntryPoDefUseCalPas1 = av_dict_get ( AVDictionaryPoParCalPas , DQ 1 2 , NULL , 0 )   AVDictionaryEntryPoDefUseCalPas2 = av_dict_get ( AVDictionaryPoParCalPas , DQ 1 0 , NULL , 0 )   gpu_env . usr_spec_dev_info . platform_idx = - 1   gpu_env . usr_spec_dev_info . dev_idx = - 1   if ( AVDictionaryEntryPoDefUseCalPas1 ) { gpu_env . usr_spec_dev_info . platform_idx = strtol ( AVDictionaryEntryPoDefUseCalPas1 -> value , NULL , 1 0 )   } if ( AVDictionaryEntryPoDefUseCalPas2 ) { gpu_env . usr_spec_dev_info . dev_idx = strtol ( AVDictionaryEntryPoDefUseCalPas2 -> value , NULL , 1 0 )   } intDefUsePasRet = init_opencl_env ( & gpu_env , AVOpenCLExternalEnvPoParCalPas )   if ( intDefUsePasRet < 0 ) goto end   } AVDictionaryEntryPoDefUseCalPas = av_dict_get ( AVDictionaryPoParCalPas , DQ 1 3 , NULL , 0 )   if ( AVDictionaryEntryPoDefUseCalPas ) intDefUsePasRet = compile_kernel_file ( & gpu_env , AVDictionaryEntryPoDefUseCalPas -> value )   else intDefUsePasRet = compile_kernel_file ( & gpu_env , NULL )   if ( intDefUsePasRet < 0 ) goto end   av_assert1 ( gpu_env . kernel_code_count > 0 )   gpu_env . init_count ++   end : UNLOCK_OPENCL return intDefUsePasRet   }\n",
      "(translation_unit (function_definition type: (primitive_type) declarator: (function_declarator declarator: (identifier) parameters: (parameter_list (parameter_declaration type: (type_identifier) declarator: (pointer_declarator declarator: (identifier))) (parameter_declaration type: (type_identifier) declarator: (pointer_declarator declarator: (identifier))))) body: (compound_statement (declaration type: (primitive_type) declarator: (init_declarator declarator: (identifier) value: (number_literal))) (declaration type: (type_identifier) declarator: (pointer_declarator declarator: (identifier))) (declaration type: (type_identifier) declarator: (pointer_declarator declarator: (identifier))) (declaration type: (type_identifier) declarator: (pointer_declarator declarator: (identifier))) (ERROR type: (type_identifier) (identifier) (unary_expression argument: (field_expression argument: (identifier) field: (field_identifier)))) (compound_statement (expression_statement (assignment_expression left: (identifier) right: (call_expression function: (identifier) arguments: (argument_list (identifier) (string_literal) (null) (number_literal))))) (expression_statement (assignment_expression left: (identifier) right: (call_expression function: (identifier) arguments: (argument_list (identifier) (string_literal) (null) (number_literal))))) (comment) (expression_statement (assignment_expression left: (field_expression argument: (field_expression argument: (identifier) field: (field_identifier)) field: (field_identifier)) right: (number_literal))) (expression_statement (assignment_expression left: (field_expression argument: (field_expression argument: (identifier) field: (field_identifier)) field: (field_identifier)) right: (number_literal))) (if_statement condition: (parenthesized_expression (identifier)) consequence: (compound_statement (expression_statement (assignment_expression left: (field_expression argument: (field_expression argument: (identifier) field: (field_identifier)) field: (field_identifier)) right: (call_expression function: (identifier) arguments: (argument_list (field_expression argument: (identifier) field: (field_identifier)) (null) (number_literal))))))) (if_statement condition: (parenthesized_expression (identifier)) consequence: (compound_statement (expression_statement (assignment_expression left: (field_expression argument: (field_expression argument: (identifier) field: (field_identifier)) field: (field_identifier)) right: (call_expression function: (identifier) arguments: (argument_list (field_expression argument: (identifier) field: (field_identifier)) (null) (number_literal))))))) (expression_statement (assignment_expression left: (identifier) right: (call_expression function: (identifier) arguments: (argument_list (pointer_expression argument: (identifier)) (identifier))))) (if_statement condition: (parenthesized_expression (binary_expression left: (identifier) right: (number_literal))) consequence: (goto_statement label: (statement_identifier)))) (comment) (expression_statement (assignment_expression left: (identifier) right: (call_expression function: (identifier) arguments: (argument_list (identifier) (string_literal) (null) (number_literal))))) (if_statement condition: (parenthesized_expression (identifier)) consequence: (expression_statement (assignment_expression left: (identifier) right: (call_expression function: (identifier) arguments: (argument_list (pointer_expression argument: (identifier)) (field_expression argument: (identifier) field: (field_identifier)))))) alternative: (expression_statement (assignment_expression left: (identifier) right: (call_expression function: (identifier) arguments: (argument_list (pointer_expression argument: (identifier)) (null)))))) (if_statement condition: (parenthesized_expression (binary_expression left: (identifier) right: (number_literal))) consequence: (goto_statement label: (statement_identifier))) (expression_statement (call_expression function: (identifier) arguments: (argument_list (binary_expression left: (field_expression argument: (identifier) field: (field_identifier)) right: (number_literal))))) (expression_statement (update_expression argument: (field_expression argument: (identifier) field: (field_identifier)))) (labeled_statement label: (statement_identifier) (expression_statement (identifier) (MISSING \";\"))) (return_statement (identifier)))))\n"
     ]
    }
   ],
   "source": [
    "print(train_data.shape)\n",
    "print(valid_data.shape)\n",
    "print(test_data.shape)\n",
    "print(train_data['text'][0])\n",
    "print(train_data['type'][0])\n",
    "log_txt('train: {} - valid: {} - test: {} '.format(len(train_data), len(valid_data), len(test_data)))"
   ]
  },
  {
   "cell_type": "code",
   "execution_count": 204,
   "id": "d9429167",
   "metadata": {},
   "outputs": [],
   "source": [
    "# from gensim.test.utils import common_texts\n",
    "# from gensim.models import Word2Vec\n",
    "\n",
    "word2vec_train_text = []\n",
    "for i in range(len(train_data['type'])):\n",
    "    text = train_data['type'][i]\n",
    "    for st in ['(', ')', ':', ';']:\n",
    "        text = text.replace(st, ' {} '.format(st))\n",
    "    text = text.split()\n",
    "    word2vec_train_text.append(text)\n",
    "\n",
    "vector_size = 16\n",
    "word2vec_model = Word2Vec(sentences=word2vec_train_text, vector_size=vector_size, window=5, min_count=1, workers=4, epochs=3)\n",
    "word2vec_model.save(\"word2vec.model\")\n",
    "\n"
   ]
  },
  {
   "cell_type": "code",
   "execution_count": 205,
   "id": "526434da",
   "metadata": {},
   "outputs": [
    {
     "name": "stdout",
     "output_type": "stream",
     "text": [
      "102\n"
     ]
    }
   ],
   "source": [
    "\n",
    "# contains the list of all unique words in pre-trained word2vec vectors\n",
    "words = list(word2vec_model.wv.index_to_key)\n",
    "print(len(words))\n",
    "# print(words)"
   ]
  },
  {
   "cell_type": "code",
   "execution_count": 206,
   "id": "65c5b5ae",
   "metadata": {},
   "outputs": [
    {
     "name": "stdout",
     "output_type": "stream",
     "text": [
      "(40, 16)\n"
     ]
    },
    {
     "name": "stderr",
     "output_type": "stream",
     "text": [
      "/scratch/conda_envs/dna/lib/python3.9/site-packages/sklearn/manifold/_t_sne.py:800: FutureWarning: The default initialization in TSNE will change from 'random' to 'pca' in 1.2.\n",
      "  warnings.warn(\n",
      "/scratch/conda_envs/dna/lib/python3.9/site-packages/sklearn/manifold/_t_sne.py:810: FutureWarning: The default learning rate in TSNE will change from 200.0 to 'auto' in 1.2.\n",
      "  warnings.warn(\n"
     ]
    },
    {
     "name": "stdout",
     "output_type": "stream",
     "text": [
      "(40, 2)\n"
     ]
    },
    {
     "data": {
      "image/png": "[encoded data removed]",
      "text/plain": [
       "<Figure size 640x480 with 1 Axes>"
      ]
     },
     "metadata": {},
     "output_type": "display_data"
    }
   ],
   "source": [
    "from sklearn.manifold import TSNE\n",
    "import re\n",
    "import matplotlib.pyplot as plt\n",
    "\n",
    "vocab = list(word2vec_model.wv.key_to_index)\n",
    "vocab = vocab[:40]\n",
    "X = word2vec_model.wv[vocab]\n",
    "\n",
    "print(X.shape)\n",
    "\n",
    "tsne = TSNE(n_components=2)\n",
    "X_tsne = tsne.fit_transform(X)\n",
    "\n",
    "print(X_tsne.shape)\n",
    "df = pd.DataFrame(X_tsne, index=vocab, columns=['x', 'y'])\n",
    "fig = plt.figure()\n",
    "ax = fig.add_subplot(1, 1, 1)\n",
    "\n",
    "ax.scatter(df['x'], df['y'])\n",
    "\n",
    "for word, pos in df.iterrows():\n",
    "    ax.annotate(word, pos)\n",
    "    \n",
    "plt.show() \n",
    "# fig.savefig(\"../text.png\")"
   ]
  },
  {
   "cell_type": "code",
   "execution_count": 207,
   "id": "540c7751",
   "metadata": {},
   "outputs": [
    {
     "data": {
      "text/plain": [
       "[0, 1]"
      ]
     },
     "execution_count": 207,
     "metadata": {},
     "output_type": "execute_result"
    }
   ],
   "source": [
    "label_counts = pd.DataFrame(train_data['label'].value_counts())\n",
    "label_counts\n",
    "label_values = list(label_counts.index)\n",
    "order = list(pd.DataFrame(train_data['label'].value_counts()).index)\n",
    "label_values = [l for _,l in sorted(zip(order, label_values))]\n",
    "label_values"
   ]
  },
  {
   "cell_type": "code",
   "execution_count": null,
   "id": "002158f4",
   "metadata": {},
   "outputs": [],
   "source": []
  },
  {
   "cell_type": "code",
   "execution_count": 208,
   "id": "d60c19dc",
   "metadata": {},
   "outputs": [],
   "source": [
    "def convert_types(type_list):\n",
    "    word2vec_train_text = []\n",
    "    for i in range(len(type_list)):\n",
    "        text = train_data['type'][i]\n",
    "        for st in ['(', ')', ':', ';']:\n",
    "            text = text.replace(st, ' {} '.format(st))\n",
    "        text = text.split()\n",
    "        word2vec_train_text.append(text)\n",
    "    return word2vec_train_text \n",
    "\n",
    "train_texts = train_data['text'].values\n",
    "train_types = train_data['type'].values\n",
    "train_labels = train_data['label'].values\n",
    "\n",
    "valid_texts = valid_data['text'].values\n",
    "valid_types = valid_data['type'].values\n",
    "valid_labels = valid_data['label'].values\n",
    "\n",
    "test_texts = test_data['text'].values\n",
    "test_types = test_data['type'].values\n",
    "test_labels = test_data['label'].values\n",
    "\n",
    "\n",
    "train_types = convert_types(train_types)\n",
    "valid_types = convert_types(valid_types)\n",
    "test_types = convert_types(test_types)\n",
    "\n",
    "\n"
   ]
  },
  {
   "cell_type": "code",
   "execution_count": 209,
   "id": "7778bd5b",
   "metadata": {},
   "outputs": [],
   "source": [
    "import statistics\n",
    "train_texts[0]\n",
    "text_lengths = [len(train_texts[i].split()) for i in range(len(train_texts))]\n",
    "log_txt('min: {}'.format(min(text_lengths)))\n",
    "log_txt('min: {}'.format(min(text_lengths)))\n",
    "log_txt('number of zeros:: {}'.format(len([item for item in text_lengths if item == 0])))\n",
    "log_txt('max: {}'.format(max(sorted(text_lengths))))\n",
    "log_txt('avg: {}'.format( sum(text_lengths) / len(text_lengths) ))\n",
    "log_txt('median: {}'.format( sorted(text_lengths)[len(text_lengths) // 2] ))\n",
    "log_txt('95%: {}'.format( sorted(text_lengths)[int(len(text_lengths)*0.95)]))\n",
    "log_txt('mean: {}'.format( statistics.mean(text_lengths)))\n",
    "log_txt('std: {}'.format( statistics.stdev(text_lengths)))\n",
    "    "
   ]
  },
  {
   "cell_type": "code",
   "execution_count": 210,
   "id": "ad3e75ea",
   "metadata": {},
   "outputs": [
    {
     "name": "stderr",
     "output_type": "stream",
     "text": [
      "/tmp/ipykernel_352/280788245.py:8: UserWarning: \n",
      "\n",
      "`distplot` is a deprecated function and will be removed in seaborn v0.14.0.\n",
      "\n",
      "Please adapt your code to use either `displot` (a figure-level function with\n",
      "similar flexibility) or `histplot` (an axes-level function for histograms).\n",
      "\n",
      "For a guide to updating your code to use the new functions, please see\n",
      "https://gist.github.com/mwaskom/de44147ed2974457ad6372750bbe5751\n",
      "\n",
      "  sns.distplot(text_lengths, hist=True, kde=False,\n"
     ]
    },
    {
     "data": {
      "image/png": "[encoded data removed]",
      "text/plain": [
       "<Figure size 640x480 with 1 Axes>"
      ]
     },
     "metadata": {},
     "output_type": "display_data"
    }
   ],
   "source": [
    "# Import the libraries\n",
    "import matplotlib.pyplot as plt\n",
    "import seaborn as sns\n",
    "# matplotlib histogram\n",
    "plt.hist(text_lengths, color = 'blue', edgecolor = 'black',\n",
    "         bins = int(180/5))\n",
    "# seaborn histogram\n",
    "sns.distplot(text_lengths, hist=True, kde=False, \n",
    "             bins=int(180/5), color = 'blue',\n",
    "             hist_kws={'edgecolor':'black'})\n",
    "# Add labels\n",
    "plt.title('Histogram of text length analysis')\n",
    "plt.xlabel('text length')\n",
    "plt.ylabel('counts')\n",
    "plt.savefig(os.path.join(out_dir, 'histogram.png'))"
   ]
  },
  {
   "cell_type": "code",
   "execution_count": 211,
   "id": "d74ba9ae",
   "metadata": {},
   "outputs": [
    {
     "data": {
      "text/plain": [
       "1"
      ]
     },
     "execution_count": 211,
     "metadata": {},
     "output_type": "execute_result"
    }
   ],
   "source": [
    "sum([1 for i in range(len(text_lengths)) if text_lengths[i] >= MAX_LENGTH])"
   ]
  },
  {
   "cell_type": "code",
   "execution_count": 212,
   "id": "8d075664",
   "metadata": {},
   "outputs": [
    {
     "name": "stderr",
     "output_type": "stream",
     "text": [
      "Special tokens have been added in the vocabulary, make sure the associated word embeddings are fine-tuned or trained.\n",
      "Special tokens have been added in the vocabulary, make sure the associated word embeddings are fine-tuned or trained.\n"
     ]
    }
   ],
   "source": [
    "# ========================= load tokenizer START =========================\n",
    "# 30,522 vocab is BERT's default vocab size, feel free to tweak\n",
    "# vocab_size = 32010\n",
    "# maximum sequence length, lowering will result to faster training (when increasing batch size)\n",
    "import sentencepiece as spm\n",
    "import transformers \n",
    "# !pip install sentencepiece\n",
    "\n",
    "from tokenizers import SentencePieceBPETokenizer\n",
    "\n",
    "if 'albert' in tokenizer_path:\n",
    "    tokenizer = transformers.AlbertTokenizer.from_pretrained(tokenizer_path)\n",
    "else:\n",
    "    tokenizer = transformers.AutoTokenizer.from_pretrained(tokenizer_path)\n",
    "\n",
    "log_txt('tokenizer_path: {}\\n'.format( tokenizer_path))\n"
   ]
  },
  {
   "cell_type": "code",
   "execution_count": null,
   "id": "c19161df",
   "metadata": {},
   "outputs": [],
   "source": []
  },
  {
   "cell_type": "code",
   "execution_count": 213,
   "id": "f2d7f7a8",
   "metadata": {},
   "outputs": [],
   "source": [
    "# text_ids = [tokenizer.encode(text, max_length=300, pad_to_max_length=True) for text in texts]\n",
    "if not truncate_longer_samples:\n",
    "    #tokenizer(examples[\"text\"], return_special_tokens_mask=True)\n",
    "    train_text_dict = [tokenizer(t, return_special_tokens_mask=True) for t in train_texts]\n",
    "    valid_text_dict = [tokenizer(t, return_special_tokens_mask=True) for t in valid_texts]\n",
    "    test_text_dict = [tokenizer(t, return_special_tokens_mask=True) for t in test_texts]\n",
    "else:\n",
    "    max_length = MAX_LENGTH\n",
    "    train_text_dict = [tokenizer(t, truncation=True, padding=\"max_length\", max_length=max_length, return_special_tokens_mask=True) for t in train_texts]\n",
    "    valid_text_dict = [tokenizer(t, truncation=True, padding=\"max_length\", max_length=max_length, return_special_tokens_mask=True) for t in valid_texts]\n",
    "\n",
    "    test_text_dict = [tokenizer(t, truncation=True, padding=\"max_length\", max_length=max_length, return_special_tokens_mask=True) for t in test_texts]"
   ]
  },
  {
   "cell_type": "code",
   "execution_count": 214,
   "id": "8ebe6c5c",
   "metadata": {},
   "outputs": [
    {
     "name": "stdout",
     "output_type": "stream",
     "text": [
      "(80, 1024, 16)\n",
      "(10, 1024, 16)\n",
      "(10, 1024, 16)\n"
     ]
    }
   ],
   "source": [
    "train_text_ids = [text_id['input_ids'] for text_id in train_text_dict]\n",
    "valid_text_ids = [text_id['input_ids'] for text_id in valid_text_dict]\n",
    "test_text_ids = [text_id['input_ids'] for text_id in test_text_dict]\n",
    "# text_ids[0]\n",
    "\n",
    "train_att_masks = [text_id['attention_mask'] for text_id in train_text_dict]\n",
    "valid_att_masks = [text_id['attention_mask'] for text_id in valid_text_dict]\n",
    "test_att_masks = [text_id['attention_mask'] for text_id in test_text_dict]\n",
    "# att_masks[0]\n",
    "\n",
    "# print(word2vec_model.wv[[')', '(']])\n",
    "lambda a,i : a[0:i] if len(a) > i else a + [0] * (i-len(a))\n",
    "\n",
    "def word2vec_trunction(input_types):\n",
    "    train_types_np = []\n",
    "    for one_slice in input_types:\n",
    "        if len(one_slice) > max_length:\n",
    "            one_slice = one_slice[:max_length]\n",
    "        slice_vec = word2vec_model.wv[one_slice]\n",
    "        slice_vec = np.array(slice_vec)\n",
    "        shape = np.shape(slice_vec)\n",
    "        padded_array = np.zeros((max_length, vector_size))\n",
    "        padded_array[:shape[0],:shape[1]] = slice_vec\n",
    "        train_types_np.append(padded_array)\n",
    "    return np.array(train_types_np)\n",
    "\n",
    "train_types_np = word2vec_trunction(train_types)\n",
    "valid_types_np = word2vec_trunction(valid_types)\n",
    "test_types_np = word2vec_trunction(test_types)\n",
    "\n",
    "print(train_types_np.shape)\n",
    "print(valid_types_np.shape)\n",
    "print(test_types_np.shape)"
   ]
  },
  {
   "cell_type": "code",
   "execution_count": 215,
   "id": "fd2efc95",
   "metadata": {},
   "outputs": [],
   "source": [
    "from sklearn.model_selection import train_test_split\n",
    "train_x, train_m, train_t, train_y = train_text_ids, train_att_masks, train_types_np, train_labels\n",
    "val_x, val_m, val_t, val_y = valid_text_ids, valid_att_masks,valid_types_np,  valid_labels\n",
    "test_x, test_m, test_t, test_y = test_text_ids, test_att_masks, test_types_np, test_labels"
   ]
  },
  {
   "cell_type": "code",
   "execution_count": 216,
   "id": "c02640a1",
   "metadata": {},
   "outputs": [],
   "source": [
    "import torch\n",
    "\n",
    "train_x = torch.tensor(train_x)\n",
    "test_x = torch.tensor(test_x)\n",
    "val_x = torch.tensor(val_x)\n",
    "train_y = torch.tensor(train_y)\n",
    "test_y = torch.tensor(test_y)\n",
    "val_y = torch.tensor(val_y)\n",
    "train_m = torch.tensor(train_m)\n",
    "test_m = torch.tensor(test_m)\n",
    "val_m = torch.tensor(val_m)\n",
    "train_t = torch.tensor(train_t)\n",
    "val_t = torch.tensor(val_t)\n",
    "test_t = torch.tensor(test_t)\n",
    "\n",
    "log_txt(train_x.shape)\n",
    "log_txt(test_x.shape)\n",
    "log_txt(val_x.shape)\n",
    "log_txt(test_y.shape)\n",
    "log_txt(val_y.shape)\n",
    "log_txt(train_m.shape)\n",
    "log_txt(test_m.shape)\n",
    "log_txt(val_m.shape)\n",
    "log_txt(train_t.shape)\n",
    "log_txt(val_t.shape)\n",
    "log_txt(test_t.shape)"
   ]
  },
  {
   "cell_type": "code",
   "execution_count": 217,
   "id": "ea48ae55",
   "metadata": {},
   "outputs": [],
   "source": [
    "from torch.utils.data import TensorDataset, DataLoader, RandomSampler, SequentialSampler\n",
    "\n",
    "\n",
    "# log_txt(train_x)\n",
    "train_data = TensorDataset(train_x, train_m, train_t, train_y)\n",
    "train_sampler = list(range(len(train_data)))\n",
    "\n",
    "\n",
    "# train_sampler = train_sampler[:100]\n",
    "train_sampler = RandomSampler(train_data)\n",
    "train_dataloader = DataLoader(train_data, sampler=train_sampler, batch_size=batch_size)\n",
    "\n",
    "\n",
    "val_data = TensorDataset(val_x, val_m, val_t, val_y)\n",
    "val_sampler = list(range(len(val_data)))\n",
    "# val_sampler = val_sampler[:100]\n",
    "val_sampler = SequentialSampler(val_data)\n",
    "val_dataloader = DataLoader(val_data, sampler=val_sampler, batch_size=batch_size)\n",
    "\n",
    "\n",
    "\n",
    "# train_loader_extracted = torch.utils.data.DataLoader(train_extracted_data, batch_size=batch_size, shuffle=False,\n",
    "#                                            sampler=train_sampler)\n",
    "\n",
    "\n",
    "# valid_loader_extracted = torch.utils.data.DataLoader(valid_extracted_data, batch_size=batch_size, shuffle=False,\n",
    "#                                            sampler=val_sampler)\n"
   ]
  },
  {
   "cell_type": "code",
   "execution_count": 268,
   "id": "c02a28f3",
   "metadata": {},
   "outputs": [],
   "source": [
    "import torch.nn as nn\n",
    "import torch\n",
    "import torch.nn.init as init\n",
    "import torch.nn.functional as F\n",
    "from torch.autograd import Variable\n",
    "import sys\n",
    "\n",
    "\n",
    "os.environ['CUDA_VISIBLE_DEVICES'] = '0,1,2,3'\n",
    "multi_gpu = torch.cuda.device_count() \n",
    "\n",
    "class DotAttention(nn.Module):\n",
    "\n",
    "    def __init__(self, hidden_size):\n",
    "        super(DotAttention, self).__init__()\n",
    "        self.hidden_size = hidden_size\n",
    "        self.attn_vector = nn.Parameter(\n",
    "            torch.Tensor(1, hidden_size), requires_grad=True)\n",
    "        init.xavier_uniform(self.attn_vector.data)\n",
    "\n",
    "    def get_mask(self):\n",
    "        pass\n",
    "\n",
    "    def forward(self, inputs, lengths=None):\n",
    "        batch_size, max_len = inputs.size()[:2]\n",
    "        '''\n",
    "        print(\"INPUTS\", inputs.size())\n",
    "        print(\"ATTN\", self.attn_vector  # (1, hidden_size)\n",
    "                            .unsqueeze(0)  # (1, hidden_size, 1)\n",
    "                            .transpose(2, 1)\n",
    "                            .repeat(batch_size, 1, 1).size())'''\n",
    "        # apply attention layer\n",
    "        weights = torch.bmm(inputs,\n",
    "                            self.attn_vector  # (1, hidden_size)\n",
    "                            .unsqueeze(0)  # (1, 1, hidden_size)\n",
    "                            .transpose(2, 1) # (1, hidden_size, 1)\n",
    "                            .repeat(batch_size, 1, 1)) # (batch_size, hidden_size, 1))\n",
    "        attn_energies = F.softmax(F.relu(weights.squeeze(axis=2)))\n",
    "        # create mask based on the sentence lengths\n",
    "        #idxes = torch.arange(0, max_len, out=torch.LongTensor(max_len)).unsqueeze(0).cuda()  # some day, you'll be able to directly do this on cuda\n",
    "        #mask = Variable((idxes < lengths.data.unsqueeze(1)).float())\n",
    "        # apply mask and renormalize attention scores (weights)\n",
    "        #masked = attn_weights * mask\n",
    "        _sums = attn_energies.sum(-1).unsqueeze(1).expand_as(attn_energies)  # sums per row\n",
    "        attn_weights = attn_energies / _sums\n",
    "        # print('attn_weights: ', attn_weights.shape)\n",
    "        # apply attention weights\n",
    "        weighted = torch.mul(inputs, attn_weights.unsqueeze(-1).expand_as(inputs))\n",
    "        # print('weighted: ', weighted.shape)\n",
    "        # get the final fixed vector representations of the sentences\n",
    "        representations = weighted.sum(1).squeeze()\n",
    "        if len(representations.shape) == 1:\n",
    "            representations = representations.reshape(1, representations.shape[-1])\n",
    "        # print('representations: ', representations.shape)\n",
    "        return representations, attn_weights\n",
    "    \n",
    "from transformers import AutoModelForSequenceClassification\n",
    "    \n",
    "class BERTSourceBinaryClassification(nn.Module):\n",
    "    def __init__(self,checkpoint, num_labels): \n",
    "        super(BERTSourceBinaryClassification,self).__init__() \n",
    "        self.num_labels = num_labels \n",
    "#         self.model = BertForMaskedLM.from_pretrained(checkpoint)\n",
    "        #Load Model with given checkpoint and extract its body\n",
    "        # self.model = AutoModelForSequenceClassification.from_pretrained(bert_model_path, num_labels=2)\n",
    "        \n",
    "        # classifier with pre-training model \n",
    "        self.model  = transformers.AutoModel.from_pretrained(checkpoint, output_attentions=True, output_hidden_states=True)\n",
    "        self.attn = DotAttention(hidden_size = 768)\n",
    "        self.hidden_size = 128\n",
    "        self.classifier = nn.Linear(768 * 2, self.hidden_size) # load and initialize weights\n",
    "        self.relu = nn.ReLU() #ReLU()\n",
    "\n",
    "        # classifier with word2vec output from types\n",
    "        # [batch_size, max_length, word_dim]  ex. 4 * 1024 * 16\n",
    "        # self.gru = nn.GRU(input_dim, hidden_dim, n_layers, batch_first=True, dropout=drop_prob)\n",
    "        self.n_layers = 2\n",
    "        self.h = self.init_hidden(batch_size // multi_gpu)\n",
    "        self.gru = nn.GRU(vector_size, self.hidden_size, self.n_layers, batch_first=True, dropout=0.2)\n",
    "        \n",
    "        self.dropout = nn.Dropout(0.25)\n",
    "        self.final_classifier = nn.Linear(self.hidden_size * (MAX_LENGTH // 512), num_labels) \n",
    "        self.activation = nn.Sigmoid()\n",
    "        \n",
    "        \n",
    "    def init_hidden(self, batch_size):\n",
    "        weight = next(self.parameters()).data\n",
    "        hidden = weight.new(self.n_layers, batch_size, self.hidden_size).zero_()\n",
    "        return hidden\n",
    "    \n",
    "    def forward_single(self, input_ids, attention_mask, type_vec, labels, ex):\n",
    "        all_outputs = self.model(input_ids, attention_mask=attention_mask)\n",
    "        hidden_states = all_outputs[0]\n",
    "        pooler_output = all_outputs[1]\n",
    "        attention_weights = all_outputs[3]\n",
    "        #print(type_vec.shape)\n",
    "        \n",
    "        out, _ = self.gru(type_vec, self.h)\n",
    "        out = self.relu(out[:,-1])\n",
    "                        \n",
    "        # outputs = outputs\n",
    "        # hidden_states, pool_output, unknown, attention_weights\n",
    "        # pooler_output = hidden_states[:, 0, :]\n",
    "        # max + last + attention START\n",
    "        # last =  hidden_states[:,-1] \n",
    "        attn, attention_weights_dot_product = self.attn.forward(hidden_states)\n",
    "        # max_ , _ = torch.max(hidden_states, dim=1)\n",
    "        concatenated = torch.cat([attn, pooler_output], dim=1)\n",
    "        \n",
    "        \n",
    "        logits = self.classifier(concatenated)\n",
    "        \n",
    "        return self.relu(logits), attention_weights_dot_product\n",
    "    \n",
    "    def forward(self, input_ids=None, attention_mask=None, type_vec=None, labels=None, ex=None, max_len=MAX_LENGTH, opt='mean'):\n",
    "        #Extract outputs from the body\n",
    "        final_logits = None\n",
    "        final_attention_weights = None\n",
    "        # pick the most suspicous one for final decision\n",
    "        for i in range(0, max_len, 512):\n",
    "            logits, attention_weights = self.forward_single(input_ids[:,i:i+512], attention_mask[:,i:i+512], type_vec, labels, ex)\n",
    "            if final_logits is None:\n",
    "                final_logits = logits\n",
    "                final_attention_weights = attention_weights\n",
    "            else:\n",
    "                final_logits = torch.cat([final_logits,  logits], dim=1)\n",
    "                final_attention_weights = torch.cat([final_attention_weights,  attention_weights], dim=1)\n",
    "\n",
    "        final_logits = self.dropout(final_logits)\n",
    "        final_logits = self.final_classifier(final_logits)\n",
    "        final_logits = self.activation(final_logits)\n",
    "\n",
    "        loss = None\n",
    "        if labels is not None:\n",
    "            loss_fct = nn.CrossEntropyLoss()\n",
    "            loss = loss_fct(final_logits.view(-1, self.num_labels), labels.view(-1))\n",
    "        return (loss, final_logits), final_attention_weights\n",
    "\n",
    "\n",
    "        #return TokenClassifierOutput(loss=loss, logits=logits, hidden_states=outputs.hidden_states,attentions=outputs.attentions)"
   ]
  },
  {
   "cell_type": "code",
   "execution_count": 269,
   "id": "43f8ca24",
   "metadata": {},
   "outputs": [
    {
     "name": "stderr",
     "output_type": "stream",
     "text": [
      "Some weights of the model checkpoint at /scratch/pretrained-dna-bert/checkpoint-35000 were not used when initializing BertModel: ['cls.predictions.transform.dense.weight', 'cls.predictions.decoder.weight', 'cls.predictions.transform.LayerNorm.weight', 'cls.predictions.transform.dense.bias', 'cls.predictions.transform.LayerNorm.bias', 'cls.predictions.decoder.bias', 'cls.predictions.bias']\n",
      "- This IS expected if you are initializing BertModel from the checkpoint of a model trained on another task or with another architecture (e.g. initializing a BertForSequenceClassification model from a BertForPreTraining model).\n",
      "- This IS NOT expected if you are initializing BertModel from the checkpoint of a model that you expect to be exactly identical (initializing a BertForSequenceClassification model from a BertForSequenceClassification model).\n",
      "Some weights of BertModel were not initialized from the model checkpoint at /scratch/pretrained-dna-bert/checkpoint-35000 and are newly initialized: ['bert.pooler.dense.bias', 'bert.pooler.dense.weight']\n",
      "You should probably TRAIN this model on a down-stream task to be able to use it for predictions and inference.\n",
      "/tmp/ipykernel_352/1518118474.py:19: UserWarning: nn.init.xavier_uniform is now deprecated in favor of nn.init.xavier_uniform_.\n",
      "  init.xavier_uniform(self.attn_vector.data)\n"
     ]
    }
   ],
   "source": [
    "log_txt(bert_model_path)\n",
    "model = BERTSourceBinaryClassification(checkpoint=bert_model_path, num_labels=2)"
   ]
  },
  {
   "cell_type": "code",
   "execution_count": 270,
   "id": "8492af36",
   "metadata": {},
   "outputs": [],
   "source": [
    "\n",
    "\n",
    "\n",
    "no_decay = ['bias', 'LayerNorm.weight']\n",
    "optimizer_grouped_parameters = [\n",
    "    {'params': [p for n, p in model.named_parameters() if not any(nd in n for nd in no_decay)],\n",
    "     'weight_decay_rate': 0.2},\n",
    "    {'params': [p for n, p in model.named_parameters() if any(nd in n for nd in no_decay)],\n",
    "     'weight_decay_rate': 0.0}\n",
    "]\n",
    "\n",
    "optimizer = transformers.AdamW(optimizer_grouped_parameters, lr=learning_rate, eps=adam_epsilon)"
   ]
  },
  {
   "cell_type": "code",
   "execution_count": 271,
   "id": "dd3aa44e",
   "metadata": {},
   "outputs": [
    {
     "name": "stdout",
     "output_type": "stream",
     "text": [
      "Let's use 4 GPUs!\n"
     ]
    }
   ],
   "source": [
    "\n",
    "os.environ['CUDA_VISIBLE_DEVICES'] = '0,1,2,3'\n",
    "multi_gpu = torch.cuda.device_count() \n",
    "if multi_gpu > 1:\n",
    "    print(\"Let's use\", torch.cuda.device_count(), \"GPUs!\")\n",
    "    # dim = 0 [30, xxx] -> [10, ...], [10, ...], [10, ...] on 3 GPUs\n",
    "    model = nn.DataParallel(model)\n",
    "    \n",
    "# model = nn.DataParallel(model)\n",
    "model = model.cuda()"
   ]
  },
  {
   "cell_type": "code",
   "execution_count": 272,
   "id": "ded1e7d8",
   "metadata": {},
   "outputs": [],
   "source": [
    "\n",
    "from transformers import get_linear_schedule_with_warmup\n",
    "\n",
    "\n",
    "total_steps = len(train_dataloader) * num_epochs\n",
    "scheduler = get_linear_schedule_with_warmup(optimizer, num_warmup_steps=0, num_training_steps=total_steps)"
   ]
  },
  {
   "cell_type": "code",
   "execution_count": 273,
   "id": "7aa7865b",
   "metadata": {},
   "outputs": [
    {
     "name": "stdout",
     "output_type": "stream",
     "text": [
      "number of iterations:  10\n"
     ]
    }
   ],
   "source": [
    "import time\n",
    "\n",
    "def epoch_time(start_time, end_time):\n",
    "    elapsed_time = end_time - start_time\n",
    "    elapsed_mins = int(elapsed_time / 60)\n",
    "    elapsed_secs = int(elapsed_time - (elapsed_mins * 60))\n",
    "    return elapsed_mins, elapsed_secs\n",
    "\n",
    "import numpy as np\n",
    "import random\n",
    "\n",
    "seed_val = 111\n",
    "random.seed(seed_val)\n",
    "np.random.seed(seed_val)\n",
    "torch.manual_seed(seed_val)\n",
    "torch.cuda.manual_seed_all(seed_val)\n",
    "\n",
    "import pickle\n",
    "import os\n",
    "\n",
    "\n",
    "# save model \n",
    "\n",
    "def save_model(model, train_losses, val_losses, out_dir_model):\n",
    "\n",
    "    if not os.path.exists(out_dir_model):\n",
    "        os.makedirs(out_dir_model)\n",
    "    \n",
    "    PATH = os.path.join(out_dir_model, 'BERTSourceBinaryClassification.pt')\n",
    "\n",
    "    torch.save(model.state_dict(), PATH)\n",
    "\n",
    "    with open(out_dir_model + '/train_losses.pkl', 'wb') as f:\n",
    "        pickle.dump(train_losses, f)\n",
    "\n",
    "    with open(out_dir_model + '/val_losses.pkl', 'wb') as f:\n",
    "        pickle.dump(val_losses, f)\n",
    "        \n",
    "print('number of iterations: ', len(train_dataloader))"
   ]
  },
  {
   "cell_type": "code",
   "execution_count": 274,
   "id": "64535cf2",
   "metadata": {},
   "outputs": [
    {
     "name": "stdout",
     "output_type": "stream",
     "text": [
      "num_epochs:  1\n"
     ]
    },
    {
     "name": "stderr",
     "output_type": "stream",
     "text": [
      "0it [00:00, ?it/s]\n"
     ]
    },
    {
     "ename": "RuntimeError",
     "evalue": "Caught RuntimeError in replica 0 on device 0.\nOriginal Traceback (most recent call last):\n  File \"/scratch/conda_envs/dna/lib/python3.9/site-packages/torch/nn/parallel/parallel_apply.py\", line 61, in _worker\n    output = module(*input, **kwargs)\n  File \"/scratch/conda_envs/dna/lib/python3.9/site-packages/torch/nn/modules/module.py\", line 1130, in _call_impl\n    return forward_call(*input, **kwargs)\n  File \"/tmp/ipykernel_352/1518118474.py\", line 121, in forward\n    logits, attention_weights = self.forward_single(input_ids[:,i:i+512], attention_mask[:,i:i+512], type_vec, labels, ex)\n  File \"/tmp/ipykernel_352/1518118474.py\", line 98, in forward_single\n    out, _ = self.gru(type_vec, self.h)\n  File \"/scratch/conda_envs/dna/lib/python3.9/site-packages/torch/nn/modules/module.py\", line 1130, in _call_impl\n    return forward_call(*input, **kwargs)\n  File \"/scratch/conda_envs/dna/lib/python3.9/site-packages/torch/nn/modules/rnn.py\", line 950, in forward\n    result = _VF.gru(input, hx, self._flat_weights, self.bias, self.num_layers,\nRuntimeError: Input and hidden tensors are not at the same device, found input tensor at cuda:0 and hidden tensor at cpu\n",
     "output_type": "error",
     "traceback": [
      "\u001b[0;31m---------------------------------------------------------------------------\u001b[0m",
      "\u001b[0;31mRuntimeError\u001b[0m                              Traceback (most recent call last)",
      "Input \u001b[0;32mIn [274]\u001b[0m, in \u001b[0;36m<cell line: 1>\u001b[0;34m()\u001b[0m\n\u001b[1;32m     35\u001b[0m mb_y \u001b[38;5;241m=\u001b[39m mb_y\u001b[38;5;241m.\u001b[39mcuda()\n\u001b[1;32m     36\u001b[0m \u001b[38;5;66;03m#ex = ex.cuda()\u001b[39;00m\n\u001b[0;32m---> 38\u001b[0m outputs, _, \u001b[38;5;241m=\u001b[39m \u001b[43mmodel\u001b[49m\u001b[43m(\u001b[49m\u001b[43mmb_x\u001b[49m\u001b[43m,\u001b[49m\u001b[43m \u001b[49m\u001b[43mattention_mask\u001b[49m\u001b[38;5;241;43m=\u001b[39;49m\u001b[43mmb_m\u001b[49m\u001b[43m,\u001b[49m\u001b[43m \u001b[49m\u001b[43mtype_vec\u001b[49m\u001b[38;5;241;43m=\u001b[39;49m\u001b[43mmb_t\u001b[49m\u001b[43m,\u001b[49m\u001b[43m \u001b[49m\u001b[43mlabels\u001b[49m\u001b[38;5;241;43m=\u001b[39;49m\u001b[43mmb_y\u001b[49m\u001b[43m)\u001b[49m\n\u001b[1;32m     39\u001b[0m \u001b[38;5;66;03m#print(outputs[1])\u001b[39;00m\n\u001b[1;32m     40\u001b[0m \u001b[38;5;66;03m#mb_y = F.one_hot(mb_y)\u001b[39;00m\n\u001b[1;32m     41\u001b[0m \u001b[38;5;66;03m#print(outputs, mb_y)\u001b[39;00m\n\u001b[1;32m     42\u001b[0m \u001b[38;5;66;03m#loss = loss_fct(outputs.view(-1, 2), mb_y.view(-1))\u001b[39;00m\n\u001b[1;32m     43\u001b[0m loss \u001b[38;5;241m=\u001b[39m outputs[\u001b[38;5;241m0\u001b[39m]\n",
      "File \u001b[0;32m/scratch/conda_envs/dna/lib/python3.9/site-packages/torch/nn/modules/module.py:1130\u001b[0m, in \u001b[0;36mModule._call_impl\u001b[0;34m(self, *input, **kwargs)\u001b[0m\n\u001b[1;32m   1126\u001b[0m \u001b[38;5;66;03m# If we don't have any hooks, we want to skip the rest of the logic in\u001b[39;00m\n\u001b[1;32m   1127\u001b[0m \u001b[38;5;66;03m# this function, and just call forward.\u001b[39;00m\n\u001b[1;32m   1128\u001b[0m \u001b[38;5;28;01mif\u001b[39;00m \u001b[38;5;129;01mnot\u001b[39;00m (\u001b[38;5;28mself\u001b[39m\u001b[38;5;241m.\u001b[39m_backward_hooks \u001b[38;5;129;01mor\u001b[39;00m \u001b[38;5;28mself\u001b[39m\u001b[38;5;241m.\u001b[39m_forward_hooks \u001b[38;5;129;01mor\u001b[39;00m \u001b[38;5;28mself\u001b[39m\u001b[38;5;241m.\u001b[39m_forward_pre_hooks \u001b[38;5;129;01mor\u001b[39;00m _global_backward_hooks\n\u001b[1;32m   1129\u001b[0m         \u001b[38;5;129;01mor\u001b[39;00m _global_forward_hooks \u001b[38;5;129;01mor\u001b[39;00m _global_forward_pre_hooks):\n\u001b[0;32m-> 1130\u001b[0m     \u001b[38;5;28;01mreturn\u001b[39;00m \u001b[43mforward_call\u001b[49m\u001b[43m(\u001b[49m\u001b[38;5;241;43m*\u001b[39;49m\u001b[38;5;28;43minput\u001b[39;49m\u001b[43m,\u001b[49m\u001b[43m \u001b[49m\u001b[38;5;241;43m*\u001b[39;49m\u001b[38;5;241;43m*\u001b[39;49m\u001b[43mkwargs\u001b[49m\u001b[43m)\u001b[49m\n\u001b[1;32m   1131\u001b[0m \u001b[38;5;66;03m# Do not call functions when jit is used\u001b[39;00m\n\u001b[1;32m   1132\u001b[0m full_backward_hooks, non_full_backward_hooks \u001b[38;5;241m=\u001b[39m [], []\n",
      "File \u001b[0;32m/scratch/conda_envs/dna/lib/python3.9/site-packages/torch/nn/parallel/data_parallel.py:168\u001b[0m, in \u001b[0;36mDataParallel.forward\u001b[0;34m(self, *inputs, **kwargs)\u001b[0m\n\u001b[1;32m    166\u001b[0m     \u001b[38;5;28;01mreturn\u001b[39;00m \u001b[38;5;28mself\u001b[39m\u001b[38;5;241m.\u001b[39mmodule(\u001b[38;5;241m*\u001b[39minputs[\u001b[38;5;241m0\u001b[39m], \u001b[38;5;241m*\u001b[39m\u001b[38;5;241m*\u001b[39mkwargs[\u001b[38;5;241m0\u001b[39m])\n\u001b[1;32m    167\u001b[0m replicas \u001b[38;5;241m=\u001b[39m \u001b[38;5;28mself\u001b[39m\u001b[38;5;241m.\u001b[39mreplicate(\u001b[38;5;28mself\u001b[39m\u001b[38;5;241m.\u001b[39mmodule, \u001b[38;5;28mself\u001b[39m\u001b[38;5;241m.\u001b[39mdevice_ids[:\u001b[38;5;28mlen\u001b[39m(inputs)])\n\u001b[0;32m--> 168\u001b[0m outputs \u001b[38;5;241m=\u001b[39m \u001b[38;5;28;43mself\u001b[39;49m\u001b[38;5;241;43m.\u001b[39;49m\u001b[43mparallel_apply\u001b[49m\u001b[43m(\u001b[49m\u001b[43mreplicas\u001b[49m\u001b[43m,\u001b[49m\u001b[43m \u001b[49m\u001b[43minputs\u001b[49m\u001b[43m,\u001b[49m\u001b[43m \u001b[49m\u001b[43mkwargs\u001b[49m\u001b[43m)\u001b[49m\n\u001b[1;32m    169\u001b[0m \u001b[38;5;28;01mreturn\u001b[39;00m \u001b[38;5;28mself\u001b[39m\u001b[38;5;241m.\u001b[39mgather(outputs, \u001b[38;5;28mself\u001b[39m\u001b[38;5;241m.\u001b[39moutput_device)\n",
      "File \u001b[0;32m/scratch/conda_envs/dna/lib/python3.9/site-packages/torch/nn/parallel/data_parallel.py:178\u001b[0m, in \u001b[0;36mDataParallel.parallel_apply\u001b[0;34m(self, replicas, inputs, kwargs)\u001b[0m\n\u001b[1;32m    177\u001b[0m \u001b[38;5;28;01mdef\u001b[39;00m \u001b[38;5;21mparallel_apply\u001b[39m(\u001b[38;5;28mself\u001b[39m, replicas, inputs, kwargs):\n\u001b[0;32m--> 178\u001b[0m     \u001b[38;5;28;01mreturn\u001b[39;00m \u001b[43mparallel_apply\u001b[49m\u001b[43m(\u001b[49m\u001b[43mreplicas\u001b[49m\u001b[43m,\u001b[49m\u001b[43m \u001b[49m\u001b[43minputs\u001b[49m\u001b[43m,\u001b[49m\u001b[43m \u001b[49m\u001b[43mkwargs\u001b[49m\u001b[43m,\u001b[49m\u001b[43m \u001b[49m\u001b[38;5;28;43mself\u001b[39;49m\u001b[38;5;241;43m.\u001b[39;49m\u001b[43mdevice_ids\u001b[49m\u001b[43m[\u001b[49m\u001b[43m:\u001b[49m\u001b[38;5;28;43mlen\u001b[39;49m\u001b[43m(\u001b[49m\u001b[43mreplicas\u001b[49m\u001b[43m)\u001b[49m\u001b[43m]\u001b[49m\u001b[43m)\u001b[49m\n",
      "File \u001b[0;32m/scratch/conda_envs/dna/lib/python3.9/site-packages/torch/nn/parallel/parallel_apply.py:86\u001b[0m, in \u001b[0;36mparallel_apply\u001b[0;34m(modules, inputs, kwargs_tup, devices)\u001b[0m\n\u001b[1;32m     84\u001b[0m     output \u001b[38;5;241m=\u001b[39m results[i]\n\u001b[1;32m     85\u001b[0m     \u001b[38;5;28;01mif\u001b[39;00m \u001b[38;5;28misinstance\u001b[39m(output, ExceptionWrapper):\n\u001b[0;32m---> 86\u001b[0m         \u001b[43moutput\u001b[49m\u001b[38;5;241;43m.\u001b[39;49m\u001b[43mreraise\u001b[49m\u001b[43m(\u001b[49m\u001b[43m)\u001b[49m\n\u001b[1;32m     87\u001b[0m     outputs\u001b[38;5;241m.\u001b[39mappend(output)\n\u001b[1;32m     88\u001b[0m \u001b[38;5;28;01mreturn\u001b[39;00m outputs\n",
      "File \u001b[0;32m/scratch/conda_envs/dna/lib/python3.9/site-packages/torch/_utils.py:461\u001b[0m, in \u001b[0;36mExceptionWrapper.reraise\u001b[0;34m(self)\u001b[0m\n\u001b[1;32m    457\u001b[0m \u001b[38;5;28;01mexcept\u001b[39;00m \u001b[38;5;167;01mTypeError\u001b[39;00m:\n\u001b[1;32m    458\u001b[0m     \u001b[38;5;66;03m# If the exception takes multiple arguments, don't try to\u001b[39;00m\n\u001b[1;32m    459\u001b[0m     \u001b[38;5;66;03m# instantiate since we don't know how to\u001b[39;00m\n\u001b[1;32m    460\u001b[0m     \u001b[38;5;28;01mraise\u001b[39;00m \u001b[38;5;167;01mRuntimeError\u001b[39;00m(msg) \u001b[38;5;28;01mfrom\u001b[39;00m \u001b[38;5;28mNone\u001b[39m\n\u001b[0;32m--> 461\u001b[0m \u001b[38;5;28;01mraise\u001b[39;00m exception\n",
      "\u001b[0;31mRuntimeError\u001b[0m: Caught RuntimeError in replica 0 on device 0.\nOriginal Traceback (most recent call last):\n  File \"/scratch/conda_envs/dna/lib/python3.9/site-packages/torch/nn/parallel/parallel_apply.py\", line 61, in _worker\n    output = module(*input, **kwargs)\n  File \"/scratch/conda_envs/dna/lib/python3.9/site-packages/torch/nn/modules/module.py\", line 1130, in _call_impl\n    return forward_call(*input, **kwargs)\n  File \"/tmp/ipykernel_352/1518118474.py\", line 121, in forward\n    logits, attention_weights = self.forward_single(input_ids[:,i:i+512], attention_mask[:,i:i+512], type_vec, labels, ex)\n  File \"/tmp/ipykernel_352/1518118474.py\", line 98, in forward_single\n    out, _ = self.gru(type_vec, self.h)\n  File \"/scratch/conda_envs/dna/lib/python3.9/site-packages/torch/nn/modules/module.py\", line 1130, in _call_impl\n    return forward_call(*input, **kwargs)\n  File \"/scratch/conda_envs/dna/lib/python3.9/site-packages/torch/nn/modules/rnn.py\", line 950, in forward\n    result = _VF.gru(input, hx, self._flat_weights, self.bias, self.num_layers,\nRuntimeError: Input and hidden tensors are not at the same device, found input tensor at cuda:0 and hidden tensor at cpu\n"
     ]
    }
   ],
   "source": [
    "if not test_only:\n",
    "    from tqdm import tqdm\n",
    "    train_losses = []\n",
    "    val_losses = []\n",
    "    num_mb_train = len(train_dataloader)\n",
    "    num_mb_val = len(val_dataloader)\n",
    "    current_step = 0\n",
    "    saved_steps = []\n",
    "    if num_mb_val == 0:\n",
    "        num_mb_val = 1\n",
    "\n",
    "    # print('number of iterations: ', len(train_dataloader), len(train_loader_extracted))\n",
    "    print('num_epochs: ', num_epochs)\n",
    "\n",
    "    loss_fct = nn.CrossEntropyLoss()\n",
    "\n",
    "\n",
    "    for n in range(num_epochs):\n",
    "        train_loss = 0\n",
    "        val_loss = 0\n",
    "        start_time = time.time()\n",
    "        # h = model.init_hidden(batch_size // multi_gpu)\n",
    "        \n",
    "        #for k, (data1, data2) in enumerate(zip(train_dataloader, train_loader_extracted)):\n",
    "        for k, (mb_x, mb_m, mb_t, mb_y) in tqdm(enumerate(train_dataloader)):\n",
    "            #mb_x, mb_m, mb_y = data1\n",
    "            # 56 features\n",
    "            #ex, ey, e_index = data2\n",
    "            optimizer.zero_grad()\n",
    "            model.train()\n",
    "\n",
    "            mb_x = mb_x.cuda()\n",
    "            mb_m = mb_m.cuda()\n",
    "            mb_t = mb_t.cuda()\n",
    "            mb_y = mb_y.cuda()\n",
    "            #ex = ex.cuda()\n",
    "\n",
    "            outputs, _, = model(mb_x, attention_mask=mb_m, type_vec=mb_t, labels=mb_y)\n",
    "            #print(outputs[1])\n",
    "            #mb_y = F.one_hot(mb_y)\n",
    "            #print(outputs, mb_y)\n",
    "            #loss = loss_fct(outputs.view(-1, 2), mb_y.view(-1))\n",
    "            loss = outputs[0]\n",
    "\n",
    "            if multi_gpu > 1:\n",
    "                loss = loss.sum()\n",
    "\n",
    "            loss.backward()\n",
    "            torch.nn.utils.clip_grad_norm_(model.parameters(), 1.0)\n",
    "            optimizer.step()\n",
    "            scheduler.step()\n",
    "            current_step += 1\n",
    "            train_loss += loss.data / num_mb_train\n",
    "\n",
    "            if current_step % save_step_at == 0:\n",
    "                saved_steps.append(current_step)\n",
    "                out_dir_model = os.path.join(out_dir, 'classification_model_{}'.format(saved_steps[-1]) )\n",
    "                print('saved as: ', out_dir_model)\n",
    "                if len(saved_steps) > max_step_saves:\n",
    "                    delete_dir = os.path.join(out_dir, 'classification_model_{}'.format(saved_steps[-(max_step_saves+1)]))\n",
    "                    os.system('rm -r {}'.format(delete_dir))\n",
    "                save_model(model, train_losses, val_losses, out_dir_model)\n",
    "\n",
    "\n",
    "        print (\"\\nTrain loss after itaration %i: %f\" % (n+1, train_loss))\n",
    "        train_losses.append(train_loss.cpu())\n",
    "\n",
    "        with torch.no_grad():\n",
    "            model.eval()\n",
    "\n",
    "            for k, (mb_x, mb_m, mb_y) in enumerate(val_dataloader):\n",
    "                mb_x = mb_x.cuda()\n",
    "                mb_m = mb_m.cuda()\n",
    "                mb_y = mb_y.cuda()\n",
    "\n",
    "                outputs, _ = model(mb_x, attention_mask=mb_m, labels=mb_y)\n",
    "                loss = outputs[0]\n",
    "                if multi_gpu > 1:\n",
    "                    loss = loss.sum()\n",
    "                #loss = model_loss(outputs[1], mb_y)\n",
    "\n",
    "                val_loss += loss.data / num_mb_val\n",
    "\n",
    "            print (\"Validation loss after itaration %i: %f\" % (n+1, val_loss))\n",
    "            # save the best\n",
    "\n",
    "            print('val_losses: ', val_losses, float(val_loss.cpu()))\n",
    "            if val_losses and float(val_loss.cpu()) <= min(val_losses):\n",
    "                out_dir_model = os.path.join(out_dir, 'classification_model_best')\n",
    "                print('the best model updated')\n",
    "                print('saved as: ', out_dir_model)\n",
    "                save_model(model, train_losses, val_losses, out_dir_model)\n",
    "            val_losses.append(float(val_loss.cpu()))\n",
    "\n",
    "        end_time = time.time()\n",
    "        epoch_mins, epoch_secs = epoch_time(start_time, end_time)\n",
    "        print(f'Time: {epoch_mins}m {epoch_secs}s')\n",
    "        if len(val_losses) > 3 and float(val_loss.cpu()) > max(val_losses[-4:-1]):\n",
    "            break\n",
    "\n",
    "\n",
    "    out_dir_model = os.path.join(out_dir, 'classification_model_last')\n",
    "    save_model(model, train_losses, val_losses, out_dir_model)\n",
    "    print('model saved as: ', out_dir_model)"
   ]
  },
  {
   "cell_type": "code",
   "execution_count": 88,
   "id": "95b99602",
   "metadata": {},
   "outputs": [
    {
     "name": "stdout",
     "output_type": "stream",
     "text": [
      "[0.3069362938404083, 0.2556156516075134, 0.3237793445587158, 0.2745341956615448]\n"
     ]
    },
    {
     "data": {
      "text/plain": [
       "[<matplotlib.lines.Line2D at 0x1e11399ebf0>]"
      ]
     },
     "execution_count": 88,
     "metadata": {},
     "output_type": "execute_result"
    },
    {
     "data": {
      "image/png": "[encoded data removed]",
      "text/plain": [
       "<Figure size 640x480 with 1 Axes>"
      ]
     },
     "metadata": {},
     "output_type": "display_data"
    }
   ],
   "source": [
    "\n",
    "# out_dir_model = '{}/classification_model_4000'.format(out_dir)\n",
    "\n",
    "test_dir_model = '{}/classification_model_last'.format(out_dir)\n",
    "\n",
    "PATH = os.path.join(test_dir_model, 'BERTSourceBinaryClassification.pt')\n",
    "model.load_state_dict(torch.load(PATH))\n",
    "model.eval()\n",
    "\n",
    "with open(test_dir_model + '/train_losses.pkl', 'rb') as f:\n",
    "    train_losses = pickle.load(f)\n",
    "    \n",
    "with open(test_dir_model + '/val_losses.pkl', 'rb') as f:\n",
    "    val_losses = pickle.load(f)\n",
    "\n",
    "print(val_losses)\n",
    "from matplotlib import pyplot as plt\n",
    "%matplotlib inline\n",
    "\n",
    "plt.figure()\n",
    "plt.plot(train_losses)\n",
    "plt.plot(val_losses)\n",
    "plt.savefig(os.path.join(out_dir, 'train_valid_loss.png'))"
   ]
  },
  {
   "cell_type": "code",
   "execution_count": 89,
   "id": "fd8a9f46",
   "metadata": {},
   "outputs": [
    {
     "name": "stdout",
     "output_type": "stream",
     "text": [
      "num of iterations:  125\n"
     ]
    },
    {
     "name": "stderr",
     "output_type": "stream",
     "text": [
      "0it [00:00, ?it/s]C:\\Users\\XinZhou\\AppData\\Local\\Temp\\ipykernel_9620\\1294117063.py:38: UserWarning: Implicit dimension choice for softmax has been deprecated. Change the call to include dim=X as an argument.\n",
      "  attn_energies = F.softmax(F.relu(weights.squeeze(axis=2)))\n",
      "C:\\Users\\XinZhou\\AppData\\Local\\Temp\\ipykernel_9620\\1294117063.py:133: UserWarning: Implicit dimension choice for softmax has been deprecated. Change the call to include dim=X as an argument.\n",
      "  final_logits = self.softmax(final_logits)\n",
      "125it [00:17,  7.05it/s]\n"
     ]
    }
   ],
   "source": [
    "from tqdm import tqdm\n",
    "# test_data = test_data[:100]\n",
    "test_data = TensorDataset(test_x, test_m)\n",
    "test_sampler = SequentialSampler(test_data)\n",
    "test_dataloader = DataLoader(test_data, sampler=test_sampler, batch_size=batch_size)\n",
    "\n",
    "\n",
    "outputs = []\n",
    "print('num of iterations: ', len(test_dataloader))\n",
    "with torch.no_grad():\n",
    "    for k, (mb_x, mb_m) in tqdm(enumerate(test_dataloader)):\n",
    "        mb_x = mb_x.cuda()\n",
    "        mb_m = mb_m.cuda()\n",
    "#         output, _ = model(mb_x)\n",
    "        output, attention_weights = model(mb_x, attention_mask=mb_m, max_len=MAX_LENGTH, opt='mean')\n",
    "#         print(output)\n",
    "#         print(attention_weights[4])\n",
    "#         sys.exit(0)\n",
    "        outputs.append(output[1].to('cpu'))\n",
    "        \n",
    "outputs = torch.cat(outputs)"
   ]
  },
  {
   "cell_type": "code",
   "execution_count": 90,
   "id": "3d9a3988",
   "metadata": {},
   "outputs": [
    {
     "name": "stdout",
     "output_type": "stream",
     "text": [
      "Test Accuracy: 0.897\n"
     ]
    }
   ],
   "source": [
    "_, predicted_values = torch.max(outputs, 1)\n",
    "predicted_values = predicted_values.numpy()\n",
    "true_values = test_y.numpy()\n",
    "\n",
    "test_accuracy = np.sum(predicted_values == true_values) / len(true_values)\n",
    "print (\"Test Accuracy:\", test_accuracy)\n",
    "\n",
    "log_txt(\"Test Accuracy: {}\".format(test_accuracy))\n"
   ]
  },
  {
   "cell_type": "code",
   "execution_count": 91,
   "id": "2c41932a",
   "metadata": {},
   "outputs": [],
   "source": [
    "import itertools\n",
    "\n",
    "# plot confusion matrix\n",
    "# code borrowed from scikit-learn.org\n",
    "def plot_confusion_matrix(cm, classes,\n",
    "                          normalize=False,\n",
    "                          title='Confusion matrix',\n",
    "                          cmap=plt.cm.Blues):\n",
    "    \"\"\"\n",
    "    This function prints and plots the confusion matrix.\n",
    "    Normalization can be applied by setting `normalize=True`.\n",
    "    \"\"\"\n",
    "    if normalize:\n",
    "        cm = cm.astype('float') / cm.sum(axis=1)[:, np.newaxis]\n",
    "        print(\"Normalized confusion matrix\")\n",
    "    else:\n",
    "        print('Confusion matrix, without normalization')\n",
    "\n",
    "    print(cm)\n",
    "\n",
    "    plt.imshow(cm, interpolation='nearest', cmap=cmap)\n",
    "    plt.title(title)\n",
    "    plt.colorbar()\n",
    "    tick_marks = np.arange(len(classes))\n",
    "    plt.xticks(tick_marks, classes, rotation=45)\n",
    "    plt.yticks(tick_marks, classes)\n",
    "\n",
    "    fmt = '.2f' if normalize else 'd'\n",
    "    thresh = cm.max() / 2.\n",
    "    for i, j in itertools.product(range(cm.shape[0]), range(cm.shape[1])):\n",
    "        plt.text(j, i, format(cm[i, j], fmt),\n",
    "                 horizontalalignment=\"center\",\n",
    "                 color=\"white\" if cm[i, j] > thresh else \"black\")\n",
    "\n",
    "    plt.tight_layout()\n",
    "    plt.ylabel('True label')\n",
    "    plt.xlabel('Predicted label')"
   ]
  },
  {
   "cell_type": "code",
   "execution_count": 92,
   "id": "653c3320",
   "metadata": {},
   "outputs": [
    {
     "name": "stdout",
     "output_type": "stream",
     "text": [
      "Confusion matrix, without normalization\n",
      "[[668  43]\n",
      " [ 60 229]]\n",
      "Normalized confusion matrix\n",
      "[[0.94 0.06]\n",
      " [0.21 0.79]]\n"
     ]
    },
    {
     "data": {
      "image/png": "[encoded data removed]",
      "text/plain": [
       "<Figure size 600x600 with 2 Axes>"
      ]
     },
     "metadata": {},
     "output_type": "display_data"
    },
    {
     "data": {
      "image/png": "[encoded data removed]",
      "text/plain": [
       "<Figure size 600x600 with 2 Axes>"
      ]
     },
     "metadata": {},
     "output_type": "display_data"
    }
   ],
   "source": [
    "# from sklearn.metrics import classification_report, confusion_matrix\n",
    "import sklearn.metrics as metrics\n",
    "\n",
    "def confusion_matrix_scorer(y_pred, y):\n",
    "    cm = metrics.confusion_matrix(y, y_pred)\n",
    "    return {'tn': cm[0, 0], 'fp': cm[0, 1],\n",
    "        'fn': cm[1, 0], 'tp': cm[1, 1]}\n",
    "\n",
    "cm_test = metrics.confusion_matrix(true_values, predicted_values)\n",
    "print({ 'tn': cm_test[0, 0], 'fp': cm_test[0, 1],\n",
    "        'fn': cm_test[1, 0], 'tp': cm_test[1, 1]})\n",
    "\n",
    "log_txt('tn: {} - fp: {} - fn: {} - tp: {}'.format(cm_test[0, 0], cm_test[0, 1], cm_test[1, 0], cm_test[1, 1]))\n",
    "np.set_printoptions(precision=2)\n",
    "\n",
    "plt.figure(figsize=(6,6))\n",
    "plot_confusion_matrix(cm_test, classes=label_values, title='Confusion Matrix - Test Dataset')\n",
    "\n",
    "plt.savefig(os.path.join(out_dir, 'confusion_matrix.png'))\n",
    "\n",
    "plt.figure(figsize=(6,6))\n",
    "plot_confusion_matrix(cm_test, classes=label_values, title='Confusion Matrix - Test Dataset', normalize=True)\n",
    "\n",
    "plt.savefig(os.path.join(out_dir, 'confusion_matrix_normalized.png'))"
   ]
  },
  {
   "cell_type": "code",
   "execution_count": null,
   "id": "d0e5d314",
   "metadata": {},
   "outputs": [],
   "source": []
  },
  {
   "cell_type": "code",
   "execution_count": null,
   "id": "c02c4989",
   "metadata": {},
   "outputs": [],
   "source": []
  }
 ],
 "metadata": {
  "kernelspec": {
   "display_name": "Python 3",
   "language": "python",
   "name": "python3"
  },
  "language_info": {
   "codemirror_mode": {
    "name": "ipython",
    "version": 3
   },
   "file_extension": ".py",
   "mimetype": "text/x-python",
   "name": "python",
   "nbconvert_exporter": "python",
   "pygments_lexer": "ipython3",
   "version": "3.9.12"
  }
 },
 "nbformat": 4,
 "nbformat_minor": 5
}
