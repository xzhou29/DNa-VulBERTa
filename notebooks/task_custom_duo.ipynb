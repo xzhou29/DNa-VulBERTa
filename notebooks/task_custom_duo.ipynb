{
 "cells": [
  {
   "cell_type": "code",
   "execution_count": 56,
   "id": "56bba13f",
   "metadata": {},
   "outputs": [],
   "source": [
    "# packages\n",
    "import pandas as pd\n",
    "# import pyarrow.dataset as ds\n",
    "# import pyarrow as pa\n",
    "# from datasets import *\n",
    "# from transformers import *\n",
    "from tokenizers import *\n",
    "import os\n",
    "import json\n",
    "import sys\n",
    "# from tokenizers.processors import BertProcessing\n",
    "import numpy as np"
   ]
  },
  {
   "cell_type": "code",
   "execution_count": 57,
   "id": "45c6a717",
   "metadata": {},
   "outputs": [],
   "source": [
    "# INPORTANT\n",
    "# out_dir = './task_devign_v3'\n",
    "# raw_data_path = '/scratch/xin/devign_task/tokenized_devign_v3.pkl'\n",
    "# model_path = '/scratch/xin/bert_source_v3/pretrained-bert/'\n",
    "num_epochs = 5\n",
    "max_step_saves = 3\n",
    "save_step_at = 1000\n",
    "learning_rate = 1e-5\n",
    "adam_epsilon = 1e-8\n",
    "CLASSIFIER_HIDDEN_SIZE = 128\n",
    "MIDDLE_LAYER_DROPOUT = 0.2\n",
    "normalize = 'ReLU'\n",
    "t5_checkpoint = \"t5-base\"\n",
    "\n",
    "\n",
    "MAX_LENGTH = 1024\n",
    "test_only = False\n",
    "data_type = 'devign'\n",
    "out_dir = '../result_duo_mode_{}_{}_with_tagging'.format(data_type, MAX_LENGTH)\n",
    "\n",
    "# # redas-lab2\n",
    "# data_dir = \"/scratch/dna_data/{}\".format(data_type)\n",
    "# bert_model_path = '/scratch/pretrained-dna-bert/checkpoint-35000'\n",
    "# tokenizer_path = '/scratch/pretrained-dna-bert/'\n",
    "# batch_size = 4  # 8GB per GPU   \n",
    "\n",
    "# carya cluster\n",
    "data_dir = \"../../dna_data_lite_2/{}\".format(data_type)\n",
    "bert_model_path = '../pretrained-dna-roberta-2/checkpoint-40000'\n",
    "tokenizer_path = '../../dna_data_pretraining_2/BPE_tokenizer'\n",
    "batch_size = 32 # 32GB per GPU -  max_length 512: 32 -max_length 1024: 16\n",
    "\n",
    "\n",
    "truncate_longer_samples = True\n",
    "\n",
    "if not os.path.exists(out_dir):\n",
    "    os.makedirs(out_dir)\n",
    "log_txt_file = os.path.join(out_dir, 'log.txt')\n",
    "# intialization\n",
    "with open(log_txt_file, 'w+') as f:\n",
    "    f.write('- log -\\n')\n",
    "\n",
    "def log_txt(s, type='normal'):\n",
    "    with open(log_txt_file, 'a') as f:\n",
    "        f.write('{} - {}\\n'.format( type, s))\n",
    "\n",
    "# intial parameters\n",
    "log_txt('data_type: {}'.format(data_type))\n",
    "log_txt('data_dir: {}'.format(data_dir))\n",
    "log_txt('out_dir: {}'.format(out_dir))\n",
    "log_txt('bert_model_path: {}'.format(bert_model_path))\n",
    "log_txt('tokenizer_path: {}'.format(tokenizer_path))\n",
    "log_txt('MAX_LENGTH: {}'.format(MAX_LENGTH))\n",
    "log_txt('batch_size: {}'.format(batch_size))\n",
    "log_txt('num_epochs: {}'.format(num_epochs))\n",
    "log_txt('save_step_at: {}'.format(save_step_at))\n",
    "log_txt('learning_rate: {}'.format(learning_rate))\n",
    "log_txt('adam_epsilon: {}'.format(adam_epsilon))\n",
    "log_txt('normalize: {}'.format(normalize))\n",
    "log_txt('CLASSIFIER_HIDDEN_SIZE: {}'.format(CLASSIFIER_HIDDEN_SIZE))\n"
   ]
  },
  {
   "cell_type": "code",
   "execution_count": 58,
   "id": "bf84464e",
   "metadata": {},
   "outputs": [],
   "source": [
    "# load data\n",
    "from sklearn.model_selection import train_test_split\n",
    "\n",
    "def get_data(file_path):\n",
    "    raw_df = pd.read_pickle(file_path)  \n",
    "    df = {'filename': [], 'text': [], 'text-t5': [], 'label': []}\n",
    "    for i in range(len(raw_df['code'][:500])):\n",
    "        df['filename'].append(raw_df['filename'][i])\n",
    "        code = raw_df['code'][i].split(';')\n",
    "        code = ' '.join(code)\n",
    "        df['text'].append(code)\n",
    "        df['text-t5'].append(raw_df['code-2'][i])\n",
    "        df['label'].append(raw_df['label'][i])\n",
    "    df = pd.DataFrame(df)\n",
    "    return df\n",
    "    ### convert to Huggingface dataset\n",
    "#     return Dataset(pa.Table.from_pandas(df))\n",
    "\n",
    "# random split into train/valid/test\n",
    "if data_type in ['devign']:\n",
    "    raw_data_path = os.path.join(data_dir, 'all.pkl')\n",
    "    tokenized_data = get_data(raw_data_path)\n",
    "    print(len(tokenized_data))\n",
    "    train_data, valid_data, test_data = np.split(tokenized_data, [int(.8*len(tokenized_data)), int(.9*len(tokenized_data))])\n",
    "# load train/valid/test\n",
    "elif data_type in ['mvdsc', 'd2a' ]:\n",
    "        train_data = get_data(os.path.join(data_dir, 'train.pkl'))\n",
    "        valid_data = get_data(os.path.join(data_dir, 'valid.pkl'))\n",
    "        test_data = get_data(os.path.join(data_dir, 'test.pkl'))\n",
    "# load train/valid/test from 4 types\n",
    "elif data_type in ['sysevr']:\n",
    "    # already randomized from pre-processing with fixed seed for pre-training and fine-tuning\n",
    "    raw_data_path = os.path.join(data_dir, 'api.pkl')\n",
    "    tokenized_data = get_data(raw_data_path)\n",
    "    train_data_1, valid_data_1, test_data_1 = np.split(tokenized_data, [int(.7*len(tokenized_data)), int(.85*len(tokenized_data))])\n",
    "    raw_data_path = os.path.join(data_dir, 'au.pkl')\n",
    "    tokenized_data = get_data(raw_data_path)\n",
    "    train_data_2, valid_data_2, test_data_2 = np.split(tokenized_data, [int(.7*len(tokenized_data)), int(.85*len(tokenized_data))])\n",
    "    raw_data_path = os.path.join(data_dir, 'ae.pkl')\n",
    "    tokenized_data = get_data(raw_data_path)\n",
    "    train_data_3, valid_data_3, test_data_3 = np.split(tokenized_data, [int(.7*len(tokenized_data)), int(.85*len(tokenized_data))])\n",
    "    raw_data_path = os.path.join(data_dir, 'pu.pkl')\n",
    "    tokenized_data = get_data(raw_data_path)\n",
    "    train_data_4, valid_data_4, test_data_4 = np.split(tokenized_data, [int(.7*len(tokenized_data)), int(.85*len(tokenized_data))])\n",
    "    tokenized_data = get_data(raw_data_path)\n",
    "    train_data = pd.concat([train_data_1, train_data_2, train_data_3, train_data_4], ignore_index=True)\n",
    "    valid_data = pd.concat([valid_data_1, valid_data_2, valid_data_3, valid_data_4], ignore_index=True)\n",
    "    test_data = pd.concat([test_data_1, test_data_2, test_data_3, test_data_4], ignore_index=True)\n",
    "elif  data_type in ['draper']:\n",
    "    # splitted data bc too large\n",
    "    all_data = {}\n",
    "    for i in range(10):\n",
    "        raw_data_path = os.path.join(data_dir, 'train_{}.pkl'.format(i))\n",
    "        tokenized_data = get_data(raw_data_path)\n",
    "        #train_data = pd.concat([train_data_1, train_data_2, train_data_3, train_data_4], ignore_index=True)\n",
    "\n",
    "else:\n",
    "    print('data type does not exist!')\n"
   ]
  },
  {
   "cell_type": "code",
   "execution_count": 59,
   "id": "ba08f49a",
   "metadata": {},
   "outputs": [
    {
     "name": "stdout",
     "output_type": "stream",
     "text": [
      "(1000, 3)\n",
      "(1000, 3)\n",
      "(1000, 3)\n",
      "0    translation_unit void function_declarator CWE1...\n",
      "1    translation_unit static function_definition vo...\n",
      "2    translation_unit void function_declarator CWE1...\n",
      "3    translation_unit static function_definition vo...\n",
      "4    translation_unit static function_definition vo...\n",
      "5    translation_unit static function_definition vo...\n",
      "6    translation_unit void function_declarator CWE1...\n",
      "7    translation_unit void function_declarator CWE1...\n",
      "8    translation_unit void function_declarator CWE1...\n",
      "9    translation_unit static function_definition vo...\n",
      "Name: text, dtype: object\n"
     ]
    }
   ],
   "source": [
    "print(train_data.shape)\n",
    "print(valid_data.shape)\n",
    "print(test_data.shape)\n",
    "print(train_data['text'][:3])\n",
    "\n",
    "log_txt('train: {} - valid: {} - test: {} '.format(len(train_data), len(valid_data), len(test_data)))"
   ]
  },
  {
   "cell_type": "code",
   "execution_count": 60,
   "id": "540c7751",
   "metadata": {},
   "outputs": [
    {
     "data": {
      "text/plain": [
       "[0, 1]"
      ]
     },
     "execution_count": 60,
     "metadata": {},
     "output_type": "execute_result"
    }
   ],
   "source": [
    "label_counts = pd.DataFrame(train_data['label'].value_counts())\n",
    "label_counts\n",
    "label_values = list(label_counts.index)\n",
    "order = list(pd.DataFrame(train_data['label'].value_counts()).index)\n",
    "label_values = [l for _,l in sorted(zip(order, label_values))]\n",
    "label_values"
   ]
  },
  {
   "cell_type": "code",
   "execution_count": 61,
   "id": "d60c19dc",
   "metadata": {},
   "outputs": [
    {
     "name": "stdout",
     "output_type": "stream",
     "text": [
      "translation_unit void function_declarator CWE121_Stack_Based_Buffer_Overflow__CWE805_wchar_t_alloca_ncat_05_bad parenthesized_expression ( ERROR ) compound_statement { declaration wchar_t pointer_declarator * identifier wchar_tPointerDefUsePass   declaration wchar_t pointer_declarator * identifier wchar_tPointerDefUseCall = parenthesized_expression ( declaration wchar_t pointer_declarator * ERROR ) call_expression ALLOCA parenthesized_expression ( binary_expression 5 0 pointer_declarator * sizeof_expression sizeof parenthesized_expression ( declaration wchar_t ERROR ) ERROR )   if_statement if parenthesized_expression ( identifier staticTrue ERROR ) compound_statement { identifier wchar_tPointerDefUsePass = identifier wchar_tPointerDefUseCall   identifier wchar_tPointerDefUsePass [ number_literal 0 ] = identifier L char_literal ' escape_sequence \\0 char_literal '   declaration wchar_t expression_statement source [ number_literal 1 0 0 ]   expression_statement wmemset parenthesized_expression ( expression_statement source , identifier L char_literal ' ERROR C char_literal ' , number_literal 1 0 0 - number_literal 1 ERROR )   expression_statement source [ number_literal 1 0 0 - number_literal 1 ] = identifier L char_literal ' escape_sequence \\0 char_literal '   expression_statement wcsncat parenthesized_expression ( identifier wchar_tPointerDefUsePass , expression_statement source , number_literal 1 0 0 ERROR )   function_declarator printWLine parenthesized_expression ( identifier wchar_tPointerDefUsePass ERROR )   } } translation_unit void function_declarator printWLine parenthesized_expression ( parameter_declaration const declaration wchar_t pointer_declarator * assignment_expression wchar_tPointerDefCallPass ERROR ) compound_statement { if_statement if parenthesized_expression ( assignment_expression wchar_tPointerDefCallPass ERROR ! = NULL ERROR ) compound_statement { ERROR wprintf parenthesized_expression ( identifier L expression_statement \" % ls\\n \" , assignment_expression wchar_tPointerDefCallPass ERROR )   } }\n"
     ]
    }
   ],
   "source": [
    "train_texts = train_data['text'].values\n",
    "train_texts_2 = train_data['text-t5'].values\n",
    "train_labels = train_data['label'].values\n",
    "\n",
    "valid_texts = valid_data['text'].values\n",
    "valid_texts_2 = valid_data['text-t5'].values\n",
    "valid_labels = valid_data['label'].values\n",
    "\n",
    "test_texts = test_data['text'].values\n",
    "test_texts_2 = test_data['text-t5'].values\n",
    "test_labels = test_data['label'].values\n",
    "\n",
    "print(train_texts[0])"
   ]
  },
  {
   "cell_type": "code",
   "execution_count": 62,
   "id": "7778bd5b",
   "metadata": {},
   "outputs": [
    {
     "name": "stdout",
     "output_type": "stream",
     "text": [
      "min:  28\n",
      "number of zeros:  0\n",
      "max:  548\n",
      "avg:  184.785\n",
      "median:  163\n",
      "95%:  406\n",
      "184.785\n",
      "87.67309362824119\n"
     ]
    }
   ],
   "source": [
    "import statistics\n",
    "train_texts[0]\n",
    "text_lengths = [len(train_texts[i].split()) for i in range(len(train_texts))]\n",
    "log_txt(' -------------------- train_texts -------------------- ')\n",
    "log_txt('min: {}'.format(min(text_lengths)))\n",
    "log_txt('min: {}'.format(min(text_lengths)))\n",
    "log_txt('number of zeros:: {}'.format(len([item for item in text_lengths if item == 0])))\n",
    "log_txt('max: {}'.format(max(sorted(text_lengths))))\n",
    "log_txt('avg: {}'.format( sum(text_lengths) / len(text_lengths) ))\n",
    "log_txt('median: {}'.format( sorted(text_lengths)[len(text_lengths) // 2] ))\n",
    "log_txt('95%: {}'.format( sorted(text_lengths)[int(len(text_lengths)*0.95)]))\n",
    "log_txt('mean: {}'.format( statistics.mean(text_lengths)))\n",
    "log_txt('std: {}'.format( statistics.stdev(text_lengths)))\n",
    "\n",
    "\n",
    "train_texts_2[0]\n",
    "text_lengths = [len(train_texts_2[i].split()) for i in range(len(train_texts_2))]\n",
    "log_txt(' -------------------- train_texts_2 -------------------- ')\n",
    "log_txt('min: {}'.format(min(text_lengths)))\n",
    "log_txt('min: {}'.format(min(text_lengths)))\n",
    "log_txt('number of zeros:: {}'.format(len([item for item in text_lengths if item == 0])))\n",
    "log_txt('max: {}'.format(max(sorted(text_lengths))))\n",
    "log_txt('avg: {}'.format( sum(text_lengths) / len(text_lengths) ))\n",
    "log_txt('median: {}'.format( sorted(text_lengths)[len(text_lengths) // 2] ))\n",
    "log_txt('95%: {}'.format( sorted(text_lengths)[int(len(text_lengths)*0.95)]))\n",
    "log_txt('mean: {}'.format( statistics.mean(text_lengths)))\n",
    "log_txt('std: {}'.format( statistics.stdev(text_lengths)))\n",
    "    "
   ]
  },
  {
   "cell_type": "code",
   "execution_count": 63,
   "id": "ad3e75ea",
   "metadata": {},
   "outputs": [
    {
     "name": "stderr",
     "output_type": "stream",
     "text": [
      "C:\\Users\\XinZhou\\AppData\\Local\\Temp\\ipykernel_9620\\2095679928.py:8: UserWarning: \n",
      "\n",
      "`distplot` is a deprecated function and will be removed in seaborn v0.14.0.\n",
      "\n",
      "Please adapt your code to use either `displot` (a figure-level function with\n",
      "similar flexibility) or `histplot` (an axes-level function for histograms).\n",
      "\n",
      "For a guide to updating your code to use the new functions, please see\n",
      "https://gist.github.com/mwaskom/de44147ed2974457ad6372750bbe5751\n",
      "\n",
      "  sns.distplot(text_lengths, hist=True, kde=False,\n"
     ]
    },
    {
     "data": {
      "text/plain": [
       "Text(0, 0.5, 'counts')"
      ]
     },
     "execution_count": 63,
     "metadata": {},
     "output_type": "execute_result"
    },
    {
     "data": {
      "image/png": "[encoded data removed]",
      "text/plain": [
       "<Figure size 640x480 with 1 Axes>"
      ]
     },
     "metadata": {},
     "output_type": "display_data"
    }
   ],
   "source": [
    "# Import the libraries\n",
    "import matplotlib.pyplot as plt\n",
    "import seaborn as sns\n",
    "# matplotlib histogram\n",
    "plt.hist(text_lengths, color = 'blue', edgecolor = 'black',\n",
    "         bins = int(180/5))\n",
    "# seaborn histogram\n",
    "sns.distplot(text_lengths, hist=True, kde=False, \n",
    "             bins=int(180/5), color = 'blue',\n",
    "             hist_kws={'edgecolor':'black'})\n",
    "# Add labels\n",
    "plt.title('Histogram of text length analysis')\n",
    "plt.xlabel('text length')\n",
    "plt.ylabel('counts')\n",
    "plt.savefig(os.path.join(out_dir, 'histogram.png'))"
   ]
  },
  {
   "cell_type": "code",
   "execution_count": 64,
   "id": "d74ba9ae",
   "metadata": {},
   "outputs": [
    {
     "data": {
      "text/plain": [
       "4"
      ]
     },
     "execution_count": 64,
     "metadata": {},
     "output_type": "execute_result"
    }
   ],
   "source": [
    "sum([1 for i in range(len(text_lengths)) if text_lengths[i] >= MAX_LENGTH])"
   ]
  },
  {
   "cell_type": "code",
   "execution_count": 65,
   "id": "8d075664",
   "metadata": {},
   "outputs": [
    {
     "name": "stderr",
     "output_type": "stream",
     "text": [
      "C:\\Users\\XinZhou\\anaconda3\\envs\\dna\\lib\\site-packages\\transformers\\tokenization_utils_base.py:1678: FutureWarning: Calling AlbertTokenizer.from_pretrained() with the path to a single file or url is deprecated and won't be possible anymore in v5. Use a model identifier or the path to a directory instead.\n",
      "  warnings.warn(\n",
      "loading file ..\\..\\cbert\\pretrained\\test_albert_NaCUT\\tokenizer.model\n",
      "Adding [CLS] to the vocabulary\n",
      "Adding [SEP] to the vocabulary\n",
      "Adding <pad> to the vocabulary\n",
      "Adding [MASK] to the vocabulary\n",
      "Special tokens have been added in the vocabulary, make sure the associated word embeddings are fine-tuned or trained.\n"
     ]
    },
    {
     "name": "stdout",
     "output_type": "stream",
     "text": [
      "..\\..\\cbert\\pretrained\\test_albert_NaCUT\\tokenizer.model\n",
      "tokenizer loaded ...\n",
      "vocab size:  32000\n"
     ]
    }
   ],
   "source": [
    "# ========================= load tokenizer START =========================\n",
    "# 30,522 vocab is BERT's default vocab size, feel free to tweak\n",
    "# vocab_size = 32010\n",
    "# maximum sequence length, lowering will result to faster training (when increasing batch size)\n",
    "import sentencepiece as spm\n",
    "import transformers \n",
    "# !pip install sentencepiece\n",
    "\n",
    "from tokenizers import SentencePieceBPETokenizer\n",
    "\n",
    "if 'albert' in tokenizer_path:\n",
    "    tokenizer = transformers.AlbertTokenizer.from_pretrained(tokenizer_path)\n",
    "else:\n",
    "    tokenizer = transformers.AutoTokenizer.from_pretrained(tokenizer_path)\n",
    "\n",
    "log_txt('tokenizer_path: {}\\n'.format( tokenizer_path))\n",
    "\n",
    "\n",
    "t5_tokenizer = transformers.AutoTokenizer.from_pretrained(t5_checkpoint)\n"
   ]
  },
  {
   "cell_type": "code",
   "execution_count": null,
   "id": "c19161df",
   "metadata": {},
   "outputs": [],
   "source": []
  },
  {
   "cell_type": "code",
   "execution_count": 66,
   "id": "f2d7f7a8",
   "metadata": {},
   "outputs": [],
   "source": [
    "\n",
    "max_length = MAX_LENGTH\n",
    "train_text_dict = [tokenizer(t, truncation=True, padding=\"max_length\", max_length=MAX_LENGTH, return_special_tokens_mask=True) for t in train_texts]\n",
    "valid_text_dict = [tokenizer(t, truncation=True, padding=\"max_length\", max_length=MAX_LENGTH, return_special_tokens_mask=True) for t in valid_texts]\n",
    "test_text_dict = [tokenizer(t, truncation=True, padding=\"max_length\", max_length=MAX_LENGTH, return_special_tokens_mask=True) for t in test_texts]\n",
    "\n",
    "\n",
    "train_text_ids_2 = [t5_tokenizer(t, truncation=True, padding=\"max_length\", max_length=MAX_LENGTH, return_special_tokens_mask=True).input_ids  for t in train_texts_2]\n",
    "valid_text_ids_2 = [t5_tokenizer(t, truncation=True, padding=\"max_length\", max_length=MAX_LENGTH, return_special_tokens_mask=True).input_ids  for t in valid_texts_2]\n",
    "test_text_ids_2 = [t5_tokenizer(t, truncation=True, padding=\"max_length\", max_length=MAX_LENGTH, return_special_tokens_mask=True).input_ids  for t in test_texts_2]\n",
    "\n"
   ]
  },
  {
   "cell_type": "code",
   "execution_count": 67,
   "id": "8ebe6c5c",
   "metadata": {},
   "outputs": [],
   "source": [
    "train_text_ids = [text_id['input_ids'] for text_id in train_text_dict]\n",
    "valid_text_ids = [text_id['input_ids'] for text_id in valid_text_dict]\n",
    "test_text_ids = [text_id['input_ids'] for text_id in test_text_dict]\n",
    "\n",
    "# train_text_ids_2 = [text_id['input_ids'] for text_id in train_text_dict_2]\n",
    "# valid_text_ids_2 = [text_id['input_ids'] for text_id in valid_text_dict_2]\n",
    "# test_text_ids_2 = [text_id['input_ids'] for text_id in test_text_dict_2]\n",
    "\n",
    "# text_ids[0]\n",
    "train_att_masks = [text_id['attention_mask'] for text_id in train_text_dict]\n",
    "valid_att_masks = [text_id['attention_mask'] for text_id in valid_text_dict]\n",
    "test_att_masks = [text_id['attention_mask'] for text_id in test_text_dict]\n"
   ]
  },
  {
   "cell_type": "code",
   "execution_count": 68,
   "id": "fd2efc95",
   "metadata": {},
   "outputs": [],
   "source": [
    "from sklearn.model_selection import train_test_split\n",
    "train_x, train_m, train_x_2, train_y = train_text_ids, train_att_masks, train_text_ids_2, train_labels\n",
    "val_x, val_m, val_x_2, val_y = valid_text_ids, valid_att_masks, valid_text_ids_2, valid_labels\n",
    "test_x, test_m, test_x_2, test_y = test_text_ids, test_att_masks, test_text_ids_2, test_labels"
   ]
  },
  {
   "cell_type": "code",
   "execution_count": 69,
   "id": "c02640a1",
   "metadata": {},
   "outputs": [
    {
     "name": "stdout",
     "output_type": "stream",
     "text": [
      "torch.Size([1000, 512])\n",
      "torch.Size([1000, 512])\n",
      "torch.Size([1000, 512])\n",
      "torch.Size([1000])\n",
      "torch.Size([1000])\n",
      "torch.Size([1000])\n",
      "torch.Size([1000, 512])\n",
      "torch.Size([1000, 512])\n",
      "torch.Size([1000, 512])\n"
     ]
    }
   ],
   "source": [
    "import torch\n",
    "\n",
    "train_x = torch.tensor(train_x)\n",
    "test_x = torch.tensor(test_x)\n",
    "val_x = torch.tensor(val_x)\n",
    "\n",
    "train_y = torch.tensor(train_y)\n",
    "test_y = torch.tensor(test_y)\n",
    "val_y = torch.tensor(val_y)\n",
    "\n",
    "train_x_2 = torch.tensor(train_x_2)\n",
    "test_x_2 = torch.tensor(test_x_2)\n",
    "val_x_2 = torch.tensor(val_x_2)\n",
    "\n",
    "\n",
    "train_m = torch.tensor(train_m)\n",
    "test_m = torch.tensor(test_m)\n",
    "val_m = torch.tensor(val_m)\n",
    "\n",
    "# log_txt(train_x.shape)\n",
    "# log_txt(test_x.shape)\n",
    "# log_txt(val_x.shape)\n",
    "# log_txt(test_y.shape)\n",
    "# log_txt(val_y.shape)\n",
    "# log_txt(train_m.shape)\n",
    "# log_txt(test_m.shape)\n",
    "# log_txt(val_m.shape)"
   ]
  },
  {
   "cell_type": "code",
   "execution_count": 70,
   "id": "ea48ae55",
   "metadata": {},
   "outputs": [
    {
     "name": "stdout",
     "output_type": "stream",
     "text": [
      "tensor([[32000,    50,     3,  ..., 32002, 32002, 32002],\n",
      "        [32000,    50,     3,  ..., 32002, 32002, 32002],\n",
      "        [32000,    50,     3,  ..., 32002, 32002, 32002],\n",
      "        ...,\n",
      "        [32000,    50,     3,  ..., 32002, 32002, 32002],\n",
      "        [32000,    50,     3,  ..., 32002, 32002, 32002],\n",
      "        [32000,    50,     3,  ..., 32002, 32002, 32002]])\n"
     ]
    }
   ],
   "source": [
    "from torch.utils.data import TensorDataset, DataLoader, RandomSampler, SequentialSampler\n",
    "\n",
    "\n",
    "# log_txt(train_x)\n",
    "train_data = TensorDataset(train_x, train_m, train_x_2, train_y)\n",
    "train_sampler = list(range(len(train_data)))\n",
    "\n",
    "\n",
    "# train_sampler = train_sampler[:100]\n",
    "train_sampler = RandomSampler(train_data)\n",
    "train_dataloader = DataLoader(train_data, sampler=train_sampler, batch_size=batch_size)\n",
    "\n",
    "\n",
    "val_data = TensorDataset(val_x, val_m, val_x_2, val_y)\n",
    "val_sampler = list(range(len(val_data)))\n",
    "# val_sampler = val_sampler[:100]\n",
    "val_sampler = SequentialSampler(val_data)\n",
    "val_dataloader = DataLoader(val_data, sampler=val_sampler, batch_size=batch_size)\n",
    "\n",
    "\n",
    "# train_loader_extracted = torch.utils.data.DataLoader(train_extracted_data, batch_size=batch_size, shuffle=False,\n",
    "#                                            sampler=train_sampler)\n",
    "\n",
    "# valid_loader_extracted = torch.utils.data.DataLoader(valid_extracted_data, batch_size=batch_size, shuffle=False,\n",
    "#                                            sampler=val_sampler)\n"
   ]
  },
  {
   "cell_type": "code",
   "execution_count": null,
   "id": "c02a28f3",
   "metadata": {},
   "outputs": [],
   "source": [
    "import torch.nn as nn\n",
    "import torch\n",
    "import torch.nn.init as init\n",
    "import torch.nn.functional as F\n",
    "from torch.autograd import Variable\n",
    "import sys\n",
    "\n",
    "class DotAttention(nn.Module):\n",
    "\n",
    "    def __init__(self, hidden_size):\n",
    "        super(DotAttention, self).__init__()\n",
    "        self.hidden_size = hidden_size\n",
    "        self.attn_vector = nn.Parameter(\n",
    "            torch.Tensor(1, hidden_size), requires_grad=True)\n",
    "        init.xavier_uniform(self.attn_vector.data)\n",
    "\n",
    "    def get_mask(self):\n",
    "        pass\n",
    "\n",
    "    def forward(self, inputs, lengths=None):\n",
    "        batch_size, max_len = inputs.size()[:2]\n",
    "        '''\n",
    "        print(\"INPUTS\", inputs.size())\n",
    "        print(\"ATTN\", self.attn_vector  # (1, hidden_size)\n",
    "                            .unsqueeze(0)  # (1, hidden_size, 1)\n",
    "                            .transpose(2, 1)\n",
    "                            .repeat(batch_size, 1, 1).size())'''\n",
    "        # apply attention layer\n",
    "        weights = torch.bmm(inputs,\n",
    "                            self.attn_vector  # (1, hidden_size)\n",
    "                            .unsqueeze(0)  # (1, 1, hidden_size)\n",
    "                            .transpose(2, 1) # (1, hidden_size, 1)\n",
    "                            .repeat(batch_size, 1, 1)) # (batch_size, hidden_size, 1))\n",
    "        attn_energies = F.softmax(F.relu(weights.squeeze(axis=2)))\n",
    "        # create mask based on the sentence lengths\n",
    "        #idxes = torch.arange(0, max_len, out=torch.LongTensor(max_len)).unsqueeze(0).cuda()  # some day, you'll be able to directly do this on cuda\n",
    "        #mask = Variable((idxes < lengths.data.unsqueeze(1)).float())\n",
    "        # apply mask and renormalize attention scores (weights)\n",
    "        #masked = attn_weights * mask\n",
    "        _sums = attn_energies.sum(-1).unsqueeze(1).expand_as(attn_energies)  # sums per row\n",
    "        attn_weights = attn_energies / _sums\n",
    "        # print('attn_weights: ', attn_weights.shape)\n",
    "        # apply attention weights\n",
    "        weighted = torch.mul(inputs, attn_weights.unsqueeze(-1).expand_as(inputs))\n",
    "        # print('weighted: ', weighted.shape)\n",
    "        # get the final fixed vector representations of the sentences\n",
    "        representations = weighted.sum(1).squeeze()\n",
    "        if len(representations.shape) == 1:\n",
    "            representations = representations.reshape(1, representations.shape[-1])\n",
    "        # print('representations: ', representations.shape)\n",
    "        return representations, attn_weights\n",
    "    \n",
    "from transformers import AutoModelForSequenceClassification\n",
    "\n",
    "\n",
    "    \n",
    "class BERTSourceBinaryClassification(nn.Module):\n",
    "    def __init__(self,checkpoint, num_labels): \n",
    "        super(BERTSourceBinaryClassification,self).__init__() \n",
    "        self.num_labels = num_labels \n",
    "        self.hidden_size = CLASSIFIER_HIDDEN_SIZE\n",
    "\n",
    "        ########### T5 model\n",
    "        self.model  = transformers.AutoModel.from_pretrained(checkpoint, output_attentions=True, output_hidden_states=True)\n",
    "        self.T5 = transformers.T5EncoderModel.from_pretrained(t5_checkpoint)\n",
    "        self.attn_t5 = DotAttention(hidden_size = 768)\n",
    "        self.t5_classifier = nn.Linear(768 * (MAX_LENGTH // 512), self.hidden_size) # load and initialize weights\n",
    "        self.dropout_t5 = nn.Dropout(MIDDLE_LAYER_DROPOUT)\n",
    "\n",
    "        ############ BERT model\n",
    "        self.attn = DotAttention(hidden_size = 768)\n",
    "        self.bert_classifier = nn.Linear(768 * (MAX_LENGTH // 512), self.hidden_size) # load and initialize weights\n",
    "        self.dropout_bert = nn.Dropout(MIDDLE_LAYER_DROPOUT)\n",
    "\n",
    "        # CONCATENATED:\n",
    "        self.concat_classifier = nn.Linear(768 * 2 * (MAX_LENGTH // 512), self.hidden_size) # load and initialize weights\n",
    "\n",
    "        ########### NORMALIZATION\n",
    "        if normalize == 'GELU':\n",
    "            self.normalization = nn.GELU()\n",
    "        elif normalize == 'Softmax':\n",
    "            self.normalization = nn.Softmax()\n",
    "        else:\n",
    "            self.normalization = nn.ReLU()\n",
    "\n",
    "        ############ FINAL CLASSIDIER\n",
    "        self.dense_1 = nn.Linear(self.hidden_size * 3, self.hidden_size) \n",
    "        self.dense_2 = nn.Linear(self.hidden_size, num_labels) \n",
    "        self.activation = nn.Sigmoid()\n",
    "    \n",
    "    def forward_single(self, input_ids, attention_mask, input_ids_2, labels, ex):\n",
    "        # BERT model\n",
    "        all_outputs = self.model(input_ids, attention_mask=attention_mask)\n",
    "        hidden_states_bert = all_outputs[0]\n",
    "        pooler_output_bert = all_outputs[1]\n",
    "        attention_weights_bert = all_outputs[3]\n",
    "        # attn, attention_weights_dot_product = self.attn.forward(hidden_states)\n",
    "        # concatenated_bert = torch.cat([pooler_output, attn], dim=1)\n",
    "        # output_bert =  self.bert_classifier(concatenated_bert)\n",
    "\n",
    "        # T5 model\n",
    "        hidden_states_t5 = self.T5(input_ids=input_ids_2)\n",
    "        hidden_states_t5 = hidden_states_t5.last_hidden_state\n",
    "        pooler_output_t5 =  hidden_states_t5[:,-1]   \n",
    "        # t5_attn, attention_weights_dot_product_t5 = self.attn_t5.forward(hidden_states_t5)\n",
    "        # concatenated_t5 = torch.cat([t5_last, t5_attn], dim=1)\n",
    "        # output_t5 =  self.t5_classifier(concatenated_bert)\n",
    "\n",
    "        # hidden_states_bert: batch x 512 x 768 pooler_output_bert: batch x 768\n",
    "        return hidden_states_bert, pooler_output_bert, attention_weights_bert[0], hidden_states_t5, pooler_output_t5\n",
    "        # concatenation\n",
    "        # concatenated_final = torch.cat([output_bert, output_t5], dim=1)\n",
    "        return self.normalization(output_bert), self.normalization(output_t5),  attention_weights_dot_product, attention_weights_dot_product_t5\n",
    "    \n",
    "    def forward(self, input_ids=None, attention_mask=None, input_ids_2=None, labels=None, ex=None, max_len=MAX_LENGTH, opt='mean'):\n",
    "        # Extract outputs from the body\n",
    "        all_hidden_states_bert = None\n",
    "        all_pooler_output_bert = None\n",
    "        all_attention_weights_bert = None\n",
    "        all_hidden_states_t5 = None\n",
    "        all_pooler_output_t5 = None\n",
    "        # pick the most suspicous one for final decision\n",
    "        for i in range(0, max_len, 512):\n",
    "            hidden_states_bert, pooler_output_bert, attention_weights_bert, hidden_states_t5, pooler_output_t5 = \\\n",
    "                    self.forward_single(input_ids[:,i:i+512], attention_mask[:,i:i+512], input_ids_2[:,i:i+512], labels, ex)\n",
    "            if all_hidden_states_bert is None:\n",
    "                # BERT\n",
    "                all_hidden_states_bert = hidden_states_bert\n",
    "                all_pooler_output_bert = pooler_output_bert\n",
    "                all_attention_weights_bert = attention_weights_bert\n",
    "                # T5\n",
    "                all_hidden_states_t5 = hidden_states_t5\n",
    "                all_pooler_output_t5 = pooler_output_t5\n",
    "            else:\n",
    "                # BERT\n",
    "                all_hidden_states_bert = torch.cat([all_hidden_states_bert,  hidden_states_bert], dim=1)\n",
    "                all_pooler_output_bert = torch.cat([all_pooler_output_bert,  pooler_output_bert], dim=1)\n",
    "                all_attention_weights_bert = torch.cat([all_attention_weights_bert,  attention_weights_bert], dim=1)\n",
    "                # T5\n",
    "                all_hidden_states_t5 = torch.cat([all_hidden_states_t5,  hidden_states_t5], dim=1)\n",
    "                all_pooler_output_t5 = torch.cat([all_pooler_output_t5,  pooler_output_t5], dim=1)\n",
    "\n",
    "        # dropout_layers\n",
    "        all_pooler_output_bert = self.dropout_bert(all_pooler_output_bert)\n",
    "        all_pooler_output_t5 = self.dropout_t5(all_pooler_output_t5)\n",
    "        all_concatenated = torch.cat([all_pooler_output_bert, all_pooler_output_t5], dim=1)\n",
    "\n",
    "        # first classifiers\n",
    "        bert_output = self.bert_classifier(all_pooler_output_bert)\n",
    "        t5_output = self.t5_classifier(all_pooler_output_t5)\n",
    "        concatenated_output = self.concat_classifier(all_concatenated)\n",
    "\n",
    "        # normalization \n",
    "        bert_output = self.normalization(bert_output)\n",
    "        t5_output = self.normalization(t5_output)\n",
    "        concatenated_output = self.normalization(concatenated_output)\n",
    "\n",
    "        # final classification layer\n",
    "        concatenated_final = torch.cat([bert_output, t5_output, concatenated_output], dim=1)\n",
    "        final_output = self.dense_1(concatenated_final)\n",
    "        final_output = self.dense_2(final_output)\n",
    "        final_output = self.activation(final_output)\n",
    "\n",
    "        loss = None\n",
    "        if labels is not None:\n",
    "            loss_fct = nn.CrossEntropyLoss()\n",
    "            loss = loss_fct(final_output.view(-1, self.num_labels), labels.view(-1))\n",
    "        return (loss, final_output), all_attention_weights_bert\n",
    "\n",
    "\n",
    "        #return TokenClassifierOutput(loss=loss, logits=logits, hidden_states=outputs.hidden_states,attentions=outputs.attentions)"
   ]
  },
  {
   "cell_type": "code",
   "execution_count": 72,
   "id": "43f8ca24",
   "metadata": {},
   "outputs": [
    {
     "name": "stderr",
     "output_type": "stream",
     "text": [
      "loading configuration file ..\\..\\cbert\\pretrained\\test_albert_NaCUT\\checkpoint\\config.json\n",
      "Model config AlbertConfig {\n",
      "  \"_name_or_path\": \"..\\\\..\\\\cbert\\\\pretrained\\\\test_albert_NaCUT\\\\checkpoint\",\n",
      "  \"architectures\": [\n",
      "    \"AlbertForMaskedLM\"\n",
      "  ],\n",
      "  \"attention_probs_dropout_prob\": 0,\n",
      "  \"bos_token_id\": 2,\n",
      "  \"classifier_dropout_prob\": 0.1,\n",
      "  \"embedding_size\": 128,\n",
      "  \"eos_token_id\": 3,\n",
      "  \"hidden_act\": \"gelu_new\",\n",
      "  \"hidden_dropout_prob\": 0,\n",
      "  \"hidden_size\": 768,\n",
      "  \"initializer_range\": 0.02,\n",
      "  \"inner_group_num\": 1,\n",
      "  \"intermediate_size\": 8192,\n",
      "  \"layer_norm_eps\": 1e-12,\n",
      "  \"max_position_embeddings\": 512,\n",
      "  \"model_type\": \"albert\",\n",
      "  \"num_attention_heads\": 12,\n",
      "  \"num_hidden_groups\": 1,\n",
      "  \"num_hidden_layers\": 12,\n",
      "  \"output_attentions\": true,\n",
      "  \"output_hidden_states\": true,\n",
      "  \"pad_token_id\": 0,\n",
      "  \"position_embedding_type\": \"absolute\",\n",
      "  \"torch_dtype\": \"float32\",\n",
      "  \"transformers_version\": \"4.21.2\",\n",
      "  \"type_vocab_size\": 2,\n",
      "  \"vocab_size\": 32010\n",
      "}\n",
      "\n",
      "loading weights file ..\\..\\cbert\\pretrained\\test_albert_NaCUT\\checkpoint\\pytorch_model.bin\n",
      "Some weights of the model checkpoint at ..\\..\\cbert\\pretrained\\test_albert_NaCUT\\checkpoint were not used when initializing AlbertModel: ['predictions.LayerNorm.bias', 'predictions.LayerNorm.weight', 'predictions.decoder.bias', 'predictions.decoder.weight', 'predictions.dense.bias', 'predictions.dense.weight', 'predictions.bias']\n",
      "- This IS expected if you are initializing AlbertModel from the checkpoint of a model trained on another task or with another architecture (e.g. initializing a BertForSequenceClassification model from a BertForPreTraining model).\n",
      "- This IS NOT expected if you are initializing AlbertModel from the checkpoint of a model that you expect to be exactly identical (initializing a BertForSequenceClassification model from a BertForSequenceClassification model).\n"
     ]
    },
    {
     "name": "stdout",
     "output_type": "stream",
     "text": [
      "..\\..\\cbert\\pretrained\\test_albert_NaCUT\\checkpoint\n"
     ]
    },
    {
     "name": "stderr",
     "output_type": "stream",
     "text": [
      "Some weights of AlbertModel were not initialized from the model checkpoint at ..\\..\\cbert\\pretrained\\test_albert_NaCUT\\checkpoint and are newly initialized: ['albert.pooler.weight', 'albert.pooler.bias']\n",
      "You should probably TRAIN this model on a down-stream task to be able to use it for predictions and inference.\n",
      "C:\\Users\\XinZhou\\AppData\\Local\\Temp\\ipykernel_9620\\1294117063.py:17: UserWarning: nn.init.xavier_uniform is now deprecated in favor of nn.init.xavier_uniform_.\n",
      "  init.xavier_uniform(self.attn_vector.data)\n"
     ]
    }
   ],
   "source": [
    "log_txt(bert_model_path)\n",
    "model = BERTSourceBinaryClassification(checkpoint=bert_model_path, num_labels=2)"
   ]
  },
  {
   "cell_type": "code",
   "execution_count": 73,
   "id": "8492af36",
   "metadata": {},
   "outputs": [
    {
     "name": "stderr",
     "output_type": "stream",
     "text": [
      "C:\\Users\\XinZhou\\anaconda3\\envs\\dna\\lib\\site-packages\\transformers\\optimization.py:306: FutureWarning: This implementation of AdamW is deprecated and will be removed in a future version. Use the PyTorch implementation torch.optim.AdamW instead, or set `no_deprecation_warning=True` to disable this warning\n",
      "  warnings.warn(\n"
     ]
    }
   ],
   "source": [
    "\n",
    "\n",
    "\n",
    "no_decay = ['bias', 'LayerNorm.weight']\n",
    "optimizer_grouped_parameters = [\n",
    "    {'params': [p for n, p in model.named_parameters() if not any(nd in n for nd in no_decay)],\n",
    "     'weight_decay_rate': 0.2},\n",
    "    {'params': [p for n, p in model.named_parameters() if any(nd in n for nd in no_decay)],\n",
    "     'weight_decay_rate': 0.0}\n",
    "]\n",
    "\n",
    "optimizer = transformers.AdamW(optimizer_grouped_parameters, lr=learning_rate, eps=adam_epsilon)"
   ]
  },
  {
   "cell_type": "code",
   "execution_count": 74,
   "id": "dd3aa44e",
   "metadata": {},
   "outputs": [],
   "source": [
    "\n",
    "os.environ['CUDA_VISIBLE_DEVICES'] = '0,1,2,3'\n",
    "multi_gpu = torch.cuda.device_count() \n",
    "if multi_gpu > 1:\n",
    "    print(\"Let's use\", torch.cuda.device_count(), \"GPUs!\")\n",
    "    # dim = 0 [30, xxx] -> [10, ...], [10, ...], [10, ...] on 3 GPUs\n",
    "    model = nn.DataParallel(model)\n",
    "# model = nn.DataParallel(model)\n",
    "model = model.cuda()"
   ]
  },
  {
   "cell_type": "code",
   "execution_count": 75,
   "id": "ded1e7d8",
   "metadata": {},
   "outputs": [],
   "source": [
    "\n",
    "from transformers import get_linear_schedule_with_warmup\n",
    "\n",
    "\n",
    "total_steps = len(train_dataloader) * num_epochs\n",
    "scheduler = get_linear_schedule_with_warmup(optimizer, num_warmup_steps=0, num_training_steps=total_steps)"
   ]
  },
  {
   "cell_type": "code",
   "execution_count": 76,
   "id": "7aa7865b",
   "metadata": {},
   "outputs": [
    {
     "name": "stdout",
     "output_type": "stream",
     "text": [
      "number of iterations:  125\n"
     ]
    }
   ],
   "source": [
    "import time\n",
    "\n",
    "def epoch_time(start_time, end_time):\n",
    "    elapsed_time = end_time - start_time\n",
    "    elapsed_mins = int(elapsed_time / 60)\n",
    "    elapsed_secs = int(elapsed_time - (elapsed_mins * 60))\n",
    "    return elapsed_mins, elapsed_secs\n",
    "\n",
    "import numpy as np\n",
    "import random\n",
    "\n",
    "seed_val = 111\n",
    "random.seed(seed_val)\n",
    "np.random.seed(seed_val)\n",
    "torch.manual_seed(seed_val)\n",
    "torch.cuda.manual_seed_all(seed_val)\n",
    "\n",
    "import pickle\n",
    "import os\n",
    "\n",
    "\n",
    "# save model \n",
    "\n",
    "def save_model(model, train_losses, val_losses, out_dir_model):\n",
    "\n",
    "    if not os.path.exists(out_dir_model):\n",
    "        os.makedirs(out_dir_model)\n",
    "    \n",
    "    PATH = os.path.join(out_dir_model, 'BERTSourceBinaryClassification.pt')\n",
    "\n",
    "    torch.save(model.state_dict(), PATH)\n",
    "\n",
    "    with open(out_dir_model + '/train_losses.pkl', 'wb') as f:\n",
    "        pickle.dump(train_losses, f)\n",
    "\n",
    "    with open(out_dir_model + '/val_losses.pkl', 'wb') as f:\n",
    "        pickle.dump(val_losses, f)\n",
    "        \n",
    "print('number of iterations: ', len(train_dataloader))"
   ]
  },
  {
   "cell_type": "code",
   "execution_count": null,
   "id": "e1a4eca6",
   "metadata": {},
   "outputs": [],
   "source": []
  },
  {
   "cell_type": "code",
   "execution_count": 77,
   "id": "64535cf2",
   "metadata": {},
   "outputs": [
    {
     "name": "stdout",
     "output_type": "stream",
     "text": [
      "num_epochs:  10\n"
     ]
    },
    {
     "name": "stderr",
     "output_type": "stream",
     "text": [
      "0it [00:00, ?it/s]C:\\Users\\XinZhou\\AppData\\Local\\Temp\\ipykernel_9620\\1294117063.py:38: UserWarning: Implicit dimension choice for softmax has been deprecated. Change the call to include dim=X as an argument.\n",
      "  attn_energies = F.softmax(F.relu(weights.squeeze(axis=2)))\n",
      "C:\\Users\\XinZhou\\AppData\\Local\\Temp\\ipykernel_9620\\1294117063.py:133: UserWarning: Implicit dimension choice for softmax has been deprecated. Change the call to include dim=X as an argument.\n",
      "  final_logits = self.softmax(final_logits)\n",
      "99it [00:37,  2.62it/s]"
     ]
    },
    {
     "name": "stdout",
     "output_type": "stream",
     "text": [
      "saved as:  ./result_mvdsc/classification_model_100\n"
     ]
    },
    {
     "name": "stderr",
     "output_type": "stream",
     "text": [
      "125it [00:47,  2.63it/s]\n"
     ]
    },
    {
     "name": "stdout",
     "output_type": "stream",
     "text": [
      "\n",
      "Train loss after itaration 1: 0.379066\n",
      "Validation loss after itaration 1: 0.306936\n",
      "val_losses:  [] 0.3069362938404083\n",
      "Time: 1m 4s\n"
     ]
    },
    {
     "name": "stderr",
     "output_type": "stream",
     "text": [
      "74it [00:30,  2.19it/s]"
     ]
    },
    {
     "name": "stdout",
     "output_type": "stream",
     "text": [
      "saved as:  ./result_mvdsc/classification_model_200\n"
     ]
    },
    {
     "name": "stderr",
     "output_type": "stream",
     "text": [
      "125it [00:50,  2.48it/s]\n"
     ]
    },
    {
     "name": "stdout",
     "output_type": "stream",
     "text": [
      "\n",
      "Train loss after itaration 2: 0.288924\n",
      "Validation loss after itaration 2: 0.255616\n",
      "val_losses:  [0.3069362938404083] 0.2556156516075134\n",
      "the best model updated\n",
      "saved as:  ./result_mvdsc/classification_model_best\n",
      "Time: 1m 7s\n"
     ]
    },
    {
     "name": "stderr",
     "output_type": "stream",
     "text": [
      "49it [00:18,  2.66it/s]"
     ]
    },
    {
     "name": "stdout",
     "output_type": "stream",
     "text": [
      "saved as:  ./result_mvdsc/classification_model_300\n"
     ]
    },
    {
     "name": "stderr",
     "output_type": "stream",
     "text": [
      "125it [00:47,  2.64it/s]\n"
     ]
    },
    {
     "name": "stdout",
     "output_type": "stream",
     "text": [
      "\n",
      "Train loss after itaration 3: 0.244448\n",
      "Validation loss after itaration 3: 0.323779\n",
      "val_losses:  [0.3069362938404083, 0.2556156516075134] 0.3237793445587158\n",
      "Time: 1m 4s\n"
     ]
    },
    {
     "name": "stderr",
     "output_type": "stream",
     "text": [
      "24it [00:09,  2.66it/s]"
     ]
    },
    {
     "name": "stdout",
     "output_type": "stream",
     "text": [
      "saved as:  ./result_mvdsc/classification_model_400\n"
     ]
    },
    {
     "name": "stderr",
     "output_type": "stream",
     "text": [
      "124it [00:47,  2.65it/s]"
     ]
    },
    {
     "name": "stdout",
     "output_type": "stream",
     "text": [
      "saved as:  ./result_mvdsc/classification_model_500\n"
     ]
    },
    {
     "name": "stderr",
     "output_type": "stream",
     "text": [
      "125it [00:47,  2.62it/s]\n"
     ]
    },
    {
     "name": "stdout",
     "output_type": "stream",
     "text": [
      "\n",
      "Train loss after itaration 4: 0.213758\n",
      "Validation loss after itaration 4: 0.274534\n",
      "val_losses:  [0.3069362938404083, 0.2556156516075134, 0.3237793445587158] 0.2745341956615448\n",
      "Time: 1m 4s\n"
     ]
    },
    {
     "name": "stderr",
     "output_type": "stream",
     "text": [
      "99it [00:37,  2.66it/s]"
     ]
    },
    {
     "name": "stdout",
     "output_type": "stream",
     "text": [
      "saved as:  ./result_mvdsc/classification_model_600\n"
     ]
    },
    {
     "name": "stderr",
     "output_type": "stream",
     "text": [
      "125it [00:47,  2.63it/s]\n"
     ]
    },
    {
     "name": "stdout",
     "output_type": "stream",
     "text": [
      "\n",
      "Train loss after itaration 5: 0.170058\n",
      "Validation loss after itaration 5: 0.335586\n",
      "val_losses:  [0.3069362938404083, 0.2556156516075134, 0.3237793445587158, 0.2745341956615448] 0.3355863690376282\n",
      "Time: 1m 4s\n"
     ]
    }
   ],
   "source": [
    "if not test_only:\n",
    "    from tqdm import tqdm\n",
    "    train_losses = []\n",
    "    val_losses = []\n",
    "    num_mb_train = len(train_dataloader)\n",
    "    num_mb_val = len(val_dataloader)\n",
    "    current_step = 0\n",
    "    saved_steps = []\n",
    "    if num_mb_val == 0:\n",
    "        num_mb_val = 1\n",
    "\n",
    "    # print('number of iterations: ', len(train_dataloader), len(train_loader_extracted))\n",
    "    print('num_epochs: ', num_epochs)\n",
    "\n",
    "    loss_fct = nn.CrossEntropyLoss()\n",
    "\n",
    "\n",
    "    for n in range(num_epochs):\n",
    "        train_loss = 0\n",
    "        val_loss = 0\n",
    "        start_time = time.time()\n",
    "\n",
    "        #for k, (data1, data2) in enumerate(zip(train_dataloader, train_loader_extracted)):\n",
    "        for k, (mb_x, mb_m, mb_x_2, mb_y) in tqdm(enumerate(train_dataloader)):\n",
    "            #mb_x, mb_m, mb_y = data1\n",
    "            # 56 features\n",
    "            #ex, ey, e_index = data2\n",
    "            optimizer.zero_grad()\n",
    "            model.train()\n",
    "\n",
    "            mb_x = mb_x.cuda()\n",
    "            mb_m = mb_m.cuda()\n",
    "            mb_x_2 = mb_x_2.cuda()\n",
    "            mb_y = mb_y.cuda()\n",
    "            #ex = ex.cuda()\n",
    "\n",
    "            outputs, _, = model(mb_x, attention_mask=mb_m, input_ids_2=mb_x_2, labels=mb_y)\n",
    "            #print(outputs[1])\n",
    "            #mb_y = F.one_hot(mb_y)\n",
    "            #print(outputs, mb_y)\n",
    "            #loss = loss_fct(outputs.view(-1, 2), mb_y.view(-1))\n",
    "            loss = outputs[0]\n",
    "\n",
    "            if multi_gpu > 1:\n",
    "                loss = loss.sum()\n",
    "\n",
    "            loss.backward()\n",
    "            torch.nn.utils.clip_grad_norm_(model.parameters(), 1.0)\n",
    "            optimizer.step()\n",
    "            scheduler.step()\n",
    "            current_step += 1\n",
    "            train_loss += loss.data / num_mb_train\n",
    "\n",
    "            if current_step % save_step_at == 0:\n",
    "                saved_steps.append(current_step)\n",
    "                out_dir_model = os.path.join(out_dir, 'classification_model_{}'.format(saved_steps[-1]) )\n",
    "                print('saved as: ', out_dir_model)\n",
    "                if len(saved_steps) > max_step_saves:\n",
    "                    delete_dir = os.path.join(out_dir, 'classification_model_{}'.format(saved_steps[-(max_step_saves+1)]))\n",
    "                    os.system('rm -r {}'.format(delete_dir))\n",
    "                save_model(model, train_losses, val_losses, out_dir_model)\n",
    "\n",
    "\n",
    "        print (\"\\nTrain loss after itaration %i: %f\" % (n+1, train_loss))\n",
    "        train_losses.append(train_loss.cpu())\n",
    "\n",
    "        with torch.no_grad():\n",
    "            model.eval()\n",
    "\n",
    "            for k, (mb_x, mb_m, mb_x_2, mb_y) in enumerate(val_dataloader):\n",
    "                mb_x = mb_x.cuda()\n",
    "                mb_m = mb_m.cuda()\n",
    "                mb_x_2 = mb_x_2.cuda()\n",
    "                mb_y = mb_y.cuda()\n",
    "                \n",
    "                outputs, _ = model(mb_x, attention_mask=mb_m, input_ids_2=mb_x_2, labels=mb_y)\n",
    "                loss = outputs[0]\n",
    "                if multi_gpu > 1:\n",
    "                    loss = loss.sum()\n",
    "                #loss = model_loss(outputs[1], mb_y)\n",
    "\n",
    "                val_loss += loss.data / num_mb_val\n",
    "\n",
    "            print (\"Validation loss after itaration %i: %f\" % (n+1, val_loss))\n",
    "            # save the best\n",
    "\n",
    "            print('val_losses: ', val_losses, float(val_loss.cpu()))\n",
    "            if val_losses and float(val_loss.cpu()) <= min(val_losses):\n",
    "                out_dir_model = os.path.join(out_dir, 'classification_model_best')\n",
    "                print('the best model updated')\n",
    "                print('saved as: ', out_dir_model)\n",
    "                save_model(model, train_losses, val_losses, out_dir_model)\n",
    "            val_losses.append(float(val_loss.cpu()))\n",
    "\n",
    "        end_time = time.time()\n",
    "        epoch_mins, epoch_secs = epoch_time(start_time, end_time)\n",
    "        print(f'Time: {epoch_mins}m {epoch_secs}s')\n",
    "        if len(val_losses) > 3 and float(val_loss.cpu()) > max(val_losses[-4:-1]):\n",
    "            break\n",
    "\n",
    "\n",
    "    out_dir_model = os.path.join(out_dir, 'classification_model_last')\n",
    "    save_model(model, train_losses, val_losses, out_dir_model)\n",
    "    print('model saved as: ', out_dir_model)"
   ]
  },
  {
   "cell_type": "code",
   "execution_count": 88,
   "id": "95b99602",
   "metadata": {},
   "outputs": [
    {
     "name": "stdout",
     "output_type": "stream",
     "text": [
      "[0.3069362938404083, 0.2556156516075134, 0.3237793445587158, 0.2745341956615448]\n"
     ]
    },
    {
     "data": {
      "text/plain": [
       "[<matplotlib.lines.Line2D at 0x1e11399ebf0>]"
      ]
     },
     "execution_count": 88,
     "metadata": {},
     "output_type": "execute_result"
    },
    {
     "data": {
      "image/png": "[encoded data removed]",
      "text/plain": [
       "<Figure size 640x480 with 1 Axes>"
      ]
     },
     "metadata": {},
     "output_type": "display_data"
    }
   ],
   "source": [
    "\n",
    "# out_dir_model = '{}/classification_model_4000'.format(out_dir)\n",
    "\n",
    "test_dir_model = '{}/classification_model_last'.format(out_dir)\n",
    "\n",
    "PATH = os.path.join(test_dir_model, 'BERTSourceBinaryClassification.pt')\n",
    "model.load_state_dict(torch.load(PATH))\n",
    "model.eval()\n",
    "\n",
    "with open(test_dir_model + '/train_losses.pkl', 'rb') as f:\n",
    "    train_losses = pickle.load(f)\n",
    "    \n",
    "with open(test_dir_model + '/val_losses.pkl', 'rb') as f:\n",
    "    val_losses = pickle.load(f)\n",
    "\n",
    "print(val_losses)\n",
    "from matplotlib import pyplot as plt\n",
    "%matplotlib inline\n",
    "\n",
    "plt.figure()\n",
    "plt.plot(train_losses)\n",
    "plt.plot(val_losses)\n",
    "plt.savefig(os.path.join(out_dir, 'train_valid_loss.png'))"
   ]
  },
  {
   "cell_type": "code",
   "execution_count": 89,
   "id": "fd8a9f46",
   "metadata": {},
   "outputs": [
    {
     "name": "stdout",
     "output_type": "stream",
     "text": [
      "num of iterations:  125\n"
     ]
    },
    {
     "name": "stderr",
     "output_type": "stream",
     "text": [
      "0it [00:00, ?it/s]C:\\Users\\XinZhou\\AppData\\Local\\Temp\\ipykernel_9620\\1294117063.py:38: UserWarning: Implicit dimension choice for softmax has been deprecated. Change the call to include dim=X as an argument.\n",
      "  attn_energies = F.softmax(F.relu(weights.squeeze(axis=2)))\n",
      "C:\\Users\\XinZhou\\AppData\\Local\\Temp\\ipykernel_9620\\1294117063.py:133: UserWarning: Implicit dimension choice for softmax has been deprecated. Change the call to include dim=X as an argument.\n",
      "  final_logits = self.softmax(final_logits)\n",
      "125it [00:17,  7.05it/s]\n"
     ]
    }
   ],
   "source": [
    "from tqdm import tqdm\n",
    "# test_data = test_data[:100]\n",
    "test_data = TensorDataset(test_x, test_x_2, test_m)\n",
    "test_sampler = SequentialSampler(test_data)\n",
    "test_dataloader = DataLoader(test_data, sampler=test_sampler, batch_size=batch_size)\n",
    "\n",
    "\n",
    "outputs = []\n",
    "print('num of iterations: ', len(test_dataloader))\n",
    "with torch.no_grad():\n",
    "    for k, (mb_x, mb_m, mb_x_2) in tqdm(enumerate(test_dataloader)):\n",
    "        mb_x = mb_x.cuda()\n",
    "        mb_m = mb_m.cuda()\n",
    "        mb_x2_2 = mb_x_2.cuda()\n",
    "#         output, _ = model(mb_x)\n",
    "        output, attention_weights = model(mb_x, attention_mask=mb_m, input_ids_2=mb_x_2, max_len=MAX_LENGTH, opt='mean')\n",
    "#         print(output)\n",
    "#         print(attention_weights[4])\n",
    "#         sys.exit(0)\n",
    "        outputs.append(output[1].to('cpu'))\n",
    "        \n",
    "outputs = torch.cat(outputs)"
   ]
  },
  {
   "cell_type": "code",
   "execution_count": 90,
   "id": "3d9a3988",
   "metadata": {},
   "outputs": [
    {
     "name": "stdout",
     "output_type": "stream",
     "text": [
      "Test Accuracy: 0.897\n"
     ]
    }
   ],
   "source": [
    "_, predicted_values = torch.max(outputs, 1)\n",
    "predicted_values = predicted_values.numpy()\n",
    "true_values = test_y.numpy()\n",
    "\n",
    "test_accuracy = np.sum(predicted_values == true_values) / len(true_values)\n",
    "print (\"Test Accuracy:\", test_accuracy)\n",
    "\n",
    "log_txt(\"Test Accuracy: {}\".format(test_accuracy))\n"
   ]
  },
  {
   "cell_type": "code",
   "execution_count": 91,
   "id": "2c41932a",
   "metadata": {},
   "outputs": [],
   "source": [
    "import itertools\n",
    "\n",
    "# plot confusion matrix\n",
    "# code borrowed from scikit-learn.org\n",
    "def plot_confusion_matrix(cm, classes,\n",
    "                          normalize=False,\n",
    "                          title='Confusion matrix',\n",
    "                          cmap=plt.cm.Blues):\n",
    "    \"\"\"\n",
    "    This function prints and plots the confusion matrix.\n",
    "    Normalization can be applied by setting `normalize=True`.\n",
    "    \"\"\"\n",
    "    if normalize:\n",
    "        cm = cm.astype('float') / cm.sum(axis=1)[:, np.newaxis]\n",
    "        print(\"Normalized confusion matrix\")\n",
    "    else:\n",
    "        print('Confusion matrix, without normalization')\n",
    "\n",
    "    print(cm)\n",
    "\n",
    "    plt.imshow(cm, interpolation='nearest', cmap=cmap)\n",
    "    plt.title(title)\n",
    "    plt.colorbar()\n",
    "    tick_marks = np.arange(len(classes))\n",
    "    plt.xticks(tick_marks, classes, rotation=45)\n",
    "    plt.yticks(tick_marks, classes)\n",
    "\n",
    "    fmt = '.2f' if normalize else 'd'\n",
    "    thresh = cm.max() / 2.\n",
    "    for i, j in itertools.product(range(cm.shape[0]), range(cm.shape[1])):\n",
    "        plt.text(j, i, format(cm[i, j], fmt),\n",
    "                 horizontalalignment=\"center\",\n",
    "                 color=\"white\" if cm[i, j] > thresh else \"black\")\n",
    "\n",
    "    plt.tight_layout()\n",
    "    plt.ylabel('True label')\n",
    "    plt.xlabel('Predicted label')"
   ]
  },
  {
   "cell_type": "code",
   "execution_count": 92,
   "id": "653c3320",
   "metadata": {},
   "outputs": [
    {
     "name": "stdout",
     "output_type": "stream",
     "text": [
      "Confusion matrix, without normalization\n",
      "[[668  43]\n",
      " [ 60 229]]\n",
      "Normalized confusion matrix\n",
      "[[0.94 0.06]\n",
      " [0.21 0.79]]\n"
     ]
    },
    {
     "data": {
      "image/png": "[encoded data removed]",
      "text/plain": [
       "<Figure size 600x600 with 2 Axes>"
      ]
     },
     "metadata": {},
     "output_type": "display_data"
    },
    {
     "data": {
      "image/png": "[encoded data removed]",
      "text/plain": [
       "<Figure size 600x600 with 2 Axes>"
      ]
     },
     "metadata": {},
     "output_type": "display_data"
    }
   ],
   "source": [
    "# from sklearn.metrics import classification_report, confusion_matrix\n",
    "import sklearn.metrics as metrics\n",
    "\n",
    "def confusion_matrix_scorer(y_pred, y):\n",
    "    cm = metrics.confusion_matrix(y, y_pred)\n",
    "    return {'tn': cm[0, 0], 'fp': cm[0, 1],\n",
    "        'fn': cm[1, 0], 'tp': cm[1, 1]}\n",
    "\n",
    "cm_test = metrics.confusion_matrix(true_values, predicted_values)\n",
    "print({ 'tn': cm_test[0, 0], 'fp': cm_test[0, 1],\n",
    "        'fn': cm_test[1, 0], 'tp': cm_test[1, 1]})\n",
    "\n",
    "log_txt('tn: {} - fp: {} - fn: {} - tp: {}'.format(cm_test[0, 0], cm_test[0, 1], cm_test[1, 0], cm_test[1, 1]))\n",
    "np.set_printoptions(precision=2)\n",
    "\n",
    "plt.figure(figsize=(6,6))\n",
    "plot_confusion_matrix(cm_test, classes=label_values, title='Confusion Matrix - Test Dataset')\n",
    "\n",
    "plt.savefig(os.path.join(out_dir, 'confusion_matrix.png'))\n",
    "\n",
    "plt.figure(figsize=(6,6))\n",
    "plot_confusion_matrix(cm_test, classes=label_values, title='Confusion Matrix - Test Dataset', normalize=True)\n",
    "\n",
    "plt.savefig(os.path.join(out_dir, 'confusion_matrix_normalized.png'))"
   ]
  },
  {
   "cell_type": "code",
   "execution_count": null,
   "id": "d0e5d314",
   "metadata": {},
   "outputs": [],
   "source": []
  },
  {
   "cell_type": "code",
   "execution_count": null,
   "id": "c02c4989",
   "metadata": {},
   "outputs": [],
   "source": []
  }
 ],
 "metadata": {
  "kernelspec": {
   "display_name": "Python 3 (ipykernel)",
   "language": "python",
   "name": "python3"
  },
  "language_info": {
   "codemirror_mode": {
    "name": "ipython",
    "version": 3
   },
   "file_extension": ".py",
   "mimetype": "text/x-python",
   "name": "python",
   "nbconvert_exporter": "python",
   "pygments_lexer": "ipython3",
   "version": "3.10.4"
  }
 },
 "nbformat": 4,
 "nbformat_minor": 5
}
