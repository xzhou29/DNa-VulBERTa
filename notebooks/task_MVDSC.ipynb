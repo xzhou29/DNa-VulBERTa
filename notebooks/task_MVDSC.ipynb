{
 "cells": [
  {
   "cell_type": "code",
   "execution_count": 109,
   "id": "ff6adb37",
   "metadata": {},
   "outputs": [],
   "source": [
    "# packages\n",
    "import pandas as pd\n",
    "import pyarrow.dataset as ds\n",
    "from datasets import Dataset\n",
    "import pyarrow as pa\n",
    "from datasets import *\n",
    "from transformers import *\n",
    "from tokenizers import *\n",
    "import os\n",
    "import json\n",
    "import sys\n",
    "from tokenizers.processors import BertProcessing\n",
    "import numpy as np"
   ]
  },
  {
   "cell_type": "code",
   "execution_count": 111,
   "id": "f4f3b047",
   "metadata": {},
   "outputs": [],
   "source": [
    "version = 1\n",
    "MAX_LENGTH = 1024\n",
    "\n",
    "if version == 1:\n",
    "    data_dir = '/scratch/xin/mvdsc_task/mvdsc_v1'\n",
    "    bert_dir = '/scratch/xin/bert_source_v1'\n",
    "    tokenizer_path = 'BPE_tokenizer'\n",
    "    out_dir = 'task_mvdsc_v1/'\n",
    "\n",
    "\n"
   ]
  },
  {
   "cell_type": "code",
   "execution_count": 112,
   "id": "a8474490",
   "metadata": {},
   "outputs": [
    {
     "name": "stdout",
     "output_type": "stream",
     "text": [
      "VOID NONE LPAREN RPAREN LBRACE CHAR TIMES TIMESxID SEMI CHAR CHARxIDxTIMES LBRACKET 6 5 6 RBRACKET SEMI TIMESxID EQUALS CHARxIDxTIMES SEMI MEMSET LPAREN TIMESxID COMMA QUOTATION 3 COMMA 3 1 6 RPAREN SEMI TIMESxID LBRACKET 5 7 1 RBRACKET EQUALS QUOTATION 4 SEMI TIMESxID LBRACKET 4 4 9 RBRACKET EQUALS QUOTATION 1 SEMI TIMESxID LBRACKET 3 5 7 RBRACKET EQUALS QUOTATION 1 SEMI TIMESxID LBRACKET 8 1 RBRACKET EQUALS QUOTATION 1 SEMI TIMESxID LBRACKET 4 0 3 RBRACKET EQUALS QUOTATION 1 SEMI TIMESxID LBRACKET 1 4 2 RBRACKET EQUALS QUOTATION 1 SEMI TIMESxID LBRACKET 3 6 5 RBRACKET EQUALS QUOTATION 1 SEMI TIMESxID LBRACKET 6 9 RBRACKET EQUALS QUOTATION 1 SEMI TIMESxID LBRACKET 9 RBRACKET EQUALS QUOTATION 1 SEMI TIMESxID LBRACKET 1 9 7 RBRACKET EQUALS QUOTATION 1 SEMI TIMESxID LBRACKET 3 9 6 RBRACKET EQUALS QUOTATION 1 SEMI TIMESxID LBRACKET 4 7 7 RBRACKET EQUALS QUOTATION 1 SEMI TIMESxID LBRACKET 5 1 4 RBRACKET EQUALS QUOTATION 1 SEMI TIMESxID LBRACKET 2 2 2 RBRACKET EQUALS QUOTATION 1 SEMI TIMESxID LBRACKET 8 8 RBRACKET EQUALS QUOTATION 1 SEMI TIMESxID LBRACKET 5 4 5 RBRACKET EQUALS QUOTATION 1 SEMI TIMESxID LBRACKET 5 0 8 RBRACKET EQUALS QUOTATION 1 SEMI TIMESxID LBRACKET 1 2 7 RBRACKET EQUALS QUOTATION 1 SEMI TIMESxID LBRACKET 5 1 3 RBRACKET EQUALS QUOTATION 1 SEMI TIMESxID LBRACKET 5 2 7 RBRACKET EQUALS QUOTATION 1 SEMI TIMESxID LBRACKET 4 0 7 RBRACKET EQUALS QUOTATION 1 SEMI CHAR CHARxIDxCHAR LBRACKET 8 1 6 RBRACKET EQUALS QUOTATION 2 SEMI STRCPY LPAREN CHARxIDxCHAR COMMA TIMESxID RPAREN SEMI EXTERNxIDxCHAR LPAREN TIMESxID RPAREN SEMI RBRACE\n",
      "VOID NONE LPAREN RPAREN LBRACE CHAR TIMES TIMESxID SEMI CHAR CHARxIDxTIMES LBRACKET 6 3 9 RBRACKET SEMI TIMESxID EQUALS CHARxIDxTIMES SEMI MEMSET LPAREN TIMESxID COMMA QUOTATION 3 COMMA 4 4 1 RPAREN SEMI TIMESxID LBRACKET 2 8 7 RBRACKET EQUALS QUOTATION 4 SEMI TIMESxID LBRACKET 1 2 8 RBRACKET EQUALS QUOTATION 1 SEMI TIMESxID LBRACKET 1 7 4 RBRACKET EQUALS QUOTATION 1 SEMI TIMESxID LBRACKET 2 3 5 RBRACKET EQUALS QUOTATION 1 SEMI TIMESxID LBRACKET 1 4 4 RBRACKET EQUALS QUOTATION 1 SEMI TIMESxID LBRACKET 1 5 2 RBRACKET EQUALS QUOTATION 1 SEMI TIMESxID LBRACKET 2 2 0 RBRACKET EQUALS QUOTATION 1 SEMI TIMESxID LBRACKET 2 0 1 RBRACKET EQUALS QUOTATION 1 SEMI TIMESxID LBRACKET 2 8 0 RBRACKET EQUALS QUOTATION 1 SEMI TIMESxID LBRACKET 2 6 5 RBRACKET EQUALS QUOTATION 1 SEMI TIMESxID LBRACKET 6 0 RBRACKET EQUALS QUOTATION 1 SEMI CHAR CHARxIDxCHAR LBRACKET 1 1 1 7 RBRACKET EQUALS QUOTATION 2 SEMI STRCPY LPAREN CHARxIDxCHAR COMMA TIMESxID RPAREN SEMI EXTERNxIDxCHAR LPAREN TIMESxID RPAREN SEMI RBRACE\n"
     ]
    }
   ],
   "source": [
    "# load data\n",
    "# \n",
    "# /scratch/xin/bert_source/mvdsc/tokenized_mvdsc_valid.pkl\n",
    "# /scratch/xin/bert_source/mvdsc/tokenized_mvdsc_test.pkl\n",
    "def get_data(file_path):\n",
    "    raw_df = pd.read_pickle(file_path)  \n",
    "    df = {'filename': [], 'text': [], 'label': []}\n",
    "    for i in range(len(raw_df['code'])):\n",
    "        df['filename'].append(raw_df['filename'][i])\n",
    "        code = raw_df['code'][i].split('\\n')\n",
    "        code = ' '.join(code)\n",
    "        df['text'].append(code)\n",
    "        df['label'].append(raw_df['bug'][i])\n",
    "    df = pd.DataFrame(df)\n",
    "    return df\n",
    "    ### convert to Huggingface dataset\n",
    "#     return Dataset(pa.Table.from_pandas(df))\n",
    "\n",
    "# train_data = get_data('/scratch/xin/bert_source/mvdsc/tokenized_mvdsc_train.pkl')\n",
    "# valid_data = get_data('/scratch/xin/bert_source/mvdsc/tokenized_mvdsc_valid.pkl')\n",
    "# test_data = get_data('/scratch/xin/bert_source/mvdsc/tokenized_mvdsc_test.pkl')\n",
    "# /scratch/xin/mvdsc_task/mvdsc_v2/tokenized_mvdsc_\n",
    "\n",
    "train_data = get_data(os.path.join(data_dir, 'tokenized_mvdsc_train.pkl'))\n",
    "valid_data = get_data(os.path.join(data_dir, 'tokenized_mvdsc_valid.pkl'))\n",
    "test_data = get_data(os.path.join(data_dir,'tokenized_mvdsc_test.pkl'))\n",
    "\n",
    "print(train_data['text'][0])\n",
    "print(test_data['text'][55])\n"
   ]
  },
  {
   "cell_type": "code",
   "execution_count": 113,
   "id": "116336c3",
   "metadata": {},
   "outputs": [
    {
     "name": "stdout",
     "output_type": "stream",
     "text": [
      "37985\n"
     ]
    }
   ],
   "source": [
    "# train_data.shape\n",
    "print(len(train_data))\n",
    "# print(train_data.head(10))\n",
    "# print(train_extracted_data.head(10))\n",
    "# train_data = train_data[:100]\n",
    "# print(train_extracted_data[7])"
   ]
  },
  {
   "cell_type": "code",
   "execution_count": 114,
   "id": "d57a214b",
   "metadata": {},
   "outputs": [
    {
     "data": {
      "text/html": [
       "<div>\n",
       "<style scoped>\n",
       "    .dataframe tbody tr th:only-of-type {\n",
       "        vertical-align: middle;\n",
       "    }\n",
       "\n",
       "    .dataframe tbody tr th {\n",
       "        vertical-align: top;\n",
       "    }\n",
       "\n",
       "    .dataframe thead th {\n",
       "        text-align: right;\n",
       "    }\n",
       "</style>\n",
       "<table border=\"1\" class=\"dataframe\">\n",
       "  <thead>\n",
       "    <tr style=\"text-align: right;\">\n",
       "      <th></th>\n",
       "      <th>label</th>\n",
       "    </tr>\n",
       "  </thead>\n",
       "  <tbody>\n",
       "    <tr>\n",
       "      <th>0</th>\n",
       "      <td>26569</td>\n",
       "    </tr>\n",
       "    <tr>\n",
       "      <th>1</th>\n",
       "      <td>11416</td>\n",
       "    </tr>\n",
       "  </tbody>\n",
       "</table>\n",
       "</div>"
      ],
      "text/plain": [
       "   label\n",
       "0  26569\n",
       "1  11416"
      ]
     },
     "execution_count": 114,
     "metadata": {},
     "output_type": "execute_result"
    }
   ],
   "source": [
    "label_counts = pd.DataFrame(train_data['label'].value_counts())\n",
    "label_counts"
   ]
  },
  {
   "cell_type": "code",
   "execution_count": 115,
   "id": "f1b2e95e",
   "metadata": {},
   "outputs": [
    {
     "data": {
      "text/plain": [
       "[0, 1]"
      ]
     },
     "execution_count": 115,
     "metadata": {},
     "output_type": "execute_result"
    }
   ],
   "source": [
    "label_values = list(label_counts.index)\n",
    "order = list(pd.DataFrame(train_data['label'].value_counts()).index)\n",
    "label_values = [l for _,l in sorted(zip(order, label_values))]\n",
    "\n",
    "label_values"
   ]
  },
  {
   "cell_type": "code",
   "execution_count": 116,
   "id": "7c120bb6",
   "metadata": {},
   "outputs": [],
   "source": [
    "train_texts = train_data['text'].values\n",
    "train_labels = train_data['label'].values\n",
    "\n",
    "valid_texts = valid_data['text'].values\n",
    "valid_labels = valid_data['label'].values\n",
    "\n",
    "test_texts = test_data['text'].values\n",
    "test_labels = test_data['label'].values"
   ]
  },
  {
   "cell_type": "code",
   "execution_count": 117,
   "id": "67e53ce4",
   "metadata": {},
   "outputs": [
    {
     "name": "stdout",
     "output_type": "stream",
     "text": [
      "0\n",
      "1253\n",
      "258.9496643411873\n",
      "277.6756136450945\n"
     ]
    }
   ],
   "source": [
    "import statistics\n",
    "train_texts[0]\n",
    "text_lengths = [len(train_texts[i].split()) for i in range(len(train_texts))]\n",
    "print(min(text_lengths))\n",
    "print(max(text_lengths))\n",
    "print(statistics.mean(text_lengths))\n",
    "print(statistics.stdev(text_lengths))"
   ]
  },
  {
   "cell_type": "code",
   "execution_count": 56,
   "id": "15182966",
   "metadata": {},
   "outputs": [
    {
     "name": "stderr",
     "output_type": "stream",
     "text": [
      "/home/xzhou29/miniconda/envs/bert/lib/python3.9/site-packages/seaborn/distributions.py:2619: FutureWarning: `distplot` is a deprecated function and will be removed in a future version. Please adapt your code to use either `displot` (a figure-level function with similar flexibility) or `histplot` (an axes-level function for histograms).\n",
      "  warnings.warn(msg, FutureWarning)\n"
     ]
    },
    {
     "data": {
      "text/plain": [
       "Text(0, 0.5, 'counts')"
      ]
     },
     "execution_count": 56,
     "metadata": {},
     "output_type": "execute_result"
    },
    {
     "data": {
      "image/png": "[encoded data removed]",
      "text/plain": [
       "<Figure size 432x288 with 1 Axes>"
      ]
     },
     "metadata": {
      "needs_background": "light"
     },
     "output_type": "display_data"
    }
   ],
   "source": [
    "# Import the libraries\n",
    "import matplotlib.pyplot as plt\n",
    "import seaborn as sns\n",
    "# matplotlib histogram\n",
    "plt.hist(text_lengths, color = 'blue', edgecolor = 'black',\n",
    "         bins = int(180/5))\n",
    "# seaborn histogram\n",
    "sns.distplot(text_lengths, hist=True, kde=False, \n",
    "             bins=int(180/5), color = 'blue',\n",
    "             hist_kws={'edgecolor':'black'})\n",
    "# Add labels\n",
    "plt.title('Histogram of text length analysis')\n",
    "plt.xlabel('text length')\n",
    "plt.ylabel('counts')"
   ]
  },
  {
   "cell_type": "code",
   "execution_count": 57,
   "id": "1e2205c4",
   "metadata": {},
   "outputs": [
    {
     "data": {
      "text/plain": [
       "1216"
      ]
     },
     "execution_count": 57,
     "metadata": {},
     "output_type": "execute_result"
    }
   ],
   "source": [
    "\n",
    "\n",
    "sum([1 for i in range(len(text_lengths)) if text_lengths[i] >= MAX_LENGTH])"
   ]
  },
  {
   "cell_type": "code",
   "execution_count": 58,
   "id": "d66a81a0",
   "metadata": {},
   "outputs": [],
   "source": [
    "# from transformers import DistilBertTokenizer\n",
    "# tokenizer = DistilBertTokenizer.from_pretrained('distilbert-base-uncased', do_lower_case=True)\n",
    "# load pre-trained BERTSource model\n",
    "# load the model checkpoint\n",
    "# model_path_ = '{}/pretrained-cbert'.format(bert_dir)\n",
    "# bertsource_model = BertForMaskedLM.from_pretrained(os.path.join(model_path, \"checkpoint-43000\"))\n",
    "\n",
    "# load the tokenizer\n",
    "print('-'*50)\n",
    "# tokenizer = BertTokenizerFast.from_pretrained(bert_dir)\n",
    "from transformers import RobertaTokenizerFast\n",
    "tokenizer = RobertaTokenizerFast.from_pretrained(tokenizer_path, max_len=max_length)\n",
    "print('-'*50)\n",
    "\n",
    "# print('Original Text: ', texts[0], '\\n')\n",
    "# print('Tokenized Text: ', tokenizer.tokenize(texts[0]), '\\n')\n",
    "# print('Token IDs: ', tokenizer.convert_tokens_to_ids(tokenizer.tokenize(texts[0])))"
   ]
  },
  {
   "cell_type": "code",
   "execution_count": 59,
   "id": "2d45463b",
   "metadata": {},
   "outputs": [],
   "source": [
    "# text_ids = [tokenizer.encode(text, max_length=300, pad_to_max_length=True) for text in texts]\n",
    "\n",
    "train_text_dict = [tokenizer(t, truncation=True, padding=\"max_length\", max_length=MAX_LENGTH, return_special_tokens_mask=True) for t in train_texts]\n",
    "valid_text_dict = [tokenizer(t, truncation=True, padding=\"max_length\", max_length=MAX_LENGTH, return_special_tokens_mask=True) for t in valid_texts]\n",
    "test_text_dict = [tokenizer(t, truncation=True, padding=\"max_length\", max_length=MAX_LENGTH, return_special_tokens_mask=True) for t in test_texts]"
   ]
  },
  {
   "cell_type": "code",
   "execution_count": 60,
   "id": "db97e789",
   "metadata": {},
   "outputs": [],
   "source": [
    "# text_ids[0]['input_ids']\n",
    "# text_ids[0]['token_type_ids']\n",
    "# text_ids[0]['attention_mask']\n",
    "# text_ids[0]['special_tokens_mask']\n",
    "train_text_ids = [text_id['input_ids'] for text_id in train_text_dict]\n",
    "valid_text_ids = [text_id['input_ids'] for text_id in valid_text_dict]\n",
    "test_text_ids = [text_id['input_ids'] for text_id in test_text_dict]\n",
    "# text_ids[0]"
   ]
  },
  {
   "cell_type": "code",
   "execution_count": 61,
   "id": "cb9067f1",
   "metadata": {},
   "outputs": [],
   "source": [
    "# text_ids_lengths = [len(text_ids[i]) for i in range(len(text_ids))]\n",
    "# print(min(text_ids_lengths))\n",
    "# print(max(text_ids_lengths))"
   ]
  },
  {
   "cell_type": "code",
   "execution_count": 62,
   "id": "6f56c518",
   "metadata": {},
   "outputs": [],
   "source": [
    "train_att_masks = [text_id['attention_mask'] for text_id in train_text_dict]\n",
    "valid_att_masks = [text_id['attention_mask'] for text_id in valid_text_dict]\n",
    "test_att_masks = [text_id['attention_mask'] for text_id in test_text_dict]\n",
    "# att_masks[0]\n"
   ]
  },
  {
   "cell_type": "code",
   "execution_count": 63,
   "id": "1fd109cc",
   "metadata": {},
   "outputs": [],
   "source": [
    "\n",
    "from sklearn.model_selection import train_test_split\n",
    "\n",
    "# train_x, test_val_x, train_y, test_val_y = train_test_split(text_ids, labels, random_state=111, test_size=0.2)\n",
    "# train_m, test_val_m = train_test_split(att_masks, random_state=111, test_size=0.2)\n",
    "\n",
    "# test_x, val_x, test_y, val_y = train_test_split(test_val_x, test_val_y, random_state=111, test_size=0.5)\n",
    "# test_m, val_m = train_test_split(test_val_m, random_state=111, test_size=0.5)\n",
    "train_x, train_m, train_y = train_text_ids, train_att_masks, train_labels\n",
    "val_x, val_m, val_y = valid_text_ids, valid_att_masks, valid_labels\n",
    "test_x, test_m, test_y = test_text_ids, test_att_masks, test_labels"
   ]
  },
  {
   "cell_type": "code",
   "execution_count": 64,
   "id": "3563f541",
   "metadata": {},
   "outputs": [
    {
     "name": "stdout",
     "output_type": "stream",
     "text": [
      "torch.Size([37985, 1024])\n",
      "torch.Size([8494, 1024])\n",
      "torch.Size([8494, 1024])\n",
      "torch.Size([37985])\n",
      "torch.Size([8494])\n",
      "torch.Size([8494])\n",
      "torch.Size([37985, 1024])\n",
      "torch.Size([8494, 1024])\n",
      "torch.Size([8494, 1024])\n"
     ]
    }
   ],
   "source": [
    "import torch\n",
    "\n",
    "train_x = torch.tensor(train_x)\n",
    "test_x = torch.tensor(test_x)\n",
    "val_x = torch.tensor(val_x)\n",
    "train_y = torch.tensor(train_y)\n",
    "test_y = torch.tensor(test_y)\n",
    "val_y = torch.tensor(val_y)\n",
    "train_m = torch.tensor(train_m)\n",
    "test_m = torch.tensor(test_m)\n",
    "val_m = torch.tensor(val_m)\n",
    "\n",
    "\n",
    "print(train_x.shape)\n",
    "print(test_x.shape)\n",
    "print(val_x.shape)\n",
    "print(train_y.shape)\n",
    "print(test_y.shape)\n",
    "print(val_y.shape)\n",
    "print(train_m.shape)\n",
    "print(test_m.shape)\n",
    "print(val_m.shape)"
   ]
  },
  {
   "cell_type": "code",
   "execution_count": 65,
   "id": "a4ba54dc",
   "metadata": {},
   "outputs": [],
   "source": [
    "from torch.utils.data import TensorDataset, DataLoader, RandomSampler, SequentialSampler\n",
    "\n",
    "# 6 for gtx3080ti\n",
    "# 16 for redas-lab2\n",
    "batch_size = 6\n",
    "\n",
    "\n",
    "train_data = TensorDataset(train_x, train_m, train_y)\n",
    "train_sampler = list(range(len(train_data)))\n",
    "# train_sampler = train_sampler[:100]\n",
    "train_sampler = RandomSampler(train_data)\n",
    "train_dataloader = DataLoader(train_data, sampler=train_sampler, batch_size=batch_size)\n",
    "\n",
    "\n",
    "val_data = TensorDataset(val_x, val_m, val_y)\n",
    "val_sampler = list(range(len(val_data)))\n",
    "# val_sampler = val_sampler[:100]\n",
    "val_sampler = SequentialSampler(val_data)\n",
    "val_dataloader = DataLoader(val_data, sampler=val_sampler, batch_size=batch_size)\n",
    "\n",
    "\n",
    "\n",
    "# train_loader_extracted = torch.utils.data.DataLoader(train_extracted_data, batch_size=batch_size, shuffle=False,\n",
    "#                                            sampler=train_sampler)\n",
    "\n",
    "\n",
    "# valid_loader_extracted = torch.utils.data.DataLoader(valid_extracted_data, batch_size=batch_size, shuffle=False,\n",
    "#                                            sampler=val_sampler)\n"
   ]
  },
  {
   "cell_type": "code",
   "execution_count": 121,
   "id": "db9c1668",
   "metadata": {},
   "outputs": [],
   "source": [
    "import torch.nn as nn\n",
    "import torch\n",
    "import torch.nn.init as init\n",
    "import torch.nn.functional as F\n",
    "from torch.autograd import Variable\n",
    "import sys\n",
    "\n",
    "class DotAttention(nn.Module):\n",
    "\n",
    "    def __init__(self, hidden_size):\n",
    "        super(DotAttention, self).__init__()\n",
    "\n",
    "        self.hidden_size = hidden_size\n",
    "        self.attn_vector = nn.Parameter(\n",
    "            torch.Tensor(1, hidden_size), requires_grad=True)\n",
    "\n",
    "        init.xavier_uniform(self.attn_vector.data)\n",
    "\n",
    "    def get_mask(self):\n",
    "        pass\n",
    "\n",
    "    def forward(self, inputs, lengths=None):\n",
    "        batch_size, max_len = inputs.size()[:2]\n",
    "\n",
    "        '''\n",
    "        print(\"INPUTS\", inputs.size())\n",
    "        print(\"ATTN\", self.attn_vector  # (1, hidden_size)\n",
    "                            .unsqueeze(0)  # (1, hidden_size, 1)\n",
    "                            .transpose(2, 1)\n",
    "                            .repeat(batch_size, 1, 1).size())'''\n",
    "        # apply attention layer\n",
    "        weights = torch.bmm(inputs,\n",
    "                            self.attn_vector  # (1, hidden_size)\n",
    "                            .unsqueeze(0)  # (1, 1, hidden_size)\n",
    "                            .transpose(2, 1) # (1, hidden_size, 1)\n",
    "                            .repeat(batch_size, 1, 1)) # (batch_size, hidden_size, 1))\n",
    "\n",
    "        attn_energies = F.softmax(F.relu(weights.squeeze(axis=2)))\n",
    "\n",
    "        # create mask based on the sentence lengths\n",
    "        #idxes = torch.arange(0, max_len, out=torch.LongTensor(max_len)).unsqueeze(0).cuda()  # some day, you'll be able to directly do this on cuda\n",
    "        #mask = Variable((idxes < lengths.data.unsqueeze(1)).float())\n",
    "\n",
    "        # apply mask and renormalize attention scores (weights)\n",
    "        #masked = attn_weights * mask\n",
    "        _sums = attn_energies.sum(-1).unsqueeze(1).expand_as(attn_energies)  # sums per row\n",
    "        attn_weights = attn_energies / _sums\n",
    "\n",
    "        # print('attn_weights: ', attn_weights.shape)\n",
    "        # apply attention weights\n",
    "\n",
    "        weighted = torch.mul(inputs, attn_weights.unsqueeze(-1).expand_as(inputs))\n",
    "\n",
    "        # print('weighted: ', weighted.shape)\n",
    "\n",
    "        # get the final fixed vector representations of the sentences\n",
    "        representations = weighted.sum(1).squeeze()\n",
    "        \n",
    "        if len(representations.shape) == 1:\n",
    "            representations = representations.reshape(1, representations.shape[-1])\n",
    "        # print('representations: ', representations.shape)\n",
    "\n",
    "        return representations, attn_weights\n",
    "    \n",
    "    \n",
    "class BERTSourceBinaryClassification(nn.Module):\n",
    "    def __init__(self,checkpoint, num_labels): \n",
    "        super(BERTSourceBinaryClassification,self).__init__() \n",
    "        self.num_labels = num_labels \n",
    "        self.model = BertForMaskedLM.from_pretrained(checkpoint)\n",
    "        #Load Model with given checkpoint and extract its body\n",
    "        # self.model = model = AutoModel.from_pretrained(checkpoint,config=AutoConfig.from_pretrained(checkpoint, output_attentions=True,output_hidden_states=True))\n",
    "        self.dropout = nn.Dropout(0.2)\n",
    "        \n",
    "        self.features = nn.Linear(56, 56)\n",
    "        self.softmax = nn.Softmax()\n",
    "        \n",
    "        self.classifier = nn.Linear(768 * 4, num_labels) # load and initialize weights\n",
    "        self.out = nn.Softmax()\n",
    "        self.attn = DotAttention(hidden_size = 768)\n",
    "    \n",
    "    def forward_single(self, input_ids, attention_mask, labels, ex):\n",
    "        outputs = self.model.bert(input_ids, attention_mask=attention_mask)[0]\n",
    "#         print(outputs, outputs.shape)\n",
    "        pooler_output = outputs[:, 0, :]\n",
    "#         print(pooler_output )\n",
    "        # max + last + attention START\n",
    "        last =  outputs[:,-1] \n",
    "        attn, attention_weights = self.attn.forward(outputs)\n",
    "        max_ , _ = torch.max(outputs, dim=1)\n",
    "        concatenated = torch.cat([last, max_, attn, pooler_output], dim=1)\n",
    "        # Add custom layers\n",
    "        sequence_output = self.dropout(concatenated) #outputs[0]=last hidden state\n",
    "        logits = self.classifier(sequence_output) # calculate losses\n",
    "        #return logits, attention_weights\n",
    "        #loss = None\n",
    "        #if labels is not None:\n",
    "            #loss_fct = nn.CrossEntropyLoss()\n",
    "            #loss = loss_fct(logits.view(-1, self.num_labels), labels.view(-1))\n",
    "        return logits, attention_weights\n",
    "    \n",
    "    def forward(self, input_ids=None, attention_mask=None, labels=None, ex=None, max_len=MAX_LENGTH, opt='mean'):\n",
    "        #Extract outputs from the body\n",
    "        final_logits = None\n",
    "        final_attention_weights = None\n",
    "        # pick the most suspicous one for final decision\n",
    "        for i in range(0, max_len, 512):\n",
    "            logits, attention_weights = self.forward_single(input_ids[:,i:i+512], attention_mask[:,i:i+512], labels, ex)\n",
    "            if final_logits is None:\n",
    "                final_logits = logits\n",
    "                final_attention_weights = attention_weights\n",
    "            else:\n",
    "                final_logits = torch.cat([final_logits,  logits], dim=1)\n",
    "                final_attention_weights = torch.cat([final_attention_weights,  attention_weights], dim=1)\n",
    "            #loss, logits = output\n",
    "        \n",
    "        final_logits = final_logits.reshape(final_logits.shape[0], max_len//512, 2)\n",
    "        \n",
    "        if opt == 'mean':\n",
    "            # mean \n",
    "            final_logits = torch.mean(final_logits, dim=(1))\n",
    "        else:\n",
    "            # max\n",
    "            final_logits = torch.amax(final_logits, dim=(1))\n",
    "        loss = None\n",
    "        if labels is not None:\n",
    "            loss_fct = nn.CrossEntropyLoss()\n",
    "            loss = loss_fct(final_logits.view(-1, self.num_labels), labels.view(-1))\n",
    "            \n",
    "        final_logits = self.softmax(final_logits)\n",
    "        return (loss, final_logits), final_attention_weights\n",
    "\n",
    "\n",
    "        #return TokenClassifierOutput(loss=loss, logits=logits, hidden_states=outputs.hidden_states,attentions=outputs.attentions)"
   ]
  },
  {
   "cell_type": "code",
   "execution_count": 122,
   "id": "b2eb34de",
   "metadata": {},
   "outputs": [
    {
     "name": "stderr",
     "output_type": "stream",
     "text": [
      "/tmp/ipykernel_30868/4102100300.py:17: UserWarning: nn.init.xavier_uniform is now deprecated in favor of nn.init.xavier_uniform_.\n",
      "  init.xavier_uniform(self.attn_vector.data)\n"
     ]
    }
   ],
   "source": [
    "# from transformers import DistilBertForSequenceClassification, AdamW, DistilBertConfig\n",
    "# num_labels = len(set(labels))\n",
    "# model = DistilBertForSequenceClassification.from_pretrained('distilbert-base-uncased', num_labels=num_labels,\n",
    "#                                                             output_attentions=False, output_hidden_states=False)\n",
    "# model_path = '{}/pretrained-bert'.format(bert_dir)\n",
    "model_path = os.path.join(bert_dir, \"checkpoint-60000\")\n",
    "model = BERTSourceBinaryClassification(checkpoint=model_path, num_labels=2)\n"
   ]
  },
  {
   "cell_type": "code",
   "execution_count": 123,
   "id": "8b86f0f6",
   "metadata": {},
   "outputs": [],
   "source": [
    "# def count_parameters(model):\n",
    "#     return sum(p.numel() for p in model.parameters() if p.requires_grad)\n",
    "\n",
    "# print('Number of trainable parameters:', count_parameters(model), '\\n', model)"
   ]
  },
  {
   "cell_type": "code",
   "execution_count": 124,
   "id": "07e06b92",
   "metadata": {},
   "outputs": [],
   "source": [
    "# [n for n, p in model.named_parameters()]"
   ]
  },
  {
   "cell_type": "code",
   "execution_count": 125,
   "id": "2f4fd600",
   "metadata": {},
   "outputs": [],
   "source": [
    "learning_rate = 1e-5\n",
    "adam_epsilon = 1e-8\n",
    "\n",
    "no_decay = ['bias', 'LayerNorm.weight']\n",
    "optimizer_grouped_parameters = [\n",
    "    {'params': [p for n, p in model.named_parameters() if not any(nd in n for nd in no_decay)],\n",
    "     'weight_decay_rate': 0.2},\n",
    "    {'params': [p for n, p in model.named_parameters() if any(nd in n for nd in no_decay)],\n",
    "     'weight_decay_rate': 0.0}\n",
    "]\n",
    "\n",
    "optimizer = AdamW(optimizer_grouped_parameters, lr=learning_rate, eps=adam_epsilon)"
   ]
  },
  {
   "cell_type": "code",
   "execution_count": 126,
   "id": "aaaa22d4",
   "metadata": {},
   "outputs": [
    {
     "name": "stdout",
     "output_type": "stream",
     "text": [
      "Let's use 4 GPUs!\n"
     ]
    }
   ],
   "source": [
    "os.environ['CUDA_VISIBLE_DEVICES'] = '0,1,2,3'\n",
    "multi_gpu = torch.cuda.device_count() \n",
    "if multi_gpu > 1:\n",
    "    print(\"Let's use\", torch.cuda.device_count(), \"GPUs!\")\n",
    "    # dim = 0 [30, xxx] -> [10, ...], [10, ...], [10, ...] on 3 GPUs\n",
    "    model = nn.DataParallel(model)\n",
    "# model = nn.DataParallel(model)\n",
    "model = model.cuda()"
   ]
  },
  {
   "cell_type": "code",
   "execution_count": 127,
   "id": "e151c5e3",
   "metadata": {},
   "outputs": [],
   "source": [
    "from transformers import get_linear_schedule_with_warmup\n",
    "\n",
    "num_epochs = 20\n",
    "max_step_saves = 5\n",
    "save_step_at = 500\n",
    "\n",
    "total_steps = len(train_dataloader) * num_epochs\n",
    "scheduler = get_linear_schedule_with_warmup(optimizer, num_warmup_steps=0, num_training_steps=total_steps)"
   ]
  },
  {
   "cell_type": "code",
   "execution_count": null,
   "id": "dfa150ae",
   "metadata": {},
   "outputs": [],
   "source": []
  },
  {
   "cell_type": "code",
   "execution_count": 128,
   "id": "a787f7a0",
   "metadata": {},
   "outputs": [],
   "source": [
    "import time\n",
    "\n",
    "def epoch_time(start_time, end_time):\n",
    "    elapsed_time = end_time - start_time\n",
    "    elapsed_mins = int(elapsed_time / 60)\n",
    "    elapsed_secs = int(elapsed_time - (elapsed_mins * 60))\n",
    "    return elapsed_mins, elapsed_secs"
   ]
  },
  {
   "cell_type": "code",
   "execution_count": 129,
   "id": "5559b012",
   "metadata": {},
   "outputs": [],
   "source": [
    "import numpy as np\n",
    "import random\n",
    "\n",
    "seed_val = 111\n",
    "\n",
    "random.seed(seed_val)\n",
    "np.random.seed(seed_val)\n",
    "torch.manual_seed(seed_val)\n",
    "torch.cuda.manual_seed_all(seed_val)"
   ]
  },
  {
   "cell_type": "code",
   "execution_count": 130,
   "id": "b0e14115",
   "metadata": {},
   "outputs": [],
   "source": [
    "import pickle\n",
    "import os\n",
    "\n",
    "if not os.path.exists(out_dir):\n",
    "    os.makedirs(out_dir)"
   ]
  },
  {
   "cell_type": "code",
   "execution_count": 131,
   "id": "3832f7d4",
   "metadata": {},
   "outputs": [],
   "source": [
    "# save model \n",
    "\n",
    "def save_model(model, train_losses, val_losses, out_dir_model):\n",
    "\n",
    "    if not os.path.exists(out_dir_model):\n",
    "        os.makedirs(out_dir_model)\n",
    "    \n",
    "    PATH = os.path.join(out_dir_model, 'BERTSourceBinaryClassification.pt')\n",
    "\n",
    "    torch.save(model.state_dict(), PATH)\n",
    "\n",
    "    with open(out_dir_model + '/train_losses.pkl', 'wb') as f:\n",
    "        pickle.dump(train_losses, f)\n",
    "\n",
    "    with open(out_dir_model + '/val_losses.pkl', 'wb') as f:\n",
    "        pickle.dump(val_losses, f)"
   ]
  },
  {
   "cell_type": "code",
   "execution_count": 132,
   "id": "d6e45160",
   "metadata": {},
   "outputs": [
    {
     "name": "stdout",
     "output_type": "stream",
     "text": [
      "number of iterations:  2375\n"
     ]
    }
   ],
   "source": [
    "print('number of iterations: ', len(train_dataloader))"
   ]
  },
  {
   "cell_type": "code",
   "execution_count": 134,
   "id": "17b41eb9",
   "metadata": {},
   "outputs": [
    {
     "name": "stdout",
     "output_type": "stream",
     "text": [
      "num_epochs:  20\n"
     ]
    },
    {
     "name": "stderr",
     "output_type": "stream",
     "text": [
      "0it [00:00, ?it/s]"
     ]
    },
    {
     "name": "stdout",
     "output_type": "stream",
     "text": [
      "torch.Size([16, 1024])\n"
     ]
    },
    {
     "name": "stderr",
     "output_type": "stream",
     "text": [
      "\n"
     ]
    },
    {
     "ename": "SystemExit",
     "evalue": "0",
     "output_type": "error",
     "traceback": [
      "An exception has occurred, use %tb to see the full traceback.\n",
      "\u001b[0;31mSystemExit\u001b[0m\u001b[0;31m:\u001b[0m 0\n"
     ]
    },
    {
     "name": "stderr",
     "output_type": "stream",
     "text": [
      "/home/xzhou29/miniconda/envs/bert/lib/python3.9/site-packages/IPython/core/interactiveshell.py:3377: UserWarning: To exit: use 'exit', 'quit', or Ctrl-D.\n",
      "  warn(\"To exit: use 'exit', 'quit', or Ctrl-D.\", stacklevel=1)\n"
     ]
    }
   ],
   "source": [
    "from tqdm import tqdm\n",
    "train_losses = []\n",
    "val_losses = []\n",
    "num_mb_train = len(train_dataloader)\n",
    "num_mb_val = len(val_dataloader)\n",
    "current_step = 0\n",
    "saved_steps = []\n",
    "if num_mb_val == 0:\n",
    "    num_mb_val = 1\n",
    "\n",
    "# print('number of iterations: ', len(train_dataloader), len(train_loader_extracted))\n",
    "print('num_epochs: ', num_epochs)\n",
    "\n",
    "for n in range(num_epochs):\n",
    "    train_loss = 0\n",
    "    val_loss = 0\n",
    "    start_time = time.time()\n",
    "    \n",
    "    #for k, (data1, data2) in enumerate(zip(train_dataloader, train_loader_extracted)):\n",
    "    for k, (mb_x, mb_m, mb_y) in tqdm(enumerate(train_dataloader)):\n",
    "        #mb_x, mb_m, mb_y = data1\n",
    "        # 56 features\n",
    "        #ex, ey, e_index = data2\n",
    "        optimizer.zero_grad()\n",
    "        model.train()\n",
    "        \n",
    "        mb_x = mb_x.cuda()\n",
    "        mb_m = mb_m.cuda()\n",
    "        mb_y = mb_y.cuda()\n",
    "        #ex = ex.cuda()\n",
    "        \n",
    "        outputs, _ = model(mb_x, attention_mask=mb_m, labels=mb_y)\n",
    "        # results = model(mb_x, attention_mask=mb_m, labels=mb_y)\n",
    "        \n",
    "        loss = outputs[0]\n",
    "        #loss = model_loss(outputs[1], mb_y)\n",
    "\n",
    "        if multi_gpu > 1:\n",
    "            loss = loss.sum()\n",
    "        \n",
    "        loss.backward()\n",
    "        torch.nn.utils.clip_grad_norm_(model.parameters(), 1.0)\n",
    "        optimizer.step()\n",
    "        scheduler.step()\n",
    "        current_step += 1\n",
    "        train_loss += loss.data / num_mb_train\n",
    "        \n",
    "        if current_step % save_step_at == 0:\n",
    "            saved_steps.append(current_step)\n",
    "            out_dir_model = './{}/classification_model_{}'.format(out_dir, saved_steps[-1])\n",
    "            print('saved as: ', out_dir_model)\n",
    "            if len(saved_steps) > max_step_saves:\n",
    "                delete_dir = './{}/classification_model_{}'.format(out_dir, saved_steps[-(max_step_saves+1)])\n",
    "                os.system('rm -r {}'.format(delete_dir))\n",
    "            save_model(model, train_losses, val_losses, out_dir_model)\n",
    "            \n",
    "            \n",
    "    print (\"\\nTrain loss after itaration %i: %f\" % (n+1, train_loss))\n",
    "    train_losses.append(train_loss.cpu())\n",
    "    \n",
    "    with torch.no_grad():\n",
    "        model.eval()\n",
    "        \n",
    "        for k, (mb_x, mb_m, mb_y) in enumerate(val_dataloader):\n",
    "            mb_x = mb_x.cuda()\n",
    "            mb_m = mb_m.cuda()\n",
    "            mb_y = mb_y.cuda()\n",
    "\n",
    "            outputs, _ = model(mb_x, attention_mask=mb_m, labels=mb_y)\n",
    "            \n",
    "            loss = outputs[0]\n",
    "            \n",
    "            if multi_gpu > 1:\n",
    "                loss = loss.sum()\n",
    "            #loss = model_loss(outputs[1], mb_y)\n",
    "            \n",
    "            val_loss += loss.data / num_mb_val\n",
    "            \n",
    "        print (\"Validation loss after itaration %i: %f\" % (n+1, val_loss))\n",
    "        # save the best\n",
    "        print('val_losses: ', val_losses, float(val_loss.cpu()))\n",
    "        if val_losses and float(val_loss.cpu()) < min(val_losses):\n",
    "            print('the best model updated')\n",
    "            print('saved as: ', out_dir_model)\n",
    "            out_dir_model = './{}/classification_model_best'.format(out_dir)\n",
    "            save_model(model, train_losses, val_losses, out_dir_model)\n",
    "        val_losses.append(float(val_loss.cpu()))\n",
    "        \n",
    "    end_time = time.time()\n",
    "    epoch_mins, epoch_secs = epoch_time(start_time, end_time)\n",
    "    print(f'Time: {epoch_mins}m {epoch_secs}s')\n",
    "    if len(val_losses) > 3 and float(val_loss.cpu()) > max(val_losses[-4:-1]):\n",
    "        break"
   ]
  },
  {
   "cell_type": "code",
   "execution_count": 107,
   "id": "428ea189",
   "metadata": {},
   "outputs": [],
   "source": [
    "# model_to_save = model.module if hasattr(model, 'module') else model\n",
    "# model_to_save.save_pretrained(out_dir)\n",
    "# tokenizer.save_pretrained(out_dir)\n",
    "\n",
    "\n",
    "# out_dir = './model'\n",
    "\n",
    "# model = DistilBertForSequenceClassification.from_pretrained(out_dir)\n",
    "\n",
    "# device = torch.device('cuda' if torch.cuda.is_available() else 'cpu')\n",
    "# model = model.to(device)\n",
    "\n",
    "# with open(out_dir + '/train_losses.pkl', 'rb') as f:\n",
    "#     train_losses = pickle.load(f)\n",
    "    \n",
    "# with open(out_dir + '/val_losses.pkl', 'rb') as f:\n",
    "#     val_losses = pickle.load(f)"
   ]
  },
  {
   "cell_type": "code",
   "execution_count": 108,
   "id": "99d28a3a",
   "metadata": {},
   "outputs": [
    {
     "ename": "FileNotFoundError",
     "evalue": "[Errno 2] No such file or directory: 'task_mvdsc_v3//classification_model_best/BERTSourceBinaryClassification.pt'",
     "output_type": "error",
     "traceback": [
      "\u001b[0;31m---------------------------------------------------------------------------\u001b[0m",
      "\u001b[0;31mFileNotFoundError\u001b[0m                         Traceback (most recent call last)",
      "Input \u001b[0;32mIn [108]\u001b[0m, in \u001b[0;36m<cell line: 3>\u001b[0;34m()\u001b[0m\n\u001b[1;32m      1\u001b[0m out_dir_model \u001b[38;5;241m=\u001b[39m \u001b[38;5;124m'\u001b[39m\u001b[38;5;132;01m{}\u001b[39;00m\u001b[38;5;124m/classification_model_best\u001b[39m\u001b[38;5;124m'\u001b[39m\u001b[38;5;241m.\u001b[39mformat(out_dir)\n\u001b[1;32m      2\u001b[0m PATH \u001b[38;5;241m=\u001b[39m os\u001b[38;5;241m.\u001b[39mpath\u001b[38;5;241m.\u001b[39mjoin(out_dir_model, \u001b[38;5;124m'\u001b[39m\u001b[38;5;124mBERTSourceBinaryClassification.pt\u001b[39m\u001b[38;5;124m'\u001b[39m)\n\u001b[0;32m----> 3\u001b[0m model\u001b[38;5;241m.\u001b[39mload_state_dict(\u001b[43mtorch\u001b[49m\u001b[38;5;241;43m.\u001b[39;49m\u001b[43mload\u001b[49m\u001b[43m(\u001b[49m\u001b[43mPATH\u001b[49m\u001b[43m)\u001b[49m)\n\u001b[1;32m      4\u001b[0m model\u001b[38;5;241m.\u001b[39meval()\n\u001b[1;32m      6\u001b[0m \u001b[38;5;28;01mwith\u001b[39;00m \u001b[38;5;28mopen\u001b[39m(out_dir_model \u001b[38;5;241m+\u001b[39m \u001b[38;5;124m'\u001b[39m\u001b[38;5;124m/train_losses.pkl\u001b[39m\u001b[38;5;124m'\u001b[39m, \u001b[38;5;124m'\u001b[39m\u001b[38;5;124mrb\u001b[39m\u001b[38;5;124m'\u001b[39m) \u001b[38;5;28;01mas\u001b[39;00m f:\n",
      "File \u001b[0;32m~/miniconda/envs/bert/lib/python3.9/site-packages/torch/serialization.py:699\u001b[0m, in \u001b[0;36mload\u001b[0;34m(f, map_location, pickle_module, **pickle_load_args)\u001b[0m\n\u001b[1;32m    696\u001b[0m \u001b[38;5;28;01mif\u001b[39;00m \u001b[38;5;124m'\u001b[39m\u001b[38;5;124mencoding\u001b[39m\u001b[38;5;124m'\u001b[39m \u001b[38;5;129;01mnot\u001b[39;00m \u001b[38;5;129;01min\u001b[39;00m pickle_load_args\u001b[38;5;241m.\u001b[39mkeys():\n\u001b[1;32m    697\u001b[0m     pickle_load_args[\u001b[38;5;124m'\u001b[39m\u001b[38;5;124mencoding\u001b[39m\u001b[38;5;124m'\u001b[39m] \u001b[38;5;241m=\u001b[39m \u001b[38;5;124m'\u001b[39m\u001b[38;5;124mutf-8\u001b[39m\u001b[38;5;124m'\u001b[39m\n\u001b[0;32m--> 699\u001b[0m \u001b[38;5;28;01mwith\u001b[39;00m \u001b[43m_open_file_like\u001b[49m\u001b[43m(\u001b[49m\u001b[43mf\u001b[49m\u001b[43m,\u001b[49m\u001b[43m \u001b[49m\u001b[38;5;124;43m'\u001b[39;49m\u001b[38;5;124;43mrb\u001b[39;49m\u001b[38;5;124;43m'\u001b[39;49m\u001b[43m)\u001b[49m \u001b[38;5;28;01mas\u001b[39;00m opened_file:\n\u001b[1;32m    700\u001b[0m     \u001b[38;5;28;01mif\u001b[39;00m _is_zipfile(opened_file):\n\u001b[1;32m    701\u001b[0m         \u001b[38;5;66;03m# The zipfile reader is going to advance the current file position.\u001b[39;00m\n\u001b[1;32m    702\u001b[0m         \u001b[38;5;66;03m# If we want to actually tail call to torch.jit.load, we need to\u001b[39;00m\n\u001b[1;32m    703\u001b[0m         \u001b[38;5;66;03m# reset back to the original position.\u001b[39;00m\n\u001b[1;32m    704\u001b[0m         orig_position \u001b[38;5;241m=\u001b[39m opened_file\u001b[38;5;241m.\u001b[39mtell()\n",
      "File \u001b[0;32m~/miniconda/envs/bert/lib/python3.9/site-packages/torch/serialization.py:231\u001b[0m, in \u001b[0;36m_open_file_like\u001b[0;34m(name_or_buffer, mode)\u001b[0m\n\u001b[1;32m    229\u001b[0m \u001b[38;5;28;01mdef\u001b[39;00m \u001b[38;5;21m_open_file_like\u001b[39m(name_or_buffer, mode):\n\u001b[1;32m    230\u001b[0m     \u001b[38;5;28;01mif\u001b[39;00m _is_path(name_or_buffer):\n\u001b[0;32m--> 231\u001b[0m         \u001b[38;5;28;01mreturn\u001b[39;00m \u001b[43m_open_file\u001b[49m\u001b[43m(\u001b[49m\u001b[43mname_or_buffer\u001b[49m\u001b[43m,\u001b[49m\u001b[43m \u001b[49m\u001b[43mmode\u001b[49m\u001b[43m)\u001b[49m\n\u001b[1;32m    232\u001b[0m     \u001b[38;5;28;01melse\u001b[39;00m:\n\u001b[1;32m    233\u001b[0m         \u001b[38;5;28;01mif\u001b[39;00m \u001b[38;5;124m'\u001b[39m\u001b[38;5;124mw\u001b[39m\u001b[38;5;124m'\u001b[39m \u001b[38;5;129;01min\u001b[39;00m mode:\n",
      "File \u001b[0;32m~/miniconda/envs/bert/lib/python3.9/site-packages/torch/serialization.py:212\u001b[0m, in \u001b[0;36m_open_file.__init__\u001b[0;34m(self, name, mode)\u001b[0m\n\u001b[1;32m    211\u001b[0m \u001b[38;5;28;01mdef\u001b[39;00m \u001b[38;5;21m__init__\u001b[39m(\u001b[38;5;28mself\u001b[39m, name, mode):\n\u001b[0;32m--> 212\u001b[0m     \u001b[38;5;28msuper\u001b[39m(_open_file, \u001b[38;5;28mself\u001b[39m)\u001b[38;5;241m.\u001b[39m\u001b[38;5;21m__init__\u001b[39m(\u001b[38;5;28;43mopen\u001b[39;49m\u001b[43m(\u001b[49m\u001b[43mname\u001b[49m\u001b[43m,\u001b[49m\u001b[43m \u001b[49m\u001b[43mmode\u001b[49m\u001b[43m)\u001b[49m)\n",
      "\u001b[0;31mFileNotFoundError\u001b[0m: [Errno 2] No such file or directory: 'task_mvdsc_v3//classification_model_best/BERTSourceBinaryClassification.pt'"
     ]
    }
   ],
   "source": [
    "out_dir_model = '{}/classification_model_best'.format(out_dir)\n",
    "PATH = os.path.join(out_dir_model, 'BERTSourceBinaryClassification.pt')\n",
    "model.load_state_dict(torch.load(PATH))\n",
    "model.eval()\n",
    "\n",
    "with open(out_dir_model + '/train_losses.pkl', 'rb') as f:\n",
    "    train_losses = pickle.load(f)\n",
    "    \n",
    "with open(out_dir_model + '/val_losses.pkl', 'rb') as f:\n",
    "    val_losses = pickle.load(f)\n",
    "\n",
    "print(val_losses)\n",
    "from matplotlib import pyplot as plt\n",
    "%matplotlib inline\n",
    "\n",
    "plt.figure()\n",
    "plt.plot(train_losses)\n",
    "plt.plot(val_losses)"
   ]
  },
  {
   "cell_type": "code",
   "execution_count": 99,
   "id": "0ca85182",
   "metadata": {},
   "outputs": [
    {
     "name": "stdout",
     "output_type": "stream",
     "text": [
      "271\n",
      "269\n",
      "269\n"
     ]
    }
   ],
   "source": [
    "from tqdm import tqdm\n",
    "test_data = TensorDataset(test_x, test_m)\n",
    "test_sampler = SequentialSampler(test_data)\n",
    "test_dataloader = DataLoader(test_data, sampler=test_sampler, batch_size=batch_size)\n",
    "\n",
    "# print(test_x[0])\n",
    "\n",
    "print(len([e for e in test_text_dict[4]['input_ids'] if e != 0]))\n",
    "\n",
    "print(len((test_texts[4]).split(' ')))\n",
    "\n",
    "print(len((test_texts[4]).split(' ')))"
   ]
  },
  {
   "cell_type": "code",
   "execution_count": 100,
   "id": "d65cb442",
   "metadata": {},
   "outputs": [
    {
     "name": "stdout",
     "output_type": "stream",
     "text": [
      "num of iterations:  531\n"
     ]
    },
    {
     "name": "stderr",
     "output_type": "stream",
     "text": [
      "0it [00:00, ?it/s]/tmp/ipykernel_30868/1631530735.py:38: UserWarning: Implicit dimension choice for softmax has been deprecated. Change the call to include dim=X as an argument.\n",
      "  attn_energies = F.softmax(F.relu(weights.squeeze(axis=2)))\n",
      "531it [12:06,  1.37s/it]\n"
     ]
    }
   ],
   "source": [
    "\n",
    "outputs = []\n",
    "print('num of iterations: ', len(test_dataloader))\n",
    "with torch.no_grad():\n",
    "    for k, (mb_x, mb_m) in tqdm(enumerate(test_dataloader)):\n",
    "        mb_x = mb_x.cuda()\n",
    "        mb_m = mb_m.cuda()\n",
    "#         output, _ = model(mb_x)\n",
    "        output, attention_weights = model(mb_x, attention_mask=mb_m)\n",
    "#         print(output)\n",
    "#         print(attention_weights[4])\n",
    "#         sys.exit(0)\n",
    "        outputs.append(output[1].to('cpu'))\n",
    "        \n",
    "outputs = torch.cat(outputs)"
   ]
  },
  {
   "cell_type": "code",
   "execution_count": 101,
   "id": "1fc85cf0",
   "metadata": {},
   "outputs": [],
   "source": [
    "_, predicted_values = torch.max(outputs, 1)\n",
    "predicted_values = predicted_values.numpy()\n",
    "true_values = test_y.numpy()\n",
    "\n",
    "from sklearn.metrics import precision_recall_fscore_support\n",
    "\n",
    "# precision, recall, f1, support\n",
    "print(precision_recall_fscore_support(true_values, predicted_values, average='binary'))\n"
   ]
  },
  {
   "cell_type": "code",
   "execution_count": 102,
   "id": "a1fd3cad",
   "metadata": {},
   "outputs": [
    {
     "name": "stdout",
     "output_type": "stream",
     "text": [
      "[1 0 1 0 1 1 0 0 1 0 0 0 1 0 1 1 0 0 1 1 1 0 0 1 0 1 0 1 0 0 0 1 0 1 0 1 0\n",
      " 1 0 1 1 1 1 0 1 0 0 1 1 1 0 0 0 1 0 0 0 1 0 0 0 1 1 0 0 0 0 1 1 0 1 0 1 0\n",
      " 0 0 0 1 1 0 0 0 1 1 0 0 1 1 0 1 1 0 0 0 1 1 0 1 0 0]\n",
      "[1 0 1 0 1 1 0 0 1 0 0 0 1 0 1 1 0 0 1 1 1 0 0 1 0 1 0 1 0 0 0 1 0 1 0 1 0\n",
      " 1 0 1 1 1 1 0 0 0 0 1 1 1 0 0 0 0 0 0 0 1 0 0 0 1 1 0 0 0 0 1 0 0 1 0 1 0\n",
      " 0 0 0 1 0 0 0 0 1 1 0 0 1 1 0 1 1 0 0 0 1 1 0 0 0 0]\n"
     ]
    }
   ],
   "source": [
    "print(true_values[:100])\n",
    "\n",
    "print(predicted_values[:100])"
   ]
  },
  {
   "cell_type": "code",
   "execution_count": 103,
   "id": "b8272011",
   "metadata": {},
   "outputs": [
    {
     "name": "stdout",
     "output_type": "stream",
     "text": [
      "Test Accuracy: 0.9531433953378856\n"
     ]
    }
   ],
   "source": [
    "test_accuracy = np.sum(predicted_values == true_values) / len(true_values)\n",
    "print (\"Test Accuracy:\", test_accuracy)"
   ]
  },
  {
   "cell_type": "code",
   "execution_count": 104,
   "id": "bad5d40e",
   "metadata": {},
   "outputs": [
    {
     "name": "stdout",
     "output_type": "stream",
     "text": [
      "              precision    recall  f1-score   support\n",
      "\n",
      "           0       0.95      0.98      0.97      6169\n",
      "           1       0.95      0.88      0.91      2325\n",
      "\n",
      "    accuracy                           0.95      8494\n",
      "   macro avg       0.95      0.93      0.94      8494\n",
      "weighted avg       0.95      0.95      0.95      8494\n",
      "\n"
     ]
    }
   ],
   "source": [
    "from sklearn.metrics import classification_report\n",
    "\n",
    "print(classification_report(true_values, predicted_values, target_names=[str(l) for l in label_values]))"
   ]
  },
  {
   "cell_type": "code",
   "execution_count": 105,
   "id": "4cf35508",
   "metadata": {},
   "outputs": [],
   "source": [
    "import itertools\n",
    "\n",
    "# plot confusion matrix\n",
    "# code borrowed from scikit-learn.org\n",
    "def plot_confusion_matrix(cm, classes,\n",
    "                          normalize=False,\n",
    "                          title='Confusion matrix',\n",
    "                          cmap=plt.cm.Blues):\n",
    "    \"\"\"\n",
    "    This function prints and plots the confusion matrix.\n",
    "    Normalization can be applied by setting `normalize=True`.\n",
    "    \"\"\"\n",
    "    if normalize:\n",
    "        cm = cm.astype('float') / cm.sum(axis=1)[:, np.newaxis]\n",
    "        print(\"Normalized confusion matrix\")\n",
    "    else:\n",
    "        print('Confusion matrix, without normalization')\n",
    "\n",
    "    print(cm)\n",
    "\n",
    "    plt.imshow(cm, interpolation='nearest', cmap=cmap)\n",
    "    plt.title(title)\n",
    "    plt.colorbar()\n",
    "    tick_marks = np.arange(len(classes))\n",
    "    plt.xticks(tick_marks, classes, rotation=45)\n",
    "    plt.yticks(tick_marks, classes)\n",
    "\n",
    "    fmt = '.2f' if normalize else 'd'\n",
    "    thresh = cm.max() / 2.\n",
    "    for i, j in itertools.product(range(cm.shape[0]), range(cm.shape[1])):\n",
    "        plt.text(j, i, format(cm[i, j], fmt),\n",
    "                 horizontalalignment=\"center\",\n",
    "                 color=\"white\" if cm[i, j] > thresh else \"black\")\n",
    "\n",
    "    plt.tight_layout()\n",
    "    plt.ylabel('True label')\n",
    "    plt.xlabel('Predicted label')"
   ]
  },
  {
   "cell_type": "code",
   "execution_count": 106,
   "id": "047978a6",
   "metadata": {},
   "outputs": [
    {
     "name": "stdout",
     "output_type": "stream",
     "text": [
      "Confusion matrix, without normalization\n",
      "[[6058  111]\n",
      " [ 287 2038]]\n",
      "Normalized confusion matrix\n",
      "[[0.98 0.02]\n",
      " [0.12 0.88]]\n"
     ]
    },
    {
     "data": {
      "image/png": "[encoded data removed]",
      "text/plain": [
       "<Figure size 432x432 with 2 Axes>"
      ]
     },
     "metadata": {
      "needs_background": "light"
     },
     "output_type": "display_data"
    },
    {
     "data": {
      "image/png": "[encoded data removed]",
      "text/plain": [
       "<Figure size 432x432 with 2 Axes>"
      ]
     },
     "metadata": {
      "needs_background": "light"
     },
     "output_type": "display_data"
    }
   ],
   "source": [
    "from sklearn.metrics import classification_report, confusion_matrix\n",
    "\n",
    "cm_test = confusion_matrix(true_values, predicted_values)\n",
    "\n",
    "\n",
    "\n",
    "np.set_printoptions(precision=2)\n",
    "\n",
    "plt.figure(figsize=(6,6))\n",
    "plot_confusion_matrix(cm_test, classes=label_values, title='Confusion Matrix - Test Dataset')\n",
    "\n",
    "plt.figure(figsize=(6,6))\n",
    "plot_confusion_matrix(cm_test, classes=label_values, title='Confusion Matrix - Test Dataset', normalize=True)\n",
    "\n"
   ]
  },
  {
   "cell_type": "code",
   "execution_count": null,
   "id": "06da883e",
   "metadata": {},
   "outputs": [],
   "source": []
  },
  {
   "cell_type": "code",
   "execution_count": null,
   "id": "dc98d7d5",
   "metadata": {},
   "outputs": [],
   "source": []
  },
  {
   "cell_type": "code",
   "execution_count": null,
   "id": "a2f20e57",
   "metadata": {},
   "outputs": [],
   "source": []
  },
  {
   "cell_type": "code",
   "execution_count": null,
   "id": "629d0f5e",
   "metadata": {},
   "outputs": [],
   "source": []
  },
  {
   "cell_type": "code",
   "execution_count": null,
   "id": "9c323dff",
   "metadata": {},
   "outputs": [],
   "source": []
  }
 ],
 "metadata": {
  "kernelspec": {
   "display_name": "Python 3",
   "language": "python",
   "name": "python3"
  },
  "language_info": {
   "codemirror_mode": {
    "name": "ipython",
    "version": 3
   },
   "file_extension": ".py",
   "mimetype": "text/x-python",
   "name": "python",
   "nbconvert_exporter": "python",
   "pygments_lexer": "ipython3",
   "version": "3.9.12"
  }
 },
 "nbformat": 4,
 "nbformat_minor": 5
}
